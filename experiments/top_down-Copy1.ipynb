{
 "cells": [
  {
   "cell_type": "markdown",
   "metadata": {},
   "source": [
    "\n",
    "\n",
    "- - - \n",
    "\n",
    "<br>\n",
    "<br>\n",
    "<br>\n",
    "<br>\n",
    "<br>\n",
    "<br>\n",
    "<br>\n",
    "<br>\n",
    "<br>\n",
    "<br>\n",
    "<br>\n",
    "<br>\n",
    "\n",
    "# Imports\n"
   ]
  },
  {
   "cell_type": "code",
   "execution_count": 3,
   "metadata": {},
   "outputs": [],
   "source": [
    "import pandas as pd\n",
    "import numpy as np\n",
    "pd.set_option('display.max_columns', 50)\n",
    "\n",
    "import matplotlib.pyplot as plt\n",
    "%matplotlib inline\n",
    "import seaborn as sns\n",
    "sns.set()\n",
    "\n",
    "from xgboost import XGBClassifier\n",
    "\n",
    "\n",
    "from sklearn.metrics import classification_report\n",
    "from sklearn.model_selection import train_test_split\n",
    "from sklearn.preprocessing import LabelEncoder\n",
    "from sklearn.tree import DecisionTreeClassifier\n",
    "\n",
    "# hierarquical\n",
    "from sklearn_hierarchical_classification.constants import ROOT\n",
    "from sklearn_hierarchical_classification.classifier import HierarchicalClassifier\n",
    "from sklearn_hierarchical_classification.metrics import (h_fbeta_score,\n",
    "                                                         h_precision_score, \n",
    "                                                         h_recall_score)\n",
    "\n",
    "# creating hierarchy\n",
    "from collections import defaultdict\n",
    "from pprint import pprint\n",
    "from tqdm import tqdm_notebook\n"
   ]
  },
  {
   "cell_type": "code",
   "execution_count": 4,
   "metadata": {},
   "outputs": [],
   "source": [
    "TESTING = False\n",
    "BASE_MODEL = DecisionTreeClassifier\n",
    "RANDOM_STATE = 42\n",
    "N_SIMUL = 100"
   ]
  },
  {
   "cell_type": "markdown",
   "metadata": {},
   "source": [
    "\n",
    "\n",
    "- - - \n",
    "\n",
    "<br>\n",
    "<br>\n",
    "<br>\n",
    "<br>\n",
    "<br>\n",
    "<br>\n",
    "<br>\n",
    "<br>\n",
    "<br>\n",
    "<br>\n",
    "<br>\n",
    "<br>\n",
    "\n",
    "# Helper functions\n"
   ]
  },
  {
   "cell_type": "markdown",
   "metadata": {},
   "source": [
    "The following function was original found in the sklearn-hierarcical-classification libray; \n",
    "Unfortunately, due to a bug, it can't compile properly - we therefore include it here as taken from the source code."
   ]
  },
  {
   "cell_type": "code",
   "execution_count": 3,
   "metadata": {},
   "outputs": [],
   "source": [
    "from contextlib import contextmanager\n",
    "\n",
    "import numpy as np\n",
    "from networkx import all_pairs_shortest_path_length, relabel_nodes\n",
    "from sklearn.preprocessing import MultiLabelBinarizer\n",
    "\n",
    "from sklearn_hierarchical_classification.constants import ROOT\n",
    "\n",
    "@contextmanager\n",
    "def multi_labeled(y_true, y_pred, graph):\n",
    "    \"\"\"\n",
    "    Helper context manager for using the hierarchical evaluation metrics\n",
    "    defined in this model.\n",
    "    Briefly, the evaluation metrics expect data in a binarized multi-label format,\n",
    "    the same as returned when using scikit-learn's MultiLabelBinarizer.\n",
    "    This method therefore encapsulate the boilerplate required to fit such a\n",
    "    label transformation on the data we wish to evaluate (y_true, y_pred) as well as\n",
    "    applying it to the class hierarchy itself (graph), by relabeling the nodes.\n",
    "    See the examples/classify_digits.py file for example usage.\n",
    "    Parameters\n",
    "    ----------\n",
    "    y_true : array-like, shape = [n_samples, 1].\n",
    "        ground truth targets\n",
    "    y_pred : array-like, shape = [n_samples, 1].\n",
    "        predicted targets\n",
    "    graph : the class hierarchy graph, given as a `networkx.DiGraph` instance\n",
    "    Returns\n",
    "    -------\n",
    "    y_true_ : array-like, shape = [n_samples, n_classes].\n",
    "        ground truth targets, transformed to a binary multi-label matrix format.\n",
    "    y_pred_ : array-like, shape = [n_samples, n_classes].\n",
    "        predicted targets, transformed to a binary multi-label matrix format.\n",
    "    graph_ : the class hierarchy graph, given as a `networkx.DiGraph` instance,\n",
    "        transformed to use the (integer) IDs fitted by the multi label binarizer.\n",
    "    \"\"\"\n",
    "    mlb = MultiLabelBinarizer()\n",
    "    all_classes = [\n",
    "        node\n",
    "        for node in graph.nodes\n",
    "        if node != ROOT\n",
    "    ]\n",
    "    # Nb. we pass a (singleton) list-within-a-list as fit() expects an iterable of iterables\n",
    "    mlb.fit([all_classes])\n",
    "\n",
    "    node_label_mapping = {\n",
    "        old_label: new_label\n",
    "        for new_label, old_label in enumerate(list(mlb.classes_))\n",
    "    }\n",
    "\n",
    "    yield (\n",
    "        mlb.transform(y_true),\n",
    "        mlb.transform(y_pred),\n",
    "        relabel_nodes(graph, node_label_mapping),\n",
    ")"
   ]
  },
  {
   "cell_type": "markdown",
   "metadata": {},
   "source": [
    "\n",
    "\n",
    "- - - \n",
    "\n",
    "<br>\n",
    "<br>\n",
    "<br>\n",
    "<br>\n",
    "<br>\n",
    "<br>\n",
    "<br>\n",
    "<br>\n",
    "<br>\n",
    "<br>\n",
    "<br>\n",
    "<br>\n",
    "\n",
    "# Create experiment"
   ]
  },
  {
   "cell_type": "code",
   "execution_count": 7,
   "metadata": {},
   "outputs": [],
   "source": [
    "df = pd.read_csv(\"data/mosquitos.csv\")\n",
    "df[\"class\"] = df[\"class\"].str.replace(\"-\", \"\")\n",
    "\n",
    "encoding = LabelEncoder()\n",
    "last_classes = df[\"class\"].str.split(\".\").apply(lambda x: x[-1]).unique()\n",
    "encoding.fit(last_classes)\n",
    "\n",
    "if TESTING:\n",
    "    df = df.sample(frac=0.1)\n",
    "    N_SIMUL = 2\n",
    "    \n",
    "all_results = pd.DataFrame(columns=[\"h_fbeta\", \"h_precision\", \"h_recall\", \"model\"])"
   ]
  },
  {
   "cell_type": "code",
   "execution_count": 5,
   "metadata": {},
   "outputs": [
    {
     "name": "stdout",
     "output_type": "stream",
     "text": [
      "{-1: ['Drosophilidae', 'Culicidae', 'Muscidae', 'Chironomidae'],\n",
      " 'Aaquasalis': ['1', '0'],\n",
      " 'Aeaegypti': ['3', '2'],\n",
      " 'Aealbopictus': ['4', '5'],\n",
      " 'Aedes': ['Aealbopictus', 'Aeaegypti'],\n",
      " 'Anopheles': ['Aaquasalis'],\n",
      " 'Chironomidae': ['Chironomus'],\n",
      " 'Chironomus': ['6'],\n",
      " 'Culex': ['Cxtarsalis', 'Cxquinquefasciatus'],\n",
      " 'Culicidae': ['Culex', 'Aedes', 'Anopheles'],\n",
      " 'Cxquinquefasciatus': ['7', '8'],\n",
      " 'Cxtarsalis': ['9'],\n",
      " 'Drosophila': ['11', '10'],\n",
      " 'Drosophilidae': ['Drosophila'],\n",
      " 'Musca': ['12'],\n",
      " 'Muscidae': ['Musca']}\n"
     ]
    }
   ],
   "source": [
    "options = [x.split(\".\")[1:] for x in df[\"class\"].unique()]\n",
    "mosquitos_hierarchy = defaultdict(set)\n",
    "\n",
    "for class_ in options:\n",
    "    for previous, current in zip([ROOT]+class_, class_):\n",
    "        if current in last_classes:\n",
    "            class_num = encoding.transform([current])[0]\n",
    "            mosquitos_hierarchy[previous].add(f\"{class_num}\")\n",
    "        else:\n",
    "            mosquitos_hierarchy[previous].add(current)\n",
    "\n",
    "for key in mosquitos_hierarchy.keys():\n",
    "    mosquitos_hierarchy[key] = list(mosquitos_hierarchy[key])\n",
    "\n",
    "mosquitos_hierarchy = dict(mosquitos_hierarchy)\n",
    "\n",
    "pprint(mosquitos_hierarchy)"
   ]
  },
  {
   "cell_type": "markdown",
   "metadata": {},
   "source": [
    "![Hierarquia mosquitos](../images/mosquitos.png)"
   ]
  },
  {
   "cell_type": "markdown",
   "metadata": {},
   "source": [
    "\n",
    "\n",
    "- - - \n",
    "\n",
    "<br>\n",
    "<br>\n",
    "<br>\n",
    "<br>\n",
    "<br>\n",
    "<br>\n",
    "<br>\n",
    "<br>\n",
    "<br>\n",
    "<br>\n",
    "<br>\n",
    "<br>\n"
   ]
  },
  {
   "cell_type": "code",
   "execution_count": 6,
   "metadata": {
    "code_folding": [
     0
    ]
   },
   "outputs": [],
   "source": [
    "def run_experiment(df, class_hierarchy, encoding, clf, random_state=RANDOM_STATE):\n",
    "    X = df.drop(columns=\"class\")\n",
    "    y = encoding.transform(df[\"class\"].str.split(\".\").apply(lambda x: x[-1]))\n",
    "    y = y.astype(str)\n",
    "\n",
    "    X_train, X_test, y_train, y_test = train_test_split(X, y, test_size=0.3, \n",
    "                                                        random_state=random_state,\n",
    "                                                       stratify=y)\n",
    "    clf.fit(X_train, y_train)\n",
    "    y_pred = clf.predict(X_test)\n",
    "\n",
    "    if TESTING:\n",
    "        target_names = encoding.inverse_transform(np.sort(np.unique(y)).astype(int))\n",
    "        print(\"Classification Report:\\n\", \n",
    "              classification_report(y_test, y_pred, target_names=target_names))\n",
    "        \n",
    "    # Demonstrate using our hierarchical metrics module with MLB wrapper\n",
    "    try:\n",
    "        my_graph = clf.graph_\n",
    "    except:\n",
    "        from networkx import DiGraph\n",
    "        my_graph = DiGraph(class_hierarchy)\n",
    "        \n",
    "    with multi_labeled(y_test, y_pred, my_graph) as (y_test_, y_pred_, graph_):\n",
    "        results = {\n",
    "            \"h_fbeta\": h_fbeta_score(y_test_, y_pred_, graph_),\n",
    "            \"h_precision\": h_precision_score(y_test_, y_pred_, graph_),\n",
    "            \"h_recall\": h_recall_score(y_test_, y_pred_, graph_),\n",
    "        }\n",
    "    return results"
   ]
  },
  {
   "cell_type": "code",
   "execution_count": 7,
   "metadata": {
    "code_folding": [
     0
    ]
   },
   "outputs": [],
   "source": [
    "def print_results(results):\n",
    "    for key, item in results.items():\n",
    "        print(f\"Result for {key}: {item}\")"
   ]
  },
  {
   "cell_type": "markdown",
   "metadata": {},
   "source": [
    "# A better way to evaluate\n",
    "\n",
    "Let's actually use the hierarchical data\n",
    "\n",
    "[Functional Annotation of Genes Using Hierarchical Text Categorization](http://citeseerx.ist.psu.edu/viewdoc/download?doi=10.1.1.68.5824&rep=rep1&type=pdf)"
   ]
  },
  {
   "cell_type": "markdown",
   "metadata": {},
   "source": [
    "## Hierarchical Precision and Recall\n",
    "\n",
    "![](hierarchical_metrics.png)"
   ]
  },
  {
   "cell_type": "markdown",
   "metadata": {},
   "source": [
    "## Hierarchical F1 score\n",
    "\n",
    "The common way of calculating F1 is:\n",
    "![](f1_normal.png)\n",
    "\n",
    "The proposed hierarchical version is:\n",
    "![](f1_hierarchical.png)\n",
    "\n",
    "With beta = 1, we give equal weights to both precision and recall"
   ]
  },
  {
   "cell_type": "markdown",
   "metadata": {},
   "source": [
    "\n",
    "\n",
    "- - - \n",
    "\n",
    "<br>\n",
    "<br>\n",
    "<br>\n",
    "<br>\n",
    "<br>\n",
    "<br>\n",
    "<br>\n",
    "<br>\n",
    "<br>\n",
    "<br>\n",
    "<br>\n",
    "<br>"
   ]
  },
  {
   "cell_type": "markdown",
   "metadata": {},
   "source": [
    "# Models"
   ]
  },
  {
   "cell_type": "markdown",
   "metadata": {},
   "source": [
    "## Flat"
   ]
  },
  {
   "cell_type": "code",
   "execution_count": 8,
   "metadata": {
    "scrolled": true
   },
   "outputs": [
    {
     "data": {
      "application/vnd.jupyter.widget-view+json": {
       "model_id": "3b2aed76cb144ec5ae76592b8d13dd71",
       "version_major": 2,
       "version_minor": 0
      },
      "text/plain": [
       "HBox(children=(IntProgress(value=0), HTML(value='')))"
      ]
     },
     "metadata": {},
     "output_type": "display_data"
    },
    {
     "name": "stderr",
     "output_type": "stream",
     "text": [
      "/home/bcoelho/.local/lib/python3.6/site-packages/sklearn_hierarchical_classification/metrics.py:36: FutureWarning: Using a non-tuple sequence for multidimensional indexing is deprecated; use `arr[tuple(seq)]` instead of `arr[seq]`. In the future this will be interpreted as an array index, `arr[np.array(seq)]`, which will result either in an error or a different result.\n",
      "  y_[np.meshgrid(ix_rows, ancestors)] = 1\n"
     ]
    },
    {
     "name": "stdout",
     "output_type": "stream",
     "text": [
      "\n",
      "CPU times: user 1min 45s, sys: 729 ms, total: 1min 46s\n",
      "Wall time: 1min 46s\n"
     ]
    }
   ],
   "source": [
    "%%time\n",
    "for i in tqdm_notebook(range(N_SIMUL)):\n",
    "    rdm_state = RANDOM_STATE + i\n",
    "    clf = BASE_MODEL(random_state=rdm_state)\n",
    "    results = run_experiment(df, mosquitos_hierarchy, encoding, \n",
    "                             clf, random_state=rdm_state)\n",
    "    \n",
    "    all_results.loc[len(all_results), :] = list(results.values()) + [\"flat\"]"
   ]
  },
  {
   "cell_type": "markdown",
   "metadata": {},
   "source": [
    "\n",
    "\n",
    "- - - \n",
    "\n",
    "<br>\n",
    "<br>\n",
    "<br>\n",
    "<br>\n",
    "<br>\n",
    "<br>\n",
    "<br>\n",
    "<br>\n",
    "<br>\n",
    "<br>\n",
    "<br>\n",
    "<br>"
   ]
  },
  {
   "cell_type": "markdown",
   "metadata": {},
   "source": [
    "## Top Down"
   ]
  },
  {
   "cell_type": "markdown",
   "metadata": {},
   "source": [
    "### 1 multiclass classifier per Node"
   ]
  },
  {
   "cell_type": "code",
   "execution_count": 9,
   "metadata": {
    "scrolled": true
   },
   "outputs": [
    {
     "data": {
      "application/vnd.jupyter.widget-view+json": {
       "model_id": "e82b282c712a44a4bb995200ff95f8b0",
       "version_major": 2,
       "version_minor": 0
      },
      "text/plain": [
       "HBox(children=(IntProgress(value=0), HTML(value='')))"
      ]
     },
     "metadata": {},
     "output_type": "display_data"
    },
    {
     "name": "stderr",
     "output_type": "stream",
     "text": [
      "/home/bcoelho/.local/lib/python3.6/site-packages/sklearn_hierarchical_classification/metrics.py:36: FutureWarning: Using a non-tuple sequence for multidimensional indexing is deprecated; use `arr[tuple(seq)]` instead of `arr[seq]`. In the future this will be interpreted as an array index, `arr[np.array(seq)]`, which will result either in an error or a different result.\n",
      "  y_[np.meshgrid(ix_rows, ancestors)] = 1\n",
      "/home/bcoelho/.local/lib/python3.6/site-packages/sklearn_hierarchical_classification/metrics.py:36: FutureWarning: Using a non-tuple sequence for multidimensional indexing is deprecated; use `arr[tuple(seq)]` instead of `arr[seq]`. In the future this will be interpreted as an array index, `arr[np.array(seq)]`, which will result either in an error or a different result.\n",
      "  y_[np.meshgrid(ix_rows, ancestors)] = 1\n",
      "/home/bcoelho/.local/lib/python3.6/site-packages/sklearn_hierarchical_classification/metrics.py:36: FutureWarning: Using a non-tuple sequence for multidimensional indexing is deprecated; use `arr[tuple(seq)]` instead of `arr[seq]`. In the future this will be interpreted as an array index, `arr[np.array(seq)]`, which will result either in an error or a different result.\n",
      "  y_[np.meshgrid(ix_rows, ancestors)] = 1\n",
      "/home/bcoelho/.local/lib/python3.6/site-packages/sklearn_hierarchical_classification/metrics.py:36: FutureWarning: Using a non-tuple sequence for multidimensional indexing is deprecated; use `arr[tuple(seq)]` instead of `arr[seq]`. In the future this will be interpreted as an array index, `arr[np.array(seq)]`, which will result either in an error or a different result.\n",
      "  y_[np.meshgrid(ix_rows, ancestors)] = 1\n",
      "/home/bcoelho/.local/lib/python3.6/site-packages/sklearn_hierarchical_classification/metrics.py:36: FutureWarning: Using a non-tuple sequence for multidimensional indexing is deprecated; use `arr[tuple(seq)]` instead of `arr[seq]`. In the future this will be interpreted as an array index, `arr[np.array(seq)]`, which will result either in an error or a different result.\n",
      "  y_[np.meshgrid(ix_rows, ancestors)] = 1\n",
      "/home/bcoelho/.local/lib/python3.6/site-packages/sklearn_hierarchical_classification/metrics.py:36: FutureWarning: Using a non-tuple sequence for multidimensional indexing is deprecated; use `arr[tuple(seq)]` instead of `arr[seq]`. In the future this will be interpreted as an array index, `arr[np.array(seq)]`, which will result either in an error or a different result.\n",
      "  y_[np.meshgrid(ix_rows, ancestors)] = 1\n",
      "/home/bcoelho/.local/lib/python3.6/site-packages/sklearn_hierarchical_classification/metrics.py:36: FutureWarning: Using a non-tuple sequence for multidimensional indexing is deprecated; use `arr[tuple(seq)]` instead of `arr[seq]`. In the future this will be interpreted as an array index, `arr[np.array(seq)]`, which will result either in an error or a different result.\n",
      "  y_[np.meshgrid(ix_rows, ancestors)] = 1\n",
      "/home/bcoelho/.local/lib/python3.6/site-packages/sklearn_hierarchical_classification/metrics.py:36: FutureWarning: Using a non-tuple sequence for multidimensional indexing is deprecated; use `arr[tuple(seq)]` instead of `arr[seq]`. In the future this will be interpreted as an array index, `arr[np.array(seq)]`, which will result either in an error or a different result.\n",
      "  y_[np.meshgrid(ix_rows, ancestors)] = 1\n",
      "/home/bcoelho/.local/lib/python3.6/site-packages/sklearn_hierarchical_classification/metrics.py:36: FutureWarning: Using a non-tuple sequence for multidimensional indexing is deprecated; use `arr[tuple(seq)]` instead of `arr[seq]`. In the future this will be interpreted as an array index, `arr[np.array(seq)]`, which will result either in an error or a different result.\n",
      "  y_[np.meshgrid(ix_rows, ancestors)] = 1\n",
      "/home/bcoelho/.local/lib/python3.6/site-packages/sklearn_hierarchical_classification/metrics.py:36: FutureWarning: Using a non-tuple sequence for multidimensional indexing is deprecated; use `arr[tuple(seq)]` instead of `arr[seq]`. In the future this will be interpreted as an array index, `arr[np.array(seq)]`, which will result either in an error or a different result.\n",
      "  y_[np.meshgrid(ix_rows, ancestors)] = 1\n",
      "/home/bcoelho/.local/lib/python3.6/site-packages/sklearn_hierarchical_classification/metrics.py:36: FutureWarning: Using a non-tuple sequence for multidimensional indexing is deprecated; use `arr[tuple(seq)]` instead of `arr[seq]`. In the future this will be interpreted as an array index, `arr[np.array(seq)]`, which will result either in an error or a different result.\n",
      "  y_[np.meshgrid(ix_rows, ancestors)] = 1\n",
      "/home/bcoelho/.local/lib/python3.6/site-packages/sklearn_hierarchical_classification/metrics.py:36: FutureWarning: Using a non-tuple sequence for multidimensional indexing is deprecated; use `arr[tuple(seq)]` instead of `arr[seq]`. In the future this will be interpreted as an array index, `arr[np.array(seq)]`, which will result either in an error or a different result.\n",
      "  y_[np.meshgrid(ix_rows, ancestors)] = 1\n",
      "/home/bcoelho/.local/lib/python3.6/site-packages/sklearn_hierarchical_classification/metrics.py:36: FutureWarning: Using a non-tuple sequence for multidimensional indexing is deprecated; use `arr[tuple(seq)]` instead of `arr[seq]`. In the future this will be interpreted as an array index, `arr[np.array(seq)]`, which will result either in an error or a different result.\n",
      "  y_[np.meshgrid(ix_rows, ancestors)] = 1\n",
      "/home/bcoelho/.local/lib/python3.6/site-packages/sklearn_hierarchical_classification/metrics.py:36: FutureWarning: Using a non-tuple sequence for multidimensional indexing is deprecated; use `arr[tuple(seq)]` instead of `arr[seq]`. In the future this will be interpreted as an array index, `arr[np.array(seq)]`, which will result either in an error or a different result.\n",
      "  y_[np.meshgrid(ix_rows, ancestors)] = 1\n",
      "/home/bcoelho/.local/lib/python3.6/site-packages/sklearn_hierarchical_classification/metrics.py:36: FutureWarning: Using a non-tuple sequence for multidimensional indexing is deprecated; use `arr[tuple(seq)]` instead of `arr[seq]`. In the future this will be interpreted as an array index, `arr[np.array(seq)]`, which will result either in an error or a different result.\n",
      "  y_[np.meshgrid(ix_rows, ancestors)] = 1\n",
      "/home/bcoelho/.local/lib/python3.6/site-packages/sklearn_hierarchical_classification/metrics.py:36: FutureWarning: Using a non-tuple sequence for multidimensional indexing is deprecated; use `arr[tuple(seq)]` instead of `arr[seq]`. In the future this will be interpreted as an array index, `arr[np.array(seq)]`, which will result either in an error or a different result.\n",
      "  y_[np.meshgrid(ix_rows, ancestors)] = 1\n",
      "/home/bcoelho/.local/lib/python3.6/site-packages/sklearn_hierarchical_classification/metrics.py:36: FutureWarning: Using a non-tuple sequence for multidimensional indexing is deprecated; use `arr[tuple(seq)]` instead of `arr[seq]`. In the future this will be interpreted as an array index, `arr[np.array(seq)]`, which will result either in an error or a different result.\n",
      "  y_[np.meshgrid(ix_rows, ancestors)] = 1\n",
      "/home/bcoelho/.local/lib/python3.6/site-packages/sklearn_hierarchical_classification/metrics.py:36: FutureWarning: Using a non-tuple sequence for multidimensional indexing is deprecated; use `arr[tuple(seq)]` instead of `arr[seq]`. In the future this will be interpreted as an array index, `arr[np.array(seq)]`, which will result either in an error or a different result.\n",
      "  y_[np.meshgrid(ix_rows, ancestors)] = 1\n",
      "/home/bcoelho/.local/lib/python3.6/site-packages/sklearn_hierarchical_classification/metrics.py:36: FutureWarning: Using a non-tuple sequence for multidimensional indexing is deprecated; use `arr[tuple(seq)]` instead of `arr[seq]`. In the future this will be interpreted as an array index, `arr[np.array(seq)]`, which will result either in an error or a different result.\n",
      "  y_[np.meshgrid(ix_rows, ancestors)] = 1\n",
      "/home/bcoelho/.local/lib/python3.6/site-packages/sklearn_hierarchical_classification/metrics.py:36: FutureWarning: Using a non-tuple sequence for multidimensional indexing is deprecated; use `arr[tuple(seq)]` instead of `arr[seq]`. In the future this will be interpreted as an array index, `arr[np.array(seq)]`, which will result either in an error or a different result.\n",
      "  y_[np.meshgrid(ix_rows, ancestors)] = 1\n"
     ]
    },
    {
     "name": "stderr",
     "output_type": "stream",
     "text": [
      "/home/bcoelho/.local/lib/python3.6/site-packages/sklearn_hierarchical_classification/metrics.py:36: FutureWarning: Using a non-tuple sequence for multidimensional indexing is deprecated; use `arr[tuple(seq)]` instead of `arr[seq]`. In the future this will be interpreted as an array index, `arr[np.array(seq)]`, which will result either in an error or a different result.\n",
      "  y_[np.meshgrid(ix_rows, ancestors)] = 1\n",
      "/home/bcoelho/.local/lib/python3.6/site-packages/sklearn_hierarchical_classification/metrics.py:36: FutureWarning: Using a non-tuple sequence for multidimensional indexing is deprecated; use `arr[tuple(seq)]` instead of `arr[seq]`. In the future this will be interpreted as an array index, `arr[np.array(seq)]`, which will result either in an error or a different result.\n",
      "  y_[np.meshgrid(ix_rows, ancestors)] = 1\n",
      "/home/bcoelho/.local/lib/python3.6/site-packages/sklearn_hierarchical_classification/metrics.py:36: FutureWarning: Using a non-tuple sequence for multidimensional indexing is deprecated; use `arr[tuple(seq)]` instead of `arr[seq]`. In the future this will be interpreted as an array index, `arr[np.array(seq)]`, which will result either in an error or a different result.\n",
      "  y_[np.meshgrid(ix_rows, ancestors)] = 1\n",
      "/home/bcoelho/.local/lib/python3.6/site-packages/sklearn_hierarchical_classification/metrics.py:36: FutureWarning: Using a non-tuple sequence for multidimensional indexing is deprecated; use `arr[tuple(seq)]` instead of `arr[seq]`. In the future this will be interpreted as an array index, `arr[np.array(seq)]`, which will result either in an error or a different result.\n",
      "  y_[np.meshgrid(ix_rows, ancestors)] = 1\n",
      "/home/bcoelho/.local/lib/python3.6/site-packages/sklearn_hierarchical_classification/metrics.py:36: FutureWarning: Using a non-tuple sequence for multidimensional indexing is deprecated; use `arr[tuple(seq)]` instead of `arr[seq]`. In the future this will be interpreted as an array index, `arr[np.array(seq)]`, which will result either in an error or a different result.\n",
      "  y_[np.meshgrid(ix_rows, ancestors)] = 1\n",
      "/home/bcoelho/.local/lib/python3.6/site-packages/sklearn_hierarchical_classification/metrics.py:36: FutureWarning: Using a non-tuple sequence for multidimensional indexing is deprecated; use `arr[tuple(seq)]` instead of `arr[seq]`. In the future this will be interpreted as an array index, `arr[np.array(seq)]`, which will result either in an error or a different result.\n",
      "  y_[np.meshgrid(ix_rows, ancestors)] = 1\n",
      "/home/bcoelho/.local/lib/python3.6/site-packages/sklearn_hierarchical_classification/metrics.py:36: FutureWarning: Using a non-tuple sequence for multidimensional indexing is deprecated; use `arr[tuple(seq)]` instead of `arr[seq]`. In the future this will be interpreted as an array index, `arr[np.array(seq)]`, which will result either in an error or a different result.\n",
      "  y_[np.meshgrid(ix_rows, ancestors)] = 1\n",
      "/home/bcoelho/.local/lib/python3.6/site-packages/sklearn_hierarchical_classification/metrics.py:36: FutureWarning: Using a non-tuple sequence for multidimensional indexing is deprecated; use `arr[tuple(seq)]` instead of `arr[seq]`. In the future this will be interpreted as an array index, `arr[np.array(seq)]`, which will result either in an error or a different result.\n",
      "  y_[np.meshgrid(ix_rows, ancestors)] = 1\n",
      "/home/bcoelho/.local/lib/python3.6/site-packages/sklearn_hierarchical_classification/metrics.py:36: FutureWarning: Using a non-tuple sequence for multidimensional indexing is deprecated; use `arr[tuple(seq)]` instead of `arr[seq]`. In the future this will be interpreted as an array index, `arr[np.array(seq)]`, which will result either in an error or a different result.\n",
      "  y_[np.meshgrid(ix_rows, ancestors)] = 1\n",
      "/home/bcoelho/.local/lib/python3.6/site-packages/sklearn_hierarchical_classification/metrics.py:36: FutureWarning: Using a non-tuple sequence for multidimensional indexing is deprecated; use `arr[tuple(seq)]` instead of `arr[seq]`. In the future this will be interpreted as an array index, `arr[np.array(seq)]`, which will result either in an error or a different result.\n",
      "  y_[np.meshgrid(ix_rows, ancestors)] = 1\n",
      "/home/bcoelho/.local/lib/python3.6/site-packages/sklearn_hierarchical_classification/metrics.py:36: FutureWarning: Using a non-tuple sequence for multidimensional indexing is deprecated; use `arr[tuple(seq)]` instead of `arr[seq]`. In the future this will be interpreted as an array index, `arr[np.array(seq)]`, which will result either in an error or a different result.\n",
      "  y_[np.meshgrid(ix_rows, ancestors)] = 1\n",
      "/home/bcoelho/.local/lib/python3.6/site-packages/sklearn_hierarchical_classification/metrics.py:36: FutureWarning: Using a non-tuple sequence for multidimensional indexing is deprecated; use `arr[tuple(seq)]` instead of `arr[seq]`. In the future this will be interpreted as an array index, `arr[np.array(seq)]`, which will result either in an error or a different result.\n",
      "  y_[np.meshgrid(ix_rows, ancestors)] = 1\n",
      "/home/bcoelho/.local/lib/python3.6/site-packages/sklearn_hierarchical_classification/metrics.py:36: FutureWarning: Using a non-tuple sequence for multidimensional indexing is deprecated; use `arr[tuple(seq)]` instead of `arr[seq]`. In the future this will be interpreted as an array index, `arr[np.array(seq)]`, which will result either in an error or a different result.\n",
      "  y_[np.meshgrid(ix_rows, ancestors)] = 1\n",
      "/home/bcoelho/.local/lib/python3.6/site-packages/sklearn_hierarchical_classification/metrics.py:36: FutureWarning: Using a non-tuple sequence for multidimensional indexing is deprecated; use `arr[tuple(seq)]` instead of `arr[seq]`. In the future this will be interpreted as an array index, `arr[np.array(seq)]`, which will result either in an error or a different result.\n",
      "  y_[np.meshgrid(ix_rows, ancestors)] = 1\n",
      "/home/bcoelho/.local/lib/python3.6/site-packages/sklearn_hierarchical_classification/metrics.py:36: FutureWarning: Using a non-tuple sequence for multidimensional indexing is deprecated; use `arr[tuple(seq)]` instead of `arr[seq]`. In the future this will be interpreted as an array index, `arr[np.array(seq)]`, which will result either in an error or a different result.\n",
      "  y_[np.meshgrid(ix_rows, ancestors)] = 1\n",
      "/home/bcoelho/.local/lib/python3.6/site-packages/sklearn_hierarchical_classification/metrics.py:36: FutureWarning: Using a non-tuple sequence for multidimensional indexing is deprecated; use `arr[tuple(seq)]` instead of `arr[seq]`. In the future this will be interpreted as an array index, `arr[np.array(seq)]`, which will result either in an error or a different result.\n",
      "  y_[np.meshgrid(ix_rows, ancestors)] = 1\n",
      "/home/bcoelho/.local/lib/python3.6/site-packages/sklearn_hierarchical_classification/metrics.py:36: FutureWarning: Using a non-tuple sequence for multidimensional indexing is deprecated; use `arr[tuple(seq)]` instead of `arr[seq]`. In the future this will be interpreted as an array index, `arr[np.array(seq)]`, which will result either in an error or a different result.\n",
      "  y_[np.meshgrid(ix_rows, ancestors)] = 1\n",
      "/home/bcoelho/.local/lib/python3.6/site-packages/sklearn_hierarchical_classification/metrics.py:36: FutureWarning: Using a non-tuple sequence for multidimensional indexing is deprecated; use `arr[tuple(seq)]` instead of `arr[seq]`. In the future this will be interpreted as an array index, `arr[np.array(seq)]`, which will result either in an error or a different result.\n",
      "  y_[np.meshgrid(ix_rows, ancestors)] = 1\n",
      "/home/bcoelho/.local/lib/python3.6/site-packages/sklearn_hierarchical_classification/metrics.py:36: FutureWarning: Using a non-tuple sequence for multidimensional indexing is deprecated; use `arr[tuple(seq)]` instead of `arr[seq]`. In the future this will be interpreted as an array index, `arr[np.array(seq)]`, which will result either in an error or a different result.\n",
      "  y_[np.meshgrid(ix_rows, ancestors)] = 1\n",
      "/home/bcoelho/.local/lib/python3.6/site-packages/sklearn_hierarchical_classification/metrics.py:36: FutureWarning: Using a non-tuple sequence for multidimensional indexing is deprecated; use `arr[tuple(seq)]` instead of `arr[seq]`. In the future this will be interpreted as an array index, `arr[np.array(seq)]`, which will result either in an error or a different result.\n",
      "  y_[np.meshgrid(ix_rows, ancestors)] = 1\n"
     ]
    },
    {
     "name": "stderr",
     "output_type": "stream",
     "text": [
      "/home/bcoelho/.local/lib/python3.6/site-packages/sklearn_hierarchical_classification/metrics.py:36: FutureWarning: Using a non-tuple sequence for multidimensional indexing is deprecated; use `arr[tuple(seq)]` instead of `arr[seq]`. In the future this will be interpreted as an array index, `arr[np.array(seq)]`, which will result either in an error or a different result.\n",
      "  y_[np.meshgrid(ix_rows, ancestors)] = 1\n",
      "/home/bcoelho/.local/lib/python3.6/site-packages/sklearn_hierarchical_classification/metrics.py:36: FutureWarning: Using a non-tuple sequence for multidimensional indexing is deprecated; use `arr[tuple(seq)]` instead of `arr[seq]`. In the future this will be interpreted as an array index, `arr[np.array(seq)]`, which will result either in an error or a different result.\n",
      "  y_[np.meshgrid(ix_rows, ancestors)] = 1\n",
      "/home/bcoelho/.local/lib/python3.6/site-packages/sklearn_hierarchical_classification/metrics.py:36: FutureWarning: Using a non-tuple sequence for multidimensional indexing is deprecated; use `arr[tuple(seq)]` instead of `arr[seq]`. In the future this will be interpreted as an array index, `arr[np.array(seq)]`, which will result either in an error or a different result.\n",
      "  y_[np.meshgrid(ix_rows, ancestors)] = 1\n",
      "/home/bcoelho/.local/lib/python3.6/site-packages/sklearn_hierarchical_classification/metrics.py:36: FutureWarning: Using a non-tuple sequence for multidimensional indexing is deprecated; use `arr[tuple(seq)]` instead of `arr[seq]`. In the future this will be interpreted as an array index, `arr[np.array(seq)]`, which will result either in an error or a different result.\n",
      "  y_[np.meshgrid(ix_rows, ancestors)] = 1\n",
      "/home/bcoelho/.local/lib/python3.6/site-packages/sklearn_hierarchical_classification/metrics.py:36: FutureWarning: Using a non-tuple sequence for multidimensional indexing is deprecated; use `arr[tuple(seq)]` instead of `arr[seq]`. In the future this will be interpreted as an array index, `arr[np.array(seq)]`, which will result either in an error or a different result.\n",
      "  y_[np.meshgrid(ix_rows, ancestors)] = 1\n",
      "/home/bcoelho/.local/lib/python3.6/site-packages/sklearn_hierarchical_classification/metrics.py:36: FutureWarning: Using a non-tuple sequence for multidimensional indexing is deprecated; use `arr[tuple(seq)]` instead of `arr[seq]`. In the future this will be interpreted as an array index, `arr[np.array(seq)]`, which will result either in an error or a different result.\n",
      "  y_[np.meshgrid(ix_rows, ancestors)] = 1\n",
      "/home/bcoelho/.local/lib/python3.6/site-packages/sklearn_hierarchical_classification/metrics.py:36: FutureWarning: Using a non-tuple sequence for multidimensional indexing is deprecated; use `arr[tuple(seq)]` instead of `arr[seq]`. In the future this will be interpreted as an array index, `arr[np.array(seq)]`, which will result either in an error or a different result.\n",
      "  y_[np.meshgrid(ix_rows, ancestors)] = 1\n",
      "/home/bcoelho/.local/lib/python3.6/site-packages/sklearn_hierarchical_classification/metrics.py:36: FutureWarning: Using a non-tuple sequence for multidimensional indexing is deprecated; use `arr[tuple(seq)]` instead of `arr[seq]`. In the future this will be interpreted as an array index, `arr[np.array(seq)]`, which will result either in an error or a different result.\n",
      "  y_[np.meshgrid(ix_rows, ancestors)] = 1\n",
      "/home/bcoelho/.local/lib/python3.6/site-packages/sklearn_hierarchical_classification/metrics.py:36: FutureWarning: Using a non-tuple sequence for multidimensional indexing is deprecated; use `arr[tuple(seq)]` instead of `arr[seq]`. In the future this will be interpreted as an array index, `arr[np.array(seq)]`, which will result either in an error or a different result.\n",
      "  y_[np.meshgrid(ix_rows, ancestors)] = 1\n",
      "/home/bcoelho/.local/lib/python3.6/site-packages/sklearn_hierarchical_classification/metrics.py:36: FutureWarning: Using a non-tuple sequence for multidimensional indexing is deprecated; use `arr[tuple(seq)]` instead of `arr[seq]`. In the future this will be interpreted as an array index, `arr[np.array(seq)]`, which will result either in an error or a different result.\n",
      "  y_[np.meshgrid(ix_rows, ancestors)] = 1\n",
      "/home/bcoelho/.local/lib/python3.6/site-packages/sklearn_hierarchical_classification/metrics.py:36: FutureWarning: Using a non-tuple sequence for multidimensional indexing is deprecated; use `arr[tuple(seq)]` instead of `arr[seq]`. In the future this will be interpreted as an array index, `arr[np.array(seq)]`, which will result either in an error or a different result.\n",
      "  y_[np.meshgrid(ix_rows, ancestors)] = 1\n",
      "/home/bcoelho/.local/lib/python3.6/site-packages/sklearn_hierarchical_classification/metrics.py:36: FutureWarning: Using a non-tuple sequence for multidimensional indexing is deprecated; use `arr[tuple(seq)]` instead of `arr[seq]`. In the future this will be interpreted as an array index, `arr[np.array(seq)]`, which will result either in an error or a different result.\n",
      "  y_[np.meshgrid(ix_rows, ancestors)] = 1\n",
      "/home/bcoelho/.local/lib/python3.6/site-packages/sklearn_hierarchical_classification/metrics.py:36: FutureWarning: Using a non-tuple sequence for multidimensional indexing is deprecated; use `arr[tuple(seq)]` instead of `arr[seq]`. In the future this will be interpreted as an array index, `arr[np.array(seq)]`, which will result either in an error or a different result.\n",
      "  y_[np.meshgrid(ix_rows, ancestors)] = 1\n",
      "/home/bcoelho/.local/lib/python3.6/site-packages/sklearn_hierarchical_classification/metrics.py:36: FutureWarning: Using a non-tuple sequence for multidimensional indexing is deprecated; use `arr[tuple(seq)]` instead of `arr[seq]`. In the future this will be interpreted as an array index, `arr[np.array(seq)]`, which will result either in an error or a different result.\n",
      "  y_[np.meshgrid(ix_rows, ancestors)] = 1\n",
      "/home/bcoelho/.local/lib/python3.6/site-packages/sklearn_hierarchical_classification/metrics.py:36: FutureWarning: Using a non-tuple sequence for multidimensional indexing is deprecated; use `arr[tuple(seq)]` instead of `arr[seq]`. In the future this will be interpreted as an array index, `arr[np.array(seq)]`, which will result either in an error or a different result.\n",
      "  y_[np.meshgrid(ix_rows, ancestors)] = 1\n",
      "/home/bcoelho/.local/lib/python3.6/site-packages/sklearn_hierarchical_classification/metrics.py:36: FutureWarning: Using a non-tuple sequence for multidimensional indexing is deprecated; use `arr[tuple(seq)]` instead of `arr[seq]`. In the future this will be interpreted as an array index, `arr[np.array(seq)]`, which will result either in an error or a different result.\n",
      "  y_[np.meshgrid(ix_rows, ancestors)] = 1\n",
      "/home/bcoelho/.local/lib/python3.6/site-packages/sklearn_hierarchical_classification/metrics.py:36: FutureWarning: Using a non-tuple sequence for multidimensional indexing is deprecated; use `arr[tuple(seq)]` instead of `arr[seq]`. In the future this will be interpreted as an array index, `arr[np.array(seq)]`, which will result either in an error or a different result.\n",
      "  y_[np.meshgrid(ix_rows, ancestors)] = 1\n",
      "/home/bcoelho/.local/lib/python3.6/site-packages/sklearn_hierarchical_classification/metrics.py:36: FutureWarning: Using a non-tuple sequence for multidimensional indexing is deprecated; use `arr[tuple(seq)]` instead of `arr[seq]`. In the future this will be interpreted as an array index, `arr[np.array(seq)]`, which will result either in an error or a different result.\n",
      "  y_[np.meshgrid(ix_rows, ancestors)] = 1\n",
      "/home/bcoelho/.local/lib/python3.6/site-packages/sklearn_hierarchical_classification/metrics.py:36: FutureWarning: Using a non-tuple sequence for multidimensional indexing is deprecated; use `arr[tuple(seq)]` instead of `arr[seq]`. In the future this will be interpreted as an array index, `arr[np.array(seq)]`, which will result either in an error or a different result.\n",
      "  y_[np.meshgrid(ix_rows, ancestors)] = 1\n",
      "/home/bcoelho/.local/lib/python3.6/site-packages/sklearn_hierarchical_classification/metrics.py:36: FutureWarning: Using a non-tuple sequence for multidimensional indexing is deprecated; use `arr[tuple(seq)]` instead of `arr[seq]`. In the future this will be interpreted as an array index, `arr[np.array(seq)]`, which will result either in an error or a different result.\n",
      "  y_[np.meshgrid(ix_rows, ancestors)] = 1\n"
     ]
    },
    {
     "name": "stderr",
     "output_type": "stream",
     "text": [
      "/home/bcoelho/.local/lib/python3.6/site-packages/sklearn_hierarchical_classification/metrics.py:36: FutureWarning: Using a non-tuple sequence for multidimensional indexing is deprecated; use `arr[tuple(seq)]` instead of `arr[seq]`. In the future this will be interpreted as an array index, `arr[np.array(seq)]`, which will result either in an error or a different result.\n",
      "  y_[np.meshgrid(ix_rows, ancestors)] = 1\n",
      "/home/bcoelho/.local/lib/python3.6/site-packages/sklearn_hierarchical_classification/metrics.py:36: FutureWarning: Using a non-tuple sequence for multidimensional indexing is deprecated; use `arr[tuple(seq)]` instead of `arr[seq]`. In the future this will be interpreted as an array index, `arr[np.array(seq)]`, which will result either in an error or a different result.\n",
      "  y_[np.meshgrid(ix_rows, ancestors)] = 1\n",
      "/home/bcoelho/.local/lib/python3.6/site-packages/sklearn_hierarchical_classification/metrics.py:36: FutureWarning: Using a non-tuple sequence for multidimensional indexing is deprecated; use `arr[tuple(seq)]` instead of `arr[seq]`. In the future this will be interpreted as an array index, `arr[np.array(seq)]`, which will result either in an error or a different result.\n",
      "  y_[np.meshgrid(ix_rows, ancestors)] = 1\n",
      "/home/bcoelho/.local/lib/python3.6/site-packages/sklearn_hierarchical_classification/metrics.py:36: FutureWarning: Using a non-tuple sequence for multidimensional indexing is deprecated; use `arr[tuple(seq)]` instead of `arr[seq]`. In the future this will be interpreted as an array index, `arr[np.array(seq)]`, which will result either in an error or a different result.\n",
      "  y_[np.meshgrid(ix_rows, ancestors)] = 1\n",
      "/home/bcoelho/.local/lib/python3.6/site-packages/sklearn_hierarchical_classification/metrics.py:36: FutureWarning: Using a non-tuple sequence for multidimensional indexing is deprecated; use `arr[tuple(seq)]` instead of `arr[seq]`. In the future this will be interpreted as an array index, `arr[np.array(seq)]`, which will result either in an error or a different result.\n",
      "  y_[np.meshgrid(ix_rows, ancestors)] = 1\n",
      "/home/bcoelho/.local/lib/python3.6/site-packages/sklearn_hierarchical_classification/metrics.py:36: FutureWarning: Using a non-tuple sequence for multidimensional indexing is deprecated; use `arr[tuple(seq)]` instead of `arr[seq]`. In the future this will be interpreted as an array index, `arr[np.array(seq)]`, which will result either in an error or a different result.\n",
      "  y_[np.meshgrid(ix_rows, ancestors)] = 1\n",
      "/home/bcoelho/.local/lib/python3.6/site-packages/sklearn_hierarchical_classification/metrics.py:36: FutureWarning: Using a non-tuple sequence for multidimensional indexing is deprecated; use `arr[tuple(seq)]` instead of `arr[seq]`. In the future this will be interpreted as an array index, `arr[np.array(seq)]`, which will result either in an error or a different result.\n",
      "  y_[np.meshgrid(ix_rows, ancestors)] = 1\n",
      "/home/bcoelho/.local/lib/python3.6/site-packages/sklearn_hierarchical_classification/metrics.py:36: FutureWarning: Using a non-tuple sequence for multidimensional indexing is deprecated; use `arr[tuple(seq)]` instead of `arr[seq]`. In the future this will be interpreted as an array index, `arr[np.array(seq)]`, which will result either in an error or a different result.\n",
      "  y_[np.meshgrid(ix_rows, ancestors)] = 1\n",
      "/home/bcoelho/.local/lib/python3.6/site-packages/sklearn_hierarchical_classification/metrics.py:36: FutureWarning: Using a non-tuple sequence for multidimensional indexing is deprecated; use `arr[tuple(seq)]` instead of `arr[seq]`. In the future this will be interpreted as an array index, `arr[np.array(seq)]`, which will result either in an error or a different result.\n",
      "  y_[np.meshgrid(ix_rows, ancestors)] = 1\n",
      "/home/bcoelho/.local/lib/python3.6/site-packages/sklearn_hierarchical_classification/metrics.py:36: FutureWarning: Using a non-tuple sequence for multidimensional indexing is deprecated; use `arr[tuple(seq)]` instead of `arr[seq]`. In the future this will be interpreted as an array index, `arr[np.array(seq)]`, which will result either in an error or a different result.\n",
      "  y_[np.meshgrid(ix_rows, ancestors)] = 1\n",
      "/home/bcoelho/.local/lib/python3.6/site-packages/sklearn_hierarchical_classification/metrics.py:36: FutureWarning: Using a non-tuple sequence for multidimensional indexing is deprecated; use `arr[tuple(seq)]` instead of `arr[seq]`. In the future this will be interpreted as an array index, `arr[np.array(seq)]`, which will result either in an error or a different result.\n",
      "  y_[np.meshgrid(ix_rows, ancestors)] = 1\n",
      "/home/bcoelho/.local/lib/python3.6/site-packages/sklearn_hierarchical_classification/metrics.py:36: FutureWarning: Using a non-tuple sequence for multidimensional indexing is deprecated; use `arr[tuple(seq)]` instead of `arr[seq]`. In the future this will be interpreted as an array index, `arr[np.array(seq)]`, which will result either in an error or a different result.\n",
      "  y_[np.meshgrid(ix_rows, ancestors)] = 1\n",
      "/home/bcoelho/.local/lib/python3.6/site-packages/sklearn_hierarchical_classification/metrics.py:36: FutureWarning: Using a non-tuple sequence for multidimensional indexing is deprecated; use `arr[tuple(seq)]` instead of `arr[seq]`. In the future this will be interpreted as an array index, `arr[np.array(seq)]`, which will result either in an error or a different result.\n",
      "  y_[np.meshgrid(ix_rows, ancestors)] = 1\n",
      "/home/bcoelho/.local/lib/python3.6/site-packages/sklearn_hierarchical_classification/metrics.py:36: FutureWarning: Using a non-tuple sequence for multidimensional indexing is deprecated; use `arr[tuple(seq)]` instead of `arr[seq]`. In the future this will be interpreted as an array index, `arr[np.array(seq)]`, which will result either in an error or a different result.\n",
      "  y_[np.meshgrid(ix_rows, ancestors)] = 1\n",
      "/home/bcoelho/.local/lib/python3.6/site-packages/sklearn_hierarchical_classification/metrics.py:36: FutureWarning: Using a non-tuple sequence for multidimensional indexing is deprecated; use `arr[tuple(seq)]` instead of `arr[seq]`. In the future this will be interpreted as an array index, `arr[np.array(seq)]`, which will result either in an error or a different result.\n",
      "  y_[np.meshgrid(ix_rows, ancestors)] = 1\n",
      "/home/bcoelho/.local/lib/python3.6/site-packages/sklearn_hierarchical_classification/metrics.py:36: FutureWarning: Using a non-tuple sequence for multidimensional indexing is deprecated; use `arr[tuple(seq)]` instead of `arr[seq]`. In the future this will be interpreted as an array index, `arr[np.array(seq)]`, which will result either in an error or a different result.\n",
      "  y_[np.meshgrid(ix_rows, ancestors)] = 1\n",
      "/home/bcoelho/.local/lib/python3.6/site-packages/sklearn_hierarchical_classification/metrics.py:36: FutureWarning: Using a non-tuple sequence for multidimensional indexing is deprecated; use `arr[tuple(seq)]` instead of `arr[seq]`. In the future this will be interpreted as an array index, `arr[np.array(seq)]`, which will result either in an error or a different result.\n",
      "  y_[np.meshgrid(ix_rows, ancestors)] = 1\n",
      "/home/bcoelho/.local/lib/python3.6/site-packages/sklearn_hierarchical_classification/metrics.py:36: FutureWarning: Using a non-tuple sequence for multidimensional indexing is deprecated; use `arr[tuple(seq)]` instead of `arr[seq]`. In the future this will be interpreted as an array index, `arr[np.array(seq)]`, which will result either in an error or a different result.\n",
      "  y_[np.meshgrid(ix_rows, ancestors)] = 1\n",
      "/home/bcoelho/.local/lib/python3.6/site-packages/sklearn_hierarchical_classification/metrics.py:36: FutureWarning: Using a non-tuple sequence for multidimensional indexing is deprecated; use `arr[tuple(seq)]` instead of `arr[seq]`. In the future this will be interpreted as an array index, `arr[np.array(seq)]`, which will result either in an error or a different result.\n",
      "  y_[np.meshgrid(ix_rows, ancestors)] = 1\n",
      "/home/bcoelho/.local/lib/python3.6/site-packages/sklearn_hierarchical_classification/metrics.py:36: FutureWarning: Using a non-tuple sequence for multidimensional indexing is deprecated; use `arr[tuple(seq)]` instead of `arr[seq]`. In the future this will be interpreted as an array index, `arr[np.array(seq)]`, which will result either in an error or a different result.\n",
      "  y_[np.meshgrid(ix_rows, ancestors)] = 1\n"
     ]
    },
    {
     "name": "stderr",
     "output_type": "stream",
     "text": [
      "/home/bcoelho/.local/lib/python3.6/site-packages/sklearn_hierarchical_classification/metrics.py:36: FutureWarning: Using a non-tuple sequence for multidimensional indexing is deprecated; use `arr[tuple(seq)]` instead of `arr[seq]`. In the future this will be interpreted as an array index, `arr[np.array(seq)]`, which will result either in an error or a different result.\n",
      "  y_[np.meshgrid(ix_rows, ancestors)] = 1\n",
      "/home/bcoelho/.local/lib/python3.6/site-packages/sklearn_hierarchical_classification/metrics.py:36: FutureWarning: Using a non-tuple sequence for multidimensional indexing is deprecated; use `arr[tuple(seq)]` instead of `arr[seq]`. In the future this will be interpreted as an array index, `arr[np.array(seq)]`, which will result either in an error or a different result.\n",
      "  y_[np.meshgrid(ix_rows, ancestors)] = 1\n",
      "/home/bcoelho/.local/lib/python3.6/site-packages/sklearn_hierarchical_classification/metrics.py:36: FutureWarning: Using a non-tuple sequence for multidimensional indexing is deprecated; use `arr[tuple(seq)]` instead of `arr[seq]`. In the future this will be interpreted as an array index, `arr[np.array(seq)]`, which will result either in an error or a different result.\n",
      "  y_[np.meshgrid(ix_rows, ancestors)] = 1\n",
      "/home/bcoelho/.local/lib/python3.6/site-packages/sklearn_hierarchical_classification/metrics.py:36: FutureWarning: Using a non-tuple sequence for multidimensional indexing is deprecated; use `arr[tuple(seq)]` instead of `arr[seq]`. In the future this will be interpreted as an array index, `arr[np.array(seq)]`, which will result either in an error or a different result.\n",
      "  y_[np.meshgrid(ix_rows, ancestors)] = 1\n",
      "/home/bcoelho/.local/lib/python3.6/site-packages/sklearn_hierarchical_classification/metrics.py:36: FutureWarning: Using a non-tuple sequence for multidimensional indexing is deprecated; use `arr[tuple(seq)]` instead of `arr[seq]`. In the future this will be interpreted as an array index, `arr[np.array(seq)]`, which will result either in an error or a different result.\n",
      "  y_[np.meshgrid(ix_rows, ancestors)] = 1\n",
      "/home/bcoelho/.local/lib/python3.6/site-packages/sklearn_hierarchical_classification/metrics.py:36: FutureWarning: Using a non-tuple sequence for multidimensional indexing is deprecated; use `arr[tuple(seq)]` instead of `arr[seq]`. In the future this will be interpreted as an array index, `arr[np.array(seq)]`, which will result either in an error or a different result.\n",
      "  y_[np.meshgrid(ix_rows, ancestors)] = 1\n",
      "/home/bcoelho/.local/lib/python3.6/site-packages/sklearn_hierarchical_classification/metrics.py:36: FutureWarning: Using a non-tuple sequence for multidimensional indexing is deprecated; use `arr[tuple(seq)]` instead of `arr[seq]`. In the future this will be interpreted as an array index, `arr[np.array(seq)]`, which will result either in an error or a different result.\n",
      "  y_[np.meshgrid(ix_rows, ancestors)] = 1\n",
      "/home/bcoelho/.local/lib/python3.6/site-packages/sklearn_hierarchical_classification/metrics.py:36: FutureWarning: Using a non-tuple sequence for multidimensional indexing is deprecated; use `arr[tuple(seq)]` instead of `arr[seq]`. In the future this will be interpreted as an array index, `arr[np.array(seq)]`, which will result either in an error or a different result.\n",
      "  y_[np.meshgrid(ix_rows, ancestors)] = 1\n",
      "/home/bcoelho/.local/lib/python3.6/site-packages/sklearn_hierarchical_classification/metrics.py:36: FutureWarning: Using a non-tuple sequence for multidimensional indexing is deprecated; use `arr[tuple(seq)]` instead of `arr[seq]`. In the future this will be interpreted as an array index, `arr[np.array(seq)]`, which will result either in an error or a different result.\n",
      "  y_[np.meshgrid(ix_rows, ancestors)] = 1\n",
      "/home/bcoelho/.local/lib/python3.6/site-packages/sklearn_hierarchical_classification/metrics.py:36: FutureWarning: Using a non-tuple sequence for multidimensional indexing is deprecated; use `arr[tuple(seq)]` instead of `arr[seq]`. In the future this will be interpreted as an array index, `arr[np.array(seq)]`, which will result either in an error or a different result.\n",
      "  y_[np.meshgrid(ix_rows, ancestors)] = 1\n",
      "/home/bcoelho/.local/lib/python3.6/site-packages/sklearn_hierarchical_classification/metrics.py:36: FutureWarning: Using a non-tuple sequence for multidimensional indexing is deprecated; use `arr[tuple(seq)]` instead of `arr[seq]`. In the future this will be interpreted as an array index, `arr[np.array(seq)]`, which will result either in an error or a different result.\n",
      "  y_[np.meshgrid(ix_rows, ancestors)] = 1\n",
      "/home/bcoelho/.local/lib/python3.6/site-packages/sklearn_hierarchical_classification/metrics.py:36: FutureWarning: Using a non-tuple sequence for multidimensional indexing is deprecated; use `arr[tuple(seq)]` instead of `arr[seq]`. In the future this will be interpreted as an array index, `arr[np.array(seq)]`, which will result either in an error or a different result.\n",
      "  y_[np.meshgrid(ix_rows, ancestors)] = 1\n",
      "/home/bcoelho/.local/lib/python3.6/site-packages/sklearn_hierarchical_classification/metrics.py:36: FutureWarning: Using a non-tuple sequence for multidimensional indexing is deprecated; use `arr[tuple(seq)]` instead of `arr[seq]`. In the future this will be interpreted as an array index, `arr[np.array(seq)]`, which will result either in an error or a different result.\n",
      "  y_[np.meshgrid(ix_rows, ancestors)] = 1\n",
      "/home/bcoelho/.local/lib/python3.6/site-packages/sklearn_hierarchical_classification/metrics.py:36: FutureWarning: Using a non-tuple sequence for multidimensional indexing is deprecated; use `arr[tuple(seq)]` instead of `arr[seq]`. In the future this will be interpreted as an array index, `arr[np.array(seq)]`, which will result either in an error or a different result.\n",
      "  y_[np.meshgrid(ix_rows, ancestors)] = 1\n",
      "/home/bcoelho/.local/lib/python3.6/site-packages/sklearn_hierarchical_classification/metrics.py:36: FutureWarning: Using a non-tuple sequence for multidimensional indexing is deprecated; use `arr[tuple(seq)]` instead of `arr[seq]`. In the future this will be interpreted as an array index, `arr[np.array(seq)]`, which will result either in an error or a different result.\n",
      "  y_[np.meshgrid(ix_rows, ancestors)] = 1\n",
      "/home/bcoelho/.local/lib/python3.6/site-packages/sklearn_hierarchical_classification/metrics.py:36: FutureWarning: Using a non-tuple sequence for multidimensional indexing is deprecated; use `arr[tuple(seq)]` instead of `arr[seq]`. In the future this will be interpreted as an array index, `arr[np.array(seq)]`, which will result either in an error or a different result.\n",
      "  y_[np.meshgrid(ix_rows, ancestors)] = 1\n",
      "/home/bcoelho/.local/lib/python3.6/site-packages/sklearn_hierarchical_classification/metrics.py:36: FutureWarning: Using a non-tuple sequence for multidimensional indexing is deprecated; use `arr[tuple(seq)]` instead of `arr[seq]`. In the future this will be interpreted as an array index, `arr[np.array(seq)]`, which will result either in an error or a different result.\n",
      "  y_[np.meshgrid(ix_rows, ancestors)] = 1\n",
      "/home/bcoelho/.local/lib/python3.6/site-packages/sklearn_hierarchical_classification/metrics.py:36: FutureWarning: Using a non-tuple sequence for multidimensional indexing is deprecated; use `arr[tuple(seq)]` instead of `arr[seq]`. In the future this will be interpreted as an array index, `arr[np.array(seq)]`, which will result either in an error or a different result.\n",
      "  y_[np.meshgrid(ix_rows, ancestors)] = 1\n",
      "/home/bcoelho/.local/lib/python3.6/site-packages/sklearn_hierarchical_classification/metrics.py:36: FutureWarning: Using a non-tuple sequence for multidimensional indexing is deprecated; use `arr[tuple(seq)]` instead of `arr[seq]`. In the future this will be interpreted as an array index, `arr[np.array(seq)]`, which will result either in an error or a different result.\n",
      "  y_[np.meshgrid(ix_rows, ancestors)] = 1\n"
     ]
    },
    {
     "name": "stdout",
     "output_type": "stream",
     "text": [
      "\n",
      "CPU times: user 14min 44s, sys: 2.02 s, total: 14min 46s\n",
      "Wall time: 14min 46s\n"
     ]
    },
    {
     "name": "stderr",
     "output_type": "stream",
     "text": [
      "/home/bcoelho/.local/lib/python3.6/site-packages/sklearn_hierarchical_classification/metrics.py:36: FutureWarning: Using a non-tuple sequence for multidimensional indexing is deprecated; use `arr[tuple(seq)]` instead of `arr[seq]`. In the future this will be interpreted as an array index, `arr[np.array(seq)]`, which will result either in an error or a different result.\n",
      "  y_[np.meshgrid(ix_rows, ancestors)] = 1\n"
     ]
    }
   ],
   "source": [
    "%%time\n",
    "for i in tqdm_notebook(range(N_SIMUL)):\n",
    "    rdm_state = RANDOM_STATE + i\n",
    "    clf = HierarchicalClassifier(base_estimator=BASE_MODEL(), \n",
    "                             class_hierarchy=mosquitos_hierarchy, \n",
    "                             prediction_depth=\"mlnp\",\n",
    "                             algorithm=\"lcpn\",\n",
    "                            )   \n",
    "    results = run_experiment(df, mosquitos_hierarchy, encoding, \n",
    "                             clf, random_state=rdm_state)\n",
    "    all_results.loc[len(all_results), :] = list(results.values()) + [\"1 per node\"]"
   ]
  },
  {
   "cell_type": "markdown",
   "metadata": {},
   "source": [
    "\n",
    "\n",
    "- - - \n",
    "\n",
    "<br>\n",
    "<br>\n",
    "<br>\n",
    "<br>\n",
    "<br>\n",
    "<br>\n",
    "<br>\n",
    "<br>\n",
    "<br>\n",
    "<br>\n",
    "<br>\n",
    "<br>"
   ]
  },
  {
   "cell_type": "markdown",
   "metadata": {},
   "source": [
    "# Results"
   ]
  },
  {
   "cell_type": "code",
   "execution_count": 10,
   "metadata": {},
   "outputs": [
    {
     "data": {
      "text/plain": [
       "<matplotlib.axes._subplots.AxesSubplot at 0x7f6163c3f3c8>"
      ]
     },
     "execution_count": 10,
     "metadata": {},
     "output_type": "execute_result"
    },
    {
     "data": {
      "image/png": "[encoded data removed]",
      "text/plain": [
       "<Figure size 432x288 with 1 Axes>"
      ]
     },
     "metadata": {},
     "output_type": "display_data"
    }
   ],
   "source": [
    "sns.barplot(data=all_results, y=\"h_fbeta\", x=\"model\")#, hue=\"Ruido %\")"
   ]
  },
  {
   "cell_type": "code",
   "execution_count": 11,
   "metadata": {},
   "outputs": [
    {
     "name": "stdout",
     "output_type": "stream",
     "text": [
      "For model flat, we obtained  0.7231189304881432 h_fbeta +- 0.003311066039233607\n",
      "For model 1 per node, we obtained  0.7213053625165888 h_fbeta +- 0.0030069685021306873\n"
     ]
    }
   ],
   "source": [
    "for model in [\"flat\", \"1 per node\"]:\n",
    "    model_results = all_results.query(\"model == @model\")\n",
    "    print(f\"For model {model}, we obtained \", \n",
    "          f\"{model_results.h_fbeta.mean()} h_fbeta +-\",\n",
    "          f\"{model_results.h_fbeta.std()}\")"
   ]
  },
  {
   "cell_type": "code",
   "execution_count": null,
   "metadata": {},
   "outputs": [],
   "source": []
  },
  {
   "cell_type": "code",
   "execution_count": null,
   "metadata": {},
   "outputs": [],
   "source": []
  },
  {
   "cell_type": "code",
   "execution_count": null,
   "metadata": {},
   "outputs": [],
   "source": []
  },
  {
   "cell_type": "code",
   "execution_count": null,
   "metadata": {},
   "outputs": [],
   "source": []
  },
  {
   "cell_type": "markdown",
   "metadata": {},
   "source": [
    "TODO: Not done yet"
   ]
  },
  {
   "cell_type": "markdown",
   "metadata": {},
   "source": [
    "### Binary classifier per Node"
   ]
  },
  {
   "cell_type": "code",
   "execution_count": 12,
   "metadata": {},
   "outputs": [],
   "source": [
    "def binary_per_node(df, mosquitos_hierarchy, encoding, clf):\n",
    "    X = df.drop(columns=\"class\")\n",
    "    y = encoding.transform(df[\"class\"].str.split(\".\").apply(lambda x: x[-1]))\n",
    "    y = y.astype(str)\n",
    "\n",
    "    X_train, X_test, y_train, y_test = train_test_split(X, y, test_size=0.3, \n",
    "                                                        random_state=RANDOM_STATE)\n",
    "    \n",
    "    y_preds = np.zeros(len(y_test))\n",
    "    \n",
    "    \n",
    "    \n",
    "    clf.fit(X_train, y_train)\n",
    "    y_pred = clf.predict(X_test)\n",
    "\n",
    "    target_names = encoding.inverse_transform(np.sort(np.unique(y)).astype(int))\n",
    "    print(\"Classification Report:\\n\", classification_report(y_test, y_pred, \n",
    "                                                           target_names=target_names))\n",
    "    # Demonstrate using our hierarchical metrics module with MLB wrapper\n",
    "    try:\n",
    "        my_graph = clf.graph_\n",
    "    except:\n",
    "        from networkx import DiGraph\n",
    "        my_graph = DiGraph(class_hierarchy)\n",
    "        \n",
    "    with multi_labeled(y_test, y_pred, my_graph) as (y_test_, y_pred_, graph_):\n",
    "        results = {\n",
    "            \"h_fbeta\": h_fbeta_score(y_test_, y_pred_, graph_),\n",
    "            \"h_precision\": h_precision_score(y_test_, y_pred_, graph_),\n",
    "            \"h_recall\": h_recall_score(y_test_, y_pred_, graph_),\n",
    "        }\n",
    "    return results"
   ]
  },
  {
   "cell_type": "code",
   "execution_count": null,
   "metadata": {},
   "outputs": [],
   "source": []
  },
  {
   "cell_type": "code",
   "execution_count": null,
   "metadata": {},
   "outputs": [],
   "source": []
  },
  {
   "cell_type": "code",
   "execution_count": null,
   "metadata": {},
   "outputs": [],
   "source": []
  },
  {
   "cell_type": "code",
   "execution_count": null,
   "metadata": {},
   "outputs": [],
   "source": []
  },
  {
   "cell_type": "code",
   "execution_count": null,
   "metadata": {},
   "outputs": [],
   "source": []
  },
  {
   "cell_type": "markdown",
   "metadata": {},
   "source": [
    "## HMC"
   ]
  },
  {
   "cell_type": "code",
   "execution_count": 11,
   "metadata": {},
   "outputs": [
    {
     "name": "stdout",
     "output_type": "stream",
     "text": [
      "└─ROOT\n",
      "  ├─Chironomidae\n",
      "  │ └─Chironomus\n",
      "  │   └─Cxanthus\n",
      "  ├─Culicidae\n",
      "  │ ├─Aedes\n",
      "  │ │ ├─Aeaegypti\n",
      "  │ │ │ ├─Aeaegypti:F\n",
      "  │ │ │ └─Aeaegypti:M\n",
      "  │ │ └─Aealbopictus\n",
      "  │ │   ├─Aealbopictus:F\n",
      "  │ │   └─Aealbopictus:M\n",
      "  │ ├─Anopheles\n",
      "  │ │ └─Aaquasalis\n",
      "  │ │   ├─Aaquasalis:F\n",
      "  │ │   └─Aaquasalis:M\n",
      "  │ └─Culex\n",
      "  │   ├─Cxquinquefasciatus\n",
      "  │   │ ├─Cxquinquefasciatus:F\n",
      "  │   │ └─Cxquinquefasciatus:M\n",
      "  │   └─Cxtarsalis\n",
      "  │     └─Cxtarsalis:both\n",
      "  ├─Drosophilidae\n",
      "  │ └─Drosophila\n",
      "  │   ├─Dmelanogaster\n",
      "  │   └─Dsuzukii\n",
      "  └─Muscidae\n",
      "    └─Musca\n",
      "      └─Mdomestica\n"
     ]
    }
   ],
   "source": [
    "ch = hmc.ClassHierarchy(\"ROOT\")\n",
    "options = [x.split(\".\")[1:] for x in df[\"class\"].unique()]\n",
    "\n",
    "for class_ in options:\n",
    "    for previous, current in zip([\"ROOT\"]+class_, class_):\n",
    "        ch.add_node(current, previous)\n",
    "        \"\"\"\n",
    "        if current in last_classes:\n",
    "            class_num = encoding.transform([current])[0]\n",
    "            mosquitos_hierarchy[previous].add(f\"{class_num}\")\n",
    "        else:\n",
    "            mosquitos_hierarchy[previous].add(current)\n",
    "        \"\"\"\n",
    "ch.print_()"
   ]
  },
  {
   "cell_type": "code",
   "execution_count": 41,
   "metadata": {},
   "outputs": [
    {
     "ename": "KeyError",
     "evalue": "range(0, 33)",
     "output_type": "error",
     "traceback": [
      "\u001b[0;31m------------------------------------------------------------------------\u001b[0m",
      "\u001b[0;31mKeyError\u001b[0m                               Traceback (most recent call last)",
      "\u001b[0;32m~/.local/lib/python3.6/site-packages/pandas/core/indexes/base.py\u001b[0m in \u001b[0;36mget_loc\u001b[0;34m(self, key, method, tolerance)\u001b[0m\n\u001b[1;32m   3062\u001b[0m             \u001b[0;32mtry\u001b[0m\u001b[0;34m:\u001b[0m\u001b[0;34m\u001b[0m\u001b[0m\n\u001b[0;32m-> 3063\u001b[0;31m                 \u001b[0;32mreturn\u001b[0m \u001b[0mself\u001b[0m\u001b[0;34m.\u001b[0m\u001b[0m_engine\u001b[0m\u001b[0;34m.\u001b[0m\u001b[0mget_loc\u001b[0m\u001b[0;34m(\u001b[0m\u001b[0mkey\u001b[0m\u001b[0;34m)\u001b[0m\u001b[0;34m\u001b[0m\u001b[0m\n\u001b[0m\u001b[1;32m   3064\u001b[0m             \u001b[0;32mexcept\u001b[0m \u001b[0mKeyError\u001b[0m\u001b[0;34m:\u001b[0m\u001b[0;34m\u001b[0m\u001b[0m\n",
      "\u001b[0;32mpandas/_libs/index.pyx\u001b[0m in \u001b[0;36mpandas._libs.index.IndexEngine.get_loc\u001b[0;34m()\u001b[0m\n",
      "\u001b[0;32mpandas/_libs/index.pyx\u001b[0m in \u001b[0;36mpandas._libs.index.IndexEngine.get_loc\u001b[0;34m()\u001b[0m\n",
      "\u001b[0;32mpandas/_libs/hashtable_class_helper.pxi\u001b[0m in \u001b[0;36mpandas._libs.hashtable.PyObjectHashTable.get_item\u001b[0;34m()\u001b[0m\n",
      "\u001b[0;32mpandas/_libs/hashtable_class_helper.pxi\u001b[0m in \u001b[0;36mpandas._libs.hashtable.PyObjectHashTable.get_item\u001b[0;34m()\u001b[0m\n",
      "\u001b[0;31mKeyError\u001b[0m: range(0, 33)",
      "\nDuring handling of the above exception, another exception occurred:\n",
      "\u001b[0;31mKeyError\u001b[0m                               Traceback (most recent call last)",
      "\u001b[0;32m<ipython-input-41-a652776826ff>\u001b[0m in \u001b[0;36m<module>\u001b[0;34m()\u001b[0m\n\u001b[1;32m      2\u001b[0m y = pd.DataFrame(df[\"class\"].str.split(\".\").apply(lambda x: x[-1]), \n\u001b[1;32m      3\u001b[0m                  columns=[\"label\"])\n\u001b[0;32m----> 4\u001b[0;31m \u001b[0mdth\u001b[0m \u001b[0;34m=\u001b[0m \u001b[0mdth\u001b[0m\u001b[0;34m.\u001b[0m\u001b[0mfit\u001b[0m\u001b[0;34m(\u001b[0m\u001b[0mdf\u001b[0m\u001b[0;34m.\u001b[0m\u001b[0mdrop\u001b[0m\u001b[0;34m(\u001b[0m\u001b[0mcolumns\u001b[0m\u001b[0;34m=\u001b[0m\u001b[0;34m\"class\"\u001b[0m\u001b[0;34m)\u001b[0m\u001b[0;34m,\u001b[0m \u001b[0my\u001b[0m\u001b[0;34m)\u001b[0m\u001b[0;34m\u001b[0m\u001b[0m\n\u001b[0m\u001b[1;32m      5\u001b[0m \u001b[0mdth_predicted\u001b[0m \u001b[0;34m=\u001b[0m \u001b[0mdth\u001b[0m\u001b[0;34m.\u001b[0m\u001b[0mpredict\u001b[0m\u001b[0;34m(\u001b[0m\u001b[0mX_test\u001b[0m\u001b[0;34m)\u001b[0m\u001b[0;34m\u001b[0m\u001b[0m\n\u001b[1;32m      6\u001b[0m \u001b[0mdth_accuracy\u001b[0m \u001b[0;34m=\u001b[0m \u001b[0mdth\u001b[0m\u001b[0;34m.\u001b[0m\u001b[0mscore\u001b[0m\u001b[0;34m(\u001b[0m\u001b[0mX_test\u001b[0m\u001b[0;34m,\u001b[0m \u001b[0my_test\u001b[0m\u001b[0;34m)\u001b[0m\u001b[0;34m\u001b[0m\u001b[0m\n",
      "\u001b[0;32m~/Facul/topicos_avancados_ia/hierarquical-panda/experiments/hmc-master/hmc/hmc.py\u001b[0m in \u001b[0;36mfit\u001b[0;34m(self, X, y)\u001b[0m\n\u001b[1;32m    204\u001b[0m         \u001b[0;31m# Fit each stage\u001b[0m\u001b[0;34m\u001b[0m\u001b[0;34m\u001b[0m\u001b[0m\n\u001b[1;32m    205\u001b[0m         \u001b[0;32mfor\u001b[0m \u001b[0mstage_number\u001b[0m\u001b[0;34m,\u001b[0m \u001b[0mstage\u001b[0m \u001b[0;32min\u001b[0m \u001b[0menumerate\u001b[0m\u001b[0;34m(\u001b[0m\u001b[0mself\u001b[0m\u001b[0;34m.\u001b[0m\u001b[0mstages\u001b[0m\u001b[0;34m)\u001b[0m\u001b[0;34m:\u001b[0m\u001b[0;34m\u001b[0m\u001b[0m\n\u001b[0;32m--> 206\u001b[0;31m             \u001b[0mdm\u001b[0m \u001b[0;34m=\u001b[0m \u001b[0mdf\u001b[0m\u001b[0;34m[\u001b[0m\u001b[0mdf\u001b[0m\u001b[0;34m[\u001b[0m\u001b[0mstage\u001b[0m\u001b[0;34m[\u001b[0m\u001b[0;34m'target'\u001b[0m\u001b[0;34m]\u001b[0m\u001b[0;34m]\u001b[0m\u001b[0;34m.\u001b[0m\u001b[0misin\u001b[0m\u001b[0;34m(\u001b[0m\u001b[0mstage\u001b[0m\u001b[0;34m[\u001b[0m\u001b[0;34m'classes'\u001b[0m\u001b[0;34m]\u001b[0m\u001b[0;34m)\u001b[0m\u001b[0;34m]\u001b[0m\u001b[0;34m[\u001b[0m\u001b[0mdm_cols\u001b[0m\u001b[0;34m]\u001b[0m\u001b[0;34m\u001b[0m\u001b[0m\n\u001b[0m\u001b[1;32m    207\u001b[0m             \u001b[0my_stage\u001b[0m \u001b[0;34m=\u001b[0m \u001b[0mdf\u001b[0m\u001b[0;34m[\u001b[0m\u001b[0mdf\u001b[0m\u001b[0;34m[\u001b[0m\u001b[0mstage\u001b[0m\u001b[0;34m[\u001b[0m\u001b[0;34m'target'\u001b[0m\u001b[0;34m]\u001b[0m\u001b[0;34m]\u001b[0m\u001b[0;34m.\u001b[0m\u001b[0misin\u001b[0m\u001b[0;34m(\u001b[0m\u001b[0mstage\u001b[0m\u001b[0;34m[\u001b[0m\u001b[0;34m'classes'\u001b[0m\u001b[0;34m]\u001b[0m\u001b[0;34m)\u001b[0m\u001b[0;34m]\u001b[0m\u001b[0;34m[\u001b[0m\u001b[0;34m[\u001b[0m\u001b[0mstage\u001b[0m\u001b[0;34m[\u001b[0m\u001b[0;34m'target'\u001b[0m\u001b[0;34m]\u001b[0m\u001b[0;34m]\u001b[0m\u001b[0;34m]\u001b[0m\u001b[0;34m\u001b[0m\u001b[0m\n\u001b[1;32m    208\u001b[0m             \u001b[0mstage\u001b[0m\u001b[0;34m[\u001b[0m\u001b[0;34m'tree'\u001b[0m\u001b[0;34m]\u001b[0m \u001b[0;34m=\u001b[0m \u001b[0mtree\u001b[0m\u001b[0;34m.\u001b[0m\u001b[0mDecisionTreeClassifier\u001b[0m\u001b[0;34m(\u001b[0m\u001b[0;34m)\u001b[0m\u001b[0;34m\u001b[0m\u001b[0m\n",
      "\u001b[0;32m~/.local/lib/python3.6/site-packages/pandas/core/frame.py\u001b[0m in \u001b[0;36m__getitem__\u001b[0;34m(self, key)\u001b[0m\n\u001b[1;32m   2683\u001b[0m             \u001b[0;32mreturn\u001b[0m \u001b[0mself\u001b[0m\u001b[0;34m.\u001b[0m\u001b[0m_getitem_multilevel\u001b[0m\u001b[0;34m(\u001b[0m\u001b[0mkey\u001b[0m\u001b[0;34m)\u001b[0m\u001b[0;34m\u001b[0m\u001b[0m\n\u001b[1;32m   2684\u001b[0m         \u001b[0;32melse\u001b[0m\u001b[0;34m:\u001b[0m\u001b[0;34m\u001b[0m\u001b[0m\n\u001b[0;32m-> 2685\u001b[0;31m             \u001b[0;32mreturn\u001b[0m \u001b[0mself\u001b[0m\u001b[0;34m.\u001b[0m\u001b[0m_getitem_column\u001b[0m\u001b[0;34m(\u001b[0m\u001b[0mkey\u001b[0m\u001b[0;34m)\u001b[0m\u001b[0;34m\u001b[0m\u001b[0m\n\u001b[0m\u001b[1;32m   2686\u001b[0m \u001b[0;34m\u001b[0m\u001b[0m\n\u001b[1;32m   2687\u001b[0m     \u001b[0;32mdef\u001b[0m \u001b[0m_getitem_column\u001b[0m\u001b[0;34m(\u001b[0m\u001b[0mself\u001b[0m\u001b[0;34m,\u001b[0m \u001b[0mkey\u001b[0m\u001b[0;34m)\u001b[0m\u001b[0;34m:\u001b[0m\u001b[0;34m\u001b[0m\u001b[0m\n",
      "\u001b[0;32m~/.local/lib/python3.6/site-packages/pandas/core/frame.py\u001b[0m in \u001b[0;36m_getitem_column\u001b[0;34m(self, key)\u001b[0m\n\u001b[1;32m   2690\u001b[0m         \u001b[0;31m# get column\u001b[0m\u001b[0;34m\u001b[0m\u001b[0;34m\u001b[0m\u001b[0m\n\u001b[1;32m   2691\u001b[0m         \u001b[0;32mif\u001b[0m \u001b[0mself\u001b[0m\u001b[0;34m.\u001b[0m\u001b[0mcolumns\u001b[0m\u001b[0;34m.\u001b[0m\u001b[0mis_unique\u001b[0m\u001b[0;34m:\u001b[0m\u001b[0;34m\u001b[0m\u001b[0m\n\u001b[0;32m-> 2692\u001b[0;31m             \u001b[0;32mreturn\u001b[0m \u001b[0mself\u001b[0m\u001b[0;34m.\u001b[0m\u001b[0m_get_item_cache\u001b[0m\u001b[0;34m(\u001b[0m\u001b[0mkey\u001b[0m\u001b[0;34m)\u001b[0m\u001b[0;34m\u001b[0m\u001b[0m\n\u001b[0m\u001b[1;32m   2693\u001b[0m \u001b[0;34m\u001b[0m\u001b[0m\n\u001b[1;32m   2694\u001b[0m         \u001b[0;31m# duplicate columns & possible reduce dimensionality\u001b[0m\u001b[0;34m\u001b[0m\u001b[0;34m\u001b[0m\u001b[0m\n",
      "\u001b[0;32m~/.local/lib/python3.6/site-packages/pandas/core/generic.py\u001b[0m in \u001b[0;36m_get_item_cache\u001b[0;34m(self, item)\u001b[0m\n\u001b[1;32m   2484\u001b[0m         \u001b[0mres\u001b[0m \u001b[0;34m=\u001b[0m \u001b[0mcache\u001b[0m\u001b[0;34m.\u001b[0m\u001b[0mget\u001b[0m\u001b[0;34m(\u001b[0m\u001b[0mitem\u001b[0m\u001b[0;34m)\u001b[0m\u001b[0;34m\u001b[0m\u001b[0m\n\u001b[1;32m   2485\u001b[0m         \u001b[0;32mif\u001b[0m \u001b[0mres\u001b[0m \u001b[0;32mis\u001b[0m \u001b[0;32mNone\u001b[0m\u001b[0;34m:\u001b[0m\u001b[0;34m\u001b[0m\u001b[0m\n\u001b[0;32m-> 2486\u001b[0;31m             \u001b[0mvalues\u001b[0m \u001b[0;34m=\u001b[0m \u001b[0mself\u001b[0m\u001b[0;34m.\u001b[0m\u001b[0m_data\u001b[0m\u001b[0;34m.\u001b[0m\u001b[0mget\u001b[0m\u001b[0;34m(\u001b[0m\u001b[0mitem\u001b[0m\u001b[0;34m)\u001b[0m\u001b[0;34m\u001b[0m\u001b[0m\n\u001b[0m\u001b[1;32m   2487\u001b[0m             \u001b[0mres\u001b[0m \u001b[0;34m=\u001b[0m \u001b[0mself\u001b[0m\u001b[0;34m.\u001b[0m\u001b[0m_box_item_values\u001b[0m\u001b[0;34m(\u001b[0m\u001b[0mitem\u001b[0m\u001b[0;34m,\u001b[0m \u001b[0mvalues\u001b[0m\u001b[0;34m)\u001b[0m\u001b[0;34m\u001b[0m\u001b[0m\n\u001b[1;32m   2488\u001b[0m             \u001b[0mcache\u001b[0m\u001b[0;34m[\u001b[0m\u001b[0mitem\u001b[0m\u001b[0;34m]\u001b[0m \u001b[0;34m=\u001b[0m \u001b[0mres\u001b[0m\u001b[0;34m\u001b[0m\u001b[0m\n",
      "\u001b[0;32m~/.local/lib/python3.6/site-packages/pandas/core/internals.py\u001b[0m in \u001b[0;36mget\u001b[0;34m(self, item, fastpath)\u001b[0m\n\u001b[1;32m   4113\u001b[0m \u001b[0;34m\u001b[0m\u001b[0m\n\u001b[1;32m   4114\u001b[0m             \u001b[0;32mif\u001b[0m \u001b[0;32mnot\u001b[0m \u001b[0misna\u001b[0m\u001b[0;34m(\u001b[0m\u001b[0mitem\u001b[0m\u001b[0;34m)\u001b[0m\u001b[0;34m:\u001b[0m\u001b[0;34m\u001b[0m\u001b[0m\n\u001b[0;32m-> 4115\u001b[0;31m                 \u001b[0mloc\u001b[0m \u001b[0;34m=\u001b[0m \u001b[0mself\u001b[0m\u001b[0;34m.\u001b[0m\u001b[0mitems\u001b[0m\u001b[0;34m.\u001b[0m\u001b[0mget_loc\u001b[0m\u001b[0;34m(\u001b[0m\u001b[0mitem\u001b[0m\u001b[0;34m)\u001b[0m\u001b[0;34m\u001b[0m\u001b[0m\n\u001b[0m\u001b[1;32m   4116\u001b[0m             \u001b[0;32melse\u001b[0m\u001b[0;34m:\u001b[0m\u001b[0;34m\u001b[0m\u001b[0m\n\u001b[1;32m   4117\u001b[0m                 \u001b[0mindexer\u001b[0m \u001b[0;34m=\u001b[0m \u001b[0mnp\u001b[0m\u001b[0;34m.\u001b[0m\u001b[0marange\u001b[0m\u001b[0;34m(\u001b[0m\u001b[0mlen\u001b[0m\u001b[0;34m(\u001b[0m\u001b[0mself\u001b[0m\u001b[0;34m.\u001b[0m\u001b[0mitems\u001b[0m\u001b[0;34m)\u001b[0m\u001b[0;34m)\u001b[0m\u001b[0;34m[\u001b[0m\u001b[0misna\u001b[0m\u001b[0;34m(\u001b[0m\u001b[0mself\u001b[0m\u001b[0;34m.\u001b[0m\u001b[0mitems\u001b[0m\u001b[0;34m)\u001b[0m\u001b[0;34m]\u001b[0m\u001b[0;34m\u001b[0m\u001b[0m\n",
      "\u001b[0;32m~/.local/lib/python3.6/site-packages/pandas/core/indexes/base.py\u001b[0m in \u001b[0;36mget_loc\u001b[0;34m(self, key, method, tolerance)\u001b[0m\n\u001b[1;32m   3063\u001b[0m                 \u001b[0;32mreturn\u001b[0m \u001b[0mself\u001b[0m\u001b[0;34m.\u001b[0m\u001b[0m_engine\u001b[0m\u001b[0;34m.\u001b[0m\u001b[0mget_loc\u001b[0m\u001b[0;34m(\u001b[0m\u001b[0mkey\u001b[0m\u001b[0;34m)\u001b[0m\u001b[0;34m\u001b[0m\u001b[0m\n\u001b[1;32m   3064\u001b[0m             \u001b[0;32mexcept\u001b[0m \u001b[0mKeyError\u001b[0m\u001b[0;34m:\u001b[0m\u001b[0;34m\u001b[0m\u001b[0m\n\u001b[0;32m-> 3065\u001b[0;31m                 \u001b[0;32mreturn\u001b[0m \u001b[0mself\u001b[0m\u001b[0;34m.\u001b[0m\u001b[0m_engine\u001b[0m\u001b[0;34m.\u001b[0m\u001b[0mget_loc\u001b[0m\u001b[0;34m(\u001b[0m\u001b[0mself\u001b[0m\u001b[0;34m.\u001b[0m\u001b[0m_maybe_cast_indexer\u001b[0m\u001b[0;34m(\u001b[0m\u001b[0mkey\u001b[0m\u001b[0;34m)\u001b[0m\u001b[0;34m)\u001b[0m\u001b[0;34m\u001b[0m\u001b[0m\n\u001b[0m\u001b[1;32m   3066\u001b[0m \u001b[0;34m\u001b[0m\u001b[0m\n\u001b[1;32m   3067\u001b[0m         \u001b[0mindexer\u001b[0m \u001b[0;34m=\u001b[0m \u001b[0mself\u001b[0m\u001b[0;34m.\u001b[0m\u001b[0mget_indexer\u001b[0m\u001b[0;34m(\u001b[0m\u001b[0;34m[\u001b[0m\u001b[0mkey\u001b[0m\u001b[0;34m]\u001b[0m\u001b[0;34m,\u001b[0m \u001b[0mmethod\u001b[0m\u001b[0;34m=\u001b[0m\u001b[0mmethod\u001b[0m\u001b[0;34m,\u001b[0m \u001b[0mtolerance\u001b[0m\u001b[0;34m=\u001b[0m\u001b[0mtolerance\u001b[0m\u001b[0;34m)\u001b[0m\u001b[0;34m\u001b[0m\u001b[0m\n",
      "\u001b[0;32mpandas/_libs/index.pyx\u001b[0m in \u001b[0;36mpandas._libs.index.IndexEngine.get_loc\u001b[0;34m()\u001b[0m\n",
      "\u001b[0;32mpandas/_libs/index.pyx\u001b[0m in \u001b[0;36mpandas._libs.index.IndexEngine.get_loc\u001b[0;34m()\u001b[0m\n",
      "\u001b[0;32mpandas/_libs/hashtable_class_helper.pxi\u001b[0m in \u001b[0;36mpandas._libs.hashtable.PyObjectHashTable.get_item\u001b[0;34m()\u001b[0m\n",
      "\u001b[0;32mpandas/_libs/hashtable_class_helper.pxi\u001b[0m in \u001b[0;36mpandas._libs.hashtable.PyObjectHashTable.get_item\u001b[0;34m()\u001b[0m\n",
      "\u001b[0;31mKeyError\u001b[0m: range(0, 33)"
     ]
    }
   ],
   "source": [
    "dth = hmc.DecisionTreeHierarchicalClassifier(ch)\n",
    "y = pd.DataFrame(df[\"class\"].str.split(\".\").apply(lambda x: x[-1]), \n",
    "                 columns=[\"label\"])\n",
    "dth = dth.fit(df.drop(columns=\"class\"), y)\n",
    "dth_predicted = dth.predict(X_test)\n",
    "dth_accuracy = dth.score(X_test, y_test)"
   ]
  },
  {
   "cell_type": "code",
   "execution_count": 39,
   "metadata": {},
   "outputs": [
    {
     "data": {
      "text/plain": [
       "array(['Cxquinquefasciatus:M', 'Aealbopictus:F', 'Aealbopictus:M',\n",
       "       'Aeaegypti:M', 'Aeaegypti:F', 'Mdomestica', 'Cxquinquefasciatus:F',\n",
       "       'Dsuzukii', 'Dmelanogaster', 'Aaquasalis:F', 'Cxtarsalis:both',\n",
       "       'Aaquasalis:M', 'Cxanthus'], dtype=object)"
      ]
     },
     "execution_count": 39,
     "metadata": {},
     "output_type": "execute_result"
    }
   ],
   "source": [
    "y = df[\"class\"].str.split(\".\").apply(lambda x: x[-1])#.unique()\n",
    "y.unique()"
   ]
  },
  {
   "cell_type": "code",
   "execution_count": null,
   "metadata": {},
   "outputs": [],
   "source": []
  },
  {
   "cell_type": "code",
   "execution_count": 42,
   "metadata": {},
   "outputs": [],
   "source": [
    "ch = hmc.load_shades_class_hierachy()\n",
    "X, y = hmc.load_shades_data()\n",
    "X_train, X_test, y_train, y_test = train_test_split(X, y, test_size = 0.50)"
   ]
  },
  {
   "cell_type": "code",
   "execution_count": 43,
   "metadata": {},
   "outputs": [
    {
     "ename": "KeyError",
     "evalue": "range(0, 3)",
     "output_type": "error",
     "traceback": [
      "\u001b[0;31m------------------------------------------------------------------------\u001b[0m",
      "\u001b[0;31mKeyError\u001b[0m                               Traceback (most recent call last)",
      "\u001b[0;32m~/.local/lib/python3.6/site-packages/pandas/core/indexes/base.py\u001b[0m in \u001b[0;36mget_loc\u001b[0;34m(self, key, method, tolerance)\u001b[0m\n\u001b[1;32m   3062\u001b[0m             \u001b[0;32mtry\u001b[0m\u001b[0;34m:\u001b[0m\u001b[0;34m\u001b[0m\u001b[0m\n\u001b[0;32m-> 3063\u001b[0;31m                 \u001b[0;32mreturn\u001b[0m \u001b[0mself\u001b[0m\u001b[0;34m.\u001b[0m\u001b[0m_engine\u001b[0m\u001b[0;34m.\u001b[0m\u001b[0mget_loc\u001b[0m\u001b[0;34m(\u001b[0m\u001b[0mkey\u001b[0m\u001b[0;34m)\u001b[0m\u001b[0;34m\u001b[0m\u001b[0m\n\u001b[0m\u001b[1;32m   3064\u001b[0m             \u001b[0;32mexcept\u001b[0m \u001b[0mKeyError\u001b[0m\u001b[0;34m:\u001b[0m\u001b[0;34m\u001b[0m\u001b[0m\n",
      "\u001b[0;32mpandas/_libs/index.pyx\u001b[0m in \u001b[0;36mpandas._libs.index.IndexEngine.get_loc\u001b[0;34m()\u001b[0m\n",
      "\u001b[0;32mpandas/_libs/index.pyx\u001b[0m in \u001b[0;36mpandas._libs.index.IndexEngine.get_loc\u001b[0;34m()\u001b[0m\n",
      "\u001b[0;32mpandas/_libs/hashtable_class_helper.pxi\u001b[0m in \u001b[0;36mpandas._libs.hashtable.PyObjectHashTable.get_item\u001b[0;34m()\u001b[0m\n",
      "\u001b[0;32mpandas/_libs/hashtable_class_helper.pxi\u001b[0m in \u001b[0;36mpandas._libs.hashtable.PyObjectHashTable.get_item\u001b[0;34m()\u001b[0m\n",
      "\u001b[0;31mKeyError\u001b[0m: range(0, 3)",
      "\nDuring handling of the above exception, another exception occurred:\n",
      "\u001b[0;31mKeyError\u001b[0m                               Traceback (most recent call last)",
      "\u001b[0;32m<ipython-input-43-1eb78aff751e>\u001b[0m in \u001b[0;36m<module>\u001b[0;34m()\u001b[0m\n\u001b[1;32m      1\u001b[0m \u001b[0;34m\u001b[0m\u001b[0m\n\u001b[1;32m      2\u001b[0m \u001b[0mdth\u001b[0m \u001b[0;34m=\u001b[0m \u001b[0mhmc\u001b[0m\u001b[0;34m.\u001b[0m\u001b[0mDecisionTreeHierarchicalClassifier\u001b[0m\u001b[0;34m(\u001b[0m\u001b[0mch\u001b[0m\u001b[0;34m)\u001b[0m\u001b[0;34m\u001b[0m\u001b[0m\n\u001b[0;32m----> 3\u001b[0;31m \u001b[0mdth\u001b[0m \u001b[0;34m=\u001b[0m \u001b[0mdth\u001b[0m\u001b[0;34m.\u001b[0m\u001b[0mfit\u001b[0m\u001b[0;34m(\u001b[0m\u001b[0mX_train\u001b[0m\u001b[0;34m,\u001b[0m \u001b[0my_train\u001b[0m\u001b[0;34m)\u001b[0m\u001b[0;34m\u001b[0m\u001b[0m\n\u001b[0m\u001b[1;32m      4\u001b[0m \u001b[0mdth_predicted\u001b[0m \u001b[0;34m=\u001b[0m \u001b[0mdth\u001b[0m\u001b[0;34m.\u001b[0m\u001b[0mpredict\u001b[0m\u001b[0;34m(\u001b[0m\u001b[0mX_test\u001b[0m\u001b[0;34m)\u001b[0m\u001b[0;34m\u001b[0m\u001b[0m\n\u001b[1;32m      5\u001b[0m \u001b[0mdth_accuracy\u001b[0m \u001b[0;34m=\u001b[0m \u001b[0mdth\u001b[0m\u001b[0;34m.\u001b[0m\u001b[0mscore\u001b[0m\u001b[0;34m(\u001b[0m\u001b[0mX_test\u001b[0m\u001b[0;34m,\u001b[0m \u001b[0my_test\u001b[0m\u001b[0;34m)\u001b[0m\u001b[0;34m\u001b[0m\u001b[0m\n",
      "\u001b[0;32m~/Facul/topicos_avancados_ia/hierarquical-panda/experiments/hmc-master/hmc/hmc.py\u001b[0m in \u001b[0;36mfit\u001b[0;34m(self, X, y)\u001b[0m\n\u001b[1;32m    204\u001b[0m         \u001b[0;31m# Fit each stage\u001b[0m\u001b[0;34m\u001b[0m\u001b[0;34m\u001b[0m\u001b[0m\n\u001b[1;32m    205\u001b[0m         \u001b[0;32mfor\u001b[0m \u001b[0mstage_number\u001b[0m\u001b[0;34m,\u001b[0m \u001b[0mstage\u001b[0m \u001b[0;32min\u001b[0m \u001b[0menumerate\u001b[0m\u001b[0;34m(\u001b[0m\u001b[0mself\u001b[0m\u001b[0;34m.\u001b[0m\u001b[0mstages\u001b[0m\u001b[0;34m)\u001b[0m\u001b[0;34m:\u001b[0m\u001b[0;34m\u001b[0m\u001b[0m\n\u001b[0;32m--> 206\u001b[0;31m             \u001b[0mdm\u001b[0m \u001b[0;34m=\u001b[0m \u001b[0mdf\u001b[0m\u001b[0;34m[\u001b[0m\u001b[0mdf\u001b[0m\u001b[0;34m[\u001b[0m\u001b[0mstage\u001b[0m\u001b[0;34m[\u001b[0m\u001b[0;34m'target'\u001b[0m\u001b[0;34m]\u001b[0m\u001b[0;34m]\u001b[0m\u001b[0;34m.\u001b[0m\u001b[0misin\u001b[0m\u001b[0;34m(\u001b[0m\u001b[0mstage\u001b[0m\u001b[0;34m[\u001b[0m\u001b[0;34m'classes'\u001b[0m\u001b[0;34m]\u001b[0m\u001b[0;34m)\u001b[0m\u001b[0;34m]\u001b[0m\u001b[0;34m[\u001b[0m\u001b[0mdm_cols\u001b[0m\u001b[0;34m]\u001b[0m\u001b[0;34m\u001b[0m\u001b[0m\n\u001b[0m\u001b[1;32m    207\u001b[0m             \u001b[0my_stage\u001b[0m \u001b[0;34m=\u001b[0m \u001b[0mdf\u001b[0m\u001b[0;34m[\u001b[0m\u001b[0mdf\u001b[0m\u001b[0;34m[\u001b[0m\u001b[0mstage\u001b[0m\u001b[0;34m[\u001b[0m\u001b[0;34m'target'\u001b[0m\u001b[0;34m]\u001b[0m\u001b[0;34m]\u001b[0m\u001b[0;34m.\u001b[0m\u001b[0misin\u001b[0m\u001b[0;34m(\u001b[0m\u001b[0mstage\u001b[0m\u001b[0;34m[\u001b[0m\u001b[0;34m'classes'\u001b[0m\u001b[0;34m]\u001b[0m\u001b[0;34m)\u001b[0m\u001b[0;34m]\u001b[0m\u001b[0;34m[\u001b[0m\u001b[0;34m[\u001b[0m\u001b[0mstage\u001b[0m\u001b[0;34m[\u001b[0m\u001b[0;34m'target'\u001b[0m\u001b[0;34m]\u001b[0m\u001b[0;34m]\u001b[0m\u001b[0;34m]\u001b[0m\u001b[0;34m\u001b[0m\u001b[0m\n\u001b[1;32m    208\u001b[0m             \u001b[0mstage\u001b[0m\u001b[0;34m[\u001b[0m\u001b[0;34m'tree'\u001b[0m\u001b[0;34m]\u001b[0m \u001b[0;34m=\u001b[0m \u001b[0mtree\u001b[0m\u001b[0;34m.\u001b[0m\u001b[0mDecisionTreeClassifier\u001b[0m\u001b[0;34m(\u001b[0m\u001b[0;34m)\u001b[0m\u001b[0;34m\u001b[0m\u001b[0m\n",
      "\u001b[0;32m~/.local/lib/python3.6/site-packages/pandas/core/frame.py\u001b[0m in \u001b[0;36m__getitem__\u001b[0;34m(self, key)\u001b[0m\n\u001b[1;32m   2683\u001b[0m             \u001b[0;32mreturn\u001b[0m \u001b[0mself\u001b[0m\u001b[0;34m.\u001b[0m\u001b[0m_getitem_multilevel\u001b[0m\u001b[0;34m(\u001b[0m\u001b[0mkey\u001b[0m\u001b[0;34m)\u001b[0m\u001b[0;34m\u001b[0m\u001b[0m\n\u001b[1;32m   2684\u001b[0m         \u001b[0;32melse\u001b[0m\u001b[0;34m:\u001b[0m\u001b[0;34m\u001b[0m\u001b[0m\n\u001b[0;32m-> 2685\u001b[0;31m             \u001b[0;32mreturn\u001b[0m \u001b[0mself\u001b[0m\u001b[0;34m.\u001b[0m\u001b[0m_getitem_column\u001b[0m\u001b[0;34m(\u001b[0m\u001b[0mkey\u001b[0m\u001b[0;34m)\u001b[0m\u001b[0;34m\u001b[0m\u001b[0m\n\u001b[0m\u001b[1;32m   2686\u001b[0m \u001b[0;34m\u001b[0m\u001b[0m\n\u001b[1;32m   2687\u001b[0m     \u001b[0;32mdef\u001b[0m \u001b[0m_getitem_column\u001b[0m\u001b[0;34m(\u001b[0m\u001b[0mself\u001b[0m\u001b[0;34m,\u001b[0m \u001b[0mkey\u001b[0m\u001b[0;34m)\u001b[0m\u001b[0;34m:\u001b[0m\u001b[0;34m\u001b[0m\u001b[0m\n",
      "\u001b[0;32m~/.local/lib/python3.6/site-packages/pandas/core/frame.py\u001b[0m in \u001b[0;36m_getitem_column\u001b[0;34m(self, key)\u001b[0m\n\u001b[1;32m   2690\u001b[0m         \u001b[0;31m# get column\u001b[0m\u001b[0;34m\u001b[0m\u001b[0;34m\u001b[0m\u001b[0m\n\u001b[1;32m   2691\u001b[0m         \u001b[0;32mif\u001b[0m \u001b[0mself\u001b[0m\u001b[0;34m.\u001b[0m\u001b[0mcolumns\u001b[0m\u001b[0;34m.\u001b[0m\u001b[0mis_unique\u001b[0m\u001b[0;34m:\u001b[0m\u001b[0;34m\u001b[0m\u001b[0m\n\u001b[0;32m-> 2692\u001b[0;31m             \u001b[0;32mreturn\u001b[0m \u001b[0mself\u001b[0m\u001b[0;34m.\u001b[0m\u001b[0m_get_item_cache\u001b[0m\u001b[0;34m(\u001b[0m\u001b[0mkey\u001b[0m\u001b[0;34m)\u001b[0m\u001b[0;34m\u001b[0m\u001b[0m\n\u001b[0m\u001b[1;32m   2693\u001b[0m \u001b[0;34m\u001b[0m\u001b[0m\n\u001b[1;32m   2694\u001b[0m         \u001b[0;31m# duplicate columns & possible reduce dimensionality\u001b[0m\u001b[0;34m\u001b[0m\u001b[0;34m\u001b[0m\u001b[0m\n",
      "\u001b[0;32m~/.local/lib/python3.6/site-packages/pandas/core/generic.py\u001b[0m in \u001b[0;36m_get_item_cache\u001b[0;34m(self, item)\u001b[0m\n\u001b[1;32m   2484\u001b[0m         \u001b[0mres\u001b[0m \u001b[0;34m=\u001b[0m \u001b[0mcache\u001b[0m\u001b[0;34m.\u001b[0m\u001b[0mget\u001b[0m\u001b[0;34m(\u001b[0m\u001b[0mitem\u001b[0m\u001b[0;34m)\u001b[0m\u001b[0;34m\u001b[0m\u001b[0m\n\u001b[1;32m   2485\u001b[0m         \u001b[0;32mif\u001b[0m \u001b[0mres\u001b[0m \u001b[0;32mis\u001b[0m \u001b[0;32mNone\u001b[0m\u001b[0;34m:\u001b[0m\u001b[0;34m\u001b[0m\u001b[0m\n\u001b[0;32m-> 2486\u001b[0;31m             \u001b[0mvalues\u001b[0m \u001b[0;34m=\u001b[0m \u001b[0mself\u001b[0m\u001b[0;34m.\u001b[0m\u001b[0m_data\u001b[0m\u001b[0;34m.\u001b[0m\u001b[0mget\u001b[0m\u001b[0;34m(\u001b[0m\u001b[0mitem\u001b[0m\u001b[0;34m)\u001b[0m\u001b[0;34m\u001b[0m\u001b[0m\n\u001b[0m\u001b[1;32m   2487\u001b[0m             \u001b[0mres\u001b[0m \u001b[0;34m=\u001b[0m \u001b[0mself\u001b[0m\u001b[0;34m.\u001b[0m\u001b[0m_box_item_values\u001b[0m\u001b[0;34m(\u001b[0m\u001b[0mitem\u001b[0m\u001b[0;34m,\u001b[0m \u001b[0mvalues\u001b[0m\u001b[0;34m)\u001b[0m\u001b[0;34m\u001b[0m\u001b[0m\n\u001b[1;32m   2488\u001b[0m             \u001b[0mcache\u001b[0m\u001b[0;34m[\u001b[0m\u001b[0mitem\u001b[0m\u001b[0;34m]\u001b[0m \u001b[0;34m=\u001b[0m \u001b[0mres\u001b[0m\u001b[0;34m\u001b[0m\u001b[0m\n",
      "\u001b[0;32m~/.local/lib/python3.6/site-packages/pandas/core/internals.py\u001b[0m in \u001b[0;36mget\u001b[0;34m(self, item, fastpath)\u001b[0m\n\u001b[1;32m   4113\u001b[0m \u001b[0;34m\u001b[0m\u001b[0m\n\u001b[1;32m   4114\u001b[0m             \u001b[0;32mif\u001b[0m \u001b[0;32mnot\u001b[0m \u001b[0misna\u001b[0m\u001b[0;34m(\u001b[0m\u001b[0mitem\u001b[0m\u001b[0;34m)\u001b[0m\u001b[0;34m:\u001b[0m\u001b[0;34m\u001b[0m\u001b[0m\n\u001b[0;32m-> 4115\u001b[0;31m                 \u001b[0mloc\u001b[0m \u001b[0;34m=\u001b[0m \u001b[0mself\u001b[0m\u001b[0;34m.\u001b[0m\u001b[0mitems\u001b[0m\u001b[0;34m.\u001b[0m\u001b[0mget_loc\u001b[0m\u001b[0;34m(\u001b[0m\u001b[0mitem\u001b[0m\u001b[0;34m)\u001b[0m\u001b[0;34m\u001b[0m\u001b[0m\n\u001b[0m\u001b[1;32m   4116\u001b[0m             \u001b[0;32melse\u001b[0m\u001b[0;34m:\u001b[0m\u001b[0;34m\u001b[0m\u001b[0m\n\u001b[1;32m   4117\u001b[0m                 \u001b[0mindexer\u001b[0m \u001b[0;34m=\u001b[0m \u001b[0mnp\u001b[0m\u001b[0;34m.\u001b[0m\u001b[0marange\u001b[0m\u001b[0;34m(\u001b[0m\u001b[0mlen\u001b[0m\u001b[0;34m(\u001b[0m\u001b[0mself\u001b[0m\u001b[0;34m.\u001b[0m\u001b[0mitems\u001b[0m\u001b[0;34m)\u001b[0m\u001b[0;34m)\u001b[0m\u001b[0;34m[\u001b[0m\u001b[0misna\u001b[0m\u001b[0;34m(\u001b[0m\u001b[0mself\u001b[0m\u001b[0;34m.\u001b[0m\u001b[0mitems\u001b[0m\u001b[0;34m)\u001b[0m\u001b[0;34m]\u001b[0m\u001b[0;34m\u001b[0m\u001b[0m\n",
      "\u001b[0;32m~/.local/lib/python3.6/site-packages/pandas/core/indexes/base.py\u001b[0m in \u001b[0;36mget_loc\u001b[0;34m(self, key, method, tolerance)\u001b[0m\n\u001b[1;32m   3063\u001b[0m                 \u001b[0;32mreturn\u001b[0m \u001b[0mself\u001b[0m\u001b[0;34m.\u001b[0m\u001b[0m_engine\u001b[0m\u001b[0;34m.\u001b[0m\u001b[0mget_loc\u001b[0m\u001b[0;34m(\u001b[0m\u001b[0mkey\u001b[0m\u001b[0;34m)\u001b[0m\u001b[0;34m\u001b[0m\u001b[0m\n\u001b[1;32m   3064\u001b[0m             \u001b[0;32mexcept\u001b[0m \u001b[0mKeyError\u001b[0m\u001b[0;34m:\u001b[0m\u001b[0;34m\u001b[0m\u001b[0m\n\u001b[0;32m-> 3065\u001b[0;31m                 \u001b[0;32mreturn\u001b[0m \u001b[0mself\u001b[0m\u001b[0;34m.\u001b[0m\u001b[0m_engine\u001b[0m\u001b[0;34m.\u001b[0m\u001b[0mget_loc\u001b[0m\u001b[0;34m(\u001b[0m\u001b[0mself\u001b[0m\u001b[0;34m.\u001b[0m\u001b[0m_maybe_cast_indexer\u001b[0m\u001b[0;34m(\u001b[0m\u001b[0mkey\u001b[0m\u001b[0;34m)\u001b[0m\u001b[0;34m)\u001b[0m\u001b[0;34m\u001b[0m\u001b[0m\n\u001b[0m\u001b[1;32m   3066\u001b[0m \u001b[0;34m\u001b[0m\u001b[0m\n\u001b[1;32m   3067\u001b[0m         \u001b[0mindexer\u001b[0m \u001b[0;34m=\u001b[0m \u001b[0mself\u001b[0m\u001b[0;34m.\u001b[0m\u001b[0mget_indexer\u001b[0m\u001b[0;34m(\u001b[0m\u001b[0;34m[\u001b[0m\u001b[0mkey\u001b[0m\u001b[0;34m]\u001b[0m\u001b[0;34m,\u001b[0m \u001b[0mmethod\u001b[0m\u001b[0;34m=\u001b[0m\u001b[0mmethod\u001b[0m\u001b[0;34m,\u001b[0m \u001b[0mtolerance\u001b[0m\u001b[0;34m=\u001b[0m\u001b[0mtolerance\u001b[0m\u001b[0;34m)\u001b[0m\u001b[0;34m\u001b[0m\u001b[0m\n",
      "\u001b[0;32mpandas/_libs/index.pyx\u001b[0m in \u001b[0;36mpandas._libs.index.IndexEngine.get_loc\u001b[0;34m()\u001b[0m\n",
      "\u001b[0;32mpandas/_libs/index.pyx\u001b[0m in \u001b[0;36mpandas._libs.index.IndexEngine.get_loc\u001b[0;34m()\u001b[0m\n",
      "\u001b[0;32mpandas/_libs/hashtable_class_helper.pxi\u001b[0m in \u001b[0;36mpandas._libs.hashtable.PyObjectHashTable.get_item\u001b[0;34m()\u001b[0m\n",
      "\u001b[0;32mpandas/_libs/hashtable_class_helper.pxi\u001b[0m in \u001b[0;36mpandas._libs.hashtable.PyObjectHashTable.get_item\u001b[0;34m()\u001b[0m\n",
      "\u001b[0;31mKeyError\u001b[0m: range(0, 3)"
     ]
    }
   ],
   "source": [
    "dth = hmc.DecisionTreeHierarchicalClassifier(ch)\n",
    "dth = dth.fit(X_train, y_train)\n",
    "dth_predicted = dth.predict(X_test)\n",
    "dth_accuracy = dth.score(X_test, y_test)"
   ]
  },
  {
   "cell_type": "code",
   "execution_count": null,
   "metadata": {},
   "outputs": [],
   "source": []
  },
  {
   "cell_type": "code",
   "execution_count": null,
   "metadata": {},
   "outputs": [],
   "source": []
  },
  {
   "cell_type": "code",
   "execution_count": null,
   "metadata": {},
   "outputs": [],
   "source": []
  },
  {
   "cell_type": "code",
   "execution_count": 29,
   "metadata": {},
   "outputs": [],
   "source": [
    "X, y = hmc.load_shades_data()"
   ]
  },
  {
   "cell_type": "code",
   "execution_count": 33,
   "metadata": {},
   "outputs": [
    {
     "data": {
      "text/plain": [
       "((1017, 3), (1017, 1))"
      ]
     },
     "execution_count": 33,
     "metadata": {},
     "output_type": "execute_result"
    }
   ],
   "source": [
    "X.shape, y.shape"
   ]
  },
  {
   "cell_type": "code",
   "execution_count": 24,
   "metadata": {},
   "outputs": [
    {
     "data": {
      "text/plain": [
       "0        Cxquinquefasciatus:M\n",
       "1        Cxquinquefasciatus:M\n",
       "2        Cxquinquefasciatus:M\n",
       "3        Cxquinquefasciatus:M\n",
       "4        Cxquinquefasciatus:M\n",
       "5              Aealbopictus:F\n",
       "6              Aealbopictus:F\n",
       "7              Aealbopictus:F\n",
       "8              Aealbopictus:F\n",
       "9              Aealbopictus:F\n",
       "10             Aealbopictus:M\n",
       "11             Aealbopictus:M\n",
       "12             Aealbopictus:M\n",
       "13             Aealbopictus:M\n",
       "14             Aealbopictus:M\n",
       "15                Aeaegypti:M\n",
       "16                Aeaegypti:M\n",
       "17                Aeaegypti:M\n",
       "18                Aeaegypti:M\n",
       "19                Aeaegypti:M\n",
       "20                Aeaegypti:F\n",
       "21                Aeaegypti:F\n",
       "22                Aeaegypti:F\n",
       "23                Aeaegypti:F\n",
       "24                Aeaegypti:F\n",
       "25                 Mdomestica\n",
       "26                 Mdomestica\n",
       "27                 Mdomestica\n",
       "28                 Mdomestica\n",
       "29                 Mdomestica\n",
       "                 ...         \n",
       "21692           Dmelanogaster\n",
       "21693              Mdomestica\n",
       "21694             Aeaegypti:F\n",
       "21695            Aaquasalis:F\n",
       "21696              Mdomestica\n",
       "21697          Aealbopictus:M\n",
       "21698             Aeaegypti:M\n",
       "21699             Aeaegypti:M\n",
       "21700          Aealbopictus:F\n",
       "21701          Aealbopictus:M\n",
       "21702            Aaquasalis:M\n",
       "21703    Cxquinquefasciatus:M\n",
       "21704             Aeaegypti:M\n",
       "21705         Cxtarsalis:both\n",
       "21706          Aealbopictus:M\n",
       "21707             Aeaegypti:F\n",
       "21708          Aealbopictus:M\n",
       "21709                Dsuzukii\n",
       "21710                Cxanthus\n",
       "21711    Cxquinquefasciatus:F\n",
       "21712              Mdomestica\n",
       "21713            Aaquasalis:M\n",
       "21714             Aeaegypti:M\n",
       "21715    Cxquinquefasciatus:M\n",
       "21716            Aaquasalis:F\n",
       "21717                Dsuzukii\n",
       "21718              Mdomestica\n",
       "21719           Dmelanogaster\n",
       "21720              Mdomestica\n",
       "21721         Cxtarsalis:both\n",
       "Name: class, Length: 21722, dtype: object"
      ]
     },
     "execution_count": 24,
     "metadata": {},
     "output_type": "execute_result"
    }
   ],
   "source": [
    "df[\"class\"].str.split(\".\").apply(lambda x: x[-1])#.unique()"
   ]
  },
  {
   "cell_type": "code",
   "execution_count": 34,
   "metadata": {},
   "outputs": [
    {
     "data": {
      "text/html": [
       "<div>\n",
       "<style scoped>\n",
       "    .dataframe tbody tr th:only-of-type {\n",
       "        vertical-align: middle;\n",
       "    }\n",
       "\n",
       "    .dataframe tbody tr th {\n",
       "        vertical-align: top;\n",
       "    }\n",
       "\n",
       "    .dataframe thead th {\n",
       "        text-align: right;\n",
       "    }\n",
       "</style>\n",
       "<table border=\"1\" class=\"dataframe\">\n",
       "  <thead>\n",
       "    <tr style=\"text-align: right;\">\n",
       "      <th></th>\n",
       "      <th>a</th>\n",
       "      <th>b</th>\n",
       "      <th>c</th>\n",
       "    </tr>\n",
       "  </thead>\n",
       "  <tbody>\n",
       "    <tr>\n",
       "      <th>0</th>\n",
       "      <td>3.904972</td>\n",
       "      <td>4.438867</td>\n",
       "      <td>-0.148988</td>\n",
       "    </tr>\n",
       "    <tr>\n",
       "      <th>1</th>\n",
       "      <td>4.676289</td>\n",
       "      <td>4.481424</td>\n",
       "      <td>1.812624</td>\n",
       "    </tr>\n",
       "    <tr>\n",
       "      <th>2</th>\n",
       "      <td>0.427846</td>\n",
       "      <td>8.276370</td>\n",
       "      <td>7.482786</td>\n",
       "    </tr>\n",
       "    <tr>\n",
       "      <th>3</th>\n",
       "      <td>1.347052</td>\n",
       "      <td>3.815691</td>\n",
       "      <td>2.779839</td>\n",
       "    </tr>\n",
       "    <tr>\n",
       "      <th>4</th>\n",
       "      <td>4.342835</td>\n",
       "      <td>10.057471</td>\n",
       "      <td>-0.512811</td>\n",
       "    </tr>\n",
       "  </tbody>\n",
       "</table>\n",
       "</div>"
      ],
      "text/plain": [
       "          a          b         c\n",
       "0  3.904972   4.438867 -0.148988\n",
       "1  4.676289   4.481424  1.812624\n",
       "2  0.427846   8.276370  7.482786\n",
       "3  1.347052   3.815691  2.779839\n",
       "4  4.342835  10.057471 -0.512811"
      ]
     },
     "execution_count": 34,
     "metadata": {},
     "output_type": "execute_result"
    }
   ],
   "source": [
    "X.head()"
   ]
  },
  {
   "cell_type": "code",
   "execution_count": 35,
   "metadata": {},
   "outputs": [
    {
     "data": {
      "text/html": [
       "<div>\n",
       "<style scoped>\n",
       "    .dataframe tbody tr th:only-of-type {\n",
       "        vertical-align: middle;\n",
       "    }\n",
       "\n",
       "    .dataframe tbody tr th {\n",
       "        vertical-align: top;\n",
       "    }\n",
       "\n",
       "    .dataframe thead th {\n",
       "        text-align: right;\n",
       "    }\n",
       "</style>\n",
       "<table border=\"1\" class=\"dataframe\">\n",
       "  <thead>\n",
       "    <tr style=\"text-align: right;\">\n",
       "      <th></th>\n",
       "      <th>label</th>\n",
       "    </tr>\n",
       "  </thead>\n",
       "  <tbody>\n",
       "    <tr>\n",
       "      <th>0</th>\n",
       "      <td>dark</td>\n",
       "    </tr>\n",
       "    <tr>\n",
       "      <th>1</th>\n",
       "      <td>dark</td>\n",
       "    </tr>\n",
       "    <tr>\n",
       "      <th>2</th>\n",
       "      <td>dark</td>\n",
       "    </tr>\n",
       "    <tr>\n",
       "      <th>3</th>\n",
       "      <td>dark</td>\n",
       "    </tr>\n",
       "    <tr>\n",
       "      <th>4</th>\n",
       "      <td>dark</td>\n",
       "    </tr>\n",
       "  </tbody>\n",
       "</table>\n",
       "</div>"
      ],
      "text/plain": [
       "  label\n",
       "0  dark\n",
       "1  dark\n",
       "2  dark\n",
       "3  dark\n",
       "4  dark"
      ]
     },
     "execution_count": 35,
     "metadata": {},
     "output_type": "execute_result"
    }
   ],
   "source": [
    "y.head()"
   ]
  },
  {
   "cell_type": "code",
   "execution_count": 37,
   "metadata": {},
   "outputs": [
    {
     "data": {
      "text/plain": [
       "array(['dark', 'black', 'gray', 'ash', 'slate', 'light', 'white'],\n",
       "      dtype=object)"
      ]
     },
     "execution_count": 37,
     "metadata": {},
     "output_type": "execute_result"
    }
   ],
   "source": [
    "y[\"label\"].unique()"
   ]
  },
  {
   "cell_type": "code",
   "execution_count": null,
   "metadata": {},
   "outputs": [],
   "source": []
  },
  {
   "cell_type": "code",
   "execution_count": null,
   "metadata": {},
   "outputs": [],
   "source": []
  },
  {
   "cell_type": "code",
   "execution_count": null,
   "metadata": {},
   "outputs": [],
   "source": []
  },
  {
   "cell_type": "code",
   "execution_count": null,
   "metadata": {},
   "outputs": [],
   "source": [
    "import hmc.metrics as hierarchical_metrics\n",
    "\n",
    "hierarchical_metrics.accuracy_score(ch, y_test, dth_predicted)\n",
    "hierarchical_metrics.precision_score_ancestors(ch, y_test, dth_predicted)\n",
    "hierarchical_metrics.recall_score_ancestors(ch, y_test, dth_predicted)\n",
    "#metrics.f1_score_descendants(ch, y_test, dth_predicted)\n",
    "#hierarchical_metrics.f1_score_ancestors(ch, y_test, dth_predicted)\n",
    "#hierarchical_metrics.precision_score_descendants(ch, y_test, dth_predicted)\n",
    "#hierarchical_metrics.recall_score_descendants(ch, y_test, dth_predicted)"
   ]
  }
 ],
 "metadata": {
  "kernelspec": {
   "display_name": "Python 3",
   "language": "python",
   "name": "python3"
  },
  "language_info": {
   "codemirror_mode": {
    "name": "ipython",
    "version": 3
   },
   "file_extension": ".py",
   "mimetype": "text/x-python",
   "name": "python",
   "nbconvert_exporter": "python",
   "pygments_lexer": "ipython3",
   "version": "3.6.5rc1"
  },
  "toc": {
   "base_numbering": 1,
   "nav_menu": {},
   "number_sections": true,
   "sideBar": true,
   "skip_h1_title": false,
   "title_cell": "Table of Contents",
   "title_sidebar": "Contents",
   "toc_cell": false,
   "toc_position": {},
   "toc_section_display": true,
   "toc_window_display": true
  }
 },
 "nbformat": 4,
 "nbformat_minor": 2
}
