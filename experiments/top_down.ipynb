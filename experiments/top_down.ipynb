{
 "cells": [
  {
   "cell_type": "markdown",
   "metadata": {},
   "source": [
    "\n",
    "\n",
    "- - - \n",
    "\n",
    "<br>\n",
    "<br>\n",
    "<br>\n",
    "<br>\n",
    "<br>\n",
    "<br>\n",
    "<br>\n",
    "<br>\n",
    "<br>\n",
    "<br>\n",
    "<br>\n",
    "<br>\n",
    "\n",
    "# Imports\n"
   ]
  },
  {
   "cell_type": "code",
   "execution_count": 1,
   "metadata": {},
   "outputs": [],
   "source": [
    "import pandas as pd\n",
    "import numpy as np\n",
    "pd.set_option('display.max_columns', 50)\n",
    "\n",
    "import matplotlib.pyplot as plt\n",
    "%matplotlib inline\n",
    "import seaborn as sns\n",
    "sns.set()\n",
    "\n",
    "from xgboost import XGBClassifier\n",
    "\n",
    "\n",
    "from sklearn.metrics import classification_report\n",
    "from sklearn.model_selection import train_test_split\n",
    "from sklearn.preprocessing import LabelEncoder\n",
    "from sklearn.tree import DecisionTreeClassifier\n",
    "\n",
    "# hierarquical\n",
    "from sklearn_hierarchical_classification.constants import ROOT\n",
    "from sklearn_hierarchical_classification.classifier import HierarchicalClassifier\n",
    "from sklearn_hierarchical_classification.metrics import (h_fbeta_score,\n",
    "                                                         h_precision_score, \n",
    "                                                         h_recall_score)\n",
    "\n",
    "# creating hierarchy\n",
    "from collections import defaultdict\n",
    "from pprint import pprint\n",
    "from tqdm import tqdm_notebook\n"
   ]
  },
  {
   "cell_type": "code",
   "execution_count": 2,
   "metadata": {},
   "outputs": [],
   "source": [
    "TESTING = True\n",
    "BASE_MODEL = DecisionTreeClassifier\n",
    "RANDOM_STATE = 42\n",
    "N_SIMUL = 100"
   ]
  },
  {
   "cell_type": "markdown",
   "metadata": {},
   "source": [
    "\n",
    "\n",
    "- - - \n",
    "\n",
    "<br>\n",
    "<br>\n",
    "<br>\n",
    "<br>\n",
    "<br>\n",
    "<br>\n",
    "<br>\n",
    "<br>\n",
    "<br>\n",
    "<br>\n",
    "<br>\n",
    "<br>\n",
    "\n",
    "# Helper functions\n"
   ]
  },
  {
   "cell_type": "markdown",
   "metadata": {},
   "source": [
    "The following function was original found in the sklearn-hierarcical-classification libray; \n",
    "Unfortunately, due to a bug, it can't compile properly - we therefore include it here as taken from the source code."
   ]
  },
  {
   "cell_type": "code",
   "execution_count": 3,
   "metadata": {},
   "outputs": [],
   "source": [
    "from contextlib import contextmanager\n",
    "\n",
    "import numpy as np\n",
    "from networkx import all_pairs_shortest_path_length, relabel_nodes\n",
    "from sklearn.preprocessing import MultiLabelBinarizer\n",
    "\n",
    "from sklearn_hierarchical_classification.constants import ROOT\n",
    "\n",
    "@contextmanager\n",
    "def multi_labeled(y_true, y_pred, graph):\n",
    "    \"\"\"\n",
    "    Helper context manager for using the hierarchical evaluation metrics\n",
    "    defined in this model.\n",
    "    Briefly, the evaluation metrics expect data in a binarized multi-label format,\n",
    "    the same as returned when using scikit-learn's MultiLabelBinarizer.\n",
    "    This method therefore encapsulate the boilerplate required to fit such a\n",
    "    label transformation on the data we wish to evaluate (y_true, y_pred) as well as\n",
    "    applying it to the class hierarchy itself (graph), by relabeling the nodes.\n",
    "    See the examples/classify_digits.py file for example usage.\n",
    "    Parameters\n",
    "    ----------\n",
    "    y_true : array-like, shape = [n_samples, 1].\n",
    "        ground truth targets\n",
    "    y_pred : array-like, shape = [n_samples, 1].\n",
    "        predicted targets\n",
    "    graph : the class hierarchy graph, given as a `networkx.DiGraph` instance\n",
    "    Returns\n",
    "    -------\n",
    "    y_true_ : array-like, shape = [n_samples, n_classes].\n",
    "        ground truth targets, transformed to a binary multi-label matrix format.\n",
    "    y_pred_ : array-like, shape = [n_samples, n_classes].\n",
    "        predicted targets, transformed to a binary multi-label matrix format.\n",
    "    graph_ : the class hierarchy graph, given as a `networkx.DiGraph` instance,\n",
    "        transformed to use the (integer) IDs fitted by the multi label binarizer.\n",
    "    \"\"\"\n",
    "    mlb = MultiLabelBinarizer()\n",
    "    all_classes = [\n",
    "        node\n",
    "        for node in graph.nodes\n",
    "        if node != ROOT\n",
    "    ]\n",
    "    # Nb. we pass a (singleton) list-within-a-list as fit() expects an iterable of iterables\n",
    "    mlb.fit([all_classes])\n",
    "\n",
    "    node_label_mapping = {\n",
    "        old_label: new_label\n",
    "        for new_label, old_label in enumerate(list(mlb.classes_))\n",
    "    }\n",
    "\n",
    "    yield (\n",
    "        mlb.transform(y_true),\n",
    "        mlb.transform(y_pred),\n",
    "        relabel_nodes(graph, node_label_mapping),\n",
    ")"
   ]
  },
  {
   "cell_type": "markdown",
   "metadata": {},
   "source": [
    "\n",
    "\n",
    "- - - \n",
    "\n",
    "<br>\n",
    "<br>\n",
    "<br>\n",
    "<br>\n",
    "<br>\n",
    "<br>\n",
    "<br>\n",
    "<br>\n",
    "<br>\n",
    "<br>\n",
    "<br>\n",
    "<br>\n",
    "\n",
    "# Create experiment"
   ]
  },
  {
   "cell_type": "code",
   "execution_count": 4,
   "metadata": {},
   "outputs": [],
   "source": [
    "df = pd.read_csv(\"data/mosquitos.csv\")\n",
    "df[\"class\"] = df[\"class\"].str.replace(\"-\", \"\")\n",
    "\n",
    "encoding = LabelEncoder()\n",
    "last_classes = df[\"class\"].str.split(\".\").apply(lambda x: x[-1]).unique()\n",
    "encoding.fit(last_classes)\n",
    "\n",
    "if TESTING:\n",
    "    df = df.sample(frac=0.1)\n",
    "    N_SIMUL = 2\n",
    "    \n",
    "all_results = pd.DataFrame(columns=[\"h_fbeta\", \"h_precision\", \"h_recall\", \"model\"])"
   ]
  },
  {
   "cell_type": "code",
   "execution_count": 5,
   "metadata": {},
   "outputs": [
    {
     "name": "stdout",
     "output_type": "stream",
     "text": [
      "{-1: ['Culicidae', 'Drosophilidae', 'Muscidae', 'Chironomidae'],\n",
      " 'Aaquasalis': ['1', '0'],\n",
      " 'Aeaegypti': ['2', '3'],\n",
      " 'Aealbopictus': ['4', '5'],\n",
      " 'Aedes': ['Aealbopictus', 'Aeaegypti'],\n",
      " 'Anopheles': ['Aaquasalis'],\n",
      " 'Chironomidae': ['Chironomus'],\n",
      " 'Chironomus': ['6'],\n",
      " 'Culex': ['Cxquinquefasciatus', 'Cxtarsalis'],\n",
      " 'Culicidae': ['Culex', 'Aedes', 'Anopheles'],\n",
      " 'Cxquinquefasciatus': ['7', '8'],\n",
      " 'Cxtarsalis': ['9'],\n",
      " 'Drosophila': ['10', '11'],\n",
      " 'Drosophilidae': ['Drosophila'],\n",
      " 'Musca': ['12'],\n",
      " 'Muscidae': ['Musca']}\n"
     ]
    }
   ],
   "source": [
    "options = [x.split(\".\")[1:] for x in df[\"class\"].unique()]\n",
    "mosquitos_hierarchy = defaultdict(set)\n",
    "\n",
    "for class_ in options:\n",
    "    for previous, current in zip([ROOT]+class_, class_):\n",
    "        if current in last_classes:\n",
    "            class_num = encoding.transform([current])[0]\n",
    "            mosquitos_hierarchy[previous].add(f\"{class_num}\")\n",
    "        else:\n",
    "            mosquitos_hierarchy[previous].add(current)\n",
    "\n",
    "for key in mosquitos_hierarchy.keys():\n",
    "    mosquitos_hierarchy[key] = list(mosquitos_hierarchy[key])\n",
    "\n",
    "mosquitos_hierarchy = dict(mosquitos_hierarchy)\n",
    "\n",
    "pprint(mosquitos_hierarchy)"
   ]
  },
  {
   "cell_type": "markdown",
   "metadata": {},
   "source": [
    "![Hierarquia mosquitos](../images/mosquitos.png)"
   ]
  },
  {
   "cell_type": "markdown",
   "metadata": {},
   "source": [
    "\n",
    "\n",
    "- - - \n",
    "\n",
    "<br>\n",
    "<br>\n",
    "<br>\n",
    "<br>\n",
    "<br>\n",
    "<br>\n",
    "<br>\n",
    "<br>\n",
    "<br>\n",
    "<br>\n",
    "<br>\n",
    "<br>\n"
   ]
  },
  {
   "cell_type": "code",
   "execution_count": 6,
   "metadata": {
    "code_folding": [
     0
    ]
   },
   "outputs": [],
   "source": [
    "def run_experiment(df, class_hierarchy, encoding, clf, random_state=RANDOM_STATE):\n",
    "    X = df.drop(columns=\"class\")\n",
    "    y = encoding.transform(df[\"class\"].str.split(\".\").apply(lambda x: x[-1]))\n",
    "    y = y.astype(str)\n",
    "\n",
    "    X_train, X_test, y_train, y_test = train_test_split(X, y, test_size=0.3, \n",
    "                                                        random_state=random_state,\n",
    "                                                       stratify=y)\n",
    "    clf.fit(X_train, y_train)\n",
    "    y_pred = clf.predict(X_test)\n",
    "\n",
    "    if TESTING:\n",
    "        target_names = encoding.inverse_transform(np.sort(np.unique(y)).astype(int))\n",
    "        print(\"Classification Report:\\n\", \n",
    "              classification_report(y_test, y_pred, target_names=target_names))\n",
    "        \n",
    "    # Demonstrate using our hierarchical metrics module with MLB wrapper\n",
    "    try:\n",
    "        my_graph = clf.graph_\n",
    "    except:\n",
    "        from networkx import DiGraph\n",
    "        my_graph = DiGraph(class_hierarchy)\n",
    "        \n",
    "    with multi_labeled(y_test, y_pred, my_graph) as (y_test_, y_pred_, graph_):\n",
    "        results = {\n",
    "            \"h_fbeta\": h_fbeta_score(y_test_, y_pred_, graph_),\n",
    "            \"h_precision\": h_precision_score(y_test_, y_pred_, graph_),\n",
    "            \"h_recall\": h_recall_score(y_test_, y_pred_, graph_),\n",
    "        }\n",
    "    return results"
   ]
  },
  {
   "cell_type": "code",
   "execution_count": 7,
   "metadata": {
    "code_folding": [
     0
    ]
   },
   "outputs": [],
   "source": [
    "def print_results(results):\n",
    "    for key, item in results.items():\n",
    "        print(f\"Result for {key}: {item}\")"
   ]
  },
  {
   "cell_type": "markdown",
   "metadata": {},
   "source": [
    "# A better way to evaluate\n",
    "\n",
    "Let's actually use the hierarchical data\n",
    "\n",
    "[Functional Annotation of Genes Using Hierarchical Text Categorization](http://citeseerx.ist.psu.edu/viewdoc/download?doi=10.1.1.68.5824&rep=rep1&type=pdf)"
   ]
  },
  {
   "cell_type": "markdown",
   "metadata": {},
   "source": [
    "## Hierarchical Precision and Recall\n",
    "\n",
    "![](hierarchical_metrics.png)"
   ]
  },
  {
   "cell_type": "markdown",
   "metadata": {},
   "source": [
    "## Hierarchical F1 score\n",
    "\n",
    "The common way of calculating F1 is:\n",
    "![](f1_normal.png)\n",
    "\n",
    "The proposed hierarchical version is:\n",
    "![](f1_hierarchical.png)\n",
    "\n",
    "With beta = 1, we give equal weights to both precision and recall"
   ]
  },
  {
   "cell_type": "markdown",
   "metadata": {},
   "source": [
    "\n",
    "\n",
    "- - - \n",
    "\n",
    "<br>\n",
    "<br>\n",
    "<br>\n",
    "<br>\n",
    "<br>\n",
    "<br>\n",
    "<br>\n",
    "<br>\n",
    "<br>\n",
    "<br>\n",
    "<br>\n",
    "<br>"
   ]
  },
  {
   "cell_type": "markdown",
   "metadata": {},
   "source": [
    "# Models"
   ]
  },
  {
   "cell_type": "markdown",
   "metadata": {},
   "source": [
    "## Flat"
   ]
  },
  {
   "cell_type": "code",
   "execution_count": 8,
   "metadata": {
    "scrolled": true
   },
   "outputs": [
    {
     "data": {
      "application/vnd.jupyter.widget-view+json": {
       "model_id": "cfe8b55a4bd8431e8c1c0bc37a1612c3",
       "version_major": 2,
       "version_minor": 0
      },
      "text/plain": [
       "HBox(children=(IntProgress(value=0, max=2), HTML(value='')))"
      ]
     },
     "metadata": {},
     "output_type": "display_data"
    },
    {
     "name": "stdout",
     "output_type": "stream",
     "text": [
      "Classification Report:\n",
      "                       precision    recall  f1-score   support\n",
      "\n",
      "        Aaquasalis:F       0.24      0.20      0.22        44\n",
      "        Aaquasalis:M       0.33      0.29      0.31        45\n",
      "       Dmelanogaster       0.39      0.39      0.39        56\n",
      "            Dsuzukii       0.45      0.50      0.48        60\n",
      "          Mdomestica       0.60      0.58      0.59        62\n",
      "         Aeaegypti:F       0.22      0.24      0.23        46\n",
      "         Aeaegypti:M       0.30      0.36      0.32        45\n",
      "      Aealbopictus:F       0.36      0.35      0.36        48\n",
      "      Aealbopictus:M       0.47      0.53      0.50        47\n",
      "            Cxanthus       0.29      0.30      0.29        63\n",
      "Cxquinquefasciatus:F       0.25      0.24      0.24        42\n",
      "Cxquinquefasciatus:M       0.23      0.17      0.19        42\n",
      "     Cxtarsalis:both       0.45      0.46      0.46        52\n",
      "\n",
      "            accuracy                           0.37       652\n",
      "           macro avg       0.35      0.36      0.35       652\n",
      "        weighted avg       0.36      0.37      0.36       652\n",
      "\n",
      "Classification Report:\n",
      "                       precision    recall  f1-score   support\n",
      "\n",
      "        Aaquasalis:F       0.33      0.30      0.31        44\n",
      "        Aaquasalis:M       0.32      0.36      0.34        45\n",
      "       Dmelanogaster       0.52      0.48      0.50        56\n",
      "            Dsuzukii       0.50      0.48      0.49        60\n",
      "          Mdomestica       0.75      0.76      0.76        63\n",
      "         Aeaegypti:F       0.16      0.20      0.17        46\n",
      "         Aeaegypti:M       0.35      0.40      0.37        45\n",
      "      Aealbopictus:F       0.38      0.35      0.37        48\n",
      "      Aealbopictus:M       0.53      0.43      0.47        47\n",
      "            Cxanthus       0.26      0.24      0.25        62\n",
      "Cxquinquefasciatus:F       0.27      0.29      0.28        42\n",
      "Cxquinquefasciatus:M       0.46      0.43      0.44        42\n",
      "     Cxtarsalis:both       0.50      0.52      0.51        52\n",
      "\n",
      "            accuracy                           0.41       652\n",
      "           macro avg       0.41      0.40      0.40       652\n",
      "        weighted avg       0.42      0.41      0.42       652\n",
      "\n",
      "\n",
      "CPU times: user 217 ms, sys: 6.92 ms, total: 224 ms\n",
      "Wall time: 219 ms\n"
     ]
    },
    {
     "name": "stderr",
     "output_type": "stream",
     "text": [
      "/home/bcoelho/.local/lib/python3.6/site-packages/sklearn_hierarchical_classification/metrics.py:36: FutureWarning: Using a non-tuple sequence for multidimensional indexing is deprecated; use `arr[tuple(seq)]` instead of `arr[seq]`. In the future this will be interpreted as an array index, `arr[np.array(seq)]`, which will result either in an error or a different result.\n",
      "  y_[np.meshgrid(ix_rows, ancestors)] = 1\n",
      "/home/bcoelho/.local/lib/python3.6/site-packages/sklearn_hierarchical_classification/metrics.py:36: FutureWarning: Using a non-tuple sequence for multidimensional indexing is deprecated; use `arr[tuple(seq)]` instead of `arr[seq]`. In the future this will be interpreted as an array index, `arr[np.array(seq)]`, which will result either in an error or a different result.\n",
      "  y_[np.meshgrid(ix_rows, ancestors)] = 1\n"
     ]
    }
   ],
   "source": [
    "%%time\n",
    "for i in tqdm_notebook(range(N_SIMUL)):\n",
    "    rdm_state = RANDOM_STATE + i\n",
    "    clf = BASE_MODEL(random_state=rdm_state)\n",
    "    results = run_experiment(df, mosquitos_hierarchy, encoding, \n",
    "                             clf, random_state=rdm_state)\n",
    "    \n",
    "    all_results.loc[len(all_results), :] = list(results.values()) + [\"flat\"]"
   ]
  },
  {
   "cell_type": "markdown",
   "metadata": {},
   "source": [
    "\n",
    "\n",
    "- - - \n",
    "\n",
    "<br>\n",
    "<br>\n",
    "<br>\n",
    "<br>\n",
    "<br>\n",
    "<br>\n",
    "<br>\n",
    "<br>\n",
    "<br>\n",
    "<br>\n",
    "<br>\n",
    "<br>"
   ]
  },
  {
   "cell_type": "markdown",
   "metadata": {},
   "source": [
    "## Top Down"
   ]
  },
  {
   "cell_type": "markdown",
   "metadata": {},
   "source": [
    "### 1 multiclass classifier per Node"
   ]
  },
  {
   "cell_type": "code",
   "execution_count": 9,
   "metadata": {
    "scrolled": true
   },
   "outputs": [
    {
     "data": {
      "application/vnd.jupyter.widget-view+json": {
       "model_id": "45c2a7f4a3564dbbb1e78ccda490ed21",
       "version_major": 2,
       "version_minor": 0
      },
      "text/plain": [
       "HBox(children=(IntProgress(value=0, max=2), HTML(value='')))"
      ]
     },
     "metadata": {},
     "output_type": "display_data"
    },
    {
     "name": "stdout",
     "output_type": "stream",
     "text": [
      "Classification Report:\n",
      "                       precision    recall  f1-score   support\n",
      "\n",
      "        Aaquasalis:F       0.34      0.27      0.30        44\n",
      "        Aaquasalis:M       0.29      0.36      0.32        45\n",
      "       Dmelanogaster       0.42      0.48      0.45        56\n",
      "            Dsuzukii       0.49      0.47      0.48        60\n",
      "          Mdomestica       0.61      0.63      0.62        62\n",
      "         Aeaegypti:F       0.30      0.22      0.25        46\n",
      "         Aeaegypti:M       0.30      0.36      0.33        45\n",
      "      Aealbopictus:F       0.33      0.31      0.32        48\n",
      "      Aealbopictus:M       0.50      0.51      0.51        47\n",
      "            Cxanthus       0.28      0.29      0.28        63\n",
      "Cxquinquefasciatus:F       0.32      0.29      0.30        42\n",
      "Cxquinquefasciatus:M       0.33      0.36      0.34        42\n",
      "     Cxtarsalis:both       0.52      0.50      0.51        52\n",
      "\n",
      "            accuracy                           0.40       652\n",
      "           macro avg       0.39      0.39      0.39       652\n",
      "        weighted avg       0.40      0.40      0.39       652\n",
      "\n"
     ]
    },
    {
     "name": "stderr",
     "output_type": "stream",
     "text": [
      "/home/bcoelho/.local/lib/python3.6/site-packages/sklearn_hierarchical_classification/metrics.py:36: FutureWarning: Using a non-tuple sequence for multidimensional indexing is deprecated; use `arr[tuple(seq)]` instead of `arr[seq]`. In the future this will be interpreted as an array index, `arr[np.array(seq)]`, which will result either in an error or a different result.\n",
      "  y_[np.meshgrid(ix_rows, ancestors)] = 1\n"
     ]
    },
    {
     "name": "stdout",
     "output_type": "stream",
     "text": [
      "Classification Report:\n",
      "                       precision    recall  f1-score   support\n",
      "\n",
      "        Aaquasalis:F       0.27      0.25      0.26        44\n",
      "        Aaquasalis:M       0.26      0.31      0.29        45\n",
      "       Dmelanogaster       0.53      0.48      0.50        56\n",
      "            Dsuzukii       0.52      0.55      0.53        60\n",
      "          Mdomestica       0.72      0.67      0.69        63\n",
      "         Aeaegypti:F       0.18      0.17      0.18        46\n",
      "         Aeaegypti:M       0.33      0.27      0.30        45\n",
      "      Aealbopictus:F       0.28      0.25      0.26        48\n",
      "      Aealbopictus:M       0.42      0.45      0.43        47\n",
      "            Cxanthus       0.27      0.32      0.29        62\n",
      "Cxquinquefasciatus:F       0.24      0.19      0.21        42\n",
      "Cxquinquefasciatus:M       0.44      0.55      0.49        42\n",
      "     Cxtarsalis:both       0.52      0.52      0.52        52\n",
      "\n",
      "            accuracy                           0.40       652\n",
      "           macro avg       0.38      0.38      0.38       652\n",
      "        weighted avg       0.40      0.40      0.39       652\n",
      "\n",
      "\n",
      "CPU times: user 1.33 s, sys: 3.35 ms, total: 1.33 s\n",
      "Wall time: 1.33 s\n"
     ]
    },
    {
     "name": "stderr",
     "output_type": "stream",
     "text": [
      "/home/bcoelho/.local/lib/python3.6/site-packages/sklearn_hierarchical_classification/metrics.py:36: FutureWarning: Using a non-tuple sequence for multidimensional indexing is deprecated; use `arr[tuple(seq)]` instead of `arr[seq]`. In the future this will be interpreted as an array index, `arr[np.array(seq)]`, which will result either in an error or a different result.\n",
      "  y_[np.meshgrid(ix_rows, ancestors)] = 1\n"
     ]
    }
   ],
   "source": [
    "%%time\n",
    "for i in tqdm_notebook(range(N_SIMUL)):\n",
    "    rdm_state = RANDOM_STATE + i\n",
    "    clf = HierarchicalClassifier(base_estimator=BASE_MODEL(), \n",
    "                             class_hierarchy=mosquitos_hierarchy, \n",
    "                             prediction_depth=\"mlnp\",\n",
    "                             algorithm=\"lcpn\",\n",
    "                            )   \n",
    "    results = run_experiment(df, mosquitos_hierarchy, encoding, \n",
    "                             clf, random_state=rdm_state)\n",
    "    all_results.loc[len(all_results), :] = list(results.values()) + [\"1 per node\"]"
   ]
  },
  {
   "cell_type": "markdown",
   "metadata": {},
   "source": [
    "\n",
    "\n",
    "- - - \n",
    "\n",
    "<br>\n",
    "<br>\n",
    "<br>\n",
    "<br>\n",
    "<br>\n",
    "<br>\n",
    "<br>\n",
    "<br>\n",
    "<br>\n",
    "<br>\n",
    "<br>\n",
    "<br>"
   ]
  },
  {
   "cell_type": "markdown",
   "metadata": {},
   "source": [
    "# Results"
   ]
  },
  {
   "cell_type": "code",
   "execution_count": 10,
   "metadata": {},
   "outputs": [
    {
     "data": {
      "text/plain": [
       "<matplotlib.axes._subplots.AxesSubplot at 0x7fb2844ec7b8>"
      ]
     },
     "execution_count": 10,
     "metadata": {},
     "output_type": "execute_result"
    },
    {
     "data": {
      "image/png": "[encoded data removed]",
      "text/plain": [
       "<Figure size 432x288 with 1 Axes>"
      ]
     },
     "metadata": {},
     "output_type": "display_data"
    }
   ],
   "source": [
    "sns.barplot(data=all_results, y=\"h_fbeta\", x=\"model\")#, hue=\"Ruido %\")"
   ]
  },
  {
   "cell_type": "code",
   "execution_count": 13,
   "metadata": {},
   "outputs": [
    {
     "data": {
      "text/plain": [
       "<matplotlib.axes._subplots.AxesSubplot at 0x7fb23e76c208>"
      ]
     },
     "execution_count": 13,
     "metadata": {},
     "output_type": "execute_result"
    },
    {
     "data": {
      "image/png": "[encoded data removed]",
      "text/plain": [
       "<Figure size 432x288 with 1 Axes>"
      ]
     },
     "metadata": {},
     "output_type": "display_data"
    }
   ],
   "source": [
    "sns.barplot(data=all_results, y=\"h_recall\", x=\"model\")"
   ]
  },
  {
   "cell_type": "code",
   "execution_count": 14,
   "metadata": {},
   "outputs": [
    {
     "data": {
      "text/plain": [
       "<matplotlib.axes._subplots.AxesSubplot at 0x7fb23e6f02b0>"
      ]
     },
     "execution_count": 14,
     "metadata": {},
     "output_type": "execute_result"
    },
    {
     "data": {
      "image/png": "[encoded data removed]",
      "text/plain": [
       "<Figure size 432x288 with 1 Axes>"
      ]
     },
     "metadata": {},
     "output_type": "display_data"
    }
   ],
   "source": [
    "sns.barplot(data=all_results, y=\"h_precision\", x=\"model\")"
   ]
  },
  {
   "cell_type": "code",
   "execution_count": 15,
   "metadata": {},
   "outputs": [
    {
     "name": "stdout",
     "output_type": "stream",
     "text": [
      "For model flat, we obtained  0.6934964537463597 h_fbeta +- 0.012276242711006222\n",
      "For model 1 per node, we obtained  0.6968788791137399 h_fbeta +- 0.0037981636080374587\n"
     ]
    }
   ],
   "source": [
    "for model in [\"flat\", \"1 per node\"]:\n",
    "    model_results = all_results.query(\"model == @model\")\n",
    "    print(f\"For model {model}, we obtained \", \n",
    "          f\"{model_results.h_fbeta.mean()} h_fbeta +-\",\n",
    "          f\"{model_results.h_fbeta.std()}\")"
   ]
  },
  {
   "cell_type": "code",
   "execution_count": 12,
   "metadata": {},
   "outputs": [
    {
     "data": {
      "text/html": [
       "<div>\n",
       "<style scoped>\n",
       "    .dataframe tbody tr th:only-of-type {\n",
       "        vertical-align: middle;\n",
       "    }\n",
       "\n",
       "    .dataframe tbody tr th {\n",
       "        vertical-align: top;\n",
       "    }\n",
       "\n",
       "    .dataframe thead th {\n",
       "        text-align: right;\n",
       "    }\n",
       "</style>\n",
       "<table border=\"1\" class=\"dataframe\">\n",
       "  <thead>\n",
       "    <tr style=\"text-align: right;\">\n",
       "      <th></th>\n",
       "      <th>h_fbeta</th>\n",
       "      <th>h_precision</th>\n",
       "      <th>h_recall</th>\n",
       "      <th>model</th>\n",
       "    </tr>\n",
       "  </thead>\n",
       "  <tbody>\n",
       "    <tr>\n",
       "      <th>0</th>\n",
       "      <td>0.684816</td>\n",
       "      <td>0.685714</td>\n",
       "      <td>0.68392</td>\n",
       "      <td>flat</td>\n",
       "    </tr>\n",
       "    <tr>\n",
       "      <th>1</th>\n",
       "      <td>0.702177</td>\n",
       "      <td>0.70177</td>\n",
       "      <td>0.702585</td>\n",
       "      <td>flat</td>\n",
       "    </tr>\n",
       "    <tr>\n",
       "      <th>2</th>\n",
       "      <td>0.699565</td>\n",
       "      <td>0.698348</td>\n",
       "      <td>0.700785</td>\n",
       "      <td>1 per node</td>\n",
       "    </tr>\n",
       "    <tr>\n",
       "      <th>3</th>\n",
       "      <td>0.694193</td>\n",
       "      <td>0.697449</td>\n",
       "      <td>0.690967</td>\n",
       "      <td>1 per node</td>\n",
       "    </tr>\n",
       "  </tbody>\n",
       "</table>\n",
       "</div>"
      ],
      "text/plain": [
       "    h_fbeta h_precision  h_recall       model\n",
       "0  0.684816    0.685714   0.68392        flat\n",
       "1  0.702177     0.70177  0.702585        flat\n",
       "2  0.699565    0.698348  0.700785  1 per node\n",
       "3  0.694193    0.697449  0.690967  1 per node"
      ]
     },
     "execution_count": 12,
     "metadata": {},
     "output_type": "execute_result"
    }
   ],
   "source": [
    "all_results"
   ]
  },
  {
   "cell_type": "code",
   "execution_count": null,
   "metadata": {},
   "outputs": [],
   "source": []
  },
  {
   "cell_type": "code",
   "execution_count": null,
   "metadata": {},
   "outputs": [],
   "source": []
  },
  {
   "cell_type": "code",
   "execution_count": null,
   "metadata": {},
   "outputs": [],
   "source": []
  }
 ],
 "metadata": {
  "kernelspec": {
   "display_name": "Python 3",
   "language": "python",
   "name": "python3"
  },
  "language_info": {
   "codemirror_mode": {
    "name": "ipython",
    "version": 3
   },
   "file_extension": ".py",
   "mimetype": "text/x-python",
   "name": "python",
   "nbconvert_exporter": "python",
   "pygments_lexer": "ipython3",
   "version": "3.6.5rc1"
  },
  "toc": {
   "base_numbering": 1,
   "nav_menu": {},
   "number_sections": true,
   "sideBar": true,
   "skip_h1_title": false,
   "title_cell": "Table of Contents",
   "title_sidebar": "Contents",
   "toc_cell": false,
   "toc_position": {},
   "toc_section_display": true,
   "toc_window_display": false
  }
 },
 "nbformat": 4,
 "nbformat_minor": 2
}
