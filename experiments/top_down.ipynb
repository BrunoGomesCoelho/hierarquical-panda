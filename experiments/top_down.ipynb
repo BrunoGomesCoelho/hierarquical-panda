{
 "cells": [
  {
   "cell_type": "markdown",
   "metadata": {},
   "source": [
    "\n",
    "\n",
    "- - - \n",
    "\n",
    "<br>\n",
    "<br>\n",
    "<br>\n",
    "<br>\n",
    "<br>\n",
    "<br>\n",
    "<br>\n",
    "<br>\n",
    "<br>\n",
    "<br>\n",
    "<br>\n",
    "<br>\n",
    "\n",
    "# Imports\n"
   ]
  },
  {
   "cell_type": "code",
   "execution_count": 1,
   "metadata": {},
   "outputs": [],
   "source": [
    "import pandas as pd\n",
    "import numpy as np\n",
    "pd.set_option('display.max_columns', 50)\n",
    "\n",
    "import matplotlib.pyplot as plt\n",
    "%matplotlib inline\n",
    "import seaborn as sns\n",
    "sns.set()\n",
    "\n",
    "from xgboost import XGBClassifier\n",
    "\n",
    "\n",
    "from sklearn.metrics import classification_report\n",
    "from sklearn.model_selection import train_test_split\n",
    "from sklearn.preprocessing import LabelEncoder\n",
    "from sklearn.tree import DecisionTreeClassifier\n",
    "\n",
    "# hierarquical\n",
    "from sklearn_hierarchical_classification.constants import ROOT\n",
    "from sklearn_hierarchical_classification.classifier import HierarchicalClassifier\n",
    "from sklearn_hierarchical_classification.metrics import (h_fbeta_score,\n",
    "                                                         h_precision_score, \n",
    "                                                         h_recall_score)\n",
    "\n",
    "# creating hierarchy\n",
    "from collections import defaultdict\n",
    "from pprint import pprint\n",
    "from tqdm import tqdm_notebook\n"
   ]
  },
  {
   "cell_type": "code",
   "execution_count": 2,
   "metadata": {},
   "outputs": [],
   "source": [
    "TESTING = False\n",
    "BASE_MODEL = DecisionTreeClassifier\n",
    "RANDOM_STATE = 42\n",
    "N_SIMUL = 100"
   ]
  },
  {
   "cell_type": "markdown",
   "metadata": {},
   "source": [
    "\n",
    "\n",
    "- - - \n",
    "\n",
    "<br>\n",
    "<br>\n",
    "<br>\n",
    "<br>\n",
    "<br>\n",
    "<br>\n",
    "<br>\n",
    "<br>\n",
    "<br>\n",
    "<br>\n",
    "<br>\n",
    "<br>\n",
    "\n",
    "# Helper functions\n"
   ]
  },
  {
   "cell_type": "markdown",
   "metadata": {},
   "source": [
    "The following function was original found in the sklearn-hierarcical-classification libray; \n",
    "Unfortunately, due to a bug, it can't compile properly - we therefore include it here as taken from the source code."
   ]
  },
  {
   "cell_type": "code",
   "execution_count": 3,
   "metadata": {},
   "outputs": [],
   "source": [
    "from contextlib import contextmanager\n",
    "\n",
    "import numpy as np\n",
    "from networkx import all_pairs_shortest_path_length, relabel_nodes\n",
    "from sklearn.preprocessing import MultiLabelBinarizer\n",
    "\n",
    "from sklearn_hierarchical_classification.constants import ROOT\n",
    "\n",
    "@contextmanager\n",
    "def multi_labeled(y_true, y_pred, graph):\n",
    "    \"\"\"\n",
    "    Helper context manager for using the hierarchical evaluation metrics\n",
    "    defined in this model.\n",
    "    Briefly, the evaluation metrics expect data in a binarized multi-label format,\n",
    "    the same as returned when using scikit-learn's MultiLabelBinarizer.\n",
    "    This method therefore encapsulate the boilerplate required to fit such a\n",
    "    label transformation on the data we wish to evaluate (y_true, y_pred) as well as\n",
    "    applying it to the class hierarchy itself (graph), by relabeling the nodes.\n",
    "    See the examples/classify_digits.py file for example usage.\n",
    "    Parameters\n",
    "    ----------\n",
    "    y_true : array-like, shape = [n_samples, 1].\n",
    "        ground truth targets\n",
    "    y_pred : array-like, shape = [n_samples, 1].\n",
    "        predicted targets\n",
    "    graph : the class hierarchy graph, given as a `networkx.DiGraph` instance\n",
    "    Returns\n",
    "    -------\n",
    "    y_true_ : array-like, shape = [n_samples, n_classes].\n",
    "        ground truth targets, transformed to a binary multi-label matrix format.\n",
    "    y_pred_ : array-like, shape = [n_samples, n_classes].\n",
    "        predicted targets, transformed to a binary multi-label matrix format.\n",
    "    graph_ : the class hierarchy graph, given as a `networkx.DiGraph` instance,\n",
    "        transformed to use the (integer) IDs fitted by the multi label binarizer.\n",
    "    \"\"\"\n",
    "    mlb = MultiLabelBinarizer()\n",
    "    all_classes = [\n",
    "        node\n",
    "        for node in graph.nodes\n",
    "        if node != ROOT\n",
    "    ]\n",
    "    # Nb. we pass a (singleton) list-within-a-list as fit() expects an iterable of iterables\n",
    "    mlb.fit([all_classes])\n",
    "\n",
    "    node_label_mapping = {\n",
    "        old_label: new_label\n",
    "        for new_label, old_label in enumerate(list(mlb.classes_))\n",
    "    }\n",
    "\n",
    "    yield (\n",
    "        mlb.transform(y_true),\n",
    "        mlb.transform(y_pred),\n",
    "        relabel_nodes(graph, node_label_mapping),\n",
    ")"
   ]
  },
  {
   "cell_type": "markdown",
   "metadata": {},
   "source": [
    "\n",
    "\n",
    "- - - \n",
    "\n",
    "<br>\n",
    "<br>\n",
    "<br>\n",
    "<br>\n",
    "<br>\n",
    "<br>\n",
    "<br>\n",
    "<br>\n",
    "<br>\n",
    "<br>\n",
    "<br>\n",
    "<br>\n",
    "\n",
    "# Create experiment"
   ]
  },
  {
   "cell_type": "code",
   "execution_count": 4,
   "metadata": {},
   "outputs": [],
   "source": [
    "df = pd.read_csv(\"data/mosquitos.csv\")\n",
    "df[\"class\"] = df[\"class\"].str.replace(\"-\", \"\")\n",
    "\n",
    "encoding = LabelEncoder()\n",
    "last_classes = df[\"class\"].str.split(\".\").apply(lambda x: x[-1]).unique()\n",
    "encoding.fit(last_classes)\n",
    "\n",
    "if TESTING:\n",
    "    df = df.sample(frac=0.1)\n",
    "    N_SIMUL = 2\n",
    "    \n",
    "all_results = pd.DataFrame(columns=[\"h_fbeta\", \"h_precision\", \"h_recall\", \"model\"])"
   ]
  },
  {
   "cell_type": "code",
   "execution_count": 5,
   "metadata": {},
   "outputs": [
    {
     "name": "stdout",
     "output_type": "stream",
     "text": [
      "{-1: ['Drosophilidae', 'Culicidae', 'Muscidae', 'Chironomidae'],\n",
      " 'Aaquasalis': ['1', '0'],\n",
      " 'Aeaegypti': ['3', '2'],\n",
      " 'Aealbopictus': ['4', '5'],\n",
      " 'Aedes': ['Aealbopictus', 'Aeaegypti'],\n",
      " 'Anopheles': ['Aaquasalis'],\n",
      " 'Chironomidae': ['Chironomus'],\n",
      " 'Chironomus': ['6'],\n",
      " 'Culex': ['Cxtarsalis', 'Cxquinquefasciatus'],\n",
      " 'Culicidae': ['Culex', 'Aedes', 'Anopheles'],\n",
      " 'Cxquinquefasciatus': ['7', '8'],\n",
      " 'Cxtarsalis': ['9'],\n",
      " 'Drosophila': ['11', '10'],\n",
      " 'Drosophilidae': ['Drosophila'],\n",
      " 'Musca': ['12'],\n",
      " 'Muscidae': ['Musca']}\n"
     ]
    }
   ],
   "source": [
    "options = [x.split(\".\")[1:] for x in df[\"class\"].unique()]\n",
    "mosquitos_hierarchy = defaultdict(set)\n",
    "\n",
    "for class_ in options:\n",
    "    for previous, current in zip([ROOT]+class_, class_):\n",
    "        if current in last_classes:\n",
    "            class_num = encoding.transform([current])[0]\n",
    "            mosquitos_hierarchy[previous].add(f\"{class_num}\")\n",
    "        else:\n",
    "            mosquitos_hierarchy[previous].add(current)\n",
    "\n",
    "for key in mosquitos_hierarchy.keys():\n",
    "    mosquitos_hierarchy[key] = list(mosquitos_hierarchy[key])\n",
    "\n",
    "mosquitos_hierarchy = dict(mosquitos_hierarchy)\n",
    "\n",
    "pprint(mosquitos_hierarchy)"
   ]
  },
  {
   "cell_type": "markdown",
   "metadata": {},
   "source": [
    "![Hierarquia mosquitos](../images/mosquitos.png)"
   ]
  },
  {
   "cell_type": "markdown",
   "metadata": {},
   "source": [
    "\n",
    "\n",
    "- - - \n",
    "\n",
    "<br>\n",
    "<br>\n",
    "<br>\n",
    "<br>\n",
    "<br>\n",
    "<br>\n",
    "<br>\n",
    "<br>\n",
    "<br>\n",
    "<br>\n",
    "<br>\n",
    "<br>\n"
   ]
  },
  {
   "cell_type": "code",
   "execution_count": 6,
   "metadata": {
    "code_folding": [
     0
    ]
   },
   "outputs": [],
   "source": [
    "def run_experiment(df, class_hierarchy, encoding, clf, random_state=RANDOM_STATE):\n",
    "    X = df.drop(columns=\"class\")\n",
    "    y = encoding.transform(df[\"class\"].str.split(\".\").apply(lambda x: x[-1]))\n",
    "    y = y.astype(str)\n",
    "\n",
    "    X_train, X_test, y_train, y_test = train_test_split(X, y, test_size=0.3, \n",
    "                                                        random_state=random_state,\n",
    "                                                       stratify=y)\n",
    "    clf.fit(X_train, y_train)\n",
    "    y_pred = clf.predict(X_test)\n",
    "\n",
    "    if TESTING:\n",
    "        target_names = encoding.inverse_transform(np.sort(np.unique(y)).astype(int))\n",
    "        print(\"Classification Report:\\n\", \n",
    "              classification_report(y_test, y_pred, target_names=target_names))\n",
    "        \n",
    "    # Demonstrate using our hierarchical metrics module with MLB wrapper\n",
    "    try:\n",
    "        my_graph = clf.graph_\n",
    "    except:\n",
    "        from networkx import DiGraph\n",
    "        my_graph = DiGraph(class_hierarchy)\n",
    "        \n",
    "    with multi_labeled(y_test, y_pred, my_graph) as (y_test_, y_pred_, graph_):\n",
    "        results = {\n",
    "            \"h_fbeta\": h_fbeta_score(y_test_, y_pred_, graph_),\n",
    "            \"h_precision\": h_precision_score(y_test_, y_pred_, graph_),\n",
    "            \"h_recall\": h_recall_score(y_test_, y_pred_, graph_),\n",
    "        }\n",
    "    return results"
   ]
  },
  {
   "cell_type": "code",
   "execution_count": 7,
   "metadata": {
    "code_folding": [
     0
    ]
   },
   "outputs": [],
   "source": [
    "def print_results(results):\n",
    "    for key, item in results.items():\n",
    "        print(f\"Result for {key}: {item}\")"
   ]
  },
  {
   "cell_type": "markdown",
   "metadata": {},
   "source": [
    "# A better way to evaluate\n",
    "\n",
    "Let's actually use the hierarchical data\n",
    "\n",
    "[Functional Annotation of Genes Using Hierarchical Text Categorization](http://citeseerx.ist.psu.edu/viewdoc/download?doi=10.1.1.68.5824&rep=rep1&type=pdf)"
   ]
  },
  {
   "cell_type": "markdown",
   "metadata": {},
   "source": [
    "## Hierarchical Precision and Recall\n",
    "\n",
    "![](hierarchical_metrics.png)"
   ]
  },
  {
   "cell_type": "markdown",
   "metadata": {},
   "source": [
    "## Hierarchical F1 score\n",
    "\n",
    "The common way of calculating F1 is:\n",
    "![](f1_normal.png)\n",
    "\n",
    "The proposed hierarchical version is:\n",
    "![](f1_hierarchical.png)\n",
    "\n",
    "With beta = 1, we give equal weights to both precision and recall"
   ]
  },
  {
   "cell_type": "markdown",
   "metadata": {},
   "source": [
    "\n",
    "\n",
    "- - - \n",
    "\n",
    "<br>\n",
    "<br>\n",
    "<br>\n",
    "<br>\n",
    "<br>\n",
    "<br>\n",
    "<br>\n",
    "<br>\n",
    "<br>\n",
    "<br>\n",
    "<br>\n",
    "<br>"
   ]
  },
  {
   "cell_type": "markdown",
   "metadata": {},
   "source": [
    "# Models"
   ]
  },
  {
   "cell_type": "markdown",
   "metadata": {},
   "source": [
    "## Flat"
   ]
  },
  {
   "cell_type": "code",
   "execution_count": 8,
   "metadata": {
    "scrolled": true
   },
   "outputs": [
    {
     "data": {
      "application/vnd.jupyter.widget-view+json": {
       "model_id": "3b2aed76cb144ec5ae76592b8d13dd71",
       "version_major": 2,
       "version_minor": 0
      },
      "text/plain": [
       "HBox(children=(IntProgress(value=0), HTML(value='')))"
      ]
     },
     "metadata": {},
     "output_type": "display_data"
    },
    {
     "name": "stderr",
     "output_type": "stream",
     "text": [
      "/home/bcoelho/.local/lib/python3.6/site-packages/sklearn_hierarchical_classification/metrics.py:36: FutureWarning: Using a non-tuple sequence for multidimensional indexing is deprecated; use `arr[tuple(seq)]` instead of `arr[seq]`. In the future this will be interpreted as an array index, `arr[np.array(seq)]`, which will result either in an error or a different result.\n",
      "  y_[np.meshgrid(ix_rows, ancestors)] = 1\n"
     ]
    },
    {
     "name": "stdout",
     "output_type": "stream",
     "text": [
      "\n",
      "CPU times: user 1min 45s, sys: 729 ms, total: 1min 46s\n",
      "Wall time: 1min 46s\n"
     ]
    }
   ],
   "source": [
    "%%time\n",
    "for i in tqdm_notebook(range(N_SIMUL)):\n",
    "    rdm_state = RANDOM_STATE + i\n",
    "    clf = BASE_MODEL(random_state=rdm_state)\n",
    "    results = run_experiment(df, mosquitos_hierarchy, encoding, \n",
    "                             clf, random_state=rdm_state)\n",
    "    \n",
    "    all_results.loc[len(all_results), :] = list(results.values()) + [\"flat\"]"
   ]
  },
  {
   "cell_type": "markdown",
   "metadata": {},
   "source": [
    "\n",
    "\n",
    "- - - \n",
    "\n",
    "<br>\n",
    "<br>\n",
    "<br>\n",
    "<br>\n",
    "<br>\n",
    "<br>\n",
    "<br>\n",
    "<br>\n",
    "<br>\n",
    "<br>\n",
    "<br>\n",
    "<br>"
   ]
  },
  {
   "cell_type": "markdown",
   "metadata": {},
   "source": [
    "## Top Down"
   ]
  },
  {
   "cell_type": "markdown",
   "metadata": {},
   "source": [
    "### 1 multiclass classifier per Node"
   ]
  },
  {
   "cell_type": "code",
   "execution_count": 9,
   "metadata": {
    "scrolled": true
   },
   "outputs": [
    {
     "data": {
      "application/vnd.jupyter.widget-view+json": {
       "model_id": "e82b282c712a44a4bb995200ff95f8b0",
       "version_major": 2,
       "version_minor": 0
      },
      "text/plain": [
       "HBox(children=(IntProgress(value=0), HTML(value='')))"
      ]
     },
     "metadata": {},
     "output_type": "display_data"
    },
    {
     "name": "stderr",
     "output_type": "stream",
     "text": [
      "/home/bcoelho/.local/lib/python3.6/site-packages/sklearn_hierarchical_classification/metrics.py:36: FutureWarning: Using a non-tuple sequence for multidimensional indexing is deprecated; use `arr[tuple(seq)]` instead of `arr[seq]`. In the future this will be interpreted as an array index, `arr[np.array(seq)]`, which will result either in an error or a different result.\n",
      "  y_[np.meshgrid(ix_rows, ancestors)] = 1\n",
      "/home/bcoelho/.local/lib/python3.6/site-packages/sklearn_hierarchical_classification/metrics.py:36: FutureWarning: Using a non-tuple sequence for multidimensional indexing is deprecated; use `arr[tuple(seq)]` instead of `arr[seq]`. In the future this will be interpreted as an array index, `arr[np.array(seq)]`, which will result either in an error or a different result.\n",
      "  y_[np.meshgrid(ix_rows, ancestors)] = 1\n",
      "/home/bcoelho/.local/lib/python3.6/site-packages/sklearn_hierarchical_classification/metrics.py:36: FutureWarning: Using a non-tuple sequence for multidimensional indexing is deprecated; use `arr[tuple(seq)]` instead of `arr[seq]`. In the future this will be interpreted as an array index, `arr[np.array(seq)]`, which will result either in an error or a different result.\n",
      "  y_[np.meshgrid(ix_rows, ancestors)] = 1\n",
      "/home/bcoelho/.local/lib/python3.6/site-packages/sklearn_hierarchical_classification/metrics.py:36: FutureWarning: Using a non-tuple sequence for multidimensional indexing is deprecated; use `arr[tuple(seq)]` instead of `arr[seq]`. In the future this will be interpreted as an array index, `arr[np.array(seq)]`, which will result either in an error or a different result.\n",
      "  y_[np.meshgrid(ix_rows, ancestors)] = 1\n",
      "/home/bcoelho/.local/lib/python3.6/site-packages/sklearn_hierarchical_classification/metrics.py:36: FutureWarning: Using a non-tuple sequence for multidimensional indexing is deprecated; use `arr[tuple(seq)]` instead of `arr[seq]`. In the future this will be interpreted as an array index, `arr[np.array(seq)]`, which will result either in an error or a different result.\n",
      "  y_[np.meshgrid(ix_rows, ancestors)] = 1\n",
      "/home/bcoelho/.local/lib/python3.6/site-packages/sklearn_hierarchical_classification/metrics.py:36: FutureWarning: Using a non-tuple sequence for multidimensional indexing is deprecated; use `arr[tuple(seq)]` instead of `arr[seq]`. In the future this will be interpreted as an array index, `arr[np.array(seq)]`, which will result either in an error or a different result.\n",
      "  y_[np.meshgrid(ix_rows, ancestors)] = 1\n",
      "/home/bcoelho/.local/lib/python3.6/site-packages/sklearn_hierarchical_classification/metrics.py:36: FutureWarning: Using a non-tuple sequence for multidimensional indexing is deprecated; use `arr[tuple(seq)]` instead of `arr[seq]`. In the future this will be interpreted as an array index, `arr[np.array(seq)]`, which will result either in an error or a different result.\n",
      "  y_[np.meshgrid(ix_rows, ancestors)] = 1\n",
      "/home/bcoelho/.local/lib/python3.6/site-packages/sklearn_hierarchical_classification/metrics.py:36: FutureWarning: Using a non-tuple sequence for multidimensional indexing is deprecated; use `arr[tuple(seq)]` instead of `arr[seq]`. In the future this will be interpreted as an array index, `arr[np.array(seq)]`, which will result either in an error or a different result.\n",
      "  y_[np.meshgrid(ix_rows, ancestors)] = 1\n",
      "/home/bcoelho/.local/lib/python3.6/site-packages/sklearn_hierarchical_classification/metrics.py:36: FutureWarning: Using a non-tuple sequence for multidimensional indexing is deprecated; use `arr[tuple(seq)]` instead of `arr[seq]`. In the future this will be interpreted as an array index, `arr[np.array(seq)]`, which will result either in an error or a different result.\n",
      "  y_[np.meshgrid(ix_rows, ancestors)] = 1\n",
      "/home/bcoelho/.local/lib/python3.6/site-packages/sklearn_hierarchical_classification/metrics.py:36: FutureWarning: Using a non-tuple sequence for multidimensional indexing is deprecated; use `arr[tuple(seq)]` instead of `arr[seq]`. In the future this will be interpreted as an array index, `arr[np.array(seq)]`, which will result either in an error or a different result.\n",
      "  y_[np.meshgrid(ix_rows, ancestors)] = 1\n",
      "/home/bcoelho/.local/lib/python3.6/site-packages/sklearn_hierarchical_classification/metrics.py:36: FutureWarning: Using a non-tuple sequence for multidimensional indexing is deprecated; use `arr[tuple(seq)]` instead of `arr[seq]`. In the future this will be interpreted as an array index, `arr[np.array(seq)]`, which will result either in an error or a different result.\n",
      "  y_[np.meshgrid(ix_rows, ancestors)] = 1\n",
      "/home/bcoelho/.local/lib/python3.6/site-packages/sklearn_hierarchical_classification/metrics.py:36: FutureWarning: Using a non-tuple sequence for multidimensional indexing is deprecated; use `arr[tuple(seq)]` instead of `arr[seq]`. In the future this will be interpreted as an array index, `arr[np.array(seq)]`, which will result either in an error or a different result.\n",
      "  y_[np.meshgrid(ix_rows, ancestors)] = 1\n",
      "/home/bcoelho/.local/lib/python3.6/site-packages/sklearn_hierarchical_classification/metrics.py:36: FutureWarning: Using a non-tuple sequence for multidimensional indexing is deprecated; use `arr[tuple(seq)]` instead of `arr[seq]`. In the future this will be interpreted as an array index, `arr[np.array(seq)]`, which will result either in an error or a different result.\n",
      "  y_[np.meshgrid(ix_rows, ancestors)] = 1\n",
      "/home/bcoelho/.local/lib/python3.6/site-packages/sklearn_hierarchical_classification/metrics.py:36: FutureWarning: Using a non-tuple sequence for multidimensional indexing is deprecated; use `arr[tuple(seq)]` instead of `arr[seq]`. In the future this will be interpreted as an array index, `arr[np.array(seq)]`, which will result either in an error or a different result.\n",
      "  y_[np.meshgrid(ix_rows, ancestors)] = 1\n",
      "/home/bcoelho/.local/lib/python3.6/site-packages/sklearn_hierarchical_classification/metrics.py:36: FutureWarning: Using a non-tuple sequence for multidimensional indexing is deprecated; use `arr[tuple(seq)]` instead of `arr[seq]`. In the future this will be interpreted as an array index, `arr[np.array(seq)]`, which will result either in an error or a different result.\n",
      "  y_[np.meshgrid(ix_rows, ancestors)] = 1\n",
      "/home/bcoelho/.local/lib/python3.6/site-packages/sklearn_hierarchical_classification/metrics.py:36: FutureWarning: Using a non-tuple sequence for multidimensional indexing is deprecated; use `arr[tuple(seq)]` instead of `arr[seq]`. In the future this will be interpreted as an array index, `arr[np.array(seq)]`, which will result either in an error or a different result.\n",
      "  y_[np.meshgrid(ix_rows, ancestors)] = 1\n",
      "/home/bcoelho/.local/lib/python3.6/site-packages/sklearn_hierarchical_classification/metrics.py:36: FutureWarning: Using a non-tuple sequence for multidimensional indexing is deprecated; use `arr[tuple(seq)]` instead of `arr[seq]`. In the future this will be interpreted as an array index, `arr[np.array(seq)]`, which will result either in an error or a different result.\n",
      "  y_[np.meshgrid(ix_rows, ancestors)] = 1\n",
      "/home/bcoelho/.local/lib/python3.6/site-packages/sklearn_hierarchical_classification/metrics.py:36: FutureWarning: Using a non-tuple sequence for multidimensional indexing is deprecated; use `arr[tuple(seq)]` instead of `arr[seq]`. In the future this will be interpreted as an array index, `arr[np.array(seq)]`, which will result either in an error or a different result.\n",
      "  y_[np.meshgrid(ix_rows, ancestors)] = 1\n",
      "/home/bcoelho/.local/lib/python3.6/site-packages/sklearn_hierarchical_classification/metrics.py:36: FutureWarning: Using a non-tuple sequence for multidimensional indexing is deprecated; use `arr[tuple(seq)]` instead of `arr[seq]`. In the future this will be interpreted as an array index, `arr[np.array(seq)]`, which will result either in an error or a different result.\n",
      "  y_[np.meshgrid(ix_rows, ancestors)] = 1\n",
      "/home/bcoelho/.local/lib/python3.6/site-packages/sklearn_hierarchical_classification/metrics.py:36: FutureWarning: Using a non-tuple sequence for multidimensional indexing is deprecated; use `arr[tuple(seq)]` instead of `arr[seq]`. In the future this will be interpreted as an array index, `arr[np.array(seq)]`, which will result either in an error or a different result.\n",
      "  y_[np.meshgrid(ix_rows, ancestors)] = 1\n"
     ]
    },
    {
     "name": "stderr",
     "output_type": "stream",
     "text": [
      "/home/bcoelho/.local/lib/python3.6/site-packages/sklearn_hierarchical_classification/metrics.py:36: FutureWarning: Using a non-tuple sequence for multidimensional indexing is deprecated; use `arr[tuple(seq)]` instead of `arr[seq]`. In the future this will be interpreted as an array index, `arr[np.array(seq)]`, which will result either in an error or a different result.\n",
      "  y_[np.meshgrid(ix_rows, ancestors)] = 1\n",
      "/home/bcoelho/.local/lib/python3.6/site-packages/sklearn_hierarchical_classification/metrics.py:36: FutureWarning: Using a non-tuple sequence for multidimensional indexing is deprecated; use `arr[tuple(seq)]` instead of `arr[seq]`. In the future this will be interpreted as an array index, `arr[np.array(seq)]`, which will result either in an error or a different result.\n",
      "  y_[np.meshgrid(ix_rows, ancestors)] = 1\n",
      "/home/bcoelho/.local/lib/python3.6/site-packages/sklearn_hierarchical_classification/metrics.py:36: FutureWarning: Using a non-tuple sequence for multidimensional indexing is deprecated; use `arr[tuple(seq)]` instead of `arr[seq]`. In the future this will be interpreted as an array index, `arr[np.array(seq)]`, which will result either in an error or a different result.\n",
      "  y_[np.meshgrid(ix_rows, ancestors)] = 1\n",
      "/home/bcoelho/.local/lib/python3.6/site-packages/sklearn_hierarchical_classification/metrics.py:36: FutureWarning: Using a non-tuple sequence for multidimensional indexing is deprecated; use `arr[tuple(seq)]` instead of `arr[seq]`. In the future this will be interpreted as an array index, `arr[np.array(seq)]`, which will result either in an error or a different result.\n",
      "  y_[np.meshgrid(ix_rows, ancestors)] = 1\n",
      "/home/bcoelho/.local/lib/python3.6/site-packages/sklearn_hierarchical_classification/metrics.py:36: FutureWarning: Using a non-tuple sequence for multidimensional indexing is deprecated; use `arr[tuple(seq)]` instead of `arr[seq]`. In the future this will be interpreted as an array index, `arr[np.array(seq)]`, which will result either in an error or a different result.\n",
      "  y_[np.meshgrid(ix_rows, ancestors)] = 1\n",
      "/home/bcoelho/.local/lib/python3.6/site-packages/sklearn_hierarchical_classification/metrics.py:36: FutureWarning: Using a non-tuple sequence for multidimensional indexing is deprecated; use `arr[tuple(seq)]` instead of `arr[seq]`. In the future this will be interpreted as an array index, `arr[np.array(seq)]`, which will result either in an error or a different result.\n",
      "  y_[np.meshgrid(ix_rows, ancestors)] = 1\n",
      "/home/bcoelho/.local/lib/python3.6/site-packages/sklearn_hierarchical_classification/metrics.py:36: FutureWarning: Using a non-tuple sequence for multidimensional indexing is deprecated; use `arr[tuple(seq)]` instead of `arr[seq]`. In the future this will be interpreted as an array index, `arr[np.array(seq)]`, which will result either in an error or a different result.\n",
      "  y_[np.meshgrid(ix_rows, ancestors)] = 1\n",
      "/home/bcoelho/.local/lib/python3.6/site-packages/sklearn_hierarchical_classification/metrics.py:36: FutureWarning: Using a non-tuple sequence for multidimensional indexing is deprecated; use `arr[tuple(seq)]` instead of `arr[seq]`. In the future this will be interpreted as an array index, `arr[np.array(seq)]`, which will result either in an error or a different result.\n",
      "  y_[np.meshgrid(ix_rows, ancestors)] = 1\n",
      "/home/bcoelho/.local/lib/python3.6/site-packages/sklearn_hierarchical_classification/metrics.py:36: FutureWarning: Using a non-tuple sequence for multidimensional indexing is deprecated; use `arr[tuple(seq)]` instead of `arr[seq]`. In the future this will be interpreted as an array index, `arr[np.array(seq)]`, which will result either in an error or a different result.\n",
      "  y_[np.meshgrid(ix_rows, ancestors)] = 1\n",
      "/home/bcoelho/.local/lib/python3.6/site-packages/sklearn_hierarchical_classification/metrics.py:36: FutureWarning: Using a non-tuple sequence for multidimensional indexing is deprecated; use `arr[tuple(seq)]` instead of `arr[seq]`. In the future this will be interpreted as an array index, `arr[np.array(seq)]`, which will result either in an error or a different result.\n",
      "  y_[np.meshgrid(ix_rows, ancestors)] = 1\n",
      "/home/bcoelho/.local/lib/python3.6/site-packages/sklearn_hierarchical_classification/metrics.py:36: FutureWarning: Using a non-tuple sequence for multidimensional indexing is deprecated; use `arr[tuple(seq)]` instead of `arr[seq]`. In the future this will be interpreted as an array index, `arr[np.array(seq)]`, which will result either in an error or a different result.\n",
      "  y_[np.meshgrid(ix_rows, ancestors)] = 1\n",
      "/home/bcoelho/.local/lib/python3.6/site-packages/sklearn_hierarchical_classification/metrics.py:36: FutureWarning: Using a non-tuple sequence for multidimensional indexing is deprecated; use `arr[tuple(seq)]` instead of `arr[seq]`. In the future this will be interpreted as an array index, `arr[np.array(seq)]`, which will result either in an error or a different result.\n",
      "  y_[np.meshgrid(ix_rows, ancestors)] = 1\n",
      "/home/bcoelho/.local/lib/python3.6/site-packages/sklearn_hierarchical_classification/metrics.py:36: FutureWarning: Using a non-tuple sequence for multidimensional indexing is deprecated; use `arr[tuple(seq)]` instead of `arr[seq]`. In the future this will be interpreted as an array index, `arr[np.array(seq)]`, which will result either in an error or a different result.\n",
      "  y_[np.meshgrid(ix_rows, ancestors)] = 1\n",
      "/home/bcoelho/.local/lib/python3.6/site-packages/sklearn_hierarchical_classification/metrics.py:36: FutureWarning: Using a non-tuple sequence for multidimensional indexing is deprecated; use `arr[tuple(seq)]` instead of `arr[seq]`. In the future this will be interpreted as an array index, `arr[np.array(seq)]`, which will result either in an error or a different result.\n",
      "  y_[np.meshgrid(ix_rows, ancestors)] = 1\n",
      "/home/bcoelho/.local/lib/python3.6/site-packages/sklearn_hierarchical_classification/metrics.py:36: FutureWarning: Using a non-tuple sequence for multidimensional indexing is deprecated; use `arr[tuple(seq)]` instead of `arr[seq]`. In the future this will be interpreted as an array index, `arr[np.array(seq)]`, which will result either in an error or a different result.\n",
      "  y_[np.meshgrid(ix_rows, ancestors)] = 1\n",
      "/home/bcoelho/.local/lib/python3.6/site-packages/sklearn_hierarchical_classification/metrics.py:36: FutureWarning: Using a non-tuple sequence for multidimensional indexing is deprecated; use `arr[tuple(seq)]` instead of `arr[seq]`. In the future this will be interpreted as an array index, `arr[np.array(seq)]`, which will result either in an error or a different result.\n",
      "  y_[np.meshgrid(ix_rows, ancestors)] = 1\n",
      "/home/bcoelho/.local/lib/python3.6/site-packages/sklearn_hierarchical_classification/metrics.py:36: FutureWarning: Using a non-tuple sequence for multidimensional indexing is deprecated; use `arr[tuple(seq)]` instead of `arr[seq]`. In the future this will be interpreted as an array index, `arr[np.array(seq)]`, which will result either in an error or a different result.\n",
      "  y_[np.meshgrid(ix_rows, ancestors)] = 1\n",
      "/home/bcoelho/.local/lib/python3.6/site-packages/sklearn_hierarchical_classification/metrics.py:36: FutureWarning: Using a non-tuple sequence for multidimensional indexing is deprecated; use `arr[tuple(seq)]` instead of `arr[seq]`. In the future this will be interpreted as an array index, `arr[np.array(seq)]`, which will result either in an error or a different result.\n",
      "  y_[np.meshgrid(ix_rows, ancestors)] = 1\n",
      "/home/bcoelho/.local/lib/python3.6/site-packages/sklearn_hierarchical_classification/metrics.py:36: FutureWarning: Using a non-tuple sequence for multidimensional indexing is deprecated; use `arr[tuple(seq)]` instead of `arr[seq]`. In the future this will be interpreted as an array index, `arr[np.array(seq)]`, which will result either in an error or a different result.\n",
      "  y_[np.meshgrid(ix_rows, ancestors)] = 1\n",
      "/home/bcoelho/.local/lib/python3.6/site-packages/sklearn_hierarchical_classification/metrics.py:36: FutureWarning: Using a non-tuple sequence for multidimensional indexing is deprecated; use `arr[tuple(seq)]` instead of `arr[seq]`. In the future this will be interpreted as an array index, `arr[np.array(seq)]`, which will result either in an error or a different result.\n",
      "  y_[np.meshgrid(ix_rows, ancestors)] = 1\n"
     ]
    },
    {
     "name": "stderr",
     "output_type": "stream",
     "text": [
      "/home/bcoelho/.local/lib/python3.6/site-packages/sklearn_hierarchical_classification/metrics.py:36: FutureWarning: Using a non-tuple sequence for multidimensional indexing is deprecated; use `arr[tuple(seq)]` instead of `arr[seq]`. In the future this will be interpreted as an array index, `arr[np.array(seq)]`, which will result either in an error or a different result.\n",
      "  y_[np.meshgrid(ix_rows, ancestors)] = 1\n",
      "/home/bcoelho/.local/lib/python3.6/site-packages/sklearn_hierarchical_classification/metrics.py:36: FutureWarning: Using a non-tuple sequence for multidimensional indexing is deprecated; use `arr[tuple(seq)]` instead of `arr[seq]`. In the future this will be interpreted as an array index, `arr[np.array(seq)]`, which will result either in an error or a different result.\n",
      "  y_[np.meshgrid(ix_rows, ancestors)] = 1\n",
      "/home/bcoelho/.local/lib/python3.6/site-packages/sklearn_hierarchical_classification/metrics.py:36: FutureWarning: Using a non-tuple sequence for multidimensional indexing is deprecated; use `arr[tuple(seq)]` instead of `arr[seq]`. In the future this will be interpreted as an array index, `arr[np.array(seq)]`, which will result either in an error or a different result.\n",
      "  y_[np.meshgrid(ix_rows, ancestors)] = 1\n",
      "/home/bcoelho/.local/lib/python3.6/site-packages/sklearn_hierarchical_classification/metrics.py:36: FutureWarning: Using a non-tuple sequence for multidimensional indexing is deprecated; use `arr[tuple(seq)]` instead of `arr[seq]`. In the future this will be interpreted as an array index, `arr[np.array(seq)]`, which will result either in an error or a different result.\n",
      "  y_[np.meshgrid(ix_rows, ancestors)] = 1\n",
      "/home/bcoelho/.local/lib/python3.6/site-packages/sklearn_hierarchical_classification/metrics.py:36: FutureWarning: Using a non-tuple sequence for multidimensional indexing is deprecated; use `arr[tuple(seq)]` instead of `arr[seq]`. In the future this will be interpreted as an array index, `arr[np.array(seq)]`, which will result either in an error or a different result.\n",
      "  y_[np.meshgrid(ix_rows, ancestors)] = 1\n",
      "/home/bcoelho/.local/lib/python3.6/site-packages/sklearn_hierarchical_classification/metrics.py:36: FutureWarning: Using a non-tuple sequence for multidimensional indexing is deprecated; use `arr[tuple(seq)]` instead of `arr[seq]`. In the future this will be interpreted as an array index, `arr[np.array(seq)]`, which will result either in an error or a different result.\n",
      "  y_[np.meshgrid(ix_rows, ancestors)] = 1\n",
      "/home/bcoelho/.local/lib/python3.6/site-packages/sklearn_hierarchical_classification/metrics.py:36: FutureWarning: Using a non-tuple sequence for multidimensional indexing is deprecated; use `arr[tuple(seq)]` instead of `arr[seq]`. In the future this will be interpreted as an array index, `arr[np.array(seq)]`, which will result either in an error or a different result.\n",
      "  y_[np.meshgrid(ix_rows, ancestors)] = 1\n",
      "/home/bcoelho/.local/lib/python3.6/site-packages/sklearn_hierarchical_classification/metrics.py:36: FutureWarning: Using a non-tuple sequence for multidimensional indexing is deprecated; use `arr[tuple(seq)]` instead of `arr[seq]`. In the future this will be interpreted as an array index, `arr[np.array(seq)]`, which will result either in an error or a different result.\n",
      "  y_[np.meshgrid(ix_rows, ancestors)] = 1\n",
      "/home/bcoelho/.local/lib/python3.6/site-packages/sklearn_hierarchical_classification/metrics.py:36: FutureWarning: Using a non-tuple sequence for multidimensional indexing is deprecated; use `arr[tuple(seq)]` instead of `arr[seq]`. In the future this will be interpreted as an array index, `arr[np.array(seq)]`, which will result either in an error or a different result.\n",
      "  y_[np.meshgrid(ix_rows, ancestors)] = 1\n",
      "/home/bcoelho/.local/lib/python3.6/site-packages/sklearn_hierarchical_classification/metrics.py:36: FutureWarning: Using a non-tuple sequence for multidimensional indexing is deprecated; use `arr[tuple(seq)]` instead of `arr[seq]`. In the future this will be interpreted as an array index, `arr[np.array(seq)]`, which will result either in an error or a different result.\n",
      "  y_[np.meshgrid(ix_rows, ancestors)] = 1\n",
      "/home/bcoelho/.local/lib/python3.6/site-packages/sklearn_hierarchical_classification/metrics.py:36: FutureWarning: Using a non-tuple sequence for multidimensional indexing is deprecated; use `arr[tuple(seq)]` instead of `arr[seq]`. In the future this will be interpreted as an array index, `arr[np.array(seq)]`, which will result either in an error or a different result.\n",
      "  y_[np.meshgrid(ix_rows, ancestors)] = 1\n",
      "/home/bcoelho/.local/lib/python3.6/site-packages/sklearn_hierarchical_classification/metrics.py:36: FutureWarning: Using a non-tuple sequence for multidimensional indexing is deprecated; use `arr[tuple(seq)]` instead of `arr[seq]`. In the future this will be interpreted as an array index, `arr[np.array(seq)]`, which will result either in an error or a different result.\n",
      "  y_[np.meshgrid(ix_rows, ancestors)] = 1\n",
      "/home/bcoelho/.local/lib/python3.6/site-packages/sklearn_hierarchical_classification/metrics.py:36: FutureWarning: Using a non-tuple sequence for multidimensional indexing is deprecated; use `arr[tuple(seq)]` instead of `arr[seq]`. In the future this will be interpreted as an array index, `arr[np.array(seq)]`, which will result either in an error or a different result.\n",
      "  y_[np.meshgrid(ix_rows, ancestors)] = 1\n",
      "/home/bcoelho/.local/lib/python3.6/site-packages/sklearn_hierarchical_classification/metrics.py:36: FutureWarning: Using a non-tuple sequence for multidimensional indexing is deprecated; use `arr[tuple(seq)]` instead of `arr[seq]`. In the future this will be interpreted as an array index, `arr[np.array(seq)]`, which will result either in an error or a different result.\n",
      "  y_[np.meshgrid(ix_rows, ancestors)] = 1\n",
      "/home/bcoelho/.local/lib/python3.6/site-packages/sklearn_hierarchical_classification/metrics.py:36: FutureWarning: Using a non-tuple sequence for multidimensional indexing is deprecated; use `arr[tuple(seq)]` instead of `arr[seq]`. In the future this will be interpreted as an array index, `arr[np.array(seq)]`, which will result either in an error or a different result.\n",
      "  y_[np.meshgrid(ix_rows, ancestors)] = 1\n",
      "/home/bcoelho/.local/lib/python3.6/site-packages/sklearn_hierarchical_classification/metrics.py:36: FutureWarning: Using a non-tuple sequence for multidimensional indexing is deprecated; use `arr[tuple(seq)]` instead of `arr[seq]`. In the future this will be interpreted as an array index, `arr[np.array(seq)]`, which will result either in an error or a different result.\n",
      "  y_[np.meshgrid(ix_rows, ancestors)] = 1\n",
      "/home/bcoelho/.local/lib/python3.6/site-packages/sklearn_hierarchical_classification/metrics.py:36: FutureWarning: Using a non-tuple sequence for multidimensional indexing is deprecated; use `arr[tuple(seq)]` instead of `arr[seq]`. In the future this will be interpreted as an array index, `arr[np.array(seq)]`, which will result either in an error or a different result.\n",
      "  y_[np.meshgrid(ix_rows, ancestors)] = 1\n",
      "/home/bcoelho/.local/lib/python3.6/site-packages/sklearn_hierarchical_classification/metrics.py:36: FutureWarning: Using a non-tuple sequence for multidimensional indexing is deprecated; use `arr[tuple(seq)]` instead of `arr[seq]`. In the future this will be interpreted as an array index, `arr[np.array(seq)]`, which will result either in an error or a different result.\n",
      "  y_[np.meshgrid(ix_rows, ancestors)] = 1\n",
      "/home/bcoelho/.local/lib/python3.6/site-packages/sklearn_hierarchical_classification/metrics.py:36: FutureWarning: Using a non-tuple sequence for multidimensional indexing is deprecated; use `arr[tuple(seq)]` instead of `arr[seq]`. In the future this will be interpreted as an array index, `arr[np.array(seq)]`, which will result either in an error or a different result.\n",
      "  y_[np.meshgrid(ix_rows, ancestors)] = 1\n",
      "/home/bcoelho/.local/lib/python3.6/site-packages/sklearn_hierarchical_classification/metrics.py:36: FutureWarning: Using a non-tuple sequence for multidimensional indexing is deprecated; use `arr[tuple(seq)]` instead of `arr[seq]`. In the future this will be interpreted as an array index, `arr[np.array(seq)]`, which will result either in an error or a different result.\n",
      "  y_[np.meshgrid(ix_rows, ancestors)] = 1\n"
     ]
    },
    {
     "name": "stderr",
     "output_type": "stream",
     "text": [
      "/home/bcoelho/.local/lib/python3.6/site-packages/sklearn_hierarchical_classification/metrics.py:36: FutureWarning: Using a non-tuple sequence for multidimensional indexing is deprecated; use `arr[tuple(seq)]` instead of `arr[seq]`. In the future this will be interpreted as an array index, `arr[np.array(seq)]`, which will result either in an error or a different result.\n",
      "  y_[np.meshgrid(ix_rows, ancestors)] = 1\n",
      "/home/bcoelho/.local/lib/python3.6/site-packages/sklearn_hierarchical_classification/metrics.py:36: FutureWarning: Using a non-tuple sequence for multidimensional indexing is deprecated; use `arr[tuple(seq)]` instead of `arr[seq]`. In the future this will be interpreted as an array index, `arr[np.array(seq)]`, which will result either in an error or a different result.\n",
      "  y_[np.meshgrid(ix_rows, ancestors)] = 1\n",
      "/home/bcoelho/.local/lib/python3.6/site-packages/sklearn_hierarchical_classification/metrics.py:36: FutureWarning: Using a non-tuple sequence for multidimensional indexing is deprecated; use `arr[tuple(seq)]` instead of `arr[seq]`. In the future this will be interpreted as an array index, `arr[np.array(seq)]`, which will result either in an error or a different result.\n",
      "  y_[np.meshgrid(ix_rows, ancestors)] = 1\n",
      "/home/bcoelho/.local/lib/python3.6/site-packages/sklearn_hierarchical_classification/metrics.py:36: FutureWarning: Using a non-tuple sequence for multidimensional indexing is deprecated; use `arr[tuple(seq)]` instead of `arr[seq]`. In the future this will be interpreted as an array index, `arr[np.array(seq)]`, which will result either in an error or a different result.\n",
      "  y_[np.meshgrid(ix_rows, ancestors)] = 1\n",
      "/home/bcoelho/.local/lib/python3.6/site-packages/sklearn_hierarchical_classification/metrics.py:36: FutureWarning: Using a non-tuple sequence for multidimensional indexing is deprecated; use `arr[tuple(seq)]` instead of `arr[seq]`. In the future this will be interpreted as an array index, `arr[np.array(seq)]`, which will result either in an error or a different result.\n",
      "  y_[np.meshgrid(ix_rows, ancestors)] = 1\n",
      "/home/bcoelho/.local/lib/python3.6/site-packages/sklearn_hierarchical_classification/metrics.py:36: FutureWarning: Using a non-tuple sequence for multidimensional indexing is deprecated; use `arr[tuple(seq)]` instead of `arr[seq]`. In the future this will be interpreted as an array index, `arr[np.array(seq)]`, which will result either in an error or a different result.\n",
      "  y_[np.meshgrid(ix_rows, ancestors)] = 1\n",
      "/home/bcoelho/.local/lib/python3.6/site-packages/sklearn_hierarchical_classification/metrics.py:36: FutureWarning: Using a non-tuple sequence for multidimensional indexing is deprecated; use `arr[tuple(seq)]` instead of `arr[seq]`. In the future this will be interpreted as an array index, `arr[np.array(seq)]`, which will result either in an error or a different result.\n",
      "  y_[np.meshgrid(ix_rows, ancestors)] = 1\n",
      "/home/bcoelho/.local/lib/python3.6/site-packages/sklearn_hierarchical_classification/metrics.py:36: FutureWarning: Using a non-tuple sequence for multidimensional indexing is deprecated; use `arr[tuple(seq)]` instead of `arr[seq]`. In the future this will be interpreted as an array index, `arr[np.array(seq)]`, which will result either in an error or a different result.\n",
      "  y_[np.meshgrid(ix_rows, ancestors)] = 1\n",
      "/home/bcoelho/.local/lib/python3.6/site-packages/sklearn_hierarchical_classification/metrics.py:36: FutureWarning: Using a non-tuple sequence for multidimensional indexing is deprecated; use `arr[tuple(seq)]` instead of `arr[seq]`. In the future this will be interpreted as an array index, `arr[np.array(seq)]`, which will result either in an error or a different result.\n",
      "  y_[np.meshgrid(ix_rows, ancestors)] = 1\n",
      "/home/bcoelho/.local/lib/python3.6/site-packages/sklearn_hierarchical_classification/metrics.py:36: FutureWarning: Using a non-tuple sequence for multidimensional indexing is deprecated; use `arr[tuple(seq)]` instead of `arr[seq]`. In the future this will be interpreted as an array index, `arr[np.array(seq)]`, which will result either in an error or a different result.\n",
      "  y_[np.meshgrid(ix_rows, ancestors)] = 1\n",
      "/home/bcoelho/.local/lib/python3.6/site-packages/sklearn_hierarchical_classification/metrics.py:36: FutureWarning: Using a non-tuple sequence for multidimensional indexing is deprecated; use `arr[tuple(seq)]` instead of `arr[seq]`. In the future this will be interpreted as an array index, `arr[np.array(seq)]`, which will result either in an error or a different result.\n",
      "  y_[np.meshgrid(ix_rows, ancestors)] = 1\n",
      "/home/bcoelho/.local/lib/python3.6/site-packages/sklearn_hierarchical_classification/metrics.py:36: FutureWarning: Using a non-tuple sequence for multidimensional indexing is deprecated; use `arr[tuple(seq)]` instead of `arr[seq]`. In the future this will be interpreted as an array index, `arr[np.array(seq)]`, which will result either in an error or a different result.\n",
      "  y_[np.meshgrid(ix_rows, ancestors)] = 1\n",
      "/home/bcoelho/.local/lib/python3.6/site-packages/sklearn_hierarchical_classification/metrics.py:36: FutureWarning: Using a non-tuple sequence for multidimensional indexing is deprecated; use `arr[tuple(seq)]` instead of `arr[seq]`. In the future this will be interpreted as an array index, `arr[np.array(seq)]`, which will result either in an error or a different result.\n",
      "  y_[np.meshgrid(ix_rows, ancestors)] = 1\n",
      "/home/bcoelho/.local/lib/python3.6/site-packages/sklearn_hierarchical_classification/metrics.py:36: FutureWarning: Using a non-tuple sequence for multidimensional indexing is deprecated; use `arr[tuple(seq)]` instead of `arr[seq]`. In the future this will be interpreted as an array index, `arr[np.array(seq)]`, which will result either in an error or a different result.\n",
      "  y_[np.meshgrid(ix_rows, ancestors)] = 1\n",
      "/home/bcoelho/.local/lib/python3.6/site-packages/sklearn_hierarchical_classification/metrics.py:36: FutureWarning: Using a non-tuple sequence for multidimensional indexing is deprecated; use `arr[tuple(seq)]` instead of `arr[seq]`. In the future this will be interpreted as an array index, `arr[np.array(seq)]`, which will result either in an error or a different result.\n",
      "  y_[np.meshgrid(ix_rows, ancestors)] = 1\n",
      "/home/bcoelho/.local/lib/python3.6/site-packages/sklearn_hierarchical_classification/metrics.py:36: FutureWarning: Using a non-tuple sequence for multidimensional indexing is deprecated; use `arr[tuple(seq)]` instead of `arr[seq]`. In the future this will be interpreted as an array index, `arr[np.array(seq)]`, which will result either in an error or a different result.\n",
      "  y_[np.meshgrid(ix_rows, ancestors)] = 1\n",
      "/home/bcoelho/.local/lib/python3.6/site-packages/sklearn_hierarchical_classification/metrics.py:36: FutureWarning: Using a non-tuple sequence for multidimensional indexing is deprecated; use `arr[tuple(seq)]` instead of `arr[seq]`. In the future this will be interpreted as an array index, `arr[np.array(seq)]`, which will result either in an error or a different result.\n",
      "  y_[np.meshgrid(ix_rows, ancestors)] = 1\n",
      "/home/bcoelho/.local/lib/python3.6/site-packages/sklearn_hierarchical_classification/metrics.py:36: FutureWarning: Using a non-tuple sequence for multidimensional indexing is deprecated; use `arr[tuple(seq)]` instead of `arr[seq]`. In the future this will be interpreted as an array index, `arr[np.array(seq)]`, which will result either in an error or a different result.\n",
      "  y_[np.meshgrid(ix_rows, ancestors)] = 1\n",
      "/home/bcoelho/.local/lib/python3.6/site-packages/sklearn_hierarchical_classification/metrics.py:36: FutureWarning: Using a non-tuple sequence for multidimensional indexing is deprecated; use `arr[tuple(seq)]` instead of `arr[seq]`. In the future this will be interpreted as an array index, `arr[np.array(seq)]`, which will result either in an error or a different result.\n",
      "  y_[np.meshgrid(ix_rows, ancestors)] = 1\n",
      "/home/bcoelho/.local/lib/python3.6/site-packages/sklearn_hierarchical_classification/metrics.py:36: FutureWarning: Using a non-tuple sequence for multidimensional indexing is deprecated; use `arr[tuple(seq)]` instead of `arr[seq]`. In the future this will be interpreted as an array index, `arr[np.array(seq)]`, which will result either in an error or a different result.\n",
      "  y_[np.meshgrid(ix_rows, ancestors)] = 1\n"
     ]
    },
    {
     "name": "stderr",
     "output_type": "stream",
     "text": [
      "/home/bcoelho/.local/lib/python3.6/site-packages/sklearn_hierarchical_classification/metrics.py:36: FutureWarning: Using a non-tuple sequence for multidimensional indexing is deprecated; use `arr[tuple(seq)]` instead of `arr[seq]`. In the future this will be interpreted as an array index, `arr[np.array(seq)]`, which will result either in an error or a different result.\n",
      "  y_[np.meshgrid(ix_rows, ancestors)] = 1\n",
      "/home/bcoelho/.local/lib/python3.6/site-packages/sklearn_hierarchical_classification/metrics.py:36: FutureWarning: Using a non-tuple sequence for multidimensional indexing is deprecated; use `arr[tuple(seq)]` instead of `arr[seq]`. In the future this will be interpreted as an array index, `arr[np.array(seq)]`, which will result either in an error or a different result.\n",
      "  y_[np.meshgrid(ix_rows, ancestors)] = 1\n",
      "/home/bcoelho/.local/lib/python3.6/site-packages/sklearn_hierarchical_classification/metrics.py:36: FutureWarning: Using a non-tuple sequence for multidimensional indexing is deprecated; use `arr[tuple(seq)]` instead of `arr[seq]`. In the future this will be interpreted as an array index, `arr[np.array(seq)]`, which will result either in an error or a different result.\n",
      "  y_[np.meshgrid(ix_rows, ancestors)] = 1\n",
      "/home/bcoelho/.local/lib/python3.6/site-packages/sklearn_hierarchical_classification/metrics.py:36: FutureWarning: Using a non-tuple sequence for multidimensional indexing is deprecated; use `arr[tuple(seq)]` instead of `arr[seq]`. In the future this will be interpreted as an array index, `arr[np.array(seq)]`, which will result either in an error or a different result.\n",
      "  y_[np.meshgrid(ix_rows, ancestors)] = 1\n",
      "/home/bcoelho/.local/lib/python3.6/site-packages/sklearn_hierarchical_classification/metrics.py:36: FutureWarning: Using a non-tuple sequence for multidimensional indexing is deprecated; use `arr[tuple(seq)]` instead of `arr[seq]`. In the future this will be interpreted as an array index, `arr[np.array(seq)]`, which will result either in an error or a different result.\n",
      "  y_[np.meshgrid(ix_rows, ancestors)] = 1\n",
      "/home/bcoelho/.local/lib/python3.6/site-packages/sklearn_hierarchical_classification/metrics.py:36: FutureWarning: Using a non-tuple sequence for multidimensional indexing is deprecated; use `arr[tuple(seq)]` instead of `arr[seq]`. In the future this will be interpreted as an array index, `arr[np.array(seq)]`, which will result either in an error or a different result.\n",
      "  y_[np.meshgrid(ix_rows, ancestors)] = 1\n",
      "/home/bcoelho/.local/lib/python3.6/site-packages/sklearn_hierarchical_classification/metrics.py:36: FutureWarning: Using a non-tuple sequence for multidimensional indexing is deprecated; use `arr[tuple(seq)]` instead of `arr[seq]`. In the future this will be interpreted as an array index, `arr[np.array(seq)]`, which will result either in an error or a different result.\n",
      "  y_[np.meshgrid(ix_rows, ancestors)] = 1\n",
      "/home/bcoelho/.local/lib/python3.6/site-packages/sklearn_hierarchical_classification/metrics.py:36: FutureWarning: Using a non-tuple sequence for multidimensional indexing is deprecated; use `arr[tuple(seq)]` instead of `arr[seq]`. In the future this will be interpreted as an array index, `arr[np.array(seq)]`, which will result either in an error or a different result.\n",
      "  y_[np.meshgrid(ix_rows, ancestors)] = 1\n",
      "/home/bcoelho/.local/lib/python3.6/site-packages/sklearn_hierarchical_classification/metrics.py:36: FutureWarning: Using a non-tuple sequence for multidimensional indexing is deprecated; use `arr[tuple(seq)]` instead of `arr[seq]`. In the future this will be interpreted as an array index, `arr[np.array(seq)]`, which will result either in an error or a different result.\n",
      "  y_[np.meshgrid(ix_rows, ancestors)] = 1\n",
      "/home/bcoelho/.local/lib/python3.6/site-packages/sklearn_hierarchical_classification/metrics.py:36: FutureWarning: Using a non-tuple sequence for multidimensional indexing is deprecated; use `arr[tuple(seq)]` instead of `arr[seq]`. In the future this will be interpreted as an array index, `arr[np.array(seq)]`, which will result either in an error or a different result.\n",
      "  y_[np.meshgrid(ix_rows, ancestors)] = 1\n",
      "/home/bcoelho/.local/lib/python3.6/site-packages/sklearn_hierarchical_classification/metrics.py:36: FutureWarning: Using a non-tuple sequence for multidimensional indexing is deprecated; use `arr[tuple(seq)]` instead of `arr[seq]`. In the future this will be interpreted as an array index, `arr[np.array(seq)]`, which will result either in an error or a different result.\n",
      "  y_[np.meshgrid(ix_rows, ancestors)] = 1\n",
      "/home/bcoelho/.local/lib/python3.6/site-packages/sklearn_hierarchical_classification/metrics.py:36: FutureWarning: Using a non-tuple sequence for multidimensional indexing is deprecated; use `arr[tuple(seq)]` instead of `arr[seq]`. In the future this will be interpreted as an array index, `arr[np.array(seq)]`, which will result either in an error or a different result.\n",
      "  y_[np.meshgrid(ix_rows, ancestors)] = 1\n",
      "/home/bcoelho/.local/lib/python3.6/site-packages/sklearn_hierarchical_classification/metrics.py:36: FutureWarning: Using a non-tuple sequence for multidimensional indexing is deprecated; use `arr[tuple(seq)]` instead of `arr[seq]`. In the future this will be interpreted as an array index, `arr[np.array(seq)]`, which will result either in an error or a different result.\n",
      "  y_[np.meshgrid(ix_rows, ancestors)] = 1\n",
      "/home/bcoelho/.local/lib/python3.6/site-packages/sklearn_hierarchical_classification/metrics.py:36: FutureWarning: Using a non-tuple sequence for multidimensional indexing is deprecated; use `arr[tuple(seq)]` instead of `arr[seq]`. In the future this will be interpreted as an array index, `arr[np.array(seq)]`, which will result either in an error or a different result.\n",
      "  y_[np.meshgrid(ix_rows, ancestors)] = 1\n",
      "/home/bcoelho/.local/lib/python3.6/site-packages/sklearn_hierarchical_classification/metrics.py:36: FutureWarning: Using a non-tuple sequence for multidimensional indexing is deprecated; use `arr[tuple(seq)]` instead of `arr[seq]`. In the future this will be interpreted as an array index, `arr[np.array(seq)]`, which will result either in an error or a different result.\n",
      "  y_[np.meshgrid(ix_rows, ancestors)] = 1\n",
      "/home/bcoelho/.local/lib/python3.6/site-packages/sklearn_hierarchical_classification/metrics.py:36: FutureWarning: Using a non-tuple sequence for multidimensional indexing is deprecated; use `arr[tuple(seq)]` instead of `arr[seq]`. In the future this will be interpreted as an array index, `arr[np.array(seq)]`, which will result either in an error or a different result.\n",
      "  y_[np.meshgrid(ix_rows, ancestors)] = 1\n",
      "/home/bcoelho/.local/lib/python3.6/site-packages/sklearn_hierarchical_classification/metrics.py:36: FutureWarning: Using a non-tuple sequence for multidimensional indexing is deprecated; use `arr[tuple(seq)]` instead of `arr[seq]`. In the future this will be interpreted as an array index, `arr[np.array(seq)]`, which will result either in an error or a different result.\n",
      "  y_[np.meshgrid(ix_rows, ancestors)] = 1\n",
      "/home/bcoelho/.local/lib/python3.6/site-packages/sklearn_hierarchical_classification/metrics.py:36: FutureWarning: Using a non-tuple sequence for multidimensional indexing is deprecated; use `arr[tuple(seq)]` instead of `arr[seq]`. In the future this will be interpreted as an array index, `arr[np.array(seq)]`, which will result either in an error or a different result.\n",
      "  y_[np.meshgrid(ix_rows, ancestors)] = 1\n",
      "/home/bcoelho/.local/lib/python3.6/site-packages/sklearn_hierarchical_classification/metrics.py:36: FutureWarning: Using a non-tuple sequence for multidimensional indexing is deprecated; use `arr[tuple(seq)]` instead of `arr[seq]`. In the future this will be interpreted as an array index, `arr[np.array(seq)]`, which will result either in an error or a different result.\n",
      "  y_[np.meshgrid(ix_rows, ancestors)] = 1\n"
     ]
    },
    {
     "name": "stdout",
     "output_type": "stream",
     "text": [
      "\n",
      "CPU times: user 14min 44s, sys: 2.02 s, total: 14min 46s\n",
      "Wall time: 14min 46s\n"
     ]
    },
    {
     "name": "stderr",
     "output_type": "stream",
     "text": [
      "/home/bcoelho/.local/lib/python3.6/site-packages/sklearn_hierarchical_classification/metrics.py:36: FutureWarning: Using a non-tuple sequence for multidimensional indexing is deprecated; use `arr[tuple(seq)]` instead of `arr[seq]`. In the future this will be interpreted as an array index, `arr[np.array(seq)]`, which will result either in an error or a different result.\n",
      "  y_[np.meshgrid(ix_rows, ancestors)] = 1\n"
     ]
    }
   ],
   "source": [
    "%%time\n",
    "for i in tqdm_notebook(range(N_SIMUL)):\n",
    "    rdm_state = RANDOM_STATE + i\n",
    "    clf = HierarchicalClassifier(base_estimator=BASE_MODEL(), \n",
    "                             class_hierarchy=mosquitos_hierarchy, \n",
    "                             prediction_depth=\"mlnp\",\n",
    "                             algorithm=\"lcpn\",\n",
    "                            )   \n",
    "    results = run_experiment(df, mosquitos_hierarchy, encoding, \n",
    "                             clf, random_state=rdm_state)\n",
    "    all_results.loc[len(all_results), :] = list(results.values()) + [\"1 per node\"]"
   ]
  },
  {
   "cell_type": "markdown",
   "metadata": {},
   "source": [
    "\n",
    "\n",
    "- - - \n",
    "\n",
    "<br>\n",
    "<br>\n",
    "<br>\n",
    "<br>\n",
    "<br>\n",
    "<br>\n",
    "<br>\n",
    "<br>\n",
    "<br>\n",
    "<br>\n",
    "<br>\n",
    "<br>"
   ]
  },
  {
   "cell_type": "markdown",
   "metadata": {},
   "source": [
    "# Results"
   ]
  },
  {
   "cell_type": "code",
   "execution_count": 10,
   "metadata": {},
   "outputs": [
    {
     "data": {
      "text/plain": [
       "<matplotlib.axes._subplots.AxesSubplot at 0x7f6163c3f3c8>"
      ]
     },
     "execution_count": 10,
     "metadata": {},
     "output_type": "execute_result"
    },
    {
     "data": {
      "image/png": "[encoded data removed]",
      "text/plain": [
       "<Figure size 432x288 with 1 Axes>"
      ]
     },
     "metadata": {},
     "output_type": "display_data"
    }
   ],
   "source": [
    "sns.barplot(data=all_results, y=\"h_fbeta\", x=\"model\")#, hue=\"Ruido %\")"
   ]
  },
  {
   "cell_type": "code",
   "execution_count": 11,
   "metadata": {},
   "outputs": [
    {
     "name": "stdout",
     "output_type": "stream",
     "text": [
      "For model flat, we obtained  0.7231189304881432 h_fbeta +- 0.003311066039233607\n",
      "For model 1 per node, we obtained  0.7213053625165888 h_fbeta +- 0.0030069685021306873\n"
     ]
    }
   ],
   "source": [
    "for model in [\"flat\", \"1 per node\"]:\n",
    "    model_results = all_results.query(\"model == @model\")\n",
    "    print(f\"For model {model}, we obtained \", \n",
    "          f\"{model_results.h_fbeta.mean()} h_fbeta +-\",\n",
    "          f\"{model_results.h_fbeta.std()}\")"
   ]
  },
  {
   "cell_type": "code",
   "execution_count": null,
   "metadata": {},
   "outputs": [],
   "source": []
  },
  {
   "cell_type": "code",
   "execution_count": null,
   "metadata": {},
   "outputs": [],
   "source": []
  },
  {
   "cell_type": "code",
   "execution_count": null,
   "metadata": {},
   "outputs": [],
   "source": []
  },
  {
   "cell_type": "code",
   "execution_count": null,
   "metadata": {},
   "outputs": [],
   "source": []
  },
  {
   "cell_type": "markdown",
   "metadata": {},
   "source": [
    "TODO: Not done yet"
   ]
  },
  {
   "cell_type": "markdown",
   "metadata": {},
   "source": [
    "### Binary classifier per Node"
   ]
  },
  {
   "cell_type": "code",
   "execution_count": 12,
   "metadata": {},
   "outputs": [],
   "source": [
    "def binary_per_node(df, mosquitos_hierarchy, encoding, clf):\n",
    "    X = df.drop(columns=\"class\")\n",
    "    y = encoding.transform(df[\"class\"].str.split(\".\").apply(lambda x: x[-1]))\n",
    "    y = y.astype(str)\n",
    "\n",
    "    X_train, X_test, y_train, y_test = train_test_split(X, y, test_size=0.3, \n",
    "                                                        random_state=RANDOM_STATE)\n",
    "    \n",
    "    y_preds = np.zeros(len(y_test))\n",
    "    \n",
    "    \n",
    "    \n",
    "    clf.fit(X_train, y_train)\n",
    "    y_pred = clf.predict(X_test)\n",
    "\n",
    "    target_names = encoding.inverse_transform(np.sort(np.unique(y)).astype(int))\n",
    "    print(\"Classification Report:\\n\", classification_report(y_test, y_pred, \n",
    "                                                           target_names=target_names))\n",
    "    # Demonstrate using our hierarchical metrics module with MLB wrapper\n",
    "    try:\n",
    "        my_graph = clf.graph_\n",
    "    except:\n",
    "        from networkx import DiGraph\n",
    "        my_graph = DiGraph(class_hierarchy)\n",
    "        \n",
    "    with multi_labeled(y_test, y_pred, my_graph) as (y_test_, y_pred_, graph_):\n",
    "        results = {\n",
    "            \"h_fbeta\": h_fbeta_score(y_test_, y_pred_, graph_),\n",
    "            \"h_precision\": h_precision_score(y_test_, y_pred_, graph_),\n",
    "            \"h_recall\": h_recall_score(y_test_, y_pred_, graph_),\n",
    "        }\n",
    "    return results"
   ]
  },
  {
   "cell_type": "code",
   "execution_count": null,
   "metadata": {},
   "outputs": [],
   "source": []
  },
  {
   "cell_type": "code",
   "execution_count": null,
   "metadata": {},
   "outputs": [],
   "source": []
  },
  {
   "cell_type": "code",
   "execution_count": null,
   "metadata": {},
   "outputs": [],
   "source": []
  },
  {
   "cell_type": "code",
   "execution_count": null,
   "metadata": {},
   "outputs": [],
   "source": []
  },
  {
   "cell_type": "code",
   "execution_count": null,
   "metadata": {},
   "outputs": [],
   "source": []
  },
  {
   "cell_type": "markdown",
   "metadata": {},
   "source": [
    "## HMC\n",
    "\n",
    "DOesnt work :("
   ]
  },
  {
   "cell_type": "code",
   "execution_count": null,
   "metadata": {},
   "outputs": [],
   "source": []
  }
 ],
 "metadata": {
  "kernelspec": {
   "display_name": "Python 3",
   "language": "python",
   "name": "python3"
  },
  "language_info": {
   "codemirror_mode": {
    "name": "ipython",
    "version": 3
   },
   "file_extension": ".py",
   "mimetype": "text/x-python",
   "name": "python",
   "nbconvert_exporter": "python",
   "pygments_lexer": "ipython3",
   "version": "3.6.5rc1"
  },
  "toc": {
   "base_numbering": 1,
   "nav_menu": {},
   "number_sections": true,
   "sideBar": true,
   "skip_h1_title": false,
   "title_cell": "Table of Contents",
   "title_sidebar": "Contents",
   "toc_cell": false,
   "toc_position": {},
   "toc_section_display": true,
   "toc_window_display": true
  }
 },
 "nbformat": 4,
 "nbformat_minor": 2
}
