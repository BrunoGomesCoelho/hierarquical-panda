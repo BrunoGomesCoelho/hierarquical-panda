{
 "cells": [
  {
   "cell_type": "markdown",
   "metadata": {},
   "source": [
    "\n",
    "\n",
    "- - - \n",
    "\n",
    "<br>\n",
    "<br>\n",
    "<br>\n",
    "<br>\n",
    "<br>\n",
    "<br>\n",
    "<br>\n",
    "<br>\n",
    "<br>\n",
    "<br>\n",
    "<br>\n",
    "<br>\n",
    "\n",
    "# Imports\n"
   ]
  },
  {
   "cell_type": "code",
   "execution_count": 1,
   "metadata": {},
   "outputs": [],
   "source": [
    "import pandas as pd\n",
    "import numpy as np\n",
    "pd.set_option('display.max_columns', 50)\n",
    "\n",
    "import matplotlib.pyplot as plt\n",
    "%matplotlib inline\n",
    "import seaborn as sns\n",
    "sns.set()\n",
    "\n",
    "# Another classifier option\n",
    "from xgboost import XGBClassifier\n",
    "\n",
    "# For dealing with arff\n",
    "import arff \n",
    "\n",
    "\n",
    "from sklearn.metrics import classification_report\n",
    "from sklearn.model_selection import train_test_split\n",
    "from sklearn.preprocessing import LabelEncoder\n",
    "from sklearn.tree import DecisionTreeClassifier\n",
    "\n",
    "# hierarquical\n",
    "from sklearn_hierarchical_classification.constants import ROOT\n",
    "from sklearn_hierarchical_classification.classifier import HierarchicalClassifier\n",
    "from sklearn_hierarchical_classification.metrics import (h_fbeta_score,\n",
    "                                                         h_precision_score, \n",
    "                                                         h_recall_score)\n",
    "\n",
    "# creating hierarchy\n",
    "from networkx import DiGraph\n",
    "from collections import defaultdict\n",
    "from pprint import pprint\n",
    "from tqdm import tqdm_notebook\n"
   ]
  },
  {
   "cell_type": "code",
   "execution_count": 2,
   "metadata": {},
   "outputs": [],
   "source": [
    "TESTING = False\n",
    "BASE_MODEL = DecisionTreeClassifier\n",
    "RANDOM_STATE = 42\n",
    "N_SIMUL = 100"
   ]
  },
  {
   "cell_type": "markdown",
   "metadata": {},
   "source": [
    "\n",
    "\n",
    "- - - \n",
    "\n",
    "<br>\n",
    "<br>\n",
    "<br>\n",
    "<br>\n",
    "<br>\n",
    "<br>\n",
    "<br>\n",
    "<br>\n",
    "<br>\n",
    "<br>\n",
    "<br>\n",
    "<br>\n",
    "\n",
    "# Helper functions\n"
   ]
  },
  {
   "cell_type": "markdown",
   "metadata": {},
   "source": [
    "The following function was original found in the sklearn-hierarcical-classification libray; \n",
    "Unfortunately, due to a bug, it can't compile properly - we therefore include it here as taken from the source code."
   ]
  },
  {
   "cell_type": "code",
   "execution_count": 3,
   "metadata": {},
   "outputs": [],
   "source": [
    "from contextlib import contextmanager\n",
    "\n",
    "import numpy as np\n",
    "from networkx import all_pairs_shortest_path_length, relabel_nodes\n",
    "from sklearn.preprocessing import MultiLabelBinarizer\n",
    "\n",
    "from sklearn_hierarchical_classification.constants import ROOT\n",
    "\n",
    "@contextmanager\n",
    "def multi_labeled(y_true, y_pred, graph):\n",
    "    \"\"\"\n",
    "    Helper context manager for using the hierarchical evaluation metrics\n",
    "    defined in this model.\n",
    "    Briefly, the evaluation metrics expect data in a binarized multi-label format,\n",
    "    the same as returned when using scikit-learn's MultiLabelBinarizer.\n",
    "    This method therefore encapsulate the boilerplate required to fit such a\n",
    "    label transformation on the data we wish to evaluate (y_true, y_pred) as well as\n",
    "    applying it to the class hierarchy itself (graph), by relabeling the nodes.\n",
    "    See the examples/classify_digits.py file for example usage.\n",
    "    Parameters\n",
    "    ----------\n",
    "    y_true : array-like, shape = [n_samples, 1].\n",
    "        ground truth targets\n",
    "    y_pred : array-like, shape = [n_samples, 1].\n",
    "        predicted targets\n",
    "    graph : the class hierarchy graph, given as a `networkx.DiGraph` instance\n",
    "    Returns\n",
    "    -------\n",
    "    y_true_ : array-like, shape = [n_samples, n_classes].\n",
    "        ground truth targets, transformed to a binary multi-label matrix format.\n",
    "    y_pred_ : array-like, shape = [n_samples, n_classes].\n",
    "        predicted targets, transformed to a binary multi-label matrix format.\n",
    "    graph_ : the class hierarchy graph, given as a `networkx.DiGraph` instance,\n",
    "        transformed to use the (integer) IDs fitted by the multi label binarizer.\n",
    "    \"\"\"\n",
    "    mlb = MultiLabelBinarizer()\n",
    "    all_classes = [\n",
    "        node\n",
    "        for node in graph.nodes\n",
    "        if node != ROOT\n",
    "    ]\n",
    "    # Nb. we pass a (singleton) list-within-a-list as fit() expects an iterable of iterables\n",
    "    mlb.fit([all_classes])\n",
    "\n",
    "    node_label_mapping = {\n",
    "        old_label: new_label\n",
    "        for new_label, old_label in enumerate(list(mlb.classes_))\n",
    "    }\n",
    "\n",
    "    yield (\n",
    "        mlb.transform(y_true),\n",
    "        mlb.transform(y_pred),\n",
    "        relabel_nodes(graph, node_label_mapping),\n",
    ")"
   ]
  },
  {
   "cell_type": "markdown",
   "metadata": {},
   "source": [
    "\n",
    "\n",
    "- - - \n",
    "\n",
    "<br>\n",
    "<br>\n",
    "<br>\n",
    "<br>\n",
    "<br>\n",
    "<br>\n",
    "<br>\n",
    "<br>\n",
    "<br>\n",
    "<br>\n",
    "<br>\n",
    "<br>\n",
    "\n",
    "# Create experiment"
   ]
  },
  {
   "cell_type": "code",
   "execution_count": 4,
   "metadata": {},
   "outputs": [],
   "source": [
    "df = pd.read_csv(\"data/instruments.csv\")\n",
    "df[\"class\"] = df[\"class\"].str.replace(\"-\", \"\")\n",
    "\n",
    "encoding = LabelEncoder()\n",
    "last_classes = df[\"class\"].str.split(\".\").apply(lambda x: x[-1]).unique()\n",
    "encoding.fit(last_classes)\n",
    "\n",
    "if TESTING:\n",
    "    df = df.sample(frac=0.1)\n",
    "    N_SIMUL = 2\n",
    "    \n",
    "all_results = pd.DataFrame(columns=[\"h_fbeta\", \"h_precision\", \"h_recall\", \"model\"])"
   ]
  },
  {
   "cell_type": "code",
   "execution_count": 5,
   "metadata": {},
   "outputs": [
    {
     "name": "stdout",
     "output_type": "stream",
     "text": [
      "{-1: ['Aerophone'],\n",
      " 'Aerophone': ['Wood', 'Brass'],\n",
      " 'Brass': ['7', '8', '6', '3'],\n",
      " 'Wood': ['2', '4', '0', '5', '1']}\n"
     ]
    }
   ],
   "source": [
    "options = [x.split(\".\")[1:] for x in df[\"class\"].unique()]\n",
    "mosquitos_hierarchy = defaultdict(set)\n",
    "\n",
    "for class_ in options:\n",
    "    for previous, current in zip([ROOT]+class_, class_):\n",
    "        if current in last_classes:\n",
    "            class_num = encoding.transform([current])[0]\n",
    "            mosquitos_hierarchy[previous].add(f\"{class_num}\")\n",
    "        else:\n",
    "            mosquitos_hierarchy[previous].add(current)\n",
    "\n",
    "for key in mosquitos_hierarchy.keys():\n",
    "    mosquitos_hierarchy[key] = list(mosquitos_hierarchy[key])\n",
    "\n",
    "mosquitos_hierarchy = dict(mosquitos_hierarchy)\n",
    "\n",
    "pprint(mosquitos_hierarchy)"
   ]
  },
  {
   "cell_type": "markdown",
   "metadata": {},
   "source": [
    "![Hierarquia mosquitos](../images/mosquitos.png)"
   ]
  },
  {
   "cell_type": "markdown",
   "metadata": {},
   "source": [
    "\n",
    "\n",
    "- - - \n",
    "\n",
    "<br>\n",
    "<br>\n",
    "<br>\n",
    "<br>\n",
    "<br>\n",
    "<br>\n",
    "<br>\n",
    "<br>\n",
    "<br>\n",
    "<br>\n",
    "<br>\n",
    "<br>\n"
   ]
  },
  {
   "cell_type": "code",
   "execution_count": 6,
   "metadata": {
    "code_folding": []
   },
   "outputs": [],
   "source": [
    "def run_experiment(df, class_hierarchy, encoding, clf, random_state=RANDOM_STATE):\n",
    "    X = df.drop(columns=\"class\")\n",
    "    y = encoding.transform(df[\"class\"].str.split(\".\").apply(lambda x: x[-1]))\n",
    "    y = y.astype(str)\n",
    "\n",
    "    X_train, X_test, y_train, y_test = train_test_split(X, y, test_size=0.3, \n",
    "                                                        random_state=random_state,\n",
    "                                                       stratify=y)\n",
    "    clf.fit(X_train, y_train)\n",
    "    y_pred = clf.predict(X_test)\n",
    "\n",
    "    if TESTING:\n",
    "        target_names = encoding.inverse_transform(np.sort(np.unique(y)).astype(int))\n",
    "        print(\"Classification Report:\\n\", \n",
    "              classification_report(y_test, y_pred, target_names=target_names))\n",
    "        \n",
    "    print(y_train, y_pred)\n",
    "    # Demonstrate using our hierarchical metrics module with MLB wrapper\n",
    "    try:\n",
    "        my_graph = clf.graph_\n",
    "    except:\n",
    "        my_graph = DiGraph(class_hierarchy)\n",
    "        \n",
    "    print(y_test)\n",
    "    with multi_labeled(y_test, y_pred, my_graph) as (y_test_, y_pred_, graph_):\n",
    "        results = {\n",
    "            \"h_fbeta\": h_fbeta_score(y_test_, y_pred_, graph_),\n",
    "            \"h_precision\": h_precision_score(y_test_, y_pred_, graph_),\n",
    "            \"h_recall\": h_recall_score(y_test_, y_pred_, graph_),\n",
    "        }\n",
    "    return results"
   ]
  },
  {
   "cell_type": "code",
   "execution_count": 7,
   "metadata": {
    "code_folding": [
     0
    ]
   },
   "outputs": [],
   "source": [
    "def print_results(results):\n",
    "    for key, item in results.items():\n",
    "        print(f\"Result for {key}: {item}\")"
   ]
  },
  {
   "cell_type": "markdown",
   "metadata": {},
   "source": [
    "# A better way to evaluate\n",
    "\n",
    "Let's actually use the hierarchical data\n",
    "\n",
    "[Functional Annotation of Genes Using Hierarchical Text Categorization](http://citeseerx.ist.psu.edu/viewdoc/download?doi=10.1.1.68.5824&rep=rep1&type=pdf)"
   ]
  },
  {
   "cell_type": "markdown",
   "metadata": {},
   "source": [
    "## Hierarchical Precision and Recall\n",
    "\n",
    "![](hierarchical_metrics.png)"
   ]
  },
  {
   "cell_type": "markdown",
   "metadata": {},
   "source": [
    "## Hierarchical F1 score\n",
    "\n",
    "The common way of calculating F1 is:\n",
    "![](f1_normal.png)\n",
    "\n",
    "The proposed hierarchical version is:\n",
    "![](f1_hierarchical.png)\n",
    "\n",
    "With beta = 1, we give equal weights to both precision and recall"
   ]
  },
  {
   "cell_type": "markdown",
   "metadata": {},
   "source": [
    "\n",
    "\n",
    "- - - \n",
    "\n",
    "<br>\n",
    "<br>\n",
    "<br>\n",
    "<br>\n",
    "<br>\n",
    "<br>\n",
    "<br>\n",
    "<br>\n",
    "<br>\n",
    "<br>\n",
    "<br>\n",
    "<br>"
   ]
  },
  {
   "cell_type": "markdown",
   "metadata": {},
   "source": [
    "# Models"
   ]
  },
  {
   "cell_type": "markdown",
   "metadata": {},
   "source": [
    "## Flat"
   ]
  },
  {
   "cell_type": "code",
   "execution_count": 8,
   "metadata": {
    "scrolled": true
   },
   "outputs": [
    {
     "data": {
      "application/vnd.jupyter.widget-view+json": {
       "model_id": "aa8de9e0beb443e2b953580b8e0ed736",
       "version_major": 2,
       "version_minor": 0
      },
      "text/plain": [
       "HBox(children=(IntProgress(value=0), HTML(value='')))"
      ]
     },
     "metadata": {},
     "output_type": "display_data"
    },
    {
     "name": "stdout",
     "output_type": "stream",
     "text": [
      "['6' '8' '8' ... '7' '1' '1'] ['5' '2' '7' ... '2' '0' '5']\n",
      "['5' '2' '2' ... '2' '0' '5']\n"
     ]
    },
    {
     "name": "stderr",
     "output_type": "stream",
     "text": [
      "/home/bcoelho/.local/lib/python3.6/site-packages/sklearn_hierarchical_classification/metrics.py:36: FutureWarning: Using a non-tuple sequence for multidimensional indexing is deprecated; use `arr[tuple(seq)]` instead of `arr[seq]`. In the future this will be interpreted as an array index, `arr[np.array(seq)]`, which will result either in an error or a different result.\n",
      "  y_[np.meshgrid(ix_rows, ancestors)] = 1\n"
     ]
    },
    {
     "name": "stdout",
     "output_type": "stream",
     "text": [
      "['0' '1' '2' ... '8' '5' '5'] ['7' '1' '0' ... '8' '1' '8']\n",
      "['7' '1' '0' ... '8' '2' '8']\n"
     ]
    },
    {
     "name": "stderr",
     "output_type": "stream",
     "text": [
      "/home/bcoelho/.local/lib/python3.6/site-packages/sklearn_hierarchical_classification/metrics.py:36: FutureWarning: Using a non-tuple sequence for multidimensional indexing is deprecated; use `arr[tuple(seq)]` instead of `arr[seq]`. In the future this will be interpreted as an array index, `arr[np.array(seq)]`, which will result either in an error or a different result.\n",
      "  y_[np.meshgrid(ix_rows, ancestors)] = 1\n"
     ]
    },
    {
     "name": "stdout",
     "output_type": "stream",
     "text": [
      "['6' '1' '4' ... '2' '7' '2'] ['8' '4' '8' ... '4' '2' '8']\n",
      "['8' '4' '3' ... '4' '2' '8']\n"
     ]
    },
    {
     "name": "stderr",
     "output_type": "stream",
     "text": [
      "/home/bcoelho/.local/lib/python3.6/site-packages/sklearn_hierarchical_classification/metrics.py:36: FutureWarning: Using a non-tuple sequence for multidimensional indexing is deprecated; use `arr[tuple(seq)]` instead of `arr[seq]`. In the future this will be interpreted as an array index, `arr[np.array(seq)]`, which will result either in an error or a different result.\n",
      "  y_[np.meshgrid(ix_rows, ancestors)] = 1\n"
     ]
    },
    {
     "name": "stdout",
     "output_type": "stream",
     "text": [
      "['0' '0' '7' ... '8' '4' '3'] ['1' '8' '2' ... '8' '6' '0']\n",
      "['1' '8' '2' ... '8' '5' '0']\n"
     ]
    },
    {
     "name": "stderr",
     "output_type": "stream",
     "text": [
      "/home/bcoelho/.local/lib/python3.6/site-packages/sklearn_hierarchical_classification/metrics.py:36: FutureWarning: Using a non-tuple sequence for multidimensional indexing is deprecated; use `arr[tuple(seq)]` instead of `arr[seq]`. In the future this will be interpreted as an array index, `arr[np.array(seq)]`, which will result either in an error or a different result.\n",
      "  y_[np.meshgrid(ix_rows, ancestors)] = 1\n"
     ]
    },
    {
     "name": "stdout",
     "output_type": "stream",
     "text": [
      "['5' '6' '3' ... '1' '5' '4'] ['8' '1' '2' ... '6' '6' '8']\n",
      "['8' '3' '2' ... '6' '6' '8']\n"
     ]
    },
    {
     "name": "stderr",
     "output_type": "stream",
     "text": [
      "/home/bcoelho/.local/lib/python3.6/site-packages/sklearn_hierarchical_classification/metrics.py:36: FutureWarning: Using a non-tuple sequence for multidimensional indexing is deprecated; use `arr[tuple(seq)]` instead of `arr[seq]`. In the future this will be interpreted as an array index, `arr[np.array(seq)]`, which will result either in an error or a different result.\n",
      "  y_[np.meshgrid(ix_rows, ancestors)] = 1\n"
     ]
    },
    {
     "name": "stdout",
     "output_type": "stream",
     "text": [
      "['5' '6' '7' ... '5' '8' '6'] ['0' '2' '4' ... '8' '8' '2']\n",
      "['4' '7' '4' ... '8' '8' '2']\n"
     ]
    },
    {
     "name": "stderr",
     "output_type": "stream",
     "text": [
      "/home/bcoelho/.local/lib/python3.6/site-packages/sklearn_hierarchical_classification/metrics.py:36: FutureWarning: Using a non-tuple sequence for multidimensional indexing is deprecated; use `arr[tuple(seq)]` instead of `arr[seq]`. In the future this will be interpreted as an array index, `arr[np.array(seq)]`, which will result either in an error or a different result.\n",
      "  y_[np.meshgrid(ix_rows, ancestors)] = 1\n"
     ]
    },
    {
     "name": "stdout",
     "output_type": "stream",
     "text": [
      "['0' '8' '2' ... '0' '4' '0'] ['8' '6' '3' ... '1' '6' '6']\n",
      "['0' '2' '1' ... '1' '6' '6']\n"
     ]
    },
    {
     "name": "stderr",
     "output_type": "stream",
     "text": [
      "/home/bcoelho/.local/lib/python3.6/site-packages/sklearn_hierarchical_classification/metrics.py:36: FutureWarning: Using a non-tuple sequence for multidimensional indexing is deprecated; use `arr[tuple(seq)]` instead of `arr[seq]`. In the future this will be interpreted as an array index, `arr[np.array(seq)]`, which will result either in an error or a different result.\n",
      "  y_[np.meshgrid(ix_rows, ancestors)] = 1\n"
     ]
    },
    {
     "name": "stdout",
     "output_type": "stream",
     "text": [
      "['1' '3' '8' ... '7' '1' '3'] ['2' '3' '1' ... '1' '4' '2']\n",
      "['2' '3' '1' ... '7' '4' '2']\n"
     ]
    },
    {
     "name": "stderr",
     "output_type": "stream",
     "text": [
      "/home/bcoelho/.local/lib/python3.6/site-packages/sklearn_hierarchical_classification/metrics.py:36: FutureWarning: Using a non-tuple sequence for multidimensional indexing is deprecated; use `arr[tuple(seq)]` instead of `arr[seq]`. In the future this will be interpreted as an array index, `arr[np.array(seq)]`, which will result either in an error or a different result.\n",
      "  y_[np.meshgrid(ix_rows, ancestors)] = 1\n"
     ]
    },
    {
     "name": "stdout",
     "output_type": "stream",
     "text": [
      "['5' '3' '5' ... '8' '5' '3'] ['2' '5' '8' ... '6' '1' '8']\n",
      "['2' '5' '8' ... '5' '7' '8']\n"
     ]
    },
    {
     "name": "stderr",
     "output_type": "stream",
     "text": [
      "/home/bcoelho/.local/lib/python3.6/site-packages/sklearn_hierarchical_classification/metrics.py:36: FutureWarning: Using a non-tuple sequence for multidimensional indexing is deprecated; use `arr[tuple(seq)]` instead of `arr[seq]`. In the future this will be interpreted as an array index, `arr[np.array(seq)]`, which will result either in an error or a different result.\n",
      "  y_[np.meshgrid(ix_rows, ancestors)] = 1\n"
     ]
    },
    {
     "name": "stdout",
     "output_type": "stream",
     "text": [
      "['3' '5' '8' ... '0' '0' '6'] ['4' '3' '8' ... '0' '5' '8']\n",
      "['4' '5' '8' ... '0' '5' '8']\n"
     ]
    },
    {
     "name": "stderr",
     "output_type": "stream",
     "text": [
      "/home/bcoelho/.local/lib/python3.6/site-packages/sklearn_hierarchical_classification/metrics.py:36: FutureWarning: Using a non-tuple sequence for multidimensional indexing is deprecated; use `arr[tuple(seq)]` instead of `arr[seq]`. In the future this will be interpreted as an array index, `arr[np.array(seq)]`, which will result either in an error or a different result.\n",
      "  y_[np.meshgrid(ix_rows, ancestors)] = 1\n"
     ]
    },
    {
     "name": "stdout",
     "output_type": "stream",
     "text": [
      "['4' '2' '8' ... '8' '1' '4'] ['7' '5' '1' ... '1' '6' '2']\n",
      "['5' '5' '4' ... '2' '6' '5']\n"
     ]
    },
    {
     "name": "stderr",
     "output_type": "stream",
     "text": [
      "/home/bcoelho/.local/lib/python3.6/site-packages/sklearn_hierarchical_classification/metrics.py:36: FutureWarning: Using a non-tuple sequence for multidimensional indexing is deprecated; use `arr[tuple(seq)]` instead of `arr[seq]`. In the future this will be interpreted as an array index, `arr[np.array(seq)]`, which will result either in an error or a different result.\n",
      "  y_[np.meshgrid(ix_rows, ancestors)] = 1\n"
     ]
    },
    {
     "name": "stdout",
     "output_type": "stream",
     "text": [
      "['2' '2' '4' ... '0' '3' '6'] ['2' '7' '0' ... '7' '2' '6']\n",
      "['6' '5' '0' ... '2' '2' '6']\n"
     ]
    },
    {
     "name": "stderr",
     "output_type": "stream",
     "text": [
      "/home/bcoelho/.local/lib/python3.6/site-packages/sklearn_hierarchical_classification/metrics.py:36: FutureWarning: Using a non-tuple sequence for multidimensional indexing is deprecated; use `arr[tuple(seq)]` instead of `arr[seq]`. In the future this will be interpreted as an array index, `arr[np.array(seq)]`, which will result either in an error or a different result.\n",
      "  y_[np.meshgrid(ix_rows, ancestors)] = 1\n"
     ]
    },
    {
     "name": "stdout",
     "output_type": "stream",
     "text": [
      "['5' '2' '8' ... '7' '1' '0'] ['8' '1' '2' ... '6' '6' '1']\n",
      "['8' '7' '6' ... '6' '6' '1']\n"
     ]
    },
    {
     "name": "stderr",
     "output_type": "stream",
     "text": [
      "/home/bcoelho/.local/lib/python3.6/site-packages/sklearn_hierarchical_classification/metrics.py:36: FutureWarning: Using a non-tuple sequence for multidimensional indexing is deprecated; use `arr[tuple(seq)]` instead of `arr[seq]`. In the future this will be interpreted as an array index, `arr[np.array(seq)]`, which will result either in an error or a different result.\n",
      "  y_[np.meshgrid(ix_rows, ancestors)] = 1\n"
     ]
    },
    {
     "name": "stdout",
     "output_type": "stream",
     "text": [
      "['8' '2' '1' ... '5' '7' '5'] ['5' '1' '4' ... '4' '0' '8']\n",
      "['5' '4' '4' ... '4' '0' '8']\n"
     ]
    },
    {
     "name": "stderr",
     "output_type": "stream",
     "text": [
      "/home/bcoelho/.local/lib/python3.6/site-packages/sklearn_hierarchical_classification/metrics.py:36: FutureWarning: Using a non-tuple sequence for multidimensional indexing is deprecated; use `arr[tuple(seq)]` instead of `arr[seq]`. In the future this will be interpreted as an array index, `arr[np.array(seq)]`, which will result either in an error or a different result.\n",
      "  y_[np.meshgrid(ix_rows, ancestors)] = 1\n"
     ]
    },
    {
     "name": "stdout",
     "output_type": "stream",
     "text": [
      "['3' '8' '5' ... '8' '8' '7'] ['5' '2' '0' ... '0' '6' '6']\n",
      "['5' '2' '0' ... '0' '6' '7']\n"
     ]
    },
    {
     "name": "stderr",
     "output_type": "stream",
     "text": [
      "/home/bcoelho/.local/lib/python3.6/site-packages/sklearn_hierarchical_classification/metrics.py:36: FutureWarning: Using a non-tuple sequence for multidimensional indexing is deprecated; use `arr[tuple(seq)]` instead of `arr[seq]`. In the future this will be interpreted as an array index, `arr[np.array(seq)]`, which will result either in an error or a different result.\n",
      "  y_[np.meshgrid(ix_rows, ancestors)] = 1\n"
     ]
    },
    {
     "name": "stdout",
     "output_type": "stream",
     "text": [
      "['1' '7' '6' ... '8' '8' '1'] ['5' '1' '7' ... '3' '8' '2']\n",
      "['5' '1' '7' ... '3' '8' '2']\n"
     ]
    },
    {
     "name": "stderr",
     "output_type": "stream",
     "text": [
      "/home/bcoelho/.local/lib/python3.6/site-packages/sklearn_hierarchical_classification/metrics.py:36: FutureWarning: Using a non-tuple sequence for multidimensional indexing is deprecated; use `arr[tuple(seq)]` instead of `arr[seq]`. In the future this will be interpreted as an array index, `arr[np.array(seq)]`, which will result either in an error or a different result.\n",
      "  y_[np.meshgrid(ix_rows, ancestors)] = 1\n"
     ]
    },
    {
     "name": "stdout",
     "output_type": "stream",
     "text": [
      "['3' '7' '0' ... '8' '6' '6'] ['5' '8' '6' ... '2' '6' '0']\n",
      "['5' '8' '6' ... '2' '6' '0']\n"
     ]
    },
    {
     "name": "stderr",
     "output_type": "stream",
     "text": [
      "/home/bcoelho/.local/lib/python3.6/site-packages/sklearn_hierarchical_classification/metrics.py:36: FutureWarning: Using a non-tuple sequence for multidimensional indexing is deprecated; use `arr[tuple(seq)]` instead of `arr[seq]`. In the future this will be interpreted as an array index, `arr[np.array(seq)]`, which will result either in an error or a different result.\n",
      "  y_[np.meshgrid(ix_rows, ancestors)] = 1\n"
     ]
    },
    {
     "name": "stdout",
     "output_type": "stream",
     "text": [
      "['8' '1' '5' ... '3' '5' '5'] ['2' '0' '8' ... '4' '5' '5']\n",
      "['2' '3' '8' ... '5' '5' '3']\n"
     ]
    },
    {
     "name": "stderr",
     "output_type": "stream",
     "text": [
      "/home/bcoelho/.local/lib/python3.6/site-packages/sklearn_hierarchical_classification/metrics.py:36: FutureWarning: Using a non-tuple sequence for multidimensional indexing is deprecated; use `arr[tuple(seq)]` instead of `arr[seq]`. In the future this will be interpreted as an array index, `arr[np.array(seq)]`, which will result either in an error or a different result.\n",
      "  y_[np.meshgrid(ix_rows, ancestors)] = 1\n"
     ]
    },
    {
     "name": "stdout",
     "output_type": "stream",
     "text": [
      "['3' '2' '6' ... '1' '0' '8'] ['7' '8' '2' ... '1' '3' '0']\n",
      "['7' '8' '2' ... '1' '3' '0']\n"
     ]
    },
    {
     "name": "stderr",
     "output_type": "stream",
     "text": [
      "/home/bcoelho/.local/lib/python3.6/site-packages/sklearn_hierarchical_classification/metrics.py:36: FutureWarning: Using a non-tuple sequence for multidimensional indexing is deprecated; use `arr[tuple(seq)]` instead of `arr[seq]`. In the future this will be interpreted as an array index, `arr[np.array(seq)]`, which will result either in an error or a different result.\n",
      "  y_[np.meshgrid(ix_rows, ancestors)] = 1\n"
     ]
    },
    {
     "name": "stdout",
     "output_type": "stream",
     "text": [
      "['4' '1' '2' ... '5' '3' '8'] ['0' '2' '8' ... '3' '4' '2']\n",
      "['0' '2' '8' ... '3' '4' '2']\n"
     ]
    },
    {
     "name": "stderr",
     "output_type": "stream",
     "text": [
      "/home/bcoelho/.local/lib/python3.6/site-packages/sklearn_hierarchical_classification/metrics.py:36: FutureWarning: Using a non-tuple sequence for multidimensional indexing is deprecated; use `arr[tuple(seq)]` instead of `arr[seq]`. In the future this will be interpreted as an array index, `arr[np.array(seq)]`, which will result either in an error or a different result.\n",
      "  y_[np.meshgrid(ix_rows, ancestors)] = 1\n"
     ]
    },
    {
     "name": "stdout",
     "output_type": "stream",
     "text": [
      "['3' '4' '6' ... '1' '1' '2'] ['3' '2' '4' ... '1' '1' '6']\n",
      "['6' '2' '4' ... '1' '1' '6']\n"
     ]
    },
    {
     "name": "stderr",
     "output_type": "stream",
     "text": [
      "/home/bcoelho/.local/lib/python3.6/site-packages/sklearn_hierarchical_classification/metrics.py:36: FutureWarning: Using a non-tuple sequence for multidimensional indexing is deprecated; use `arr[tuple(seq)]` instead of `arr[seq]`. In the future this will be interpreted as an array index, `arr[np.array(seq)]`, which will result either in an error or a different result.\n",
      "  y_[np.meshgrid(ix_rows, ancestors)] = 1\n"
     ]
    },
    {
     "name": "stdout",
     "output_type": "stream",
     "text": [
      "['7' '4' '4' ... '4' '6' '6'] ['2' '2' '3' ... '2' '7' '5']\n",
      "['7' '2' '3' ... '2' '7' '0']\n"
     ]
    },
    {
     "name": "stderr",
     "output_type": "stream",
     "text": [
      "/home/bcoelho/.local/lib/python3.6/site-packages/sklearn_hierarchical_classification/metrics.py:36: FutureWarning: Using a non-tuple sequence for multidimensional indexing is deprecated; use `arr[tuple(seq)]` instead of `arr[seq]`. In the future this will be interpreted as an array index, `arr[np.array(seq)]`, which will result either in an error or a different result.\n",
      "  y_[np.meshgrid(ix_rows, ancestors)] = 1\n"
     ]
    },
    {
     "name": "stdout",
     "output_type": "stream",
     "text": [
      "['7' '8' '6' ... '7' '8' '8'] ['0' '1' '6' ... '2' '5' '0']\n",
      "['0' '1' '3' ... '7' '5' '0']\n"
     ]
    },
    {
     "name": "stderr",
     "output_type": "stream",
     "text": [
      "/home/bcoelho/.local/lib/python3.6/site-packages/sklearn_hierarchical_classification/metrics.py:36: FutureWarning: Using a non-tuple sequence for multidimensional indexing is deprecated; use `arr[tuple(seq)]` instead of `arr[seq]`. In the future this will be interpreted as an array index, `arr[np.array(seq)]`, which will result either in an error or a different result.\n",
      "  y_[np.meshgrid(ix_rows, ancestors)] = 1\n"
     ]
    },
    {
     "name": "stdout",
     "output_type": "stream",
     "text": [
      "['2' '2' '2' ... '5' '8' '2'] ['1' '2' '6' ... '2' '6' '7']\n",
      "['4' '2' '6' ... '1' '6' '5']\n"
     ]
    },
    {
     "name": "stderr",
     "output_type": "stream",
     "text": [
      "/home/bcoelho/.local/lib/python3.6/site-packages/sklearn_hierarchical_classification/metrics.py:36: FutureWarning: Using a non-tuple sequence for multidimensional indexing is deprecated; use `arr[tuple(seq)]` instead of `arr[seq]`. In the future this will be interpreted as an array index, `arr[np.array(seq)]`, which will result either in an error or a different result.\n",
      "  y_[np.meshgrid(ix_rows, ancestors)] = 1\n"
     ]
    },
    {
     "name": "stdout",
     "output_type": "stream",
     "text": [
      "['7' '3' '0' ... '8' '8' '1'] ['4' '5' '4' ... '2' '6' '1']\n",
      "['4' '5' '1' ... '2' '6' '5']\n"
     ]
    },
    {
     "name": "stderr",
     "output_type": "stream",
     "text": [
      "/home/bcoelho/.local/lib/python3.6/site-packages/sklearn_hierarchical_classification/metrics.py:36: FutureWarning: Using a non-tuple sequence for multidimensional indexing is deprecated; use `arr[tuple(seq)]` instead of `arr[seq]`. In the future this will be interpreted as an array index, `arr[np.array(seq)]`, which will result either in an error or a different result.\n",
      "  y_[np.meshgrid(ix_rows, ancestors)] = 1\n"
     ]
    },
    {
     "name": "stdout",
     "output_type": "stream",
     "text": [
      "['0' '6' '7' ... '7' '5' '1'] ['5' '5' '3' ... '0' '3' '7']\n",
      "['1' '5' '3' ... '0' '3' '7']\n"
     ]
    },
    {
     "name": "stderr",
     "output_type": "stream",
     "text": [
      "/home/bcoelho/.local/lib/python3.6/site-packages/sklearn_hierarchical_classification/metrics.py:36: FutureWarning: Using a non-tuple sequence for multidimensional indexing is deprecated; use `arr[tuple(seq)]` instead of `arr[seq]`. In the future this will be interpreted as an array index, `arr[np.array(seq)]`, which will result either in an error or a different result.\n",
      "  y_[np.meshgrid(ix_rows, ancestors)] = 1\n"
     ]
    },
    {
     "name": "stdout",
     "output_type": "stream",
     "text": [
      "['6' '6' '3' ... '7' '8' '1'] ['5' '2' '5' ... '8' '0' '2']\n",
      "['1' '0' '5' ... '8' '0' '2']\n"
     ]
    },
    {
     "name": "stderr",
     "output_type": "stream",
     "text": [
      "/home/bcoelho/.local/lib/python3.6/site-packages/sklearn_hierarchical_classification/metrics.py:36: FutureWarning: Using a non-tuple sequence for multidimensional indexing is deprecated; use `arr[tuple(seq)]` instead of `arr[seq]`. In the future this will be interpreted as an array index, `arr[np.array(seq)]`, which will result either in an error or a different result.\n",
      "  y_[np.meshgrid(ix_rows, ancestors)] = 1\n"
     ]
    },
    {
     "name": "stdout",
     "output_type": "stream",
     "text": [
      "['3' '1' '7' ... '5' '8' '0'] ['4' '0' '5' ... '3' '4' '8']\n",
      "['1' '0' '5' ... '3' '4' '6']\n"
     ]
    },
    {
     "name": "stderr",
     "output_type": "stream",
     "text": [
      "/home/bcoelho/.local/lib/python3.6/site-packages/sklearn_hierarchical_classification/metrics.py:36: FutureWarning: Using a non-tuple sequence for multidimensional indexing is deprecated; use `arr[tuple(seq)]` instead of `arr[seq]`. In the future this will be interpreted as an array index, `arr[np.array(seq)]`, which will result either in an error or a different result.\n",
      "  y_[np.meshgrid(ix_rows, ancestors)] = 1\n"
     ]
    },
    {
     "name": "stdout",
     "output_type": "stream",
     "text": [
      "['6' '7' '8' ... '4' '4' '8'] ['0' '1' '0' ... '6' '1' '3']\n",
      "['3' '1' '0' ... '6' '1' '3']\n"
     ]
    },
    {
     "name": "stderr",
     "output_type": "stream",
     "text": [
      "/home/bcoelho/.local/lib/python3.6/site-packages/sklearn_hierarchical_classification/metrics.py:36: FutureWarning: Using a non-tuple sequence for multidimensional indexing is deprecated; use `arr[tuple(seq)]` instead of `arr[seq]`. In the future this will be interpreted as an array index, `arr[np.array(seq)]`, which will result either in an error or a different result.\n",
      "  y_[np.meshgrid(ix_rows, ancestors)] = 1\n"
     ]
    },
    {
     "name": "stdout",
     "output_type": "stream",
     "text": [
      "['2' '6' '5' ... '1' '2' '7'] ['2' '0' '6' ... '0' '3' '2']\n",
      "['2' '0' '6' ... '6' '8' '2']\n"
     ]
    },
    {
     "name": "stderr",
     "output_type": "stream",
     "text": [
      "/home/bcoelho/.local/lib/python3.6/site-packages/sklearn_hierarchical_classification/metrics.py:36: FutureWarning: Using a non-tuple sequence for multidimensional indexing is deprecated; use `arr[tuple(seq)]` instead of `arr[seq]`. In the future this will be interpreted as an array index, `arr[np.array(seq)]`, which will result either in an error or a different result.\n",
      "  y_[np.meshgrid(ix_rows, ancestors)] = 1\n"
     ]
    },
    {
     "name": "stdout",
     "output_type": "stream",
     "text": [
      "['3' '4' '2' ... '8' '5' '5'] ['3' '0' '4' ... '5' '1' '8']\n",
      "['3' '0' '4' ... '5' '1' '8']\n"
     ]
    },
    {
     "name": "stderr",
     "output_type": "stream",
     "text": [
      "/home/bcoelho/.local/lib/python3.6/site-packages/sklearn_hierarchical_classification/metrics.py:36: FutureWarning: Using a non-tuple sequence for multidimensional indexing is deprecated; use `arr[tuple(seq)]` instead of `arr[seq]`. In the future this will be interpreted as an array index, `arr[np.array(seq)]`, which will result either in an error or a different result.\n",
      "  y_[np.meshgrid(ix_rows, ancestors)] = 1\n"
     ]
    },
    {
     "name": "stdout",
     "output_type": "stream",
     "text": [
      "['3' '8' '6' ... '7' '5' '2'] ['5' '6' '1' ... '4' '5' '1']\n",
      "['5' '6' '1' ... '4' '5' '1']\n"
     ]
    },
    {
     "name": "stderr",
     "output_type": "stream",
     "text": [
      "/home/bcoelho/.local/lib/python3.6/site-packages/sklearn_hierarchical_classification/metrics.py:36: FutureWarning: Using a non-tuple sequence for multidimensional indexing is deprecated; use `arr[tuple(seq)]` instead of `arr[seq]`. In the future this will be interpreted as an array index, `arr[np.array(seq)]`, which will result either in an error or a different result.\n",
      "  y_[np.meshgrid(ix_rows, ancestors)] = 1\n"
     ]
    },
    {
     "name": "stdout",
     "output_type": "stream",
     "text": [
      "['5' '2' '1' ... '8' '5' '6'] ['6' '6' '7' ... '6' '0' '5']\n",
      "['6' '6' '7' ... '6' '0' '1']\n"
     ]
    },
    {
     "name": "stderr",
     "output_type": "stream",
     "text": [
      "/home/bcoelho/.local/lib/python3.6/site-packages/sklearn_hierarchical_classification/metrics.py:36: FutureWarning: Using a non-tuple sequence for multidimensional indexing is deprecated; use `arr[tuple(seq)]` instead of `arr[seq]`. In the future this will be interpreted as an array index, `arr[np.array(seq)]`, which will result either in an error or a different result.\n",
      "  y_[np.meshgrid(ix_rows, ancestors)] = 1\n"
     ]
    },
    {
     "name": "stdout",
     "output_type": "stream",
     "text": [
      "['3' '6' '8' ... '1' '2' '4'] ['7' '3' '1' ... '4' '8' '4']\n",
      "['7' '1' '5' ... '4' '8' '4']\n"
     ]
    },
    {
     "name": "stderr",
     "output_type": "stream",
     "text": [
      "/home/bcoelho/.local/lib/python3.6/site-packages/sklearn_hierarchical_classification/metrics.py:36: FutureWarning: Using a non-tuple sequence for multidimensional indexing is deprecated; use `arr[tuple(seq)]` instead of `arr[seq]`. In the future this will be interpreted as an array index, `arr[np.array(seq)]`, which will result either in an error or a different result.\n",
      "  y_[np.meshgrid(ix_rows, ancestors)] = 1\n"
     ]
    },
    {
     "name": "stdout",
     "output_type": "stream",
     "text": [
      "['0' '0' '2' ... '1' '5' '5'] ['0' '2' '8' ... '2' '5' '8']\n",
      "['5' '2' '8' ... '7' '5' '8']\n"
     ]
    },
    {
     "name": "stderr",
     "output_type": "stream",
     "text": [
      "/home/bcoelho/.local/lib/python3.6/site-packages/sklearn_hierarchical_classification/metrics.py:36: FutureWarning: Using a non-tuple sequence for multidimensional indexing is deprecated; use `arr[tuple(seq)]` instead of `arr[seq]`. In the future this will be interpreted as an array index, `arr[np.array(seq)]`, which will result either in an error or a different result.\n",
      "  y_[np.meshgrid(ix_rows, ancestors)] = 1\n"
     ]
    },
    {
     "name": "stdout",
     "output_type": "stream",
     "text": [
      "['3' '6' '6' ... '2' '6' '5'] ['2' '0' '0' ... '5' '8' '1']\n",
      "['2' '0' '6' ... '5' '8' '1']\n"
     ]
    },
    {
     "name": "stderr",
     "output_type": "stream",
     "text": [
      "/home/bcoelho/.local/lib/python3.6/site-packages/sklearn_hierarchical_classification/metrics.py:36: FutureWarning: Using a non-tuple sequence for multidimensional indexing is deprecated; use `arr[tuple(seq)]` instead of `arr[seq]`. In the future this will be interpreted as an array index, `arr[np.array(seq)]`, which will result either in an error or a different result.\n",
      "  y_[np.meshgrid(ix_rows, ancestors)] = 1\n"
     ]
    },
    {
     "name": "stdout",
     "output_type": "stream",
     "text": [
      "['1' '6' '1' ... '4' '4' '5'] ['2' '2' '0' ... '1' '8' '8']\n",
      "['0' '2' '0' ... '1' '8' '3']\n"
     ]
    },
    {
     "name": "stderr",
     "output_type": "stream",
     "text": [
      "/home/bcoelho/.local/lib/python3.6/site-packages/sklearn_hierarchical_classification/metrics.py:36: FutureWarning: Using a non-tuple sequence for multidimensional indexing is deprecated; use `arr[tuple(seq)]` instead of `arr[seq]`. In the future this will be interpreted as an array index, `arr[np.array(seq)]`, which will result either in an error or a different result.\n",
      "  y_[np.meshgrid(ix_rows, ancestors)] = 1\n"
     ]
    },
    {
     "name": "stdout",
     "output_type": "stream",
     "text": [
      "['1' '0' '8' ... '8' '2' '8'] ['5' '1' '0' ... '6' '2' '8']\n",
      "['5' '1' '0' ... '7' '2' '8']\n"
     ]
    },
    {
     "name": "stderr",
     "output_type": "stream",
     "text": [
      "/home/bcoelho/.local/lib/python3.6/site-packages/sklearn_hierarchical_classification/metrics.py:36: FutureWarning: Using a non-tuple sequence for multidimensional indexing is deprecated; use `arr[tuple(seq)]` instead of `arr[seq]`. In the future this will be interpreted as an array index, `arr[np.array(seq)]`, which will result either in an error or a different result.\n",
      "  y_[np.meshgrid(ix_rows, ancestors)] = 1\n"
     ]
    },
    {
     "name": "stdout",
     "output_type": "stream",
     "text": [
      "['5' '6' '5' ... '0' '4' '3'] ['7' '3' '7' ... '1' '6' '3']\n",
      "['7' '3' '7' ... '1' '6' '3']\n"
     ]
    },
    {
     "name": "stderr",
     "output_type": "stream",
     "text": [
      "/home/bcoelho/.local/lib/python3.6/site-packages/sklearn_hierarchical_classification/metrics.py:36: FutureWarning: Using a non-tuple sequence for multidimensional indexing is deprecated; use `arr[tuple(seq)]` instead of `arr[seq]`. In the future this will be interpreted as an array index, `arr[np.array(seq)]`, which will result either in an error or a different result.\n",
      "  y_[np.meshgrid(ix_rows, ancestors)] = 1\n"
     ]
    },
    {
     "name": "stdout",
     "output_type": "stream",
     "text": [
      "['6' '6' '8' ... '3' '8' '8'] ['4' '5' '7' ... '3' '1' '6']\n",
      "['4' '5' '7' ... '1' '1' '6']\n"
     ]
    },
    {
     "name": "stderr",
     "output_type": "stream",
     "text": [
      "/home/bcoelho/.local/lib/python3.6/site-packages/sklearn_hierarchical_classification/metrics.py:36: FutureWarning: Using a non-tuple sequence for multidimensional indexing is deprecated; use `arr[tuple(seq)]` instead of `arr[seq]`. In the future this will be interpreted as an array index, `arr[np.array(seq)]`, which will result either in an error or a different result.\n",
      "  y_[np.meshgrid(ix_rows, ancestors)] = 1\n"
     ]
    },
    {
     "name": "stdout",
     "output_type": "stream",
     "text": [
      "['3' '7' '3' ... '1' '0' '2'] ['5' '0' '6' ... '1' '3' '1']\n",
      "['5' '0' '6' ... '1' '3' '3']\n"
     ]
    },
    {
     "name": "stderr",
     "output_type": "stream",
     "text": [
      "/home/bcoelho/.local/lib/python3.6/site-packages/sklearn_hierarchical_classification/metrics.py:36: FutureWarning: Using a non-tuple sequence for multidimensional indexing is deprecated; use `arr[tuple(seq)]` instead of `arr[seq]`. In the future this will be interpreted as an array index, `arr[np.array(seq)]`, which will result either in an error or a different result.\n",
      "  y_[np.meshgrid(ix_rows, ancestors)] = 1\n"
     ]
    },
    {
     "name": "stdout",
     "output_type": "stream",
     "text": [
      "['1' '2' '1' ... '6' '0' '0'] ['3' '0' '2' ... '5' '1' '6']\n",
      "['5' '0' '2' ... '5' '1' '5']\n"
     ]
    },
    {
     "name": "stderr",
     "output_type": "stream",
     "text": [
      "/home/bcoelho/.local/lib/python3.6/site-packages/sklearn_hierarchical_classification/metrics.py:36: FutureWarning: Using a non-tuple sequence for multidimensional indexing is deprecated; use `arr[tuple(seq)]` instead of `arr[seq]`. In the future this will be interpreted as an array index, `arr[np.array(seq)]`, which will result either in an error or a different result.\n",
      "  y_[np.meshgrid(ix_rows, ancestors)] = 1\n"
     ]
    },
    {
     "name": "stdout",
     "output_type": "stream",
     "text": [
      "['2' '6' '7' ... '4' '8' '3'] ['1' '2' '1' ... '3' '2' '8']\n",
      "['7' '2' '6' ... '3' '2' '8']\n"
     ]
    },
    {
     "name": "stderr",
     "output_type": "stream",
     "text": [
      "/home/bcoelho/.local/lib/python3.6/site-packages/sklearn_hierarchical_classification/metrics.py:36: FutureWarning: Using a non-tuple sequence for multidimensional indexing is deprecated; use `arr[tuple(seq)]` instead of `arr[seq]`. In the future this will be interpreted as an array index, `arr[np.array(seq)]`, which will result either in an error or a different result.\n",
      "  y_[np.meshgrid(ix_rows, ancestors)] = 1\n"
     ]
    },
    {
     "name": "stdout",
     "output_type": "stream",
     "text": [
      "['3' '5' '8' ... '5' '0' '8'] ['1' '0' '4' ... '5' '2' '7']\n",
      "['4' '0' '4' ... '3' '2' '7']\n"
     ]
    },
    {
     "name": "stderr",
     "output_type": "stream",
     "text": [
      "/home/bcoelho/.local/lib/python3.6/site-packages/sklearn_hierarchical_classification/metrics.py:36: FutureWarning: Using a non-tuple sequence for multidimensional indexing is deprecated; use `arr[tuple(seq)]` instead of `arr[seq]`. In the future this will be interpreted as an array index, `arr[np.array(seq)]`, which will result either in an error or a different result.\n",
      "  y_[np.meshgrid(ix_rows, ancestors)] = 1\n"
     ]
    },
    {
     "name": "stdout",
     "output_type": "stream",
     "text": [
      "['7' '7' '2' ... '3' '6' '8'] ['6' '1' '6' ... '4' '8' '7']\n",
      "['6' '1' '6' ... '4' '8' '2']\n"
     ]
    },
    {
     "name": "stderr",
     "output_type": "stream",
     "text": [
      "/home/bcoelho/.local/lib/python3.6/site-packages/sklearn_hierarchical_classification/metrics.py:36: FutureWarning: Using a non-tuple sequence for multidimensional indexing is deprecated; use `arr[tuple(seq)]` instead of `arr[seq]`. In the future this will be interpreted as an array index, `arr[np.array(seq)]`, which will result either in an error or a different result.\n",
      "  y_[np.meshgrid(ix_rows, ancestors)] = 1\n"
     ]
    },
    {
     "name": "stdout",
     "output_type": "stream",
     "text": [
      "['5' '1' '1' ... '8' '4' '4'] ['7' '8' '2' ... '8' '3' '4']\n",
      "['2' '8' '2' ... '8' '3' '4']\n"
     ]
    },
    {
     "name": "stderr",
     "output_type": "stream",
     "text": [
      "/home/bcoelho/.local/lib/python3.6/site-packages/sklearn_hierarchical_classification/metrics.py:36: FutureWarning: Using a non-tuple sequence for multidimensional indexing is deprecated; use `arr[tuple(seq)]` instead of `arr[seq]`. In the future this will be interpreted as an array index, `arr[np.array(seq)]`, which will result either in an error or a different result.\n",
      "  y_[np.meshgrid(ix_rows, ancestors)] = 1\n"
     ]
    },
    {
     "name": "stdout",
     "output_type": "stream",
     "text": [
      "['7' '0' '7' ... '3' '4' '4'] ['8' '0' '8' ... '8' '7' '4']\n",
      "['8' '0' '8' ... '8' '7' '4']\n"
     ]
    },
    {
     "name": "stderr",
     "output_type": "stream",
     "text": [
      "/home/bcoelho/.local/lib/python3.6/site-packages/sklearn_hierarchical_classification/metrics.py:36: FutureWarning: Using a non-tuple sequence for multidimensional indexing is deprecated; use `arr[tuple(seq)]` instead of `arr[seq]`. In the future this will be interpreted as an array index, `arr[np.array(seq)]`, which will result either in an error or a different result.\n",
      "  y_[np.meshgrid(ix_rows, ancestors)] = 1\n"
     ]
    },
    {
     "name": "stdout",
     "output_type": "stream",
     "text": [
      "['1' '4' '7' ... '1' '4' '3'] ['0' '7' '2' ... '3' '0' '5']\n",
      "['0' '7' '2' ... '3' '0' '2']\n"
     ]
    },
    {
     "name": "stderr",
     "output_type": "stream",
     "text": [
      "/home/bcoelho/.local/lib/python3.6/site-packages/sklearn_hierarchical_classification/metrics.py:36: FutureWarning: Using a non-tuple sequence for multidimensional indexing is deprecated; use `arr[tuple(seq)]` instead of `arr[seq]`. In the future this will be interpreted as an array index, `arr[np.array(seq)]`, which will result either in an error or a different result.\n",
      "  y_[np.meshgrid(ix_rows, ancestors)] = 1\n"
     ]
    },
    {
     "name": "stdout",
     "output_type": "stream",
     "text": [
      "['1' '0' '1' ... '1' '3' '3'] ['2' '5' '0' ... '8' '8' '6']\n",
      "['2' '5' '0' ... '8' '8' '6']\n"
     ]
    },
    {
     "name": "stderr",
     "output_type": "stream",
     "text": [
      "/home/bcoelho/.local/lib/python3.6/site-packages/sklearn_hierarchical_classification/metrics.py:36: FutureWarning: Using a non-tuple sequence for multidimensional indexing is deprecated; use `arr[tuple(seq)]` instead of `arr[seq]`. In the future this will be interpreted as an array index, `arr[np.array(seq)]`, which will result either in an error or a different result.\n",
      "  y_[np.meshgrid(ix_rows, ancestors)] = 1\n"
     ]
    },
    {
     "name": "stdout",
     "output_type": "stream",
     "text": [
      "['7' '0' '2' ... '4' '4' '8'] ['5' '5' '6' ... '3' '2' '3']\n",
      "['5' '5' '6' ... '3' '2' '3']\n"
     ]
    },
    {
     "name": "stderr",
     "output_type": "stream",
     "text": [
      "/home/bcoelho/.local/lib/python3.6/site-packages/sklearn_hierarchical_classification/metrics.py:36: FutureWarning: Using a non-tuple sequence for multidimensional indexing is deprecated; use `arr[tuple(seq)]` instead of `arr[seq]`. In the future this will be interpreted as an array index, `arr[np.array(seq)]`, which will result either in an error or a different result.\n",
      "  y_[np.meshgrid(ix_rows, ancestors)] = 1\n"
     ]
    },
    {
     "name": "stdout",
     "output_type": "stream",
     "text": [
      "['4' '0' '4' ... '4' '4' '4'] ['3' '2' '7' ... '7' '7' '1']\n",
      "['3' '2' '8' ... '5' '5' '1']\n"
     ]
    },
    {
     "name": "stderr",
     "output_type": "stream",
     "text": [
      "/home/bcoelho/.local/lib/python3.6/site-packages/sklearn_hierarchical_classification/metrics.py:36: FutureWarning: Using a non-tuple sequence for multidimensional indexing is deprecated; use `arr[tuple(seq)]` instead of `arr[seq]`. In the future this will be interpreted as an array index, `arr[np.array(seq)]`, which will result either in an error or a different result.\n",
      "  y_[np.meshgrid(ix_rows, ancestors)] = 1\n"
     ]
    },
    {
     "name": "stdout",
     "output_type": "stream",
     "text": [
      "['6' '6' '0' ... '2' '2' '8'] ['4' '8' '1' ... '6' '2' '2']\n",
      "['4' '8' '1' ... '6' '2' '2']\n"
     ]
    },
    {
     "name": "stderr",
     "output_type": "stream",
     "text": [
      "/home/bcoelho/.local/lib/python3.6/site-packages/sklearn_hierarchical_classification/metrics.py:36: FutureWarning: Using a non-tuple sequence for multidimensional indexing is deprecated; use `arr[tuple(seq)]` instead of `arr[seq]`. In the future this will be interpreted as an array index, `arr[np.array(seq)]`, which will result either in an error or a different result.\n",
      "  y_[np.meshgrid(ix_rows, ancestors)] = 1\n"
     ]
    },
    {
     "name": "stdout",
     "output_type": "stream",
     "text": [
      "['3' '2' '2' ... '5' '2' '5'] ['5' '0' '1' ... '0' '8' '2']\n",
      "['5' '0' '1' ... '0' '8' '2']\n"
     ]
    },
    {
     "name": "stderr",
     "output_type": "stream",
     "text": [
      "/home/bcoelho/.local/lib/python3.6/site-packages/sklearn_hierarchical_classification/metrics.py:36: FutureWarning: Using a non-tuple sequence for multidimensional indexing is deprecated; use `arr[tuple(seq)]` instead of `arr[seq]`. In the future this will be interpreted as an array index, `arr[np.array(seq)]`, which will result either in an error or a different result.\n",
      "  y_[np.meshgrid(ix_rows, ancestors)] = 1\n"
     ]
    },
    {
     "name": "stdout",
     "output_type": "stream",
     "text": [
      "['1' '3' '0' ... '8' '8' '2'] ['5' '1' '1' ... '4' '0' '8']\n",
      "['7' '1' '1' ... '1' '3' '8']\n"
     ]
    },
    {
     "name": "stderr",
     "output_type": "stream",
     "text": [
      "/home/bcoelho/.local/lib/python3.6/site-packages/sklearn_hierarchical_classification/metrics.py:36: FutureWarning: Using a non-tuple sequence for multidimensional indexing is deprecated; use `arr[tuple(seq)]` instead of `arr[seq]`. In the future this will be interpreted as an array index, `arr[np.array(seq)]`, which will result either in an error or a different result.\n",
      "  y_[np.meshgrid(ix_rows, ancestors)] = 1\n"
     ]
    },
    {
     "name": "stdout",
     "output_type": "stream",
     "text": [
      "['4' '6' '8' ... '7' '1' '3'] ['5' '4' '5' ... '1' '5' '3']\n",
      "['5' '4' '5' ... '3' '1' '3']\n"
     ]
    },
    {
     "name": "stderr",
     "output_type": "stream",
     "text": [
      "/home/bcoelho/.local/lib/python3.6/site-packages/sklearn_hierarchical_classification/metrics.py:36: FutureWarning: Using a non-tuple sequence for multidimensional indexing is deprecated; use `arr[tuple(seq)]` instead of `arr[seq]`. In the future this will be interpreted as an array index, `arr[np.array(seq)]`, which will result either in an error or a different result.\n",
      "  y_[np.meshgrid(ix_rows, ancestors)] = 1\n"
     ]
    },
    {
     "name": "stdout",
     "output_type": "stream",
     "text": [
      "['2' '1' '0' ... '6' '5' '2'] ['4' '0' '1' ... '4' '7' '8']\n",
      "['4' '3' '1' ... '1' '7' '8']\n"
     ]
    },
    {
     "name": "stderr",
     "output_type": "stream",
     "text": [
      "/home/bcoelho/.local/lib/python3.6/site-packages/sklearn_hierarchical_classification/metrics.py:36: FutureWarning: Using a non-tuple sequence for multidimensional indexing is deprecated; use `arr[tuple(seq)]` instead of `arr[seq]`. In the future this will be interpreted as an array index, `arr[np.array(seq)]`, which will result either in an error or a different result.\n",
      "  y_[np.meshgrid(ix_rows, ancestors)] = 1\n"
     ]
    },
    {
     "name": "stdout",
     "output_type": "stream",
     "text": [
      "['3' '1' '4' ... '2' '6' '2'] ['5' '6' '5' ... '5' '2' '5']\n",
      "['5' '6' '5' ... '5' '2' '8']\n"
     ]
    },
    {
     "name": "stderr",
     "output_type": "stream",
     "text": [
      "/home/bcoelho/.local/lib/python3.6/site-packages/sklearn_hierarchical_classification/metrics.py:36: FutureWarning: Using a non-tuple sequence for multidimensional indexing is deprecated; use `arr[tuple(seq)]` instead of `arr[seq]`. In the future this will be interpreted as an array index, `arr[np.array(seq)]`, which will result either in an error or a different result.\n",
      "  y_[np.meshgrid(ix_rows, ancestors)] = 1\n"
     ]
    },
    {
     "name": "stdout",
     "output_type": "stream",
     "text": [
      "['0' '1' '2' ... '6' '8' '3'] ['6' '7' '7' ... '0' '6' '8']\n",
      "['6' '4' '6' ... '0' '6' '8']\n"
     ]
    },
    {
     "name": "stderr",
     "output_type": "stream",
     "text": [
      "/home/bcoelho/.local/lib/python3.6/site-packages/sklearn_hierarchical_classification/metrics.py:36: FutureWarning: Using a non-tuple sequence for multidimensional indexing is deprecated; use `arr[tuple(seq)]` instead of `arr[seq]`. In the future this will be interpreted as an array index, `arr[np.array(seq)]`, which will result either in an error or a different result.\n",
      "  y_[np.meshgrid(ix_rows, ancestors)] = 1\n"
     ]
    },
    {
     "name": "stdout",
     "output_type": "stream",
     "text": [
      "['5' '3' '1' ... '2' '6' '0'] ['3' '7' '4' ... '0' '2' '3']\n",
      "['3' '7' '4' ... '0' '2' '3']\n"
     ]
    },
    {
     "name": "stderr",
     "output_type": "stream",
     "text": [
      "/home/bcoelho/.local/lib/python3.6/site-packages/sklearn_hierarchical_classification/metrics.py:36: FutureWarning: Using a non-tuple sequence for multidimensional indexing is deprecated; use `arr[tuple(seq)]` instead of `arr[seq]`. In the future this will be interpreted as an array index, `arr[np.array(seq)]`, which will result either in an error or a different result.\n",
      "  y_[np.meshgrid(ix_rows, ancestors)] = 1\n"
     ]
    },
    {
     "name": "stdout",
     "output_type": "stream",
     "text": [
      "['0' '7' '8' ... '1' '6' '7'] ['6' '2' '5' ... '7' '1' '0']\n",
      "['6' '2' '2' ... '7' '1' '0']\n"
     ]
    },
    {
     "name": "stderr",
     "output_type": "stream",
     "text": [
      "/home/bcoelho/.local/lib/python3.6/site-packages/sklearn_hierarchical_classification/metrics.py:36: FutureWarning: Using a non-tuple sequence for multidimensional indexing is deprecated; use `arr[tuple(seq)]` instead of `arr[seq]`. In the future this will be interpreted as an array index, `arr[np.array(seq)]`, which will result either in an error or a different result.\n",
      "  y_[np.meshgrid(ix_rows, ancestors)] = 1\n"
     ]
    },
    {
     "name": "stdout",
     "output_type": "stream",
     "text": [
      "['2' '1' '8' ... '3' '6' '0'] ['2' '6' '0' ... '7' '5' '8']\n",
      "['2' '6' '0' ... '4' '5' '8']\n"
     ]
    },
    {
     "name": "stderr",
     "output_type": "stream",
     "text": [
      "/home/bcoelho/.local/lib/python3.6/site-packages/sklearn_hierarchical_classification/metrics.py:36: FutureWarning: Using a non-tuple sequence for multidimensional indexing is deprecated; use `arr[tuple(seq)]` instead of `arr[seq]`. In the future this will be interpreted as an array index, `arr[np.array(seq)]`, which will result either in an error or a different result.\n",
      "  y_[np.meshgrid(ix_rows, ancestors)] = 1\n"
     ]
    },
    {
     "name": "stdout",
     "output_type": "stream",
     "text": [
      "['1' '3' '0' ... '2' '0' '3'] ['2' '7' '6' ... '7' '2' '8']\n",
      "['2' '5' '6' ... '6' '2' '8']\n"
     ]
    },
    {
     "name": "stderr",
     "output_type": "stream",
     "text": [
      "/home/bcoelho/.local/lib/python3.6/site-packages/sklearn_hierarchical_classification/metrics.py:36: FutureWarning: Using a non-tuple sequence for multidimensional indexing is deprecated; use `arr[tuple(seq)]` instead of `arr[seq]`. In the future this will be interpreted as an array index, `arr[np.array(seq)]`, which will result either in an error or a different result.\n",
      "  y_[np.meshgrid(ix_rows, ancestors)] = 1\n"
     ]
    },
    {
     "name": "stdout",
     "output_type": "stream",
     "text": [
      "['7' '6' '2' ... '6' '8' '4'] ['7' '2' '5' ... '6' '5' '3']\n",
      "['5' '2' '5' ... '6' '5' '3']\n"
     ]
    },
    {
     "name": "stderr",
     "output_type": "stream",
     "text": [
      "/home/bcoelho/.local/lib/python3.6/site-packages/sklearn_hierarchical_classification/metrics.py:36: FutureWarning: Using a non-tuple sequence for multidimensional indexing is deprecated; use `arr[tuple(seq)]` instead of `arr[seq]`. In the future this will be interpreted as an array index, `arr[np.array(seq)]`, which will result either in an error or a different result.\n",
      "  y_[np.meshgrid(ix_rows, ancestors)] = 1\n"
     ]
    },
    {
     "name": "stdout",
     "output_type": "stream",
     "text": [
      "['2' '6' '2' ... '6' '5' '1'] ['0' '2' '5' ... '6' '3' '2']\n",
      "['0' '2' '6' ... '6' '0' '2']\n"
     ]
    },
    {
     "name": "stderr",
     "output_type": "stream",
     "text": [
      "/home/bcoelho/.local/lib/python3.6/site-packages/sklearn_hierarchical_classification/metrics.py:36: FutureWarning: Using a non-tuple sequence for multidimensional indexing is deprecated; use `arr[tuple(seq)]` instead of `arr[seq]`. In the future this will be interpreted as an array index, `arr[np.array(seq)]`, which will result either in an error or a different result.\n",
      "  y_[np.meshgrid(ix_rows, ancestors)] = 1\n"
     ]
    },
    {
     "name": "stdout",
     "output_type": "stream",
     "text": [
      "['4' '8' '7' ... '6' '7' '3'] ['7' '1' '8' ... '5' '6' '2']\n",
      "['7' '5' '8' ... '5' '6' '2']\n"
     ]
    },
    {
     "name": "stderr",
     "output_type": "stream",
     "text": [
      "/home/bcoelho/.local/lib/python3.6/site-packages/sklearn_hierarchical_classification/metrics.py:36: FutureWarning: Using a non-tuple sequence for multidimensional indexing is deprecated; use `arr[tuple(seq)]` instead of `arr[seq]`. In the future this will be interpreted as an array index, `arr[np.array(seq)]`, which will result either in an error or a different result.\n",
      "  y_[np.meshgrid(ix_rows, ancestors)] = 1\n"
     ]
    },
    {
     "name": "stdout",
     "output_type": "stream",
     "text": [
      "['8' '1' '2' ... '0' '2' '6'] ['1' '2' '7' ... '7' '3' '8']\n",
      "['1' '2' '5' ... '7' '3' '8']\n"
     ]
    },
    {
     "name": "stderr",
     "output_type": "stream",
     "text": [
      "/home/bcoelho/.local/lib/python3.6/site-packages/sklearn_hierarchical_classification/metrics.py:36: FutureWarning: Using a non-tuple sequence for multidimensional indexing is deprecated; use `arr[tuple(seq)]` instead of `arr[seq]`. In the future this will be interpreted as an array index, `arr[np.array(seq)]`, which will result either in an error or a different result.\n",
      "  y_[np.meshgrid(ix_rows, ancestors)] = 1\n"
     ]
    },
    {
     "name": "stdout",
     "output_type": "stream",
     "text": [
      "['5' '3' '1' ... '5' '0' '8'] ['2' '8' '8' ... '8' '8' '6']\n",
      "['2' '8' '8' ... '8' '8' '7']\n"
     ]
    },
    {
     "name": "stderr",
     "output_type": "stream",
     "text": [
      "/home/bcoelho/.local/lib/python3.6/site-packages/sklearn_hierarchical_classification/metrics.py:36: FutureWarning: Using a non-tuple sequence for multidimensional indexing is deprecated; use `arr[tuple(seq)]` instead of `arr[seq]`. In the future this will be interpreted as an array index, `arr[np.array(seq)]`, which will result either in an error or a different result.\n",
      "  y_[np.meshgrid(ix_rows, ancestors)] = 1\n"
     ]
    },
    {
     "name": "stdout",
     "output_type": "stream",
     "text": [
      "['5' '0' '1' ... '6' '8' '2'] ['4' '8' '6' ... '2' '4' '8']\n",
      "['4' '8' '6' ... '2' '4' '6']\n"
     ]
    },
    {
     "name": "stderr",
     "output_type": "stream",
     "text": [
      "/home/bcoelho/.local/lib/python3.6/site-packages/sklearn_hierarchical_classification/metrics.py:36: FutureWarning: Using a non-tuple sequence for multidimensional indexing is deprecated; use `arr[tuple(seq)]` instead of `arr[seq]`. In the future this will be interpreted as an array index, `arr[np.array(seq)]`, which will result either in an error or a different result.\n",
      "  y_[np.meshgrid(ix_rows, ancestors)] = 1\n"
     ]
    },
    {
     "name": "stdout",
     "output_type": "stream",
     "text": [
      "['0' '5' '0' ... '2' '5' '0'] ['0' '5' '6' ... '5' '8' '2']\n",
      "['0' '5' '6' ... '5' '8' '2']\n"
     ]
    },
    {
     "name": "stderr",
     "output_type": "stream",
     "text": [
      "/home/bcoelho/.local/lib/python3.6/site-packages/sklearn_hierarchical_classification/metrics.py:36: FutureWarning: Using a non-tuple sequence for multidimensional indexing is deprecated; use `arr[tuple(seq)]` instead of `arr[seq]`. In the future this will be interpreted as an array index, `arr[np.array(seq)]`, which will result either in an error or a different result.\n",
      "  y_[np.meshgrid(ix_rows, ancestors)] = 1\n"
     ]
    },
    {
     "name": "stdout",
     "output_type": "stream",
     "text": [
      "['7' '8' '2' ... '2' '2' '2'] ['6' '0' '4' ... '1' '2' '2']\n",
      "['3' '3' '4' ... '4' '2' '2']\n"
     ]
    },
    {
     "name": "stderr",
     "output_type": "stream",
     "text": [
      "/home/bcoelho/.local/lib/python3.6/site-packages/sklearn_hierarchical_classification/metrics.py:36: FutureWarning: Using a non-tuple sequence for multidimensional indexing is deprecated; use `arr[tuple(seq)]` instead of `arr[seq]`. In the future this will be interpreted as an array index, `arr[np.array(seq)]`, which will result either in an error or a different result.\n",
      "  y_[np.meshgrid(ix_rows, ancestors)] = 1\n"
     ]
    },
    {
     "name": "stdout",
     "output_type": "stream",
     "text": [
      "['1' '5' '2' ... '8' '4' '7'] ['6' '3' '8' ... '5' '6' '1']\n",
      "['6' '6' '8' ... '3' '6' '1']\n"
     ]
    },
    {
     "name": "stderr",
     "output_type": "stream",
     "text": [
      "/home/bcoelho/.local/lib/python3.6/site-packages/sklearn_hierarchical_classification/metrics.py:36: FutureWarning: Using a non-tuple sequence for multidimensional indexing is deprecated; use `arr[tuple(seq)]` instead of `arr[seq]`. In the future this will be interpreted as an array index, `arr[np.array(seq)]`, which will result either in an error or a different result.\n",
      "  y_[np.meshgrid(ix_rows, ancestors)] = 1\n"
     ]
    },
    {
     "name": "stdout",
     "output_type": "stream",
     "text": [
      "['5' '8' '2' ... '7' '0' '2'] ['6' '0' '5' ... '7' '1' '8']\n",
      "['4' '0' '5' ... '2' '1' '8']\n"
     ]
    },
    {
     "name": "stderr",
     "output_type": "stream",
     "text": [
      "/home/bcoelho/.local/lib/python3.6/site-packages/sklearn_hierarchical_classification/metrics.py:36: FutureWarning: Using a non-tuple sequence for multidimensional indexing is deprecated; use `arr[tuple(seq)]` instead of `arr[seq]`. In the future this will be interpreted as an array index, `arr[np.array(seq)]`, which will result either in an error or a different result.\n",
      "  y_[np.meshgrid(ix_rows, ancestors)] = 1\n"
     ]
    },
    {
     "name": "stdout",
     "output_type": "stream",
     "text": [
      "['2' '2' '1' ... '1' '4' '6'] ['5' '5' '4' ... '2' '1' '3']\n",
      "['5' '3' '4' ... '7' '1' '3']\n"
     ]
    },
    {
     "name": "stderr",
     "output_type": "stream",
     "text": [
      "/home/bcoelho/.local/lib/python3.6/site-packages/sklearn_hierarchical_classification/metrics.py:36: FutureWarning: Using a non-tuple sequence for multidimensional indexing is deprecated; use `arr[tuple(seq)]` instead of `arr[seq]`. In the future this will be interpreted as an array index, `arr[np.array(seq)]`, which will result either in an error or a different result.\n",
      "  y_[np.meshgrid(ix_rows, ancestors)] = 1\n"
     ]
    },
    {
     "name": "stdout",
     "output_type": "stream",
     "text": [
      "['6' '6' '6' ... '2' '1' '7'] ['6' '5' '5' ... '6' '3' '7']\n",
      "['6' '5' '5' ... '6' '3' '7']\n"
     ]
    },
    {
     "name": "stderr",
     "output_type": "stream",
     "text": [
      "/home/bcoelho/.local/lib/python3.6/site-packages/sklearn_hierarchical_classification/metrics.py:36: FutureWarning: Using a non-tuple sequence for multidimensional indexing is deprecated; use `arr[tuple(seq)]` instead of `arr[seq]`. In the future this will be interpreted as an array index, `arr[np.array(seq)]`, which will result either in an error or a different result.\n",
      "  y_[np.meshgrid(ix_rows, ancestors)] = 1\n"
     ]
    },
    {
     "name": "stdout",
     "output_type": "stream",
     "text": [
      "['0' '8' '5' ... '8' '3' '8'] ['8' '7' '8' ... '8' '7' '6']\n",
      "['8' '7' '8' ... '8' '4' '7']\n"
     ]
    },
    {
     "name": "stderr",
     "output_type": "stream",
     "text": [
      "/home/bcoelho/.local/lib/python3.6/site-packages/sklearn_hierarchical_classification/metrics.py:36: FutureWarning: Using a non-tuple sequence for multidimensional indexing is deprecated; use `arr[tuple(seq)]` instead of `arr[seq]`. In the future this will be interpreted as an array index, `arr[np.array(seq)]`, which will result either in an error or a different result.\n",
      "  y_[np.meshgrid(ix_rows, ancestors)] = 1\n"
     ]
    },
    {
     "name": "stdout",
     "output_type": "stream",
     "text": [
      "['3' '1' '6' ... '6' '8' '0'] ['7' '2' '1' ... '2' '4' '2']\n",
      "['7' '2' '1' ... '1' '4' '2']\n"
     ]
    },
    {
     "name": "stderr",
     "output_type": "stream",
     "text": [
      "/home/bcoelho/.local/lib/python3.6/site-packages/sklearn_hierarchical_classification/metrics.py:36: FutureWarning: Using a non-tuple sequence for multidimensional indexing is deprecated; use `arr[tuple(seq)]` instead of `arr[seq]`. In the future this will be interpreted as an array index, `arr[np.array(seq)]`, which will result either in an error or a different result.\n",
      "  y_[np.meshgrid(ix_rows, ancestors)] = 1\n"
     ]
    },
    {
     "name": "stdout",
     "output_type": "stream",
     "text": [
      "['6' '6' '1' ... '4' '7' '6'] ['8' '1' '1' ... '2' '7' '5']\n",
      "['8' '3' '6' ... '2' '2' '5']\n"
     ]
    },
    {
     "name": "stderr",
     "output_type": "stream",
     "text": [
      "/home/bcoelho/.local/lib/python3.6/site-packages/sklearn_hierarchical_classification/metrics.py:36: FutureWarning: Using a non-tuple sequence for multidimensional indexing is deprecated; use `arr[tuple(seq)]` instead of `arr[seq]`. In the future this will be interpreted as an array index, `arr[np.array(seq)]`, which will result either in an error or a different result.\n",
      "  y_[np.meshgrid(ix_rows, ancestors)] = 1\n"
     ]
    },
    {
     "name": "stdout",
     "output_type": "stream",
     "text": [
      "['7' '0' '8' ... '1' '0' '8'] ['2' '3' '5' ... '7' '5' '6']\n",
      "['2' '3' '1' ... '6' '5' '6']\n"
     ]
    },
    {
     "name": "stderr",
     "output_type": "stream",
     "text": [
      "/home/bcoelho/.local/lib/python3.6/site-packages/sklearn_hierarchical_classification/metrics.py:36: FutureWarning: Using a non-tuple sequence for multidimensional indexing is deprecated; use `arr[tuple(seq)]` instead of `arr[seq]`. In the future this will be interpreted as an array index, `arr[np.array(seq)]`, which will result either in an error or a different result.\n",
      "  y_[np.meshgrid(ix_rows, ancestors)] = 1\n"
     ]
    },
    {
     "name": "stdout",
     "output_type": "stream",
     "text": [
      "['0' '7' '8' ... '1' '5' '1'] ['8' '6' '3' ... '5' '3' '0']\n",
      "['3' '6' '3' ... '5' '3' '0']\n"
     ]
    },
    {
     "name": "stderr",
     "output_type": "stream",
     "text": [
      "/home/bcoelho/.local/lib/python3.6/site-packages/sklearn_hierarchical_classification/metrics.py:36: FutureWarning: Using a non-tuple sequence for multidimensional indexing is deprecated; use `arr[tuple(seq)]` instead of `arr[seq]`. In the future this will be interpreted as an array index, `arr[np.array(seq)]`, which will result either in an error or a different result.\n",
      "  y_[np.meshgrid(ix_rows, ancestors)] = 1\n"
     ]
    },
    {
     "name": "stdout",
     "output_type": "stream",
     "text": [
      "['7' '0' '2' ... '3' '5' '8'] ['3' '1' '1' ... '0' '5' '0']\n",
      "['3' '1' '1' ... '0' '5' '0']\n"
     ]
    },
    {
     "name": "stderr",
     "output_type": "stream",
     "text": [
      "/home/bcoelho/.local/lib/python3.6/site-packages/sklearn_hierarchical_classification/metrics.py:36: FutureWarning: Using a non-tuple sequence for multidimensional indexing is deprecated; use `arr[tuple(seq)]` instead of `arr[seq]`. In the future this will be interpreted as an array index, `arr[np.array(seq)]`, which will result either in an error or a different result.\n",
      "  y_[np.meshgrid(ix_rows, ancestors)] = 1\n"
     ]
    },
    {
     "name": "stdout",
     "output_type": "stream",
     "text": [
      "['6' '1' '2' ... '1' '3' '3'] ['5' '2' '0' ... '8' '8' '2']\n",
      "['5' '2' '0' ... '8' '8' '2']\n"
     ]
    },
    {
     "name": "stderr",
     "output_type": "stream",
     "text": [
      "/home/bcoelho/.local/lib/python3.6/site-packages/sklearn_hierarchical_classification/metrics.py:36: FutureWarning: Using a non-tuple sequence for multidimensional indexing is deprecated; use `arr[tuple(seq)]` instead of `arr[seq]`. In the future this will be interpreted as an array index, `arr[np.array(seq)]`, which will result either in an error or a different result.\n",
      "  y_[np.meshgrid(ix_rows, ancestors)] = 1\n"
     ]
    },
    {
     "name": "stdout",
     "output_type": "stream",
     "text": [
      "['1' '8' '6' ... '3' '5' '5'] ['6' '4' '1' ... '2' '5' '6']\n",
      "['6' '6' '2' ... '2' '4' '6']\n"
     ]
    },
    {
     "name": "stderr",
     "output_type": "stream",
     "text": [
      "/home/bcoelho/.local/lib/python3.6/site-packages/sklearn_hierarchical_classification/metrics.py:36: FutureWarning: Using a non-tuple sequence for multidimensional indexing is deprecated; use `arr[tuple(seq)]` instead of `arr[seq]`. In the future this will be interpreted as an array index, `arr[np.array(seq)]`, which will result either in an error or a different result.\n",
      "  y_[np.meshgrid(ix_rows, ancestors)] = 1\n"
     ]
    },
    {
     "name": "stdout",
     "output_type": "stream",
     "text": [
      "['5' '5' '4' ... '2' '5' '4'] ['2' '2' '1' ... '5' '2' '2']\n",
      "['2' '2' '1' ... '5' '0' '2']\n"
     ]
    },
    {
     "name": "stderr",
     "output_type": "stream",
     "text": [
      "/home/bcoelho/.local/lib/python3.6/site-packages/sklearn_hierarchical_classification/metrics.py:36: FutureWarning: Using a non-tuple sequence for multidimensional indexing is deprecated; use `arr[tuple(seq)]` instead of `arr[seq]`. In the future this will be interpreted as an array index, `arr[np.array(seq)]`, which will result either in an error or a different result.\n",
      "  y_[np.meshgrid(ix_rows, ancestors)] = 1\n"
     ]
    },
    {
     "name": "stdout",
     "output_type": "stream",
     "text": [
      "['3' '5' '6' ... '8' '4' '6'] ['1' '2' '5' ... '2' '4' '5']\n",
      "['7' '2' '0' ... '2' '3' '5']\n"
     ]
    },
    {
     "name": "stderr",
     "output_type": "stream",
     "text": [
      "/home/bcoelho/.local/lib/python3.6/site-packages/sklearn_hierarchical_classification/metrics.py:36: FutureWarning: Using a non-tuple sequence for multidimensional indexing is deprecated; use `arr[tuple(seq)]` instead of `arr[seq]`. In the future this will be interpreted as an array index, `arr[np.array(seq)]`, which will result either in an error or a different result.\n",
      "  y_[np.meshgrid(ix_rows, ancestors)] = 1\n"
     ]
    },
    {
     "name": "stdout",
     "output_type": "stream",
     "text": [
      "['2' '3' '2' ... '4' '2' '3'] ['3' '8' '7' ... '0' '8' '7']\n",
      "['3' '8' '6' ... '0' '8' '7']\n"
     ]
    },
    {
     "name": "stderr",
     "output_type": "stream",
     "text": [
      "/home/bcoelho/.local/lib/python3.6/site-packages/sklearn_hierarchical_classification/metrics.py:36: FutureWarning: Using a non-tuple sequence for multidimensional indexing is deprecated; use `arr[tuple(seq)]` instead of `arr[seq]`. In the future this will be interpreted as an array index, `arr[np.array(seq)]`, which will result either in an error or a different result.\n",
      "  y_[np.meshgrid(ix_rows, ancestors)] = 1\n"
     ]
    },
    {
     "name": "stdout",
     "output_type": "stream",
     "text": [
      "['6' '4' '6' ... '5' '5' '1'] ['8' '1' '1' ... '3' '2' '8']\n",
      "['8' '1' '1' ... '3' '2' '8']\n"
     ]
    },
    {
     "name": "stderr",
     "output_type": "stream",
     "text": [
      "/home/bcoelho/.local/lib/python3.6/site-packages/sklearn_hierarchical_classification/metrics.py:36: FutureWarning: Using a non-tuple sequence for multidimensional indexing is deprecated; use `arr[tuple(seq)]` instead of `arr[seq]`. In the future this will be interpreted as an array index, `arr[np.array(seq)]`, which will result either in an error or a different result.\n",
      "  y_[np.meshgrid(ix_rows, ancestors)] = 1\n"
     ]
    },
    {
     "name": "stdout",
     "output_type": "stream",
     "text": [
      "['0' '3' '5' ... '2' '0' '2'] ['3' '0' '5' ... '0' '0' '8']\n",
      "['1' '0' '5' ... '2' '0' '8']\n"
     ]
    },
    {
     "name": "stderr",
     "output_type": "stream",
     "text": [
      "/home/bcoelho/.local/lib/python3.6/site-packages/sklearn_hierarchical_classification/metrics.py:36: FutureWarning: Using a non-tuple sequence for multidimensional indexing is deprecated; use `arr[tuple(seq)]` instead of `arr[seq]`. In the future this will be interpreted as an array index, `arr[np.array(seq)]`, which will result either in an error or a different result.\n",
      "  y_[np.meshgrid(ix_rows, ancestors)] = 1\n"
     ]
    },
    {
     "name": "stdout",
     "output_type": "stream",
     "text": [
      "['2' '0' '3' ... '8' '1' '1'] ['7' '4' '6' ... '3' '2' '4']\n",
      "['7' '4' '6' ... '0' '2' '4']\n"
     ]
    },
    {
     "name": "stderr",
     "output_type": "stream",
     "text": [
      "/home/bcoelho/.local/lib/python3.6/site-packages/sklearn_hierarchical_classification/metrics.py:36: FutureWarning: Using a non-tuple sequence for multidimensional indexing is deprecated; use `arr[tuple(seq)]` instead of `arr[seq]`. In the future this will be interpreted as an array index, `arr[np.array(seq)]`, which will result either in an error or a different result.\n",
      "  y_[np.meshgrid(ix_rows, ancestors)] = 1\n"
     ]
    },
    {
     "name": "stdout",
     "output_type": "stream",
     "text": [
      "['8' '8' '8' ... '3' '5' '1'] ['1' '8' '2' ... '2' '4' '4']\n",
      "['7' '8' '5' ... '2' '4' '1']\n"
     ]
    },
    {
     "name": "stderr",
     "output_type": "stream",
     "text": [
      "/home/bcoelho/.local/lib/python3.6/site-packages/sklearn_hierarchical_classification/metrics.py:36: FutureWarning: Using a non-tuple sequence for multidimensional indexing is deprecated; use `arr[tuple(seq)]` instead of `arr[seq]`. In the future this will be interpreted as an array index, `arr[np.array(seq)]`, which will result either in an error or a different result.\n",
      "  y_[np.meshgrid(ix_rows, ancestors)] = 1\n"
     ]
    },
    {
     "name": "stdout",
     "output_type": "stream",
     "text": [
      "['1' '0' '2' ... '1' '3' '1'] ['1' '8' '8' ... '0' '4' '3']\n",
      "['4' '8' '8' ... '0' '4' '3']\n"
     ]
    },
    {
     "name": "stderr",
     "output_type": "stream",
     "text": [
      "/home/bcoelho/.local/lib/python3.6/site-packages/sklearn_hierarchical_classification/metrics.py:36: FutureWarning: Using a non-tuple sequence for multidimensional indexing is deprecated; use `arr[tuple(seq)]` instead of `arr[seq]`. In the future this will be interpreted as an array index, `arr[np.array(seq)]`, which will result either in an error or a different result.\n",
      "  y_[np.meshgrid(ix_rows, ancestors)] = 1\n"
     ]
    },
    {
     "name": "stdout",
     "output_type": "stream",
     "text": [
      "['5' '5' '0' ... '5' '1' '2'] ['2' '2' '8' ... '6' '1' '8']\n",
      "['2' '2' '3' ... '6' '1' '8']\n"
     ]
    },
    {
     "name": "stderr",
     "output_type": "stream",
     "text": [
      "/home/bcoelho/.local/lib/python3.6/site-packages/sklearn_hierarchical_classification/metrics.py:36: FutureWarning: Using a non-tuple sequence for multidimensional indexing is deprecated; use `arr[tuple(seq)]` instead of `arr[seq]`. In the future this will be interpreted as an array index, `arr[np.array(seq)]`, which will result either in an error or a different result.\n",
      "  y_[np.meshgrid(ix_rows, ancestors)] = 1\n"
     ]
    },
    {
     "name": "stdout",
     "output_type": "stream",
     "text": [
      "['3' '5' '7' ... '5' '0' '7'] ['8' '5' '5' ... '5' '4' '2']\n",
      "['8' '5' '1' ... '5' '4' '2']\n"
     ]
    },
    {
     "name": "stderr",
     "output_type": "stream",
     "text": [
      "/home/bcoelho/.local/lib/python3.6/site-packages/sklearn_hierarchical_classification/metrics.py:36: FutureWarning: Using a non-tuple sequence for multidimensional indexing is deprecated; use `arr[tuple(seq)]` instead of `arr[seq]`. In the future this will be interpreted as an array index, `arr[np.array(seq)]`, which will result either in an error or a different result.\n",
      "  y_[np.meshgrid(ix_rows, ancestors)] = 1\n"
     ]
    },
    {
     "name": "stdout",
     "output_type": "stream",
     "text": [
      "['8' '1' '7' ... '0' '1' '1'] ['1' '5' '0' ... '3' '1' '4']\n",
      "['2' '5' '0' ... '5' '1' '4']\n"
     ]
    },
    {
     "name": "stderr",
     "output_type": "stream",
     "text": [
      "/home/bcoelho/.local/lib/python3.6/site-packages/sklearn_hierarchical_classification/metrics.py:36: FutureWarning: Using a non-tuple sequence for multidimensional indexing is deprecated; use `arr[tuple(seq)]` instead of `arr[seq]`. In the future this will be interpreted as an array index, `arr[np.array(seq)]`, which will result either in an error or a different result.\n",
      "  y_[np.meshgrid(ix_rows, ancestors)] = 1\n"
     ]
    },
    {
     "name": "stdout",
     "output_type": "stream",
     "text": [
      "['6' '1' '4' ... '4' '8' '5'] ['1' '2' '1' ... '8' '1' '8']\n",
      "['1' '7' '1' ... '8' '1' '8']\n"
     ]
    },
    {
     "name": "stderr",
     "output_type": "stream",
     "text": [
      "/home/bcoelho/.local/lib/python3.6/site-packages/sklearn_hierarchical_classification/metrics.py:36: FutureWarning: Using a non-tuple sequence for multidimensional indexing is deprecated; use `arr[tuple(seq)]` instead of `arr[seq]`. In the future this will be interpreted as an array index, `arr[np.array(seq)]`, which will result either in an error or a different result.\n",
      "  y_[np.meshgrid(ix_rows, ancestors)] = 1\n"
     ]
    },
    {
     "name": "stdout",
     "output_type": "stream",
     "text": [
      "['8' '4' '5' ... '3' '5' '3'] ['5' '1' '3' ... '5' '4' '1']\n",
      "['5' '1' '0' ... '5' '4' '1']\n"
     ]
    },
    {
     "name": "stderr",
     "output_type": "stream",
     "text": [
      "/home/bcoelho/.local/lib/python3.6/site-packages/sklearn_hierarchical_classification/metrics.py:36: FutureWarning: Using a non-tuple sequence for multidimensional indexing is deprecated; use `arr[tuple(seq)]` instead of `arr[seq]`. In the future this will be interpreted as an array index, `arr[np.array(seq)]`, which will result either in an error or a different result.\n",
      "  y_[np.meshgrid(ix_rows, ancestors)] = 1\n"
     ]
    },
    {
     "name": "stdout",
     "output_type": "stream",
     "text": [
      "['8' '5' '1' ... '2' '1' '8'] ['6' '5' '8' ... '0' '8' '0']\n",
      "['6' '5' '8' ... '0' '8' '0']\n"
     ]
    },
    {
     "name": "stderr",
     "output_type": "stream",
     "text": [
      "/home/bcoelho/.local/lib/python3.6/site-packages/sklearn_hierarchical_classification/metrics.py:36: FutureWarning: Using a non-tuple sequence for multidimensional indexing is deprecated; use `arr[tuple(seq)]` instead of `arr[seq]`. In the future this will be interpreted as an array index, `arr[np.array(seq)]`, which will result either in an error or a different result.\n",
      "  y_[np.meshgrid(ix_rows, ancestors)] = 1\n"
     ]
    },
    {
     "name": "stdout",
     "output_type": "stream",
     "text": [
      "['5' '6' '5' ... '5' '8' '7'] ['1' '0' '6' ... '1' '0' '4']\n",
      "['1' '0' '6' ... '1' '0' '0']\n"
     ]
    },
    {
     "name": "stderr",
     "output_type": "stream",
     "text": [
      "/home/bcoelho/.local/lib/python3.6/site-packages/sklearn_hierarchical_classification/metrics.py:36: FutureWarning: Using a non-tuple sequence for multidimensional indexing is deprecated; use `arr[tuple(seq)]` instead of `arr[seq]`. In the future this will be interpreted as an array index, `arr[np.array(seq)]`, which will result either in an error or a different result.\n",
      "  y_[np.meshgrid(ix_rows, ancestors)] = 1\n"
     ]
    },
    {
     "name": "stdout",
     "output_type": "stream",
     "text": [
      "['3' '0' '0' ... '6' '5' '6'] ['5' '2' '3' ... '7' '1' '1']\n",
      "['5' '2' '6' ... '7' '0' '1']\n"
     ]
    },
    {
     "name": "stderr",
     "output_type": "stream",
     "text": [
      "/home/bcoelho/.local/lib/python3.6/site-packages/sklearn_hierarchical_classification/metrics.py:36: FutureWarning: Using a non-tuple sequence for multidimensional indexing is deprecated; use `arr[tuple(seq)]` instead of `arr[seq]`. In the future this will be interpreted as an array index, `arr[np.array(seq)]`, which will result either in an error or a different result.\n",
      "  y_[np.meshgrid(ix_rows, ancestors)] = 1\n"
     ]
    },
    {
     "name": "stdout",
     "output_type": "stream",
     "text": [
      "['3' '0' '3' ... '0' '1' '8'] ['7' '8' '0' ... '1' '3' '0']\n",
      "['7' '8' '0' ... '1' '3' '0']\n"
     ]
    },
    {
     "name": "stderr",
     "output_type": "stream",
     "text": [
      "/home/bcoelho/.local/lib/python3.6/site-packages/sklearn_hierarchical_classification/metrics.py:36: FutureWarning: Using a non-tuple sequence for multidimensional indexing is deprecated; use `arr[tuple(seq)]` instead of `arr[seq]`. In the future this will be interpreted as an array index, `arr[np.array(seq)]`, which will result either in an error or a different result.\n",
      "  y_[np.meshgrid(ix_rows, ancestors)] = 1\n"
     ]
    },
    {
     "name": "stdout",
     "output_type": "stream",
     "text": [
      "['6' '3' '8' ... '1' '1' '2'] ['3' '5' '0' ... '1' '5' '4']\n",
      "['6' '5' '0' ... '4' '5' '4']\n",
      "\n",
      "CPU times: user 26.5 s, sys: 108 ms, total: 26.6 s\n",
      "Wall time: 26.5 s\n"
     ]
    },
    {
     "name": "stderr",
     "output_type": "stream",
     "text": [
      "/home/bcoelho/.local/lib/python3.6/site-packages/sklearn_hierarchical_classification/metrics.py:36: FutureWarning: Using a non-tuple sequence for multidimensional indexing is deprecated; use `arr[tuple(seq)]` instead of `arr[seq]`. In the future this will be interpreted as an array index, `arr[np.array(seq)]`, which will result either in an error or a different result.\n",
      "  y_[np.meshgrid(ix_rows, ancestors)] = 1\n"
     ]
    }
   ],
   "source": [
    "%%time\n",
    "for i in tqdm_notebook(range(N_SIMUL)):\n",
    "    rdm_state = RANDOM_STATE + i\n",
    "    clf = BASE_MODEL(random_state=rdm_state)\n",
    "    results = run_experiment(df, mosquitos_hierarchy, encoding, \n",
    "                             clf, random_state=rdm_state)\n",
    "    \n",
    "    all_results.loc[len(all_results), :] = list(results.values()) + [\"flat\"]"
   ]
  },
  {
   "cell_type": "markdown",
   "metadata": {},
   "source": [
    "\n",
    "\n",
    "- - - \n",
    "\n",
    "<br>\n",
    "<br>\n",
    "<br>\n",
    "<br>\n",
    "<br>\n",
    "<br>\n",
    "<br>\n",
    "<br>\n",
    "<br>\n",
    "<br>\n",
    "<br>\n",
    "<br>"
   ]
  },
  {
   "cell_type": "markdown",
   "metadata": {},
   "source": [
    "## Top Down"
   ]
  },
  {
   "cell_type": "markdown",
   "metadata": {},
   "source": [
    "### 1 multiclass classifier per Node"
   ]
  },
  {
   "cell_type": "code",
   "execution_count": 9,
   "metadata": {
    "scrolled": true
   },
   "outputs": [
    {
     "data": {
      "application/vnd.jupyter.widget-view+json": {
       "model_id": "ebf69cdafee748ecbcc59b2ddded3815",
       "version_major": 2,
       "version_minor": 0
      },
      "text/plain": [
       "HBox(children=(IntProgress(value=0), HTML(value='')))"
      ]
     },
     "metadata": {},
     "output_type": "display_data"
    },
    {
     "name": "stdout",
     "output_type": "stream",
     "text": [
      "['6' '8' '8' ... '7' '1' '1'] ['0' '2' '2' ... '2' '0' '3']\n",
      "['5' '2' '2' ... '2' '0' '5']\n"
     ]
    },
    {
     "name": "stderr",
     "output_type": "stream",
     "text": [
      "/home/bcoelho/.local/lib/python3.6/site-packages/sklearn_hierarchical_classification/metrics.py:36: FutureWarning: Using a non-tuple sequence for multidimensional indexing is deprecated; use `arr[tuple(seq)]` instead of `arr[seq]`. In the future this will be interpreted as an array index, `arr[np.array(seq)]`, which will result either in an error or a different result.\n",
      "  y_[np.meshgrid(ix_rows, ancestors)] = 1\n"
     ]
    },
    {
     "name": "stdout",
     "output_type": "stream",
     "text": [
      "['0' '1' '2' ... '8' '5' '5'] ['6' '1' '0' ... '8' '0' '8']\n",
      "['7' '1' '0' ... '8' '2' '8']\n"
     ]
    },
    {
     "name": "stderr",
     "output_type": "stream",
     "text": [
      "/home/bcoelho/.local/lib/python3.6/site-packages/sklearn_hierarchical_classification/metrics.py:36: FutureWarning: Using a non-tuple sequence for multidimensional indexing is deprecated; use `arr[tuple(seq)]` instead of `arr[seq]`. In the future this will be interpreted as an array index, `arr[np.array(seq)]`, which will result either in an error or a different result.\n",
      "  y_[np.meshgrid(ix_rows, ancestors)] = 1\n"
     ]
    },
    {
     "name": "stdout",
     "output_type": "stream",
     "text": [
      "['6' '1' '4' ... '2' '7' '2'] ['8' '4' '3' ... '4' '2' '8']\n",
      "['8' '4' '3' ... '4' '2' '8']\n"
     ]
    },
    {
     "name": "stderr",
     "output_type": "stream",
     "text": [
      "/home/bcoelho/.local/lib/python3.6/site-packages/sklearn_hierarchical_classification/metrics.py:36: FutureWarning: Using a non-tuple sequence for multidimensional indexing is deprecated; use `arr[tuple(seq)]` instead of `arr[seq]`. In the future this will be interpreted as an array index, `arr[np.array(seq)]`, which will result either in an error or a different result.\n",
      "  y_[np.meshgrid(ix_rows, ancestors)] = 1\n"
     ]
    },
    {
     "name": "stdout",
     "output_type": "stream",
     "text": [
      "['0' '0' '7' ... '8' '4' '3'] ['1' '8' '2' ... '8' '5' '0']\n",
      "['1' '8' '2' ... '8' '5' '0']\n"
     ]
    },
    {
     "name": "stderr",
     "output_type": "stream",
     "text": [
      "/home/bcoelho/.local/lib/python3.6/site-packages/sklearn_hierarchical_classification/metrics.py:36: FutureWarning: Using a non-tuple sequence for multidimensional indexing is deprecated; use `arr[tuple(seq)]` instead of `arr[seq]`. In the future this will be interpreted as an array index, `arr[np.array(seq)]`, which will result either in an error or a different result.\n",
      "  y_[np.meshgrid(ix_rows, ancestors)] = 1\n"
     ]
    },
    {
     "name": "stdout",
     "output_type": "stream",
     "text": [
      "['5' '6' '3' ... '1' '5' '4'] ['8' '3' '2' ... '6' '3' '8']\n",
      "['8' '3' '2' ... '6' '6' '8']\n"
     ]
    },
    {
     "name": "stderr",
     "output_type": "stream",
     "text": [
      "/home/bcoelho/.local/lib/python3.6/site-packages/sklearn_hierarchical_classification/metrics.py:36: FutureWarning: Using a non-tuple sequence for multidimensional indexing is deprecated; use `arr[tuple(seq)]` instead of `arr[seq]`. In the future this will be interpreted as an array index, `arr[np.array(seq)]`, which will result either in an error or a different result.\n",
      "  y_[np.meshgrid(ix_rows, ancestors)] = 1\n"
     ]
    },
    {
     "name": "stdout",
     "output_type": "stream",
     "text": [
      "['5' '6' '7' ... '5' '8' '6'] ['4' '7' '4' ... '8' '8' '1']\n",
      "['4' '7' '4' ... '8' '8' '2']\n"
     ]
    },
    {
     "name": "stderr",
     "output_type": "stream",
     "text": [
      "/home/bcoelho/.local/lib/python3.6/site-packages/sklearn_hierarchical_classification/metrics.py:36: FutureWarning: Using a non-tuple sequence for multidimensional indexing is deprecated; use `arr[tuple(seq)]` instead of `arr[seq]`. In the future this will be interpreted as an array index, `arr[np.array(seq)]`, which will result either in an error or a different result.\n",
      "  y_[np.meshgrid(ix_rows, ancestors)] = 1\n"
     ]
    },
    {
     "name": "stdout",
     "output_type": "stream",
     "text": [
      "['0' '8' '2' ... '0' '4' '0'] ['0' '2' '1' ... '1' '6' '6']\n",
      "['0' '2' '1' ... '1' '6' '6']\n"
     ]
    },
    {
     "name": "stderr",
     "output_type": "stream",
     "text": [
      "/home/bcoelho/.local/lib/python3.6/site-packages/sklearn_hierarchical_classification/metrics.py:36: FutureWarning: Using a non-tuple sequence for multidimensional indexing is deprecated; use `arr[tuple(seq)]` instead of `arr[seq]`. In the future this will be interpreted as an array index, `arr[np.array(seq)]`, which will result either in an error or a different result.\n",
      "  y_[np.meshgrid(ix_rows, ancestors)] = 1\n"
     ]
    },
    {
     "name": "stdout",
     "output_type": "stream",
     "text": [
      "['1' '3' '8' ... '7' '1' '3'] ['1' '5' '1' ... '5' '4' '2']\n",
      "['2' '3' '1' ... '7' '4' '2']\n"
     ]
    },
    {
     "name": "stderr",
     "output_type": "stream",
     "text": [
      "/home/bcoelho/.local/lib/python3.6/site-packages/sklearn_hierarchical_classification/metrics.py:36: FutureWarning: Using a non-tuple sequence for multidimensional indexing is deprecated; use `arr[tuple(seq)]` instead of `arr[seq]`. In the future this will be interpreted as an array index, `arr[np.array(seq)]`, which will result either in an error or a different result.\n",
      "  y_[np.meshgrid(ix_rows, ancestors)] = 1\n"
     ]
    },
    {
     "name": "stdout",
     "output_type": "stream",
     "text": [
      "['5' '3' '5' ... '8' '5' '3'] ['2' '5' '8' ... '5' '2' '8']\n",
      "['2' '5' '8' ... '5' '7' '8']\n"
     ]
    },
    {
     "name": "stderr",
     "output_type": "stream",
     "text": [
      "/home/bcoelho/.local/lib/python3.6/site-packages/sklearn_hierarchical_classification/metrics.py:36: FutureWarning: Using a non-tuple sequence for multidimensional indexing is deprecated; use `arr[tuple(seq)]` instead of `arr[seq]`. In the future this will be interpreted as an array index, `arr[np.array(seq)]`, which will result either in an error or a different result.\n",
      "  y_[np.meshgrid(ix_rows, ancestors)] = 1\n"
     ]
    },
    {
     "name": "stdout",
     "output_type": "stream",
     "text": [
      "['3' '5' '8' ... '0' '0' '6'] ['4' '3' '8' ... '0' '7' '8']\n",
      "['4' '5' '8' ... '0' '5' '8']\n"
     ]
    },
    {
     "name": "stderr",
     "output_type": "stream",
     "text": [
      "/home/bcoelho/.local/lib/python3.6/site-packages/sklearn_hierarchical_classification/metrics.py:36: FutureWarning: Using a non-tuple sequence for multidimensional indexing is deprecated; use `arr[tuple(seq)]` instead of `arr[seq]`. In the future this will be interpreted as an array index, `arr[np.array(seq)]`, which will result either in an error or a different result.\n",
      "  y_[np.meshgrid(ix_rows, ancestors)] = 1\n"
     ]
    },
    {
     "name": "stdout",
     "output_type": "stream",
     "text": [
      "['4' '2' '8' ... '8' '1' '4'] ['5' '6' '4' ... '2' '4' '5']\n",
      "['5' '5' '4' ... '2' '6' '5']\n"
     ]
    },
    {
     "name": "stderr",
     "output_type": "stream",
     "text": [
      "/home/bcoelho/.local/lib/python3.6/site-packages/sklearn_hierarchical_classification/metrics.py:36: FutureWarning: Using a non-tuple sequence for multidimensional indexing is deprecated; use `arr[tuple(seq)]` instead of `arr[seq]`. In the future this will be interpreted as an array index, `arr[np.array(seq)]`, which will result either in an error or a different result.\n",
      "  y_[np.meshgrid(ix_rows, ancestors)] = 1\n"
     ]
    },
    {
     "name": "stdout",
     "output_type": "stream",
     "text": [
      "['2' '2' '4' ... '0' '3' '6'] ['3' '7' '3' ... '7' '2' '7']\n",
      "['6' '5' '0' ... '2' '2' '6']\n"
     ]
    },
    {
     "name": "stderr",
     "output_type": "stream",
     "text": [
      "/home/bcoelho/.local/lib/python3.6/site-packages/sklearn_hierarchical_classification/metrics.py:36: FutureWarning: Using a non-tuple sequence for multidimensional indexing is deprecated; use `arr[tuple(seq)]` instead of `arr[seq]`. In the future this will be interpreted as an array index, `arr[np.array(seq)]`, which will result either in an error or a different result.\n",
      "  y_[np.meshgrid(ix_rows, ancestors)] = 1\n"
     ]
    },
    {
     "name": "stdout",
     "output_type": "stream",
     "text": [
      "['5' '2' '8' ... '7' '1' '0'] ['8' '7' '6' ... '6' '6' '1']\n",
      "['8' '7' '6' ... '6' '6' '1']\n"
     ]
    },
    {
     "name": "stderr",
     "output_type": "stream",
     "text": [
      "/home/bcoelho/.local/lib/python3.6/site-packages/sklearn_hierarchical_classification/metrics.py:36: FutureWarning: Using a non-tuple sequence for multidimensional indexing is deprecated; use `arr[tuple(seq)]` instead of `arr[seq]`. In the future this will be interpreted as an array index, `arr[np.array(seq)]`, which will result either in an error or a different result.\n",
      "  y_[np.meshgrid(ix_rows, ancestors)] = 1\n"
     ]
    },
    {
     "name": "stdout",
     "output_type": "stream",
     "text": [
      "['8' '2' '1' ... '5' '7' '5'] ['5' '1' '4' ... '4' '6' '8']\n",
      "['5' '4' '4' ... '4' '0' '8']\n"
     ]
    },
    {
     "name": "stderr",
     "output_type": "stream",
     "text": [
      "/home/bcoelho/.local/lib/python3.6/site-packages/sklearn_hierarchical_classification/metrics.py:36: FutureWarning: Using a non-tuple sequence for multidimensional indexing is deprecated; use `arr[tuple(seq)]` instead of `arr[seq]`. In the future this will be interpreted as an array index, `arr[np.array(seq)]`, which will result either in an error or a different result.\n",
      "  y_[np.meshgrid(ix_rows, ancestors)] = 1\n"
     ]
    },
    {
     "name": "stdout",
     "output_type": "stream",
     "text": [
      "['3' '8' '5' ... '8' '8' '7'] ['6' '2' '0' ... '0' '6' '6']\n",
      "['5' '2' '0' ... '0' '6' '7']\n"
     ]
    },
    {
     "name": "stderr",
     "output_type": "stream",
     "text": [
      "/home/bcoelho/.local/lib/python3.6/site-packages/sklearn_hierarchical_classification/metrics.py:36: FutureWarning: Using a non-tuple sequence for multidimensional indexing is deprecated; use `arr[tuple(seq)]` instead of `arr[seq]`. In the future this will be interpreted as an array index, `arr[np.array(seq)]`, which will result either in an error or a different result.\n",
      "  y_[np.meshgrid(ix_rows, ancestors)] = 1\n"
     ]
    },
    {
     "name": "stdout",
     "output_type": "stream",
     "text": [
      "['1' '7' '6' ... '8' '8' '1'] ['5' '1' '7' ... '3' '8' '4']\n",
      "['5' '1' '7' ... '3' '8' '2']\n"
     ]
    },
    {
     "name": "stderr",
     "output_type": "stream",
     "text": [
      "/home/bcoelho/.local/lib/python3.6/site-packages/sklearn_hierarchical_classification/metrics.py:36: FutureWarning: Using a non-tuple sequence for multidimensional indexing is deprecated; use `arr[tuple(seq)]` instead of `arr[seq]`. In the future this will be interpreted as an array index, `arr[np.array(seq)]`, which will result either in an error or a different result.\n",
      "  y_[np.meshgrid(ix_rows, ancestors)] = 1\n"
     ]
    },
    {
     "name": "stdout",
     "output_type": "stream",
     "text": [
      "['3' '7' '0' ... '8' '6' '6'] ['5' '8' '6' ... '2' '8' '3']\n",
      "['5' '8' '6' ... '2' '6' '0']\n"
     ]
    },
    {
     "name": "stderr",
     "output_type": "stream",
     "text": [
      "/home/bcoelho/.local/lib/python3.6/site-packages/sklearn_hierarchical_classification/metrics.py:36: FutureWarning: Using a non-tuple sequence for multidimensional indexing is deprecated; use `arr[tuple(seq)]` instead of `arr[seq]`. In the future this will be interpreted as an array index, `arr[np.array(seq)]`, which will result either in an error or a different result.\n",
      "  y_[np.meshgrid(ix_rows, ancestors)] = 1\n"
     ]
    },
    {
     "name": "stdout",
     "output_type": "stream",
     "text": [
      "['8' '1' '5' ... '3' '5' '5'] ['2' '3' '8' ... '1' '7' '3']\n",
      "['2' '3' '8' ... '5' '5' '3']\n"
     ]
    },
    {
     "name": "stderr",
     "output_type": "stream",
     "text": [
      "/home/bcoelho/.local/lib/python3.6/site-packages/sklearn_hierarchical_classification/metrics.py:36: FutureWarning: Using a non-tuple sequence for multidimensional indexing is deprecated; use `arr[tuple(seq)]` instead of `arr[seq]`. In the future this will be interpreted as an array index, `arr[np.array(seq)]`, which will result either in an error or a different result.\n",
      "  y_[np.meshgrid(ix_rows, ancestors)] = 1\n"
     ]
    },
    {
     "name": "stdout",
     "output_type": "stream",
     "text": [
      "['3' '2' '6' ... '1' '0' '8'] ['7' '8' '2' ... '1' '3' '0']\n",
      "['7' '8' '2' ... '1' '3' '0']\n"
     ]
    },
    {
     "name": "stderr",
     "output_type": "stream",
     "text": [
      "/home/bcoelho/.local/lib/python3.6/site-packages/sklearn_hierarchical_classification/metrics.py:36: FutureWarning: Using a non-tuple sequence for multidimensional indexing is deprecated; use `arr[tuple(seq)]` instead of `arr[seq]`. In the future this will be interpreted as an array index, `arr[np.array(seq)]`, which will result either in an error or a different result.\n",
      "  y_[np.meshgrid(ix_rows, ancestors)] = 1\n"
     ]
    },
    {
     "name": "stdout",
     "output_type": "stream",
     "text": [
      "['4' '1' '2' ... '5' '3' '8'] ['0' '2' '8' ... '3' '4' '2']\n",
      "['0' '2' '8' ... '3' '4' '2']\n"
     ]
    },
    {
     "name": "stderr",
     "output_type": "stream",
     "text": [
      "/home/bcoelho/.local/lib/python3.6/site-packages/sklearn_hierarchical_classification/metrics.py:36: FutureWarning: Using a non-tuple sequence for multidimensional indexing is deprecated; use `arr[tuple(seq)]` instead of `arr[seq]`. In the future this will be interpreted as an array index, `arr[np.array(seq)]`, which will result either in an error or a different result.\n",
      "  y_[np.meshgrid(ix_rows, ancestors)] = 1\n"
     ]
    },
    {
     "name": "stdout",
     "output_type": "stream",
     "text": [
      "['3' '4' '6' ... '1' '1' '2'] ['6' '2' '4' ... '1' '1' '6']\n",
      "['6' '2' '4' ... '1' '1' '6']\n"
     ]
    },
    {
     "name": "stderr",
     "output_type": "stream",
     "text": [
      "/home/bcoelho/.local/lib/python3.6/site-packages/sklearn_hierarchical_classification/metrics.py:36: FutureWarning: Using a non-tuple sequence for multidimensional indexing is deprecated; use `arr[tuple(seq)]` instead of `arr[seq]`. In the future this will be interpreted as an array index, `arr[np.array(seq)]`, which will result either in an error or a different result.\n",
      "  y_[np.meshgrid(ix_rows, ancestors)] = 1\n"
     ]
    },
    {
     "name": "stdout",
     "output_type": "stream",
     "text": [
      "['7' '4' '4' ... '4' '6' '6'] ['5' '2' '3' ... '2' '7' '0']\n",
      "['7' '2' '3' ... '2' '7' '0']\n"
     ]
    },
    {
     "name": "stderr",
     "output_type": "stream",
     "text": [
      "/home/bcoelho/.local/lib/python3.6/site-packages/sklearn_hierarchical_classification/metrics.py:36: FutureWarning: Using a non-tuple sequence for multidimensional indexing is deprecated; use `arr[tuple(seq)]` instead of `arr[seq]`. In the future this will be interpreted as an array index, `arr[np.array(seq)]`, which will result either in an error or a different result.\n",
      "  y_[np.meshgrid(ix_rows, ancestors)] = 1\n"
     ]
    },
    {
     "name": "stdout",
     "output_type": "stream",
     "text": [
      "['7' '8' '6' ... '7' '8' '8'] ['0' '1' '3' ... '7' '5' '0']\n",
      "['0' '1' '3' ... '7' '5' '0']\n"
     ]
    },
    {
     "name": "stderr",
     "output_type": "stream",
     "text": [
      "/home/bcoelho/.local/lib/python3.6/site-packages/sklearn_hierarchical_classification/metrics.py:36: FutureWarning: Using a non-tuple sequence for multidimensional indexing is deprecated; use `arr[tuple(seq)]` instead of `arr[seq]`. In the future this will be interpreted as an array index, `arr[np.array(seq)]`, which will result either in an error or a different result.\n",
      "  y_[np.meshgrid(ix_rows, ancestors)] = 1\n"
     ]
    },
    {
     "name": "stdout",
     "output_type": "stream",
     "text": [
      "['2' '2' '2' ... '5' '8' '2'] ['1' '2' '6' ... '2' '6' '5']\n",
      "['4' '2' '6' ... '1' '6' '5']\n"
     ]
    },
    {
     "name": "stderr",
     "output_type": "stream",
     "text": [
      "/home/bcoelho/.local/lib/python3.6/site-packages/sklearn_hierarchical_classification/metrics.py:36: FutureWarning: Using a non-tuple sequence for multidimensional indexing is deprecated; use `arr[tuple(seq)]` instead of `arr[seq]`. In the future this will be interpreted as an array index, `arr[np.array(seq)]`, which will result either in an error or a different result.\n",
      "  y_[np.meshgrid(ix_rows, ancestors)] = 1\n"
     ]
    },
    {
     "name": "stdout",
     "output_type": "stream",
     "text": [
      "['7' '3' '0' ... '8' '8' '1'] ['4' '5' '0' ... '2' '6' '4']\n",
      "['4' '5' '1' ... '2' '6' '5']\n"
     ]
    },
    {
     "name": "stderr",
     "output_type": "stream",
     "text": [
      "/home/bcoelho/.local/lib/python3.6/site-packages/sklearn_hierarchical_classification/metrics.py:36: FutureWarning: Using a non-tuple sequence for multidimensional indexing is deprecated; use `arr[tuple(seq)]` instead of `arr[seq]`. In the future this will be interpreted as an array index, `arr[np.array(seq)]`, which will result either in an error or a different result.\n",
      "  y_[np.meshgrid(ix_rows, ancestors)] = 1\n"
     ]
    },
    {
     "name": "stdout",
     "output_type": "stream",
     "text": [
      "['0' '6' '7' ... '7' '5' '1'] ['6' '5' '3' ... '0' '3' '7']\n",
      "['1' '5' '3' ... '0' '3' '7']\n"
     ]
    },
    {
     "name": "stderr",
     "output_type": "stream",
     "text": [
      "/home/bcoelho/.local/lib/python3.6/site-packages/sklearn_hierarchical_classification/metrics.py:36: FutureWarning: Using a non-tuple sequence for multidimensional indexing is deprecated; use `arr[tuple(seq)]` instead of `arr[seq]`. In the future this will be interpreted as an array index, `arr[np.array(seq)]`, which will result either in an error or a different result.\n",
      "  y_[np.meshgrid(ix_rows, ancestors)] = 1\n"
     ]
    },
    {
     "name": "stdout",
     "output_type": "stream",
     "text": [
      "['6' '6' '3' ... '7' '8' '1'] ['2' '0' '5' ... '8' '0' '2']\n",
      "['1' '0' '5' ... '8' '0' '2']\n"
     ]
    },
    {
     "name": "stderr",
     "output_type": "stream",
     "text": [
      "/home/bcoelho/.local/lib/python3.6/site-packages/sklearn_hierarchical_classification/metrics.py:36: FutureWarning: Using a non-tuple sequence for multidimensional indexing is deprecated; use `arr[tuple(seq)]` instead of `arr[seq]`. In the future this will be interpreted as an array index, `arr[np.array(seq)]`, which will result either in an error or a different result.\n",
      "  y_[np.meshgrid(ix_rows, ancestors)] = 1\n"
     ]
    },
    {
     "name": "stdout",
     "output_type": "stream",
     "text": [
      "['3' '1' '7' ... '5' '8' '0'] ['4' '0' '5' ... '3' '4' '8']\n",
      "['1' '0' '5' ... '3' '4' '6']\n"
     ]
    },
    {
     "name": "stderr",
     "output_type": "stream",
     "text": [
      "/home/bcoelho/.local/lib/python3.6/site-packages/sklearn_hierarchical_classification/metrics.py:36: FutureWarning: Using a non-tuple sequence for multidimensional indexing is deprecated; use `arr[tuple(seq)]` instead of `arr[seq]`. In the future this will be interpreted as an array index, `arr[np.array(seq)]`, which will result either in an error or a different result.\n",
      "  y_[np.meshgrid(ix_rows, ancestors)] = 1\n"
     ]
    },
    {
     "name": "stdout",
     "output_type": "stream",
     "text": [
      "['6' '7' '8' ... '4' '4' '8'] ['0' '1' '5' ... '6' '1' '3']\n",
      "['3' '1' '0' ... '6' '1' '3']\n"
     ]
    },
    {
     "name": "stderr",
     "output_type": "stream",
     "text": [
      "/home/bcoelho/.local/lib/python3.6/site-packages/sklearn_hierarchical_classification/metrics.py:36: FutureWarning: Using a non-tuple sequence for multidimensional indexing is deprecated; use `arr[tuple(seq)]` instead of `arr[seq]`. In the future this will be interpreted as an array index, `arr[np.array(seq)]`, which will result either in an error or a different result.\n",
      "  y_[np.meshgrid(ix_rows, ancestors)] = 1\n"
     ]
    },
    {
     "name": "stdout",
     "output_type": "stream",
     "text": [
      "['2' '6' '5' ... '1' '2' '7'] ['2' '0' '6' ... '6' '3' '2']\n",
      "['2' '0' '6' ... '6' '8' '2']\n"
     ]
    },
    {
     "name": "stderr",
     "output_type": "stream",
     "text": [
      "/home/bcoelho/.local/lib/python3.6/site-packages/sklearn_hierarchical_classification/metrics.py:36: FutureWarning: Using a non-tuple sequence for multidimensional indexing is deprecated; use `arr[tuple(seq)]` instead of `arr[seq]`. In the future this will be interpreted as an array index, `arr[np.array(seq)]`, which will result either in an error or a different result.\n",
      "  y_[np.meshgrid(ix_rows, ancestors)] = 1\n"
     ]
    },
    {
     "name": "stdout",
     "output_type": "stream",
     "text": [
      "['3' '4' '2' ... '8' '5' '5'] ['3' '0' '2' ... '6' '1' '8']\n",
      "['3' '0' '4' ... '5' '1' '8']\n"
     ]
    },
    {
     "name": "stderr",
     "output_type": "stream",
     "text": [
      "/home/bcoelho/.local/lib/python3.6/site-packages/sklearn_hierarchical_classification/metrics.py:36: FutureWarning: Using a non-tuple sequence for multidimensional indexing is deprecated; use `arr[tuple(seq)]` instead of `arr[seq]`. In the future this will be interpreted as an array index, `arr[np.array(seq)]`, which will result either in an error or a different result.\n",
      "  y_[np.meshgrid(ix_rows, ancestors)] = 1\n"
     ]
    },
    {
     "name": "stdout",
     "output_type": "stream",
     "text": [
      "['3' '8' '6' ... '7' '5' '2'] ['5' '6' '1' ... '4' '4' '5']\n",
      "['5' '6' '1' ... '4' '5' '1']\n"
     ]
    },
    {
     "name": "stderr",
     "output_type": "stream",
     "text": [
      "/home/bcoelho/.local/lib/python3.6/site-packages/sklearn_hierarchical_classification/metrics.py:36: FutureWarning: Using a non-tuple sequence for multidimensional indexing is deprecated; use `arr[tuple(seq)]` instead of `arr[seq]`. In the future this will be interpreted as an array index, `arr[np.array(seq)]`, which will result either in an error or a different result.\n",
      "  y_[np.meshgrid(ix_rows, ancestors)] = 1\n"
     ]
    },
    {
     "name": "stdout",
     "output_type": "stream",
     "text": [
      "['5' '2' '1' ... '8' '5' '6'] ['6' '6' '4' ... '6' '0' '1']\n",
      "['6' '6' '7' ... '6' '0' '1']\n"
     ]
    },
    {
     "name": "stderr",
     "output_type": "stream",
     "text": [
      "/home/bcoelho/.local/lib/python3.6/site-packages/sklearn_hierarchical_classification/metrics.py:36: FutureWarning: Using a non-tuple sequence for multidimensional indexing is deprecated; use `arr[tuple(seq)]` instead of `arr[seq]`. In the future this will be interpreted as an array index, `arr[np.array(seq)]`, which will result either in an error or a different result.\n",
      "  y_[np.meshgrid(ix_rows, ancestors)] = 1\n"
     ]
    },
    {
     "name": "stdout",
     "output_type": "stream",
     "text": [
      "['3' '6' '8' ... '1' '2' '4'] ['7' '1' '1' ... '4' '8' '4']\n",
      "['7' '1' '5' ... '4' '8' '4']\n"
     ]
    },
    {
     "name": "stderr",
     "output_type": "stream",
     "text": [
      "/home/bcoelho/.local/lib/python3.6/site-packages/sklearn_hierarchical_classification/metrics.py:36: FutureWarning: Using a non-tuple sequence for multidimensional indexing is deprecated; use `arr[tuple(seq)]` instead of `arr[seq]`. In the future this will be interpreted as an array index, `arr[np.array(seq)]`, which will result either in an error or a different result.\n",
      "  y_[np.meshgrid(ix_rows, ancestors)] = 1\n"
     ]
    },
    {
     "name": "stdout",
     "output_type": "stream",
     "text": [
      "['0' '0' '2' ... '1' '5' '5'] ['5' '2' '8' ... '7' '7' '8']\n",
      "['5' '2' '8' ... '7' '5' '8']\n"
     ]
    },
    {
     "name": "stderr",
     "output_type": "stream",
     "text": [
      "/home/bcoelho/.local/lib/python3.6/site-packages/sklearn_hierarchical_classification/metrics.py:36: FutureWarning: Using a non-tuple sequence for multidimensional indexing is deprecated; use `arr[tuple(seq)]` instead of `arr[seq]`. In the future this will be interpreted as an array index, `arr[np.array(seq)]`, which will result either in an error or a different result.\n",
      "  y_[np.meshgrid(ix_rows, ancestors)] = 1\n"
     ]
    },
    {
     "name": "stdout",
     "output_type": "stream",
     "text": [
      "['3' '6' '6' ... '2' '6' '5'] ['2' '0' '0' ... '5' '8' '8']\n",
      "['2' '0' '6' ... '5' '8' '1']\n"
     ]
    },
    {
     "name": "stderr",
     "output_type": "stream",
     "text": [
      "/home/bcoelho/.local/lib/python3.6/site-packages/sklearn_hierarchical_classification/metrics.py:36: FutureWarning: Using a non-tuple sequence for multidimensional indexing is deprecated; use `arr[tuple(seq)]` instead of `arr[seq]`. In the future this will be interpreted as an array index, `arr[np.array(seq)]`, which will result either in an error or a different result.\n",
      "  y_[np.meshgrid(ix_rows, ancestors)] = 1\n"
     ]
    },
    {
     "name": "stdout",
     "output_type": "stream",
     "text": [
      "['1' '6' '1' ... '4' '4' '5'] ['2' '2' '0' ... '1' '8' '8']\n",
      "['0' '2' '0' ... '1' '8' '3']\n"
     ]
    },
    {
     "name": "stderr",
     "output_type": "stream",
     "text": [
      "/home/bcoelho/.local/lib/python3.6/site-packages/sklearn_hierarchical_classification/metrics.py:36: FutureWarning: Using a non-tuple sequence for multidimensional indexing is deprecated; use `arr[tuple(seq)]` instead of `arr[seq]`. In the future this will be interpreted as an array index, `arr[np.array(seq)]`, which will result either in an error or a different result.\n",
      "  y_[np.meshgrid(ix_rows, ancestors)] = 1\n"
     ]
    },
    {
     "name": "stdout",
     "output_type": "stream",
     "text": [
      "['1' '0' '8' ... '8' '2' '8'] ['5' '1' '0' ... '5' '2' '8']\n",
      "['5' '1' '0' ... '7' '2' '8']\n"
     ]
    },
    {
     "name": "stderr",
     "output_type": "stream",
     "text": [
      "/home/bcoelho/.local/lib/python3.6/site-packages/sklearn_hierarchical_classification/metrics.py:36: FutureWarning: Using a non-tuple sequence for multidimensional indexing is deprecated; use `arr[tuple(seq)]` instead of `arr[seq]`. In the future this will be interpreted as an array index, `arr[np.array(seq)]`, which will result either in an error or a different result.\n",
      "  y_[np.meshgrid(ix_rows, ancestors)] = 1\n"
     ]
    },
    {
     "name": "stdout",
     "output_type": "stream",
     "text": [
      "['5' '6' '5' ... '0' '4' '3'] ['7' '3' '7' ... '1' '7' '3']\n",
      "['7' '3' '7' ... '1' '6' '3']\n"
     ]
    },
    {
     "name": "stderr",
     "output_type": "stream",
     "text": [
      "/home/bcoelho/.local/lib/python3.6/site-packages/sklearn_hierarchical_classification/metrics.py:36: FutureWarning: Using a non-tuple sequence for multidimensional indexing is deprecated; use `arr[tuple(seq)]` instead of `arr[seq]`. In the future this will be interpreted as an array index, `arr[np.array(seq)]`, which will result either in an error or a different result.\n",
      "  y_[np.meshgrid(ix_rows, ancestors)] = 1\n"
     ]
    },
    {
     "name": "stdout",
     "output_type": "stream",
     "text": [
      "['6' '6' '8' ... '3' '8' '8'] ['4' '5' '7' ... '6' '1' '6']\n",
      "['4' '5' '7' ... '1' '1' '6']\n"
     ]
    },
    {
     "name": "stderr",
     "output_type": "stream",
     "text": [
      "/home/bcoelho/.local/lib/python3.6/site-packages/sklearn_hierarchical_classification/metrics.py:36: FutureWarning: Using a non-tuple sequence for multidimensional indexing is deprecated; use `arr[tuple(seq)]` instead of `arr[seq]`. In the future this will be interpreted as an array index, `arr[np.array(seq)]`, which will result either in an error or a different result.\n",
      "  y_[np.meshgrid(ix_rows, ancestors)] = 1\n"
     ]
    },
    {
     "name": "stdout",
     "output_type": "stream",
     "text": [
      "['3' '7' '3' ... '1' '0' '2'] ['5' '0' '6' ... '4' '3' '5']\n",
      "['5' '0' '6' ... '1' '3' '3']\n"
     ]
    },
    {
     "name": "stderr",
     "output_type": "stream",
     "text": [
      "/home/bcoelho/.local/lib/python3.6/site-packages/sklearn_hierarchical_classification/metrics.py:36: FutureWarning: Using a non-tuple sequence for multidimensional indexing is deprecated; use `arr[tuple(seq)]` instead of `arr[seq]`. In the future this will be interpreted as an array index, `arr[np.array(seq)]`, which will result either in an error or a different result.\n",
      "  y_[np.meshgrid(ix_rows, ancestors)] = 1\n"
     ]
    },
    {
     "name": "stdout",
     "output_type": "stream",
     "text": [
      "['1' '2' '1' ... '6' '0' '0'] ['5' '0' '2' ... '5' '1' '0']\n",
      "['5' '0' '2' ... '5' '1' '5']\n"
     ]
    },
    {
     "name": "stderr",
     "output_type": "stream",
     "text": [
      "/home/bcoelho/.local/lib/python3.6/site-packages/sklearn_hierarchical_classification/metrics.py:36: FutureWarning: Using a non-tuple sequence for multidimensional indexing is deprecated; use `arr[tuple(seq)]` instead of `arr[seq]`. In the future this will be interpreted as an array index, `arr[np.array(seq)]`, which will result either in an error or a different result.\n",
      "  y_[np.meshgrid(ix_rows, ancestors)] = 1\n"
     ]
    },
    {
     "name": "stdout",
     "output_type": "stream",
     "text": [
      "['2' '6' '7' ... '4' '8' '3'] ['2' '2' '6' ... '3' '2' '8']\n",
      "['7' '2' '6' ... '3' '2' '8']\n"
     ]
    },
    {
     "name": "stderr",
     "output_type": "stream",
     "text": [
      "/home/bcoelho/.local/lib/python3.6/site-packages/sklearn_hierarchical_classification/metrics.py:36: FutureWarning: Using a non-tuple sequence for multidimensional indexing is deprecated; use `arr[tuple(seq)]` instead of `arr[seq]`. In the future this will be interpreted as an array index, `arr[np.array(seq)]`, which will result either in an error or a different result.\n",
      "  y_[np.meshgrid(ix_rows, ancestors)] = 1\n"
     ]
    },
    {
     "name": "stdout",
     "output_type": "stream",
     "text": [
      "['3' '5' '8' ... '5' '0' '8'] ['4' '0' '4' ... '3' '2' '5']\n",
      "['4' '0' '4' ... '3' '2' '7']\n"
     ]
    },
    {
     "name": "stderr",
     "output_type": "stream",
     "text": [
      "/home/bcoelho/.local/lib/python3.6/site-packages/sklearn_hierarchical_classification/metrics.py:36: FutureWarning: Using a non-tuple sequence for multidimensional indexing is deprecated; use `arr[tuple(seq)]` instead of `arr[seq]`. In the future this will be interpreted as an array index, `arr[np.array(seq)]`, which will result either in an error or a different result.\n",
      "  y_[np.meshgrid(ix_rows, ancestors)] = 1\n"
     ]
    },
    {
     "name": "stdout",
     "output_type": "stream",
     "text": [
      "['7' '7' '2' ... '3' '6' '8'] ['6' '1' '6' ... '4' '8' '2']\n",
      "['6' '1' '6' ... '4' '8' '2']\n"
     ]
    },
    {
     "name": "stderr",
     "output_type": "stream",
     "text": [
      "/home/bcoelho/.local/lib/python3.6/site-packages/sklearn_hierarchical_classification/metrics.py:36: FutureWarning: Using a non-tuple sequence for multidimensional indexing is deprecated; use `arr[tuple(seq)]` instead of `arr[seq]`. In the future this will be interpreted as an array index, `arr[np.array(seq)]`, which will result either in an error or a different result.\n",
      "  y_[np.meshgrid(ix_rows, ancestors)] = 1\n"
     ]
    },
    {
     "name": "stdout",
     "output_type": "stream",
     "text": [
      "['5' '1' '1' ... '8' '4' '4'] ['7' '8' '2' ... '8' '3' '5']\n",
      "['2' '8' '2' ... '8' '3' '4']\n"
     ]
    },
    {
     "name": "stderr",
     "output_type": "stream",
     "text": [
      "/home/bcoelho/.local/lib/python3.6/site-packages/sklearn_hierarchical_classification/metrics.py:36: FutureWarning: Using a non-tuple sequence for multidimensional indexing is deprecated; use `arr[tuple(seq)]` instead of `arr[seq]`. In the future this will be interpreted as an array index, `arr[np.array(seq)]`, which will result either in an error or a different result.\n",
      "  y_[np.meshgrid(ix_rows, ancestors)] = 1\n"
     ]
    },
    {
     "name": "stdout",
     "output_type": "stream",
     "text": [
      "['7' '0' '7' ... '3' '4' '4'] ['8' '0' '8' ... '8' '5' '7']\n",
      "['8' '0' '8' ... '8' '7' '4']\n"
     ]
    },
    {
     "name": "stderr",
     "output_type": "stream",
     "text": [
      "/home/bcoelho/.local/lib/python3.6/site-packages/sklearn_hierarchical_classification/metrics.py:36: FutureWarning: Using a non-tuple sequence for multidimensional indexing is deprecated; use `arr[tuple(seq)]` instead of `arr[seq]`. In the future this will be interpreted as an array index, `arr[np.array(seq)]`, which will result either in an error or a different result.\n",
      "  y_[np.meshgrid(ix_rows, ancestors)] = 1\n"
     ]
    },
    {
     "name": "stdout",
     "output_type": "stream",
     "text": [
      "['1' '4' '7' ... '1' '4' '3'] ['0' '7' '2' ... '3' '0' '2']\n",
      "['0' '7' '2' ... '3' '0' '2']\n"
     ]
    },
    {
     "name": "stderr",
     "output_type": "stream",
     "text": [
      "/home/bcoelho/.local/lib/python3.6/site-packages/sklearn_hierarchical_classification/metrics.py:36: FutureWarning: Using a non-tuple sequence for multidimensional indexing is deprecated; use `arr[tuple(seq)]` instead of `arr[seq]`. In the future this will be interpreted as an array index, `arr[np.array(seq)]`, which will result either in an error or a different result.\n",
      "  y_[np.meshgrid(ix_rows, ancestors)] = 1\n"
     ]
    },
    {
     "name": "stdout",
     "output_type": "stream",
     "text": [
      "['1' '0' '1' ... '1' '3' '3'] ['2' '5' '0' ... '8' '8' '6']\n",
      "['2' '5' '0' ... '8' '8' '6']\n"
     ]
    },
    {
     "name": "stderr",
     "output_type": "stream",
     "text": [
      "/home/bcoelho/.local/lib/python3.6/site-packages/sklearn_hierarchical_classification/metrics.py:36: FutureWarning: Using a non-tuple sequence for multidimensional indexing is deprecated; use `arr[tuple(seq)]` instead of `arr[seq]`. In the future this will be interpreted as an array index, `arr[np.array(seq)]`, which will result either in an error or a different result.\n",
      "  y_[np.meshgrid(ix_rows, ancestors)] = 1\n"
     ]
    },
    {
     "name": "stdout",
     "output_type": "stream",
     "text": [
      "['7' '0' '2' ... '4' '4' '8'] ['5' '5' '6' ... '3' '2' '1']\n",
      "['5' '5' '6' ... '3' '2' '3']\n"
     ]
    },
    {
     "name": "stderr",
     "output_type": "stream",
     "text": [
      "/home/bcoelho/.local/lib/python3.6/site-packages/sklearn_hierarchical_classification/metrics.py:36: FutureWarning: Using a non-tuple sequence for multidimensional indexing is deprecated; use `arr[tuple(seq)]` instead of `arr[seq]`. In the future this will be interpreted as an array index, `arr[np.array(seq)]`, which will result either in an error or a different result.\n",
      "  y_[np.meshgrid(ix_rows, ancestors)] = 1\n"
     ]
    },
    {
     "name": "stdout",
     "output_type": "stream",
     "text": [
      "['4' '0' '4' ... '4' '4' '4'] ['3' '2' '8' ... '7' '5' '1']\n",
      "['3' '2' '8' ... '5' '5' '1']\n"
     ]
    },
    {
     "name": "stderr",
     "output_type": "stream",
     "text": [
      "/home/bcoelho/.local/lib/python3.6/site-packages/sklearn_hierarchical_classification/metrics.py:36: FutureWarning: Using a non-tuple sequence for multidimensional indexing is deprecated; use `arr[tuple(seq)]` instead of `arr[seq]`. In the future this will be interpreted as an array index, `arr[np.array(seq)]`, which will result either in an error or a different result.\n",
      "  y_[np.meshgrid(ix_rows, ancestors)] = 1\n"
     ]
    },
    {
     "name": "stdout",
     "output_type": "stream",
     "text": [
      "['6' '6' '0' ... '2' '2' '8'] ['4' '8' '1' ... '6' '2' '2']\n",
      "['4' '8' '1' ... '6' '2' '2']\n"
     ]
    },
    {
     "name": "stderr",
     "output_type": "stream",
     "text": [
      "/home/bcoelho/.local/lib/python3.6/site-packages/sklearn_hierarchical_classification/metrics.py:36: FutureWarning: Using a non-tuple sequence for multidimensional indexing is deprecated; use `arr[tuple(seq)]` instead of `arr[seq]`. In the future this will be interpreted as an array index, `arr[np.array(seq)]`, which will result either in an error or a different result.\n",
      "  y_[np.meshgrid(ix_rows, ancestors)] = 1\n"
     ]
    },
    {
     "name": "stdout",
     "output_type": "stream",
     "text": [
      "['3' '2' '2' ... '5' '2' '5'] ['7' '3' '1' ... '0' '8' '2']\n",
      "['5' '0' '1' ... '0' '8' '2']\n"
     ]
    },
    {
     "name": "stderr",
     "output_type": "stream",
     "text": [
      "/home/bcoelho/.local/lib/python3.6/site-packages/sklearn_hierarchical_classification/metrics.py:36: FutureWarning: Using a non-tuple sequence for multidimensional indexing is deprecated; use `arr[tuple(seq)]` instead of `arr[seq]`. In the future this will be interpreted as an array index, `arr[np.array(seq)]`, which will result either in an error or a different result.\n",
      "  y_[np.meshgrid(ix_rows, ancestors)] = 1\n"
     ]
    },
    {
     "name": "stdout",
     "output_type": "stream",
     "text": [
      "['1' '3' '0' ... '8' '8' '2'] ['7' '1' '1' ... '4' '3' '8']\n",
      "['7' '1' '1' ... '1' '3' '8']\n"
     ]
    },
    {
     "name": "stderr",
     "output_type": "stream",
     "text": [
      "/home/bcoelho/.local/lib/python3.6/site-packages/sklearn_hierarchical_classification/metrics.py:36: FutureWarning: Using a non-tuple sequence for multidimensional indexing is deprecated; use `arr[tuple(seq)]` instead of `arr[seq]`. In the future this will be interpreted as an array index, `arr[np.array(seq)]`, which will result either in an error or a different result.\n",
      "  y_[np.meshgrid(ix_rows, ancestors)] = 1\n"
     ]
    },
    {
     "name": "stdout",
     "output_type": "stream",
     "text": [
      "['4' '6' '8' ... '7' '1' '3'] ['1' '4' '5' ... '1' '5' '6']\n",
      "['5' '4' '5' ... '3' '1' '3']\n"
     ]
    },
    {
     "name": "stderr",
     "output_type": "stream",
     "text": [
      "/home/bcoelho/.local/lib/python3.6/site-packages/sklearn_hierarchical_classification/metrics.py:36: FutureWarning: Using a non-tuple sequence for multidimensional indexing is deprecated; use `arr[tuple(seq)]` instead of `arr[seq]`. In the future this will be interpreted as an array index, `arr[np.array(seq)]`, which will result either in an error or a different result.\n",
      "  y_[np.meshgrid(ix_rows, ancestors)] = 1\n"
     ]
    },
    {
     "name": "stdout",
     "output_type": "stream",
     "text": [
      "['2' '1' '0' ... '6' '5' '2'] ['4' '3' '1' ... '1' '4' '8']\n",
      "['4' '3' '1' ... '1' '7' '8']\n"
     ]
    },
    {
     "name": "stderr",
     "output_type": "stream",
     "text": [
      "/home/bcoelho/.local/lib/python3.6/site-packages/sklearn_hierarchical_classification/metrics.py:36: FutureWarning: Using a non-tuple sequence for multidimensional indexing is deprecated; use `arr[tuple(seq)]` instead of `arr[seq]`. In the future this will be interpreted as an array index, `arr[np.array(seq)]`, which will result either in an error or a different result.\n",
      "  y_[np.meshgrid(ix_rows, ancestors)] = 1\n"
     ]
    },
    {
     "name": "stdout",
     "output_type": "stream",
     "text": [
      "['3' '1' '4' ... '2' '6' '2'] ['5' '6' '1' ... '5' '2' '8']\n",
      "['5' '6' '5' ... '5' '2' '8']\n"
     ]
    },
    {
     "name": "stderr",
     "output_type": "stream",
     "text": [
      "/home/bcoelho/.local/lib/python3.6/site-packages/sklearn_hierarchical_classification/metrics.py:36: FutureWarning: Using a non-tuple sequence for multidimensional indexing is deprecated; use `arr[tuple(seq)]` instead of `arr[seq]`. In the future this will be interpreted as an array index, `arr[np.array(seq)]`, which will result either in an error or a different result.\n",
      "  y_[np.meshgrid(ix_rows, ancestors)] = 1\n"
     ]
    },
    {
     "name": "stdout",
     "output_type": "stream",
     "text": [
      "['0' '1' '2' ... '6' '8' '3'] ['6' '4' '6' ... '0' '6' '8']\n",
      "['6' '4' '6' ... '0' '6' '8']\n"
     ]
    },
    {
     "name": "stderr",
     "output_type": "stream",
     "text": [
      "/home/bcoelho/.local/lib/python3.6/site-packages/sklearn_hierarchical_classification/metrics.py:36: FutureWarning: Using a non-tuple sequence for multidimensional indexing is deprecated; use `arr[tuple(seq)]` instead of `arr[seq]`. In the future this will be interpreted as an array index, `arr[np.array(seq)]`, which will result either in an error or a different result.\n",
      "  y_[np.meshgrid(ix_rows, ancestors)] = 1\n"
     ]
    },
    {
     "name": "stdout",
     "output_type": "stream",
     "text": [
      "['5' '3' '1' ... '2' '6' '0'] ['3' '7' '5' ... '0' '2' '3']\n",
      "['3' '7' '4' ... '0' '2' '3']\n"
     ]
    },
    {
     "name": "stderr",
     "output_type": "stream",
     "text": [
      "/home/bcoelho/.local/lib/python3.6/site-packages/sklearn_hierarchical_classification/metrics.py:36: FutureWarning: Using a non-tuple sequence for multidimensional indexing is deprecated; use `arr[tuple(seq)]` instead of `arr[seq]`. In the future this will be interpreted as an array index, `arr[np.array(seq)]`, which will result either in an error or a different result.\n",
      "  y_[np.meshgrid(ix_rows, ancestors)] = 1\n"
     ]
    },
    {
     "name": "stdout",
     "output_type": "stream",
     "text": [
      "['0' '7' '8' ... '1' '6' '7'] ['1' '2' '6' ... '6' '1' '0']\n",
      "['6' '2' '2' ... '7' '1' '0']\n"
     ]
    },
    {
     "name": "stderr",
     "output_type": "stream",
     "text": [
      "/home/bcoelho/.local/lib/python3.6/site-packages/sklearn_hierarchical_classification/metrics.py:36: FutureWarning: Using a non-tuple sequence for multidimensional indexing is deprecated; use `arr[tuple(seq)]` instead of `arr[seq]`. In the future this will be interpreted as an array index, `arr[np.array(seq)]`, which will result either in an error or a different result.\n",
      "  y_[np.meshgrid(ix_rows, ancestors)] = 1\n"
     ]
    },
    {
     "name": "stdout",
     "output_type": "stream",
     "text": [
      "['2' '1' '8' ... '3' '6' '0'] ['6' '6' '0' ... '5' '5' '8']\n",
      "['2' '6' '0' ... '4' '5' '8']\n"
     ]
    },
    {
     "name": "stderr",
     "output_type": "stream",
     "text": [
      "/home/bcoelho/.local/lib/python3.6/site-packages/sklearn_hierarchical_classification/metrics.py:36: FutureWarning: Using a non-tuple sequence for multidimensional indexing is deprecated; use `arr[tuple(seq)]` instead of `arr[seq]`. In the future this will be interpreted as an array index, `arr[np.array(seq)]`, which will result either in an error or a different result.\n",
      "  y_[np.meshgrid(ix_rows, ancestors)] = 1\n"
     ]
    },
    {
     "name": "stdout",
     "output_type": "stream",
     "text": [
      "['1' '3' '0' ... '2' '0' '3'] ['2' '5' '3' ... '6' '5' '8']\n",
      "['2' '5' '6' ... '6' '2' '8']\n"
     ]
    },
    {
     "name": "stderr",
     "output_type": "stream",
     "text": [
      "/home/bcoelho/.local/lib/python3.6/site-packages/sklearn_hierarchical_classification/metrics.py:36: FutureWarning: Using a non-tuple sequence for multidimensional indexing is deprecated; use `arr[tuple(seq)]` instead of `arr[seq]`. In the future this will be interpreted as an array index, `arr[np.array(seq)]`, which will result either in an error or a different result.\n",
      "  y_[np.meshgrid(ix_rows, ancestors)] = 1\n"
     ]
    },
    {
     "name": "stdout",
     "output_type": "stream",
     "text": [
      "['7' '6' '2' ... '6' '8' '4'] ['5' '2' '5' ... '6' '5' '3']\n",
      "['5' '2' '5' ... '6' '5' '3']\n"
     ]
    },
    {
     "name": "stderr",
     "output_type": "stream",
     "text": [
      "/home/bcoelho/.local/lib/python3.6/site-packages/sklearn_hierarchical_classification/metrics.py:36: FutureWarning: Using a non-tuple sequence for multidimensional indexing is deprecated; use `arr[tuple(seq)]` instead of `arr[seq]`. In the future this will be interpreted as an array index, `arr[np.array(seq)]`, which will result either in an error or a different result.\n",
      "  y_[np.meshgrid(ix_rows, ancestors)] = 1\n"
     ]
    },
    {
     "name": "stdout",
     "output_type": "stream",
     "text": [
      "['2' '6' '2' ... '6' '5' '1'] ['0' '7' '1' ... '6' '0' '2']\n",
      "['0' '2' '6' ... '6' '0' '2']\n"
     ]
    },
    {
     "name": "stderr",
     "output_type": "stream",
     "text": [
      "/home/bcoelho/.local/lib/python3.6/site-packages/sklearn_hierarchical_classification/metrics.py:36: FutureWarning: Using a non-tuple sequence for multidimensional indexing is deprecated; use `arr[tuple(seq)]` instead of `arr[seq]`. In the future this will be interpreted as an array index, `arr[np.array(seq)]`, which will result either in an error or a different result.\n",
      "  y_[np.meshgrid(ix_rows, ancestors)] = 1\n"
     ]
    },
    {
     "name": "stdout",
     "output_type": "stream",
     "text": [
      "['4' '8' '7' ... '6' '7' '3'] ['2' '4' '8' ... '1' '6' '2']\n",
      "['7' '5' '8' ... '5' '6' '2']\n"
     ]
    },
    {
     "name": "stderr",
     "output_type": "stream",
     "text": [
      "/home/bcoelho/.local/lib/python3.6/site-packages/sklearn_hierarchical_classification/metrics.py:36: FutureWarning: Using a non-tuple sequence for multidimensional indexing is deprecated; use `arr[tuple(seq)]` instead of `arr[seq]`. In the future this will be interpreted as an array index, `arr[np.array(seq)]`, which will result either in an error or a different result.\n",
      "  y_[np.meshgrid(ix_rows, ancestors)] = 1\n"
     ]
    },
    {
     "name": "stdout",
     "output_type": "stream",
     "text": [
      "['8' '1' '2' ... '0' '2' '6'] ['1' '2' '5' ... '7' '3' '8']\n",
      "['1' '2' '5' ... '7' '3' '8']\n"
     ]
    },
    {
     "name": "stderr",
     "output_type": "stream",
     "text": [
      "/home/bcoelho/.local/lib/python3.6/site-packages/sklearn_hierarchical_classification/metrics.py:36: FutureWarning: Using a non-tuple sequence for multidimensional indexing is deprecated; use `arr[tuple(seq)]` instead of `arr[seq]`. In the future this will be interpreted as an array index, `arr[np.array(seq)]`, which will result either in an error or a different result.\n",
      "  y_[np.meshgrid(ix_rows, ancestors)] = 1\n"
     ]
    },
    {
     "name": "stdout",
     "output_type": "stream",
     "text": [
      "['5' '3' '1' ... '5' '0' '8'] ['2' '8' '8' ... '8' '8' '7']\n",
      "['2' '8' '8' ... '8' '8' '7']\n"
     ]
    },
    {
     "name": "stderr",
     "output_type": "stream",
     "text": [
      "/home/bcoelho/.local/lib/python3.6/site-packages/sklearn_hierarchical_classification/metrics.py:36: FutureWarning: Using a non-tuple sequence for multidimensional indexing is deprecated; use `arr[tuple(seq)]` instead of `arr[seq]`. In the future this will be interpreted as an array index, `arr[np.array(seq)]`, which will result either in an error or a different result.\n",
      "  y_[np.meshgrid(ix_rows, ancestors)] = 1\n"
     ]
    },
    {
     "name": "stdout",
     "output_type": "stream",
     "text": [
      "['5' '0' '1' ... '6' '8' '2'] ['4' '8' '6' ... '2' '4' '6']\n",
      "['4' '8' '6' ... '2' '4' '6']\n"
     ]
    },
    {
     "name": "stderr",
     "output_type": "stream",
     "text": [
      "/home/bcoelho/.local/lib/python3.6/site-packages/sklearn_hierarchical_classification/metrics.py:36: FutureWarning: Using a non-tuple sequence for multidimensional indexing is deprecated; use `arr[tuple(seq)]` instead of `arr[seq]`. In the future this will be interpreted as an array index, `arr[np.array(seq)]`, which will result either in an error or a different result.\n",
      "  y_[np.meshgrid(ix_rows, ancestors)] = 1\n"
     ]
    },
    {
     "name": "stdout",
     "output_type": "stream",
     "text": [
      "['0' '5' '0' ... '2' '5' '0'] ['7' '5' '6' ... '5' '8' '2']\n",
      "['0' '5' '6' ... '5' '8' '2']\n"
     ]
    },
    {
     "name": "stderr",
     "output_type": "stream",
     "text": [
      "/home/bcoelho/.local/lib/python3.6/site-packages/sklearn_hierarchical_classification/metrics.py:36: FutureWarning: Using a non-tuple sequence for multidimensional indexing is deprecated; use `arr[tuple(seq)]` instead of `arr[seq]`. In the future this will be interpreted as an array index, `arr[np.array(seq)]`, which will result either in an error or a different result.\n",
      "  y_[np.meshgrid(ix_rows, ancestors)] = 1\n"
     ]
    },
    {
     "name": "stdout",
     "output_type": "stream",
     "text": [
      "['7' '8' '2' ... '2' '2' '2'] ['0' '6' '4' ... '4' '2' '2']\n",
      "['3' '3' '4' ... '4' '2' '2']\n"
     ]
    },
    {
     "name": "stderr",
     "output_type": "stream",
     "text": [
      "/home/bcoelho/.local/lib/python3.6/site-packages/sklearn_hierarchical_classification/metrics.py:36: FutureWarning: Using a non-tuple sequence for multidimensional indexing is deprecated; use `arr[tuple(seq)]` instead of `arr[seq]`. In the future this will be interpreted as an array index, `arr[np.array(seq)]`, which will result either in an error or a different result.\n",
      "  y_[np.meshgrid(ix_rows, ancestors)] = 1\n"
     ]
    },
    {
     "name": "stdout",
     "output_type": "stream",
     "text": [
      "['1' '5' '2' ... '8' '4' '7'] ['6' '3' '6' ... '3' '6' '1']\n",
      "['6' '6' '8' ... '3' '6' '1']\n"
     ]
    },
    {
     "name": "stderr",
     "output_type": "stream",
     "text": [
      "/home/bcoelho/.local/lib/python3.6/site-packages/sklearn_hierarchical_classification/metrics.py:36: FutureWarning: Using a non-tuple sequence for multidimensional indexing is deprecated; use `arr[tuple(seq)]` instead of `arr[seq]`. In the future this will be interpreted as an array index, `arr[np.array(seq)]`, which will result either in an error or a different result.\n",
      "  y_[np.meshgrid(ix_rows, ancestors)] = 1\n"
     ]
    },
    {
     "name": "stdout",
     "output_type": "stream",
     "text": [
      "['5' '8' '2' ... '7' '0' '2'] ['4' '0' '5' ... '4' '1' '8']\n",
      "['4' '0' '5' ... '2' '1' '8']\n"
     ]
    },
    {
     "name": "stderr",
     "output_type": "stream",
     "text": [
      "/home/bcoelho/.local/lib/python3.6/site-packages/sklearn_hierarchical_classification/metrics.py:36: FutureWarning: Using a non-tuple sequence for multidimensional indexing is deprecated; use `arr[tuple(seq)]` instead of `arr[seq]`. In the future this will be interpreted as an array index, `arr[np.array(seq)]`, which will result either in an error or a different result.\n",
      "  y_[np.meshgrid(ix_rows, ancestors)] = 1\n"
     ]
    },
    {
     "name": "stdout",
     "output_type": "stream",
     "text": [
      "['2' '2' '1' ... '1' '4' '6'] ['5' '2' '1' ... '2' '4' '0']\n",
      "['5' '3' '4' ... '7' '1' '3']\n"
     ]
    },
    {
     "name": "stderr",
     "output_type": "stream",
     "text": [
      "/home/bcoelho/.local/lib/python3.6/site-packages/sklearn_hierarchical_classification/metrics.py:36: FutureWarning: Using a non-tuple sequence for multidimensional indexing is deprecated; use `arr[tuple(seq)]` instead of `arr[seq]`. In the future this will be interpreted as an array index, `arr[np.array(seq)]`, which will result either in an error or a different result.\n",
      "  y_[np.meshgrid(ix_rows, ancestors)] = 1\n"
     ]
    },
    {
     "name": "stdout",
     "output_type": "stream",
     "text": [
      "['6' '6' '6' ... '2' '1' '7'] ['7' '5' '5' ... '0' '3' '7']\n",
      "['6' '5' '5' ... '6' '3' '7']\n"
     ]
    },
    {
     "name": "stderr",
     "output_type": "stream",
     "text": [
      "/home/bcoelho/.local/lib/python3.6/site-packages/sklearn_hierarchical_classification/metrics.py:36: FutureWarning: Using a non-tuple sequence for multidimensional indexing is deprecated; use `arr[tuple(seq)]` instead of `arr[seq]`. In the future this will be interpreted as an array index, `arr[np.array(seq)]`, which will result either in an error or a different result.\n",
      "  y_[np.meshgrid(ix_rows, ancestors)] = 1\n"
     ]
    },
    {
     "name": "stdout",
     "output_type": "stream",
     "text": [
      "['0' '8' '5' ... '8' '3' '8'] ['8' '7' '8' ... '8' '5' '7']\n",
      "['8' '7' '8' ... '8' '4' '7']\n"
     ]
    },
    {
     "name": "stderr",
     "output_type": "stream",
     "text": [
      "/home/bcoelho/.local/lib/python3.6/site-packages/sklearn_hierarchical_classification/metrics.py:36: FutureWarning: Using a non-tuple sequence for multidimensional indexing is deprecated; use `arr[tuple(seq)]` instead of `arr[seq]`. In the future this will be interpreted as an array index, `arr[np.array(seq)]`, which will result either in an error or a different result.\n",
      "  y_[np.meshgrid(ix_rows, ancestors)] = 1\n"
     ]
    },
    {
     "name": "stdout",
     "output_type": "stream",
     "text": [
      "['3' '1' '6' ... '6' '8' '0'] ['7' '2' '4' ... '1' '4' '2']\n",
      "['7' '2' '1' ... '1' '4' '2']\n"
     ]
    },
    {
     "name": "stderr",
     "output_type": "stream",
     "text": [
      "/home/bcoelho/.local/lib/python3.6/site-packages/sklearn_hierarchical_classification/metrics.py:36: FutureWarning: Using a non-tuple sequence for multidimensional indexing is deprecated; use `arr[tuple(seq)]` instead of `arr[seq]`. In the future this will be interpreted as an array index, `arr[np.array(seq)]`, which will result either in an error or a different result.\n",
      "  y_[np.meshgrid(ix_rows, ancestors)] = 1\n"
     ]
    },
    {
     "name": "stdout",
     "output_type": "stream",
     "text": [
      "['6' '6' '1' ... '4' '7' '6'] ['8' '3' '0' ... '2' '2' '7']\n",
      "['8' '3' '6' ... '2' '2' '5']\n"
     ]
    },
    {
     "name": "stderr",
     "output_type": "stream",
     "text": [
      "/home/bcoelho/.local/lib/python3.6/site-packages/sklearn_hierarchical_classification/metrics.py:36: FutureWarning: Using a non-tuple sequence for multidimensional indexing is deprecated; use `arr[tuple(seq)]` instead of `arr[seq]`. In the future this will be interpreted as an array index, `arr[np.array(seq)]`, which will result either in an error or a different result.\n",
      "  y_[np.meshgrid(ix_rows, ancestors)] = 1\n"
     ]
    },
    {
     "name": "stdout",
     "output_type": "stream",
     "text": [
      "['7' '0' '8' ... '1' '0' '8'] ['2' '3' '1' ... '6' '5' '6']\n",
      "['2' '3' '1' ... '6' '5' '6']\n"
     ]
    },
    {
     "name": "stderr",
     "output_type": "stream",
     "text": [
      "/home/bcoelho/.local/lib/python3.6/site-packages/sklearn_hierarchical_classification/metrics.py:36: FutureWarning: Using a non-tuple sequence for multidimensional indexing is deprecated; use `arr[tuple(seq)]` instead of `arr[seq]`. In the future this will be interpreted as an array index, `arr[np.array(seq)]`, which will result either in an error or a different result.\n",
      "  y_[np.meshgrid(ix_rows, ancestors)] = 1\n"
     ]
    },
    {
     "name": "stdout",
     "output_type": "stream",
     "text": [
      "['0' '7' '8' ... '1' '5' '1'] ['8' '6' '3' ... '5' '3' '0']\n",
      "['3' '6' '3' ... '5' '3' '0']\n"
     ]
    },
    {
     "name": "stderr",
     "output_type": "stream",
     "text": [
      "/home/bcoelho/.local/lib/python3.6/site-packages/sklearn_hierarchical_classification/metrics.py:36: FutureWarning: Using a non-tuple sequence for multidimensional indexing is deprecated; use `arr[tuple(seq)]` instead of `arr[seq]`. In the future this will be interpreted as an array index, `arr[np.array(seq)]`, which will result either in an error or a different result.\n",
      "  y_[np.meshgrid(ix_rows, ancestors)] = 1\n"
     ]
    },
    {
     "name": "stdout",
     "output_type": "stream",
     "text": [
      "['7' '0' '2' ... '3' '5' '8'] ['5' '1' '1' ... '0' '5' '0']\n",
      "['3' '1' '1' ... '0' '5' '0']\n"
     ]
    },
    {
     "name": "stderr",
     "output_type": "stream",
     "text": [
      "/home/bcoelho/.local/lib/python3.6/site-packages/sklearn_hierarchical_classification/metrics.py:36: FutureWarning: Using a non-tuple sequence for multidimensional indexing is deprecated; use `arr[tuple(seq)]` instead of `arr[seq]`. In the future this will be interpreted as an array index, `arr[np.array(seq)]`, which will result either in an error or a different result.\n",
      "  y_[np.meshgrid(ix_rows, ancestors)] = 1\n"
     ]
    },
    {
     "name": "stdout",
     "output_type": "stream",
     "text": [
      "['6' '1' '2' ... '1' '3' '3'] ['7' '2' '0' ... '8' '8' '2']\n",
      "['5' '2' '0' ... '8' '8' '2']\n"
     ]
    },
    {
     "name": "stderr",
     "output_type": "stream",
     "text": [
      "/home/bcoelho/.local/lib/python3.6/site-packages/sklearn_hierarchical_classification/metrics.py:36: FutureWarning: Using a non-tuple sequence for multidimensional indexing is deprecated; use `arr[tuple(seq)]` instead of `arr[seq]`. In the future this will be interpreted as an array index, `arr[np.array(seq)]`, which will result either in an error or a different result.\n",
      "  y_[np.meshgrid(ix_rows, ancestors)] = 1\n"
     ]
    },
    {
     "name": "stdout",
     "output_type": "stream",
     "text": [
      "['1' '8' '6' ... '3' '5' '5'] ['6' '7' '1' ... '2' '5' '6']\n",
      "['6' '6' '2' ... '2' '4' '6']\n"
     ]
    },
    {
     "name": "stderr",
     "output_type": "stream",
     "text": [
      "/home/bcoelho/.local/lib/python3.6/site-packages/sklearn_hierarchical_classification/metrics.py:36: FutureWarning: Using a non-tuple sequence for multidimensional indexing is deprecated; use `arr[tuple(seq)]` instead of `arr[seq]`. In the future this will be interpreted as an array index, `arr[np.array(seq)]`, which will result either in an error or a different result.\n",
      "  y_[np.meshgrid(ix_rows, ancestors)] = 1\n"
     ]
    },
    {
     "name": "stdout",
     "output_type": "stream",
     "text": [
      "['5' '5' '4' ... '2' '5' '4'] ['2' '2' '1' ... '1' '0' '2']\n",
      "['2' '2' '1' ... '5' '0' '2']\n"
     ]
    },
    {
     "name": "stderr",
     "output_type": "stream",
     "text": [
      "/home/bcoelho/.local/lib/python3.6/site-packages/sklearn_hierarchical_classification/metrics.py:36: FutureWarning: Using a non-tuple sequence for multidimensional indexing is deprecated; use `arr[tuple(seq)]` instead of `arr[seq]`. In the future this will be interpreted as an array index, `arr[np.array(seq)]`, which will result either in an error or a different result.\n",
      "  y_[np.meshgrid(ix_rows, ancestors)] = 1\n"
     ]
    },
    {
     "name": "stdout",
     "output_type": "stream",
     "text": [
      "['3' '5' '6' ... '8' '4' '6'] ['7' '2' '0' ... '2' '3' '5']\n",
      "['7' '2' '0' ... '2' '3' '5']\n"
     ]
    },
    {
     "name": "stderr",
     "output_type": "stream",
     "text": [
      "/home/bcoelho/.local/lib/python3.6/site-packages/sklearn_hierarchical_classification/metrics.py:36: FutureWarning: Using a non-tuple sequence for multidimensional indexing is deprecated; use `arr[tuple(seq)]` instead of `arr[seq]`. In the future this will be interpreted as an array index, `arr[np.array(seq)]`, which will result either in an error or a different result.\n",
      "  y_[np.meshgrid(ix_rows, ancestors)] = 1\n"
     ]
    },
    {
     "name": "stdout",
     "output_type": "stream",
     "text": [
      "['2' '3' '2' ... '4' '2' '3'] ['5' '8' '0' ... '0' '8' '7']\n",
      "['3' '8' '6' ... '0' '8' '7']\n"
     ]
    },
    {
     "name": "stderr",
     "output_type": "stream",
     "text": [
      "/home/bcoelho/.local/lib/python3.6/site-packages/sklearn_hierarchical_classification/metrics.py:36: FutureWarning: Using a non-tuple sequence for multidimensional indexing is deprecated; use `arr[tuple(seq)]` instead of `arr[seq]`. In the future this will be interpreted as an array index, `arr[np.array(seq)]`, which will result either in an error or a different result.\n",
      "  y_[np.meshgrid(ix_rows, ancestors)] = 1\n"
     ]
    },
    {
     "name": "stdout",
     "output_type": "stream",
     "text": [
      "['6' '4' '6' ... '5' '5' '1'] ['8' '1' '1' ... '0' '2' '8']\n",
      "['8' '1' '1' ... '3' '2' '8']\n"
     ]
    },
    {
     "name": "stderr",
     "output_type": "stream",
     "text": [
      "/home/bcoelho/.local/lib/python3.6/site-packages/sklearn_hierarchical_classification/metrics.py:36: FutureWarning: Using a non-tuple sequence for multidimensional indexing is deprecated; use `arr[tuple(seq)]` instead of `arr[seq]`. In the future this will be interpreted as an array index, `arr[np.array(seq)]`, which will result either in an error or a different result.\n",
      "  y_[np.meshgrid(ix_rows, ancestors)] = 1\n"
     ]
    },
    {
     "name": "stdout",
     "output_type": "stream",
     "text": [
      "['0' '3' '5' ... '2' '0' '2'] ['1' '0' '7' ... '0' '5' '8']\n",
      "['1' '0' '5' ... '2' '0' '8']\n"
     ]
    },
    {
     "name": "stderr",
     "output_type": "stream",
     "text": [
      "/home/bcoelho/.local/lib/python3.6/site-packages/sklearn_hierarchical_classification/metrics.py:36: FutureWarning: Using a non-tuple sequence for multidimensional indexing is deprecated; use `arr[tuple(seq)]` instead of `arr[seq]`. In the future this will be interpreted as an array index, `arr[np.array(seq)]`, which will result either in an error or a different result.\n",
      "  y_[np.meshgrid(ix_rows, ancestors)] = 1\n"
     ]
    },
    {
     "name": "stdout",
     "output_type": "stream",
     "text": [
      "['2' '0' '3' ... '8' '1' '1'] ['5' '4' '0' ... '7' '2' '4']\n",
      "['7' '4' '6' ... '0' '2' '4']\n"
     ]
    },
    {
     "name": "stderr",
     "output_type": "stream",
     "text": [
      "/home/bcoelho/.local/lib/python3.6/site-packages/sklearn_hierarchical_classification/metrics.py:36: FutureWarning: Using a non-tuple sequence for multidimensional indexing is deprecated; use `arr[tuple(seq)]` instead of `arr[seq]`. In the future this will be interpreted as an array index, `arr[np.array(seq)]`, which will result either in an error or a different result.\n",
      "  y_[np.meshgrid(ix_rows, ancestors)] = 1\n"
     ]
    },
    {
     "name": "stdout",
     "output_type": "stream",
     "text": [
      "['8' '8' '8' ... '3' '5' '1'] ['1' '8' '5' ... '2' '4' '4']\n",
      "['7' '8' '5' ... '2' '4' '1']\n"
     ]
    },
    {
     "name": "stderr",
     "output_type": "stream",
     "text": [
      "/home/bcoelho/.local/lib/python3.6/site-packages/sklearn_hierarchical_classification/metrics.py:36: FutureWarning: Using a non-tuple sequence for multidimensional indexing is deprecated; use `arr[tuple(seq)]` instead of `arr[seq]`. In the future this will be interpreted as an array index, `arr[np.array(seq)]`, which will result either in an error or a different result.\n",
      "  y_[np.meshgrid(ix_rows, ancestors)] = 1\n"
     ]
    },
    {
     "name": "stdout",
     "output_type": "stream",
     "text": [
      "['1' '0' '2' ... '1' '3' '1'] ['4' '8' '8' ... '0' '6' '3']\n",
      "['4' '8' '8' ... '0' '4' '3']\n"
     ]
    },
    {
     "name": "stderr",
     "output_type": "stream",
     "text": [
      "/home/bcoelho/.local/lib/python3.6/site-packages/sklearn_hierarchical_classification/metrics.py:36: FutureWarning: Using a non-tuple sequence for multidimensional indexing is deprecated; use `arr[tuple(seq)]` instead of `arr[seq]`. In the future this will be interpreted as an array index, `arr[np.array(seq)]`, which will result either in an error or a different result.\n",
      "  y_[np.meshgrid(ix_rows, ancestors)] = 1\n"
     ]
    },
    {
     "name": "stdout",
     "output_type": "stream",
     "text": [
      "['5' '5' '0' ... '5' '1' '2'] ['2' '2' '3' ... '6' '1' '8']\n",
      "['2' '2' '3' ... '6' '1' '8']\n"
     ]
    },
    {
     "name": "stderr",
     "output_type": "stream",
     "text": [
      "/home/bcoelho/.local/lib/python3.6/site-packages/sklearn_hierarchical_classification/metrics.py:36: FutureWarning: Using a non-tuple sequence for multidimensional indexing is deprecated; use `arr[tuple(seq)]` instead of `arr[seq]`. In the future this will be interpreted as an array index, `arr[np.array(seq)]`, which will result either in an error or a different result.\n",
      "  y_[np.meshgrid(ix_rows, ancestors)] = 1\n"
     ]
    },
    {
     "name": "stdout",
     "output_type": "stream",
     "text": [
      "['3' '5' '7' ... '5' '0' '7'] ['8' '5' '1' ... '5' '2' '2']\n",
      "['8' '5' '1' ... '5' '4' '2']\n"
     ]
    },
    {
     "name": "stderr",
     "output_type": "stream",
     "text": [
      "/home/bcoelho/.local/lib/python3.6/site-packages/sklearn_hierarchical_classification/metrics.py:36: FutureWarning: Using a non-tuple sequence for multidimensional indexing is deprecated; use `arr[tuple(seq)]` instead of `arr[seq]`. In the future this will be interpreted as an array index, `arr[np.array(seq)]`, which will result either in an error or a different result.\n",
      "  y_[np.meshgrid(ix_rows, ancestors)] = 1\n"
     ]
    },
    {
     "name": "stdout",
     "output_type": "stream",
     "text": [
      "['8' '1' '7' ... '0' '1' '1'] ['0' '5' '0' ... '5' '1' '4']\n",
      "['2' '5' '0' ... '5' '1' '4']\n"
     ]
    },
    {
     "name": "stderr",
     "output_type": "stream",
     "text": [
      "/home/bcoelho/.local/lib/python3.6/site-packages/sklearn_hierarchical_classification/metrics.py:36: FutureWarning: Using a non-tuple sequence for multidimensional indexing is deprecated; use `arr[tuple(seq)]` instead of `arr[seq]`. In the future this will be interpreted as an array index, `arr[np.array(seq)]`, which will result either in an error or a different result.\n",
      "  y_[np.meshgrid(ix_rows, ancestors)] = 1\n"
     ]
    },
    {
     "name": "stdout",
     "output_type": "stream",
     "text": [
      "['6' '1' '4' ... '4' '8' '5'] ['1' '7' '1' ... '8' '5' '8']\n",
      "['1' '7' '1' ... '8' '1' '8']\n"
     ]
    },
    {
     "name": "stderr",
     "output_type": "stream",
     "text": [
      "/home/bcoelho/.local/lib/python3.6/site-packages/sklearn_hierarchical_classification/metrics.py:36: FutureWarning: Using a non-tuple sequence for multidimensional indexing is deprecated; use `arr[tuple(seq)]` instead of `arr[seq]`. In the future this will be interpreted as an array index, `arr[np.array(seq)]`, which will result either in an error or a different result.\n",
      "  y_[np.meshgrid(ix_rows, ancestors)] = 1\n"
     ]
    },
    {
     "name": "stdout",
     "output_type": "stream",
     "text": [
      "['8' '4' '5' ... '3' '5' '3'] ['5' '1' '0' ... '5' '4' '1']\n",
      "['5' '1' '0' ... '5' '4' '1']\n"
     ]
    },
    {
     "name": "stderr",
     "output_type": "stream",
     "text": [
      "/home/bcoelho/.local/lib/python3.6/site-packages/sklearn_hierarchical_classification/metrics.py:36: FutureWarning: Using a non-tuple sequence for multidimensional indexing is deprecated; use `arr[tuple(seq)]` instead of `arr[seq]`. In the future this will be interpreted as an array index, `arr[np.array(seq)]`, which will result either in an error or a different result.\n",
      "  y_[np.meshgrid(ix_rows, ancestors)] = 1\n"
     ]
    },
    {
     "name": "stdout",
     "output_type": "stream",
     "text": [
      "['8' '5' '1' ... '2' '1' '8'] ['6' '7' '8' ... '0' '8' '0']\n",
      "['6' '5' '8' ... '0' '8' '0']\n"
     ]
    },
    {
     "name": "stderr",
     "output_type": "stream",
     "text": [
      "/home/bcoelho/.local/lib/python3.6/site-packages/sklearn_hierarchical_classification/metrics.py:36: FutureWarning: Using a non-tuple sequence for multidimensional indexing is deprecated; use `arr[tuple(seq)]` instead of `arr[seq]`. In the future this will be interpreted as an array index, `arr[np.array(seq)]`, which will result either in an error or a different result.\n",
      "  y_[np.meshgrid(ix_rows, ancestors)] = 1\n"
     ]
    },
    {
     "name": "stdout",
     "output_type": "stream",
     "text": [
      "['5' '6' '5' ... '5' '8' '7'] ['1' '0' '5' ... '1' '0' '2']\n",
      "['1' '0' '6' ... '1' '0' '0']\n"
     ]
    },
    {
     "name": "stderr",
     "output_type": "stream",
     "text": [
      "/home/bcoelho/.local/lib/python3.6/site-packages/sklearn_hierarchical_classification/metrics.py:36: FutureWarning: Using a non-tuple sequence for multidimensional indexing is deprecated; use `arr[tuple(seq)]` instead of `arr[seq]`. In the future this will be interpreted as an array index, `arr[np.array(seq)]`, which will result either in an error or a different result.\n",
      "  y_[np.meshgrid(ix_rows, ancestors)] = 1\n"
     ]
    },
    {
     "name": "stdout",
     "output_type": "stream",
     "text": [
      "['3' '0' '0' ... '6' '5' '6'] ['2' '2' '3' ... '2' '0' '1']\n",
      "['5' '2' '6' ... '7' '0' '1']\n"
     ]
    },
    {
     "name": "stderr",
     "output_type": "stream",
     "text": [
      "/home/bcoelho/.local/lib/python3.6/site-packages/sklearn_hierarchical_classification/metrics.py:36: FutureWarning: Using a non-tuple sequence for multidimensional indexing is deprecated; use `arr[tuple(seq)]` instead of `arr[seq]`. In the future this will be interpreted as an array index, `arr[np.array(seq)]`, which will result either in an error or a different result.\n",
      "  y_[np.meshgrid(ix_rows, ancestors)] = 1\n"
     ]
    },
    {
     "name": "stdout",
     "output_type": "stream",
     "text": [
      "['3' '0' '3' ... '0' '1' '8'] ['7' '8' '0' ... '1' '7' '3']\n",
      "['7' '8' '0' ... '1' '3' '0']\n"
     ]
    },
    {
     "name": "stderr",
     "output_type": "stream",
     "text": [
      "/home/bcoelho/.local/lib/python3.6/site-packages/sklearn_hierarchical_classification/metrics.py:36: FutureWarning: Using a non-tuple sequence for multidimensional indexing is deprecated; use `arr[tuple(seq)]` instead of `arr[seq]`. In the future this will be interpreted as an array index, `arr[np.array(seq)]`, which will result either in an error or a different result.\n",
      "  y_[np.meshgrid(ix_rows, ancestors)] = 1\n"
     ]
    },
    {
     "name": "stdout",
     "output_type": "stream",
     "text": [
      "['6' '3' '8' ... '1' '1' '2'] ['2' '5' '8' ... '1' '5' '4']\n",
      "['6' '5' '0' ... '4' '5' '4']\n",
      "\n",
      "CPU times: user 3min 27s, sys: 2.06 s, total: 3min 29s\n",
      "Wall time: 3min 28s\n"
     ]
    },
    {
     "name": "stderr",
     "output_type": "stream",
     "text": [
      "/home/bcoelho/.local/lib/python3.6/site-packages/sklearn_hierarchical_classification/metrics.py:36: FutureWarning: Using a non-tuple sequence for multidimensional indexing is deprecated; use `arr[tuple(seq)]` instead of `arr[seq]`. In the future this will be interpreted as an array index, `arr[np.array(seq)]`, which will result either in an error or a different result.\n",
      "  y_[np.meshgrid(ix_rows, ancestors)] = 1\n"
     ]
    }
   ],
   "source": [
    "%%time\n",
    "for i in tqdm_notebook(range(N_SIMUL)):\n",
    "    rdm_state = RANDOM_STATE + i\n",
    "    clf = HierarchicalClassifier(base_estimator=BASE_MODEL(), \n",
    "                             class_hierarchy=mosquitos_hierarchy, \n",
    "                             prediction_depth=\"mlnp\",\n",
    "                             algorithm=\"lcpn\",\n",
    "                            )   \n",
    "    results = run_experiment(df, mosquitos_hierarchy, encoding, \n",
    "                             clf, random_state=rdm_state)\n",
    "    all_results.loc[len(all_results), :] = list(results.values()) + [\"1 per node\"]"
   ]
  },
  {
   "cell_type": "markdown",
   "metadata": {},
   "source": [
    "\n",
    "\n",
    "- - - \n",
    "\n",
    "<br>\n",
    "<br>\n",
    "<br>\n",
    "<br>\n",
    "<br>\n",
    "<br>\n",
    "<br>\n",
    "<br>\n",
    "<br>\n",
    "<br>\n",
    "<br>\n",
    "<br>"
   ]
  },
  {
   "cell_type": "code",
   "execution_count": 10,
   "metadata": {},
   "outputs": [
    {
     "name": "stdout",
     "output_type": "stream",
     "text": [
      "Original-p-Instrument/Aerophone/Brass/Horn\n",
      "Original-p-Instrument/Aerophone/Brass/Trombone\n",
      "Original-p-Instrument/Aerophone/Brass/Trumpet\n",
      "Original-p-Instrument/Aerophone/Brass/Tuba\n",
      "Original-p-Instrument/Aerophone/Wood/Bassoon\n",
      "Original-p-Instrument/Aerophone/Wood/Clarinet\n",
      "Original-p-Instrument/Aerophone/Wood/Flute\n",
      "Original-p-Instrument/Aerophone/Wood/Oboe\n",
      "Original-p-Instrument/Aerophone/Wood/Saxophone\n",
      "class-a\n"
     ]
    }
   ],
   "source": [
    "all_cols = \"\"\"@ATTRIBUTE class-a                                                          string\n",
    "@ATTRIBUTE class-a-Instrument                                               {1,0}\n",
    "@ATTRIBUTE class-a-Instrument/Aerophone                                     {1,0}\n",
    "@ATTRIBUTE class-a-Instrument/Aerophone/Brass                               {1,0}\n",
    "@ATTRIBUTE class-a-Instrument/Aerophone/Brass/Horn                          {1,0}\n",
    "@ATTRIBUTE class-a-Instrument/Aerophone/Brass/Trombone                      {1,0}\n",
    "@ATTRIBUTE class-a-Instrument/Aerophone/Brass/Trumpet                       {1,0}\n",
    "@ATTRIBUTE class-a-Instrument/Aerophone/Brass/Tuba                          {1,0}\n",
    "@ATTRIBUTE class-a-Instrument/Aerophone/Wood                                {1,0}\n",
    "@ATTRIBUTE class-a-Instrument/Aerophone/Wood/Bassoon                        {1,0}\n",
    "@ATTRIBUTE class-a-Instrument/Aerophone/Wood/Clarinet                       {1,0}\n",
    "@ATTRIBUTE class-a-Instrument/Aerophone/Wood/Flute                          {1,0}\n",
    "@ATTRIBUTE class-a-Instrument/Aerophone/Wood/Oboe                           {1,0}\n",
    "@ATTRIBUTE class-a-Instrument/Aerophone/Wood/Saxophone                      {1,0}\n",
    "@ATTRIBUTE Original-p-Instrument                                            numeric\n",
    "@ATTRIBUTE Original-p-Instrument/Aerophone                                  numeric\n",
    "@ATTRIBUTE Original-p-Instrument/Aerophone/Brass                            numeric\n",
    "@ATTRIBUTE Original-p-Instrument/Aerophone/Brass/Horn                       numeric\n",
    "@ATTRIBUTE Original-p-Instrument/Aerophone/Brass/Trombone                   numeric\n",
    "@ATTRIBUTE Original-p-Instrument/Aerophone/Brass/Trumpet                    numeric\n",
    "@ATTRIBUTE Original-p-Instrument/Aerophone/Brass/Tuba                       numeric\n",
    "@ATTRIBUTE Original-p-Instrument/Aerophone/Wood                             numeric\n",
    "@ATTRIBUTE Original-p-Instrument/Aerophone/Wood/Bassoon                     numeric\n",
    "@ATTRIBUTE Original-p-Instrument/Aerophone/Wood/Clarinet                    numeric\n",
    "@ATTRIBUTE Original-p-Instrument/Aerophone/Wood/Flute                       numeric\n",
    "@ATTRIBUTE Original-p-Instrument/Aerophone/Wood/Oboe                        numeric\n",
    "@ATTRIBUTE Original-p-Instrument/Aerophone/Wood/Saxophone                   numeric\n",
    "@ATTRIBUTE Original-models                                                  string\"\"\"\n",
    "\n",
    "columns = [x.split()[1] for x in all_cols.split(\"\\n\")]\n",
    "\n",
    "#use_cols = [x for x in columns if x.count(\"/\") >= 3]\n",
    "#use_cols = [x for x in columns if x.count(\"/\") >= 3 and \"Pruned\" in x]\n",
    "use_cols = [x for x in columns if x.count(\"/\") >= 3 and \"Original\" in x]\n",
    "use_cols.append(columns[0])\n",
    "print(*use_cols, sep=\"\\n\")"
   ]
  },
  {
   "cell_type": "code",
   "execution_count": 11,
   "metadata": {},
   "outputs": [
    {
     "data": {
      "text/html": [
       "<div>\n",
       "<style scoped>\n",
       "    .dataframe tbody tr th:only-of-type {\n",
       "        vertical-align: middle;\n",
       "    }\n",
       "\n",
       "    .dataframe tbody tr th {\n",
       "        vertical-align: top;\n",
       "    }\n",
       "\n",
       "    .dataframe thead th {\n",
       "        text-align: right;\n",
       "    }\n",
       "</style>\n",
       "<table border=\"1\" class=\"dataframe\">\n",
       "  <thead>\n",
       "    <tr style=\"text-align: right;\">\n",
       "      <th></th>\n",
       "      <th>class-a</th>\n",
       "      <th>3</th>\n",
       "      <th>6</th>\n",
       "      <th>7</th>\n",
       "      <th>8</th>\n",
       "      <th>0</th>\n",
       "      <th>1</th>\n",
       "      <th>2</th>\n",
       "      <th>4</th>\n",
       "      <th>5</th>\n",
       "    </tr>\n",
       "  </thead>\n",
       "  <tbody>\n",
       "    <tr>\n",
       "      <th>0</th>\n",
       "      <td>Instrument/Aerophone/Brass/Horn</td>\n",
       "      <td>1.0</td>\n",
       "      <td>0.0</td>\n",
       "      <td>0.0</td>\n",
       "      <td>0.0</td>\n",
       "      <td>0.0</td>\n",
       "      <td>0.0</td>\n",
       "      <td>0.0</td>\n",
       "      <td>0.0</td>\n",
       "      <td>0.0</td>\n",
       "    </tr>\n",
       "    <tr>\n",
       "      <th>1</th>\n",
       "      <td>Instrument/Aerophone/Brass/Trumpet</td>\n",
       "      <td>0.0</td>\n",
       "      <td>0.0</td>\n",
       "      <td>0.0</td>\n",
       "      <td>0.0</td>\n",
       "      <td>0.0</td>\n",
       "      <td>0.0</td>\n",
       "      <td>0.0</td>\n",
       "      <td>0.0</td>\n",
       "      <td>1.0</td>\n",
       "    </tr>\n",
       "    <tr>\n",
       "      <th>2</th>\n",
       "      <td>Instrument/Aerophone/Brass/Trumpet</td>\n",
       "      <td>0.0</td>\n",
       "      <td>0.0</td>\n",
       "      <td>1.0</td>\n",
       "      <td>0.0</td>\n",
       "      <td>0.0</td>\n",
       "      <td>0.0</td>\n",
       "      <td>0.0</td>\n",
       "      <td>0.0</td>\n",
       "      <td>0.0</td>\n",
       "    </tr>\n",
       "    <tr>\n",
       "      <th>3</th>\n",
       "      <td>Instrument/Aerophone/Wood/Clarinet</td>\n",
       "      <td>0.0</td>\n",
       "      <td>0.0</td>\n",
       "      <td>0.0</td>\n",
       "      <td>0.0</td>\n",
       "      <td>0.0</td>\n",
       "      <td>1.0</td>\n",
       "      <td>0.0</td>\n",
       "      <td>0.0</td>\n",
       "      <td>0.0</td>\n",
       "    </tr>\n",
       "    <tr>\n",
       "      <th>4</th>\n",
       "      <td>Instrument/Aerophone/Wood/Saxophone</td>\n",
       "      <td>0.0</td>\n",
       "      <td>0.0</td>\n",
       "      <td>0.0</td>\n",
       "      <td>0.0</td>\n",
       "      <td>0.0</td>\n",
       "      <td>0.0</td>\n",
       "      <td>0.0</td>\n",
       "      <td>0.0</td>\n",
       "      <td>1.0</td>\n",
       "    </tr>\n",
       "  </tbody>\n",
       "</table>\n",
       "</div>"
      ],
      "text/plain": [
       "                               class-a    3    6    7    8    0    1    2  \\\n",
       "0      Instrument/Aerophone/Brass/Horn  1.0  0.0  0.0  0.0  0.0  0.0  0.0   \n",
       "1   Instrument/Aerophone/Brass/Trumpet  0.0  0.0  0.0  0.0  0.0  0.0  0.0   \n",
       "2   Instrument/Aerophone/Brass/Trumpet  0.0  0.0  1.0  0.0  0.0  0.0  0.0   \n",
       "3   Instrument/Aerophone/Wood/Clarinet  0.0  0.0  0.0  0.0  0.0  1.0  0.0   \n",
       "4  Instrument/Aerophone/Wood/Saxophone  0.0  0.0  0.0  0.0  0.0  0.0  0.0   \n",
       "\n",
       "     4    5  \n",
       "0  0.0  0.0  \n",
       "1  0.0  1.0  \n",
       "2  0.0  0.0  \n",
       "3  0.0  0.0  \n",
       "4  0.0  1.0  "
      ]
     },
     "execution_count": 11,
     "metadata": {},
     "output_type": "execute_result"
    }
   ],
   "source": [
    "temp_df = pd.read_csv(\"clus_experiments/instruments_output/instruments.test1.pred.arff\", \n",
    "                      skiprows=46, header=None, names=columns, usecols=use_cols)\n",
    "temp_df.columns = [temp_df.columns[0]] + [x.split(\"/\")[-1] for x in temp_df.columns[1:]]\n",
    "temp_df.columns = [temp_df.columns[0]] + [str(x) \n",
    "                                          for x in encoding.transform(temp_df.columns[1:])]\n",
    "temp_df.head()"
   ]
  },
  {
   "cell_type": "code",
   "execution_count": 12,
   "metadata": {},
   "outputs": [
    {
     "data": {
      "text/html": [
       "<div>\n",
       "<style scoped>\n",
       "    .dataframe tbody tr th:only-of-type {\n",
       "        vertical-align: middle;\n",
       "    }\n",
       "\n",
       "    .dataframe tbody tr th {\n",
       "        vertical-align: top;\n",
       "    }\n",
       "\n",
       "    .dataframe thead th {\n",
       "        text-align: right;\n",
       "    }\n",
       "</style>\n",
       "<table border=\"1\" class=\"dataframe\">\n",
       "  <thead>\n",
       "    <tr style=\"text-align: right;\">\n",
       "      <th></th>\n",
       "      <th>class-a</th>\n",
       "      <th>3</th>\n",
       "      <th>6</th>\n",
       "      <th>7</th>\n",
       "      <th>8</th>\n",
       "      <th>0</th>\n",
       "      <th>1</th>\n",
       "      <th>2</th>\n",
       "      <th>4</th>\n",
       "      <th>5</th>\n",
       "    </tr>\n",
       "  </thead>\n",
       "  <tbody>\n",
       "  </tbody>\n",
       "</table>\n",
       "</div>"
      ],
      "text/plain": [
       "Empty DataFrame\n",
       "Columns: [class-a, 3, 6, 7, 8, 0, 1, 2, 4, 5]\n",
       "Index: []"
      ]
     },
     "execution_count": 12,
     "metadata": {},
     "output_type": "execute_result"
    }
   ],
   "source": [
    "# All predictions have exactly 1 class\n",
    "temp_df[temp_df.iloc[:, 1:].sum(axis=1) != 1]"
   ]
  },
  {
   "cell_type": "code",
   "execution_count": 13,
   "metadata": {},
   "outputs": [
    {
     "data": {
      "text/plain": [
       "(0       Horn\n",
       " 1    Trumpet\n",
       " 2    Trumpet\n",
       " Name: class-a, dtype: object, 0    3\n",
       " 1    5\n",
       " 2    7\n",
       " dtype: object)"
      ]
     },
     "execution_count": 13,
     "metadata": {},
     "output_type": "execute_result"
    }
   ],
   "source": [
    "y_test = temp_df[\"class-a\"].str.split(\"/\").apply(lambda x: x[-1])\n",
    "y_pred = temp_df.drop(columns=\"class-a\").idxmax(axis=1).astype(str)\n",
    "y_test.iloc[:3], y_pred.iloc[:3]"
   ]
  },
  {
   "cell_type": "code",
   "execution_count": 14,
   "metadata": {},
   "outputs": [
    {
     "data": {
      "text/plain": [
       "2188"
      ]
     },
     "execution_count": 14,
     "metadata": {},
     "output_type": "execute_result"
    }
   ],
   "source": [
    "len(y_test)"
   ]
  },
  {
   "cell_type": "code",
   "execution_count": 15,
   "metadata": {},
   "outputs": [
    {
     "name": "stdout",
     "output_type": "stream",
     "text": [
      "{'h_fbeta': 0.9163660654642618, 'h_precision': 0.916243654822335, 'h_recall': 0.9164885088188135}\n"
     ]
    },
    {
     "name": "stderr",
     "output_type": "stream",
     "text": [
      "/home/bcoelho/.local/lib/python3.6/site-packages/sklearn_hierarchical_classification/metrics.py:36: FutureWarning: Using a non-tuple sequence for multidimensional indexing is deprecated; use `arr[tuple(seq)]` instead of `arr[seq]`. In the future this will be interpreted as an array index, `arr[np.array(seq)]`, which will result either in an error or a different result.\n",
      "  y_[np.meshgrid(ix_rows, ancestors)] = 1\n"
     ]
    }
   ],
   "source": [
    "my_graph = DiGraph(mosquitos_hierarchy)\n",
    "with multi_labeled(encoding.transform(y_test).astype(str), \n",
    "                   y_pred, my_graph) as (y_test_, y_pred_, graph_):\n",
    "    results = {\n",
    "        \"h_fbeta\": h_fbeta_score(y_test_, y_pred_, graph_),\n",
    "        \"h_precision\": h_precision_score(y_test_, y_pred_, graph_),\n",
    "        \"h_recall\": h_recall_score(y_test_, y_pred_, graph_),\n",
    "    }\n",
    "    \n",
    "    print(results)\n",
    "    all_results.loc[len(all_results), :] = list(results.values()) + [\"HMC\"]"
   ]
  },
  {
   "cell_type": "code",
   "execution_count": null,
   "metadata": {},
   "outputs": [],
   "source": []
  },
  {
   "cell_type": "code",
   "execution_count": null,
   "metadata": {},
   "outputs": [],
   "source": []
  },
  {
   "cell_type": "markdown",
   "metadata": {},
   "source": [
    "# Results"
   ]
  },
  {
   "cell_type": "code",
   "execution_count": 16,
   "metadata": {},
   "outputs": [
    {
     "data": {
      "text/plain": [
       "<matplotlib.axes._subplots.AxesSubplot at 0x7ffb992dab70>"
      ]
     },
     "execution_count": 16,
     "metadata": {},
     "output_type": "execute_result"
    },
    {
     "data": {
      "image/png": "[encoded data removed]",
      "text/plain": [
       "<Figure size 432x288 with 1 Axes>"
      ]
     },
     "metadata": {},
     "output_type": "display_data"
    }
   ],
   "source": [
    "sns.barplot(data=all_results, y=\"h_fbeta\", x=\"model\")#, hue=\"Ruido %\")"
   ]
  },
  {
   "cell_type": "code",
   "execution_count": 17,
   "metadata": {},
   "outputs": [
    {
     "data": {
      "text/plain": [
       "<matplotlib.axes._subplots.AxesSubplot at 0x7ffb9926ddd8>"
      ]
     },
     "execution_count": 17,
     "metadata": {},
     "output_type": "execute_result"
    },
    {
     "data": {
      "image/png": "[encoded data removed]",
      "text/plain": [
       "<Figure size 432x288 with 1 Axes>"
      ]
     },
     "metadata": {},
     "output_type": "display_data"
    }
   ],
   "source": [
    "sns.barplot(data=all_results, y=\"h_recall\", x=\"model\")"
   ]
  },
  {
   "cell_type": "code",
   "execution_count": 18,
   "metadata": {},
   "outputs": [
    {
     "data": {
      "text/plain": [
       "<matplotlib.axes._subplots.AxesSubplot at 0x7ffb9916a400>"
      ]
     },
     "execution_count": 18,
     "metadata": {},
     "output_type": "execute_result"
    },
    {
     "data": {
      "image/png": "[encoded data removed]",
      "text/plain": [
       "<Figure size 432x288 with 1 Axes>"
      ]
     },
     "metadata": {},
     "output_type": "display_data"
    }
   ],
   "source": [
    "sns.barplot(data=all_results, y=\"h_precision\", x=\"model\")"
   ]
  },
  {
   "cell_type": "code",
   "execution_count": 19,
   "metadata": {},
   "outputs": [
    {
     "name": "stdout",
     "output_type": "stream",
     "text": [
      "For model flat, we obtained  0.9174459333111844 h_fbeta +- 0.0034399856342651686\n",
      "For model 1 per node, we obtained  0.9146324146151528 h_fbeta +- 0.004212353606119046\n",
      "For model HMC, we obtained  0.9163660654642618 h_fbeta +- nan\n"
     ]
    }
   ],
   "source": [
    "for model in [\"flat\", \"1 per node\", \"HMC\"]:\n",
    "    model_results = all_results.query(\"model == @model\")\n",
    "    print(f\"For model {model}, we obtained \", \n",
    "          f\"{model_results.h_fbeta.mean()} h_fbeta +-\",\n",
    "          f\"{model_results.h_fbeta.std()}\")"
   ]
  },
  {
   "cell_type": "code",
   "execution_count": 20,
   "metadata": {},
   "outputs": [
    {
     "data": {
      "text/html": [
       "<div>\n",
       "<style scoped>\n",
       "    .dataframe tbody tr th:only-of-type {\n",
       "        vertical-align: middle;\n",
       "    }\n",
       "\n",
       "    .dataframe tbody tr th {\n",
       "        vertical-align: top;\n",
       "    }\n",
       "\n",
       "    .dataframe thead th {\n",
       "        text-align: right;\n",
       "    }\n",
       "</style>\n",
       "<table border=\"1\" class=\"dataframe\">\n",
       "  <thead>\n",
       "    <tr style=\"text-align: right;\">\n",
       "      <th></th>\n",
       "      <th>h_fbeta</th>\n",
       "      <th>h_precision</th>\n",
       "      <th>h_recall</th>\n",
       "      <th>model</th>\n",
       "    </tr>\n",
       "  </thead>\n",
       "  <tbody>\n",
       "    <tr>\n",
       "      <th>0</th>\n",
       "      <td>0.909163</td>\n",
       "      <td>0.90778</td>\n",
       "      <td>0.910551</td>\n",
       "      <td>flat</td>\n",
       "    </tr>\n",
       "    <tr>\n",
       "      <th>1</th>\n",
       "      <td>0.92322</td>\n",
       "      <td>0.923281</td>\n",
       "      <td>0.923159</td>\n",
       "      <td>flat</td>\n",
       "    </tr>\n",
       "    <tr>\n",
       "      <th>2</th>\n",
       "      <td>0.921344</td>\n",
       "      <td>0.920064</td>\n",
       "      <td>0.922628</td>\n",
       "      <td>flat</td>\n",
       "    </tr>\n",
       "    <tr>\n",
       "      <th>3</th>\n",
       "      <td>0.916899</td>\n",
       "      <td>0.915685</td>\n",
       "      <td>0.918115</td>\n",
       "      <td>flat</td>\n",
       "    </tr>\n",
       "    <tr>\n",
       "      <th>4</th>\n",
       "      <td>0.917209</td>\n",
       "      <td>0.91843</td>\n",
       "      <td>0.915992</td>\n",
       "      <td>flat</td>\n",
       "    </tr>\n",
       "    <tr>\n",
       "      <th>5</th>\n",
       "      <td>0.921943</td>\n",
       "      <td>0.922188</td>\n",
       "      <td>0.921699</td>\n",
       "      <td>flat</td>\n",
       "    </tr>\n",
       "    <tr>\n",
       "      <th>6</th>\n",
       "      <td>0.91686</td>\n",
       "      <td>0.915344</td>\n",
       "      <td>0.918381</td>\n",
       "      <td>flat</td>\n",
       "    </tr>\n",
       "    <tr>\n",
       "      <th>7</th>\n",
       "      <td>0.909586</td>\n",
       "      <td>0.909948</td>\n",
       "      <td>0.909224</td>\n",
       "      <td>flat</td>\n",
       "    </tr>\n",
       "    <tr>\n",
       "      <th>8</th>\n",
       "      <td>0.914892</td>\n",
       "      <td>0.914589</td>\n",
       "      <td>0.915196</td>\n",
       "      <td>flat</td>\n",
       "    </tr>\n",
       "    <tr>\n",
       "      <th>9</th>\n",
       "      <td>0.912594</td>\n",
       "      <td>0.910665</td>\n",
       "      <td>0.914532</td>\n",
       "      <td>flat</td>\n",
       "    </tr>\n",
       "    <tr>\n",
       "      <th>10</th>\n",
       "      <td>0.918625</td>\n",
       "      <td>0.918869</td>\n",
       "      <td>0.918381</td>\n",
       "      <td>flat</td>\n",
       "    </tr>\n",
       "    <tr>\n",
       "      <th>11</th>\n",
       "      <td>0.921372</td>\n",
       "      <td>0.921311</td>\n",
       "      <td>0.921433</td>\n",
       "      <td>flat</td>\n",
       "    </tr>\n",
       "    <tr>\n",
       "      <th>12</th>\n",
       "      <td>0.917192</td>\n",
       "      <td>0.916402</td>\n",
       "      <td>0.917983</td>\n",
       "      <td>flat</td>\n",
       "    </tr>\n",
       "    <tr>\n",
       "      <th>13</th>\n",
       "      <td>0.917091</td>\n",
       "      <td>0.914489</td>\n",
       "      <td>0.919708</td>\n",
       "      <td>flat</td>\n",
       "    </tr>\n",
       "    <tr>\n",
       "      <th>14</th>\n",
       "      <td>0.919488</td>\n",
       "      <td>0.918211</td>\n",
       "      <td>0.92077</td>\n",
       "      <td>flat</td>\n",
       "    </tr>\n",
       "    <tr>\n",
       "      <th>15</th>\n",
       "      <td>0.916556</td>\n",
       "      <td>0.916191</td>\n",
       "      <td>0.916921</td>\n",
       "      <td>flat</td>\n",
       "    </tr>\n",
       "    <tr>\n",
       "      <th>16</th>\n",
       "      <td>0.922066</td>\n",
       "      <td>0.922433</td>\n",
       "      <td>0.921699</td>\n",
       "      <td>flat</td>\n",
       "    </tr>\n",
       "    <tr>\n",
       "      <th>17</th>\n",
       "      <td>0.918679</td>\n",
       "      <td>0.918313</td>\n",
       "      <td>0.919044</td>\n",
       "      <td>flat</td>\n",
       "    </tr>\n",
       "    <tr>\n",
       "      <th>18</th>\n",
       "      <td>0.915027</td>\n",
       "      <td>0.913273</td>\n",
       "      <td>0.916788</td>\n",
       "      <td>flat</td>\n",
       "    </tr>\n",
       "    <tr>\n",
       "      <th>19</th>\n",
       "      <td>0.916871</td>\n",
       "      <td>0.915234</td>\n",
       "      <td>0.918514</td>\n",
       "      <td>flat</td>\n",
       "    </tr>\n",
       "    <tr>\n",
       "      <th>20</th>\n",
       "      <td>0.921061</td>\n",
       "      <td>0.918448</td>\n",
       "      <td>0.923689</td>\n",
       "      <td>flat</td>\n",
       "    </tr>\n",
       "    <tr>\n",
       "      <th>21</th>\n",
       "      <td>0.91931</td>\n",
       "      <td>0.91931</td>\n",
       "      <td>0.91931</td>\n",
       "      <td>flat</td>\n",
       "    </tr>\n",
       "    <tr>\n",
       "      <th>22</th>\n",
       "      <td>0.922075</td>\n",
       "      <td>0.923118</td>\n",
       "      <td>0.921035</td>\n",
       "      <td>flat</td>\n",
       "    </tr>\n",
       "    <tr>\n",
       "      <th>23</th>\n",
       "      <td>0.919456</td>\n",
       "      <td>0.918543</td>\n",
       "      <td>0.920372</td>\n",
       "      <td>flat</td>\n",
       "    </tr>\n",
       "    <tr>\n",
       "      <th>24</th>\n",
       "      <td>0.918801</td>\n",
       "      <td>0.918557</td>\n",
       "      <td>0.919044</td>\n",
       "      <td>flat</td>\n",
       "    </tr>\n",
       "    <tr>\n",
       "      <th>25</th>\n",
       "      <td>0.908994</td>\n",
       "      <td>0.907971</td>\n",
       "      <td>0.91002</td>\n",
       "      <td>flat</td>\n",
       "    </tr>\n",
       "    <tr>\n",
       "      <th>26</th>\n",
       "      <td>0.917053</td>\n",
       "      <td>0.915597</td>\n",
       "      <td>0.918514</td>\n",
       "      <td>flat</td>\n",
       "    </tr>\n",
       "    <tr>\n",
       "      <th>27</th>\n",
       "      <td>0.922403</td>\n",
       "      <td>0.922709</td>\n",
       "      <td>0.922097</td>\n",
       "      <td>flat</td>\n",
       "    </tr>\n",
       "    <tr>\n",
       "      <th>28</th>\n",
       "      <td>0.920149</td>\n",
       "      <td>0.919661</td>\n",
       "      <td>0.920637</td>\n",
       "      <td>flat</td>\n",
       "    </tr>\n",
       "    <tr>\n",
       "      <th>29</th>\n",
       "      <td>0.919976</td>\n",
       "      <td>0.919184</td>\n",
       "      <td>0.92077</td>\n",
       "      <td>flat</td>\n",
       "    </tr>\n",
       "    <tr>\n",
       "      <th>...</th>\n",
       "      <td>...</td>\n",
       "      <td>...</td>\n",
       "      <td>...</td>\n",
       "      <td>...</td>\n",
       "    </tr>\n",
       "    <tr>\n",
       "      <th>171</th>\n",
       "      <td>0.917176</td>\n",
       "      <td>0.918764</td>\n",
       "      <td>0.915594</td>\n",
       "      <td>1 per node</td>\n",
       "    </tr>\n",
       "    <tr>\n",
       "      <th>172</th>\n",
       "      <td>0.915142</td>\n",
       "      <td>0.914293</td>\n",
       "      <td>0.915992</td>\n",
       "      <td>1 per node</td>\n",
       "    </tr>\n",
       "    <tr>\n",
       "      <th>173</th>\n",
       "      <td>0.911372</td>\n",
       "      <td>0.911796</td>\n",
       "      <td>0.910949</td>\n",
       "      <td>1 per node</td>\n",
       "    </tr>\n",
       "    <tr>\n",
       "      <th>174</th>\n",
       "      <td>0.920901</td>\n",
       "      <td>0.921696</td>\n",
       "      <td>0.920106</td>\n",
       "      <td>1 per node</td>\n",
       "    </tr>\n",
       "    <tr>\n",
       "      <th>175</th>\n",
       "      <td>0.916169</td>\n",
       "      <td>0.915683</td>\n",
       "      <td>0.916656</td>\n",
       "      <td>1 per node</td>\n",
       "    </tr>\n",
       "    <tr>\n",
       "      <th>176</th>\n",
       "      <td>0.916634</td>\n",
       "      <td>0.91542</td>\n",
       "      <td>0.91785</td>\n",
       "      <td>1 per node</td>\n",
       "    </tr>\n",
       "    <tr>\n",
       "      <th>177</th>\n",
       "      <td>0.915367</td>\n",
       "      <td>0.915671</td>\n",
       "      <td>0.915063</td>\n",
       "      <td>1 per node</td>\n",
       "    </tr>\n",
       "    <tr>\n",
       "      <th>178</th>\n",
       "      <td>0.910995</td>\n",
       "      <td>0.909849</td>\n",
       "      <td>0.912143</td>\n",
       "      <td>1 per node</td>\n",
       "    </tr>\n",
       "    <tr>\n",
       "      <th>179</th>\n",
       "      <td>0.919256</td>\n",
       "      <td>0.919867</td>\n",
       "      <td>0.918646</td>\n",
       "      <td>1 per node</td>\n",
       "    </tr>\n",
       "    <tr>\n",
       "      <th>180</th>\n",
       "      <td>0.919456</td>\n",
       "      <td>0.918543</td>\n",
       "      <td>0.920372</td>\n",
       "      <td>1 per node</td>\n",
       "    </tr>\n",
       "    <tr>\n",
       "      <th>181</th>\n",
       "      <td>0.921056</td>\n",
       "      <td>0.920812</td>\n",
       "      <td>0.921301</td>\n",
       "      <td>1 per node</td>\n",
       "    </tr>\n",
       "    <tr>\n",
       "      <th>182</th>\n",
       "      <td>0.912232</td>\n",
       "      <td>0.913385</td>\n",
       "      <td>0.911082</td>\n",
       "      <td>1 per node</td>\n",
       "    </tr>\n",
       "    <tr>\n",
       "      <th>183</th>\n",
       "      <td>0.918912</td>\n",
       "      <td>0.918912</td>\n",
       "      <td>0.918912</td>\n",
       "      <td>1 per node</td>\n",
       "    </tr>\n",
       "    <tr>\n",
       "      <th>184</th>\n",
       "      <td>0.912902</td>\n",
       "      <td>0.912599</td>\n",
       "      <td>0.913205</td>\n",
       "      <td>1 per node</td>\n",
       "    </tr>\n",
       "    <tr>\n",
       "      <th>185</th>\n",
       "      <td>0.916573</td>\n",
       "      <td>0.916755</td>\n",
       "      <td>0.91639</td>\n",
       "      <td>1 per node</td>\n",
       "    </tr>\n",
       "    <tr>\n",
       "      <th>186</th>\n",
       "      <td>0.902437</td>\n",
       "      <td>0.903217</td>\n",
       "      <td>0.901659</td>\n",
       "      <td>1 per node</td>\n",
       "    </tr>\n",
       "    <tr>\n",
       "      <th>187</th>\n",
       "      <td>0.914884</td>\n",
       "      <td>0.91325</td>\n",
       "      <td>0.916523</td>\n",
       "      <td>1 per node</td>\n",
       "    </tr>\n",
       "    <tr>\n",
       "      <th>188</th>\n",
       "      <td>0.916097</td>\n",
       "      <td>0.915672</td>\n",
       "      <td>0.916523</td>\n",
       "      <td>1 per node</td>\n",
       "    </tr>\n",
       "    <tr>\n",
       "      <th>189</th>\n",
       "      <td>0.912339</td>\n",
       "      <td>0.913067</td>\n",
       "      <td>0.911612</td>\n",
       "      <td>1 per node</td>\n",
       "    </tr>\n",
       "    <tr>\n",
       "      <th>190</th>\n",
       "      <td>0.923557</td>\n",
       "      <td>0.924355</td>\n",
       "      <td>0.92276</td>\n",
       "      <td>1 per node</td>\n",
       "    </tr>\n",
       "    <tr>\n",
       "      <th>191</th>\n",
       "      <td>0.910803</td>\n",
       "      <td>0.91026</td>\n",
       "      <td>0.911347</td>\n",
       "      <td>1 per node</td>\n",
       "    </tr>\n",
       "    <tr>\n",
       "      <th>192</th>\n",
       "      <td>0.913649</td>\n",
       "      <td>0.913165</td>\n",
       "      <td>0.914134</td>\n",
       "      <td>1 per node</td>\n",
       "    </tr>\n",
       "    <tr>\n",
       "      <th>193</th>\n",
       "      <td>0.911817</td>\n",
       "      <td>0.911757</td>\n",
       "      <td>0.911878</td>\n",
       "      <td>1 per node</td>\n",
       "    </tr>\n",
       "    <tr>\n",
       "      <th>194</th>\n",
       "      <td>0.919073</td>\n",
       "      <td>0.919501</td>\n",
       "      <td>0.918646</td>\n",
       "      <td>1 per node</td>\n",
       "    </tr>\n",
       "    <tr>\n",
       "      <th>195</th>\n",
       "      <td>0.912525</td>\n",
       "      <td>0.911317</td>\n",
       "      <td>0.913736</td>\n",
       "      <td>1 per node</td>\n",
       "    </tr>\n",
       "    <tr>\n",
       "      <th>196</th>\n",
       "      <td>0.911381</td>\n",
       "      <td>0.910355</td>\n",
       "      <td>0.912409</td>\n",
       "      <td>1 per node</td>\n",
       "    </tr>\n",
       "    <tr>\n",
       "      <th>197</th>\n",
       "      <td>0.916257</td>\n",
       "      <td>0.916257</td>\n",
       "      <td>0.916257</td>\n",
       "      <td>1 per node</td>\n",
       "    </tr>\n",
       "    <tr>\n",
       "      <th>198</th>\n",
       "      <td>0.91675</td>\n",
       "      <td>0.916446</td>\n",
       "      <td>0.917054</td>\n",
       "      <td>1 per node</td>\n",
       "    </tr>\n",
       "    <tr>\n",
       "      <th>199</th>\n",
       "      <td>0.913945</td>\n",
       "      <td>0.912434</td>\n",
       "      <td>0.915461</td>\n",
       "      <td>1 per node</td>\n",
       "    </tr>\n",
       "    <tr>\n",
       "      <th>200</th>\n",
       "      <td>0.916366</td>\n",
       "      <td>0.916244</td>\n",
       "      <td>0.916489</td>\n",
       "      <td>HMC</td>\n",
       "    </tr>\n",
       "  </tbody>\n",
       "</table>\n",
       "<p>201 rows × 4 columns</p>\n",
       "</div>"
      ],
      "text/plain": [
       "      h_fbeta h_precision  h_recall       model\n",
       "0    0.909163     0.90778  0.910551        flat\n",
       "1     0.92322    0.923281  0.923159        flat\n",
       "2    0.921344    0.920064  0.922628        flat\n",
       "3    0.916899    0.915685  0.918115        flat\n",
       "4    0.917209     0.91843  0.915992        flat\n",
       "5    0.921943    0.922188  0.921699        flat\n",
       "6     0.91686    0.915344  0.918381        flat\n",
       "7    0.909586    0.909948  0.909224        flat\n",
       "8    0.914892    0.914589  0.915196        flat\n",
       "9    0.912594    0.910665  0.914532        flat\n",
       "10   0.918625    0.918869  0.918381        flat\n",
       "11   0.921372    0.921311  0.921433        flat\n",
       "12   0.917192    0.916402  0.917983        flat\n",
       "13   0.917091    0.914489  0.919708        flat\n",
       "14   0.919488    0.918211   0.92077        flat\n",
       "15   0.916556    0.916191  0.916921        flat\n",
       "16   0.922066    0.922433  0.921699        flat\n",
       "17   0.918679    0.918313  0.919044        flat\n",
       "18   0.915027    0.913273  0.916788        flat\n",
       "19   0.916871    0.915234  0.918514        flat\n",
       "20   0.921061    0.918448  0.923689        flat\n",
       "21    0.91931     0.91931   0.91931        flat\n",
       "22   0.922075    0.923118  0.921035        flat\n",
       "23   0.919456    0.918543  0.920372        flat\n",
       "24   0.918801    0.918557  0.919044        flat\n",
       "25   0.908994    0.907971   0.91002        flat\n",
       "26   0.917053    0.915597  0.918514        flat\n",
       "27   0.922403    0.922709  0.922097        flat\n",
       "28   0.920149    0.919661  0.920637        flat\n",
       "29   0.919976    0.919184   0.92077        flat\n",
       "..        ...         ...       ...         ...\n",
       "171  0.917176    0.918764  0.915594  1 per node\n",
       "172  0.915142    0.914293  0.915992  1 per node\n",
       "173  0.911372    0.911796  0.910949  1 per node\n",
       "174  0.920901    0.921696  0.920106  1 per node\n",
       "175  0.916169    0.915683  0.916656  1 per node\n",
       "176  0.916634     0.91542   0.91785  1 per node\n",
       "177  0.915367    0.915671  0.915063  1 per node\n",
       "178  0.910995    0.909849  0.912143  1 per node\n",
       "179  0.919256    0.919867  0.918646  1 per node\n",
       "180  0.919456    0.918543  0.920372  1 per node\n",
       "181  0.921056    0.920812  0.921301  1 per node\n",
       "182  0.912232    0.913385  0.911082  1 per node\n",
       "183  0.918912    0.918912  0.918912  1 per node\n",
       "184  0.912902    0.912599  0.913205  1 per node\n",
       "185  0.916573    0.916755   0.91639  1 per node\n",
       "186  0.902437    0.903217  0.901659  1 per node\n",
       "187  0.914884     0.91325  0.916523  1 per node\n",
       "188  0.916097    0.915672  0.916523  1 per node\n",
       "189  0.912339    0.913067  0.911612  1 per node\n",
       "190  0.923557    0.924355   0.92276  1 per node\n",
       "191  0.910803     0.91026  0.911347  1 per node\n",
       "192  0.913649    0.913165  0.914134  1 per node\n",
       "193  0.911817    0.911757  0.911878  1 per node\n",
       "194  0.919073    0.919501  0.918646  1 per node\n",
       "195  0.912525    0.911317  0.913736  1 per node\n",
       "196  0.911381    0.910355  0.912409  1 per node\n",
       "197  0.916257    0.916257  0.916257  1 per node\n",
       "198   0.91675    0.916446  0.917054  1 per node\n",
       "199  0.913945    0.912434  0.915461  1 per node\n",
       "200  0.916366    0.916244  0.916489         HMC\n",
       "\n",
       "[201 rows x 4 columns]"
      ]
     },
     "execution_count": 20,
     "metadata": {},
     "output_type": "execute_result"
    }
   ],
   "source": [
    "all_results"
   ]
  },
  {
   "cell_type": "code",
   "execution_count": null,
   "metadata": {},
   "outputs": [],
   "source": []
  },
  {
   "cell_type": "code",
   "execution_count": null,
   "metadata": {},
   "outputs": [],
   "source": []
  },
  {
   "cell_type": "code",
   "execution_count": null,
   "metadata": {},
   "outputs": [],
   "source": []
  }
 ],
 "metadata": {
  "kernelspec": {
   "display_name": "Python 3",
   "language": "python",
   "name": "python3"
  },
  "language_info": {
   "codemirror_mode": {
    "name": "ipython",
    "version": 3
   },
   "file_extension": ".py",
   "mimetype": "text/x-python",
   "name": "python",
   "nbconvert_exporter": "python",
   "pygments_lexer": "ipython3",
   "version": "3.6.5rc1"
  },
  "toc": {
   "base_numbering": 1,
   "nav_menu": {},
   "number_sections": true,
   "sideBar": true,
   "skip_h1_title": false,
   "title_cell": "Table of Contents",
   "title_sidebar": "Contents",
   "toc_cell": false,
   "toc_position": {},
   "toc_section_display": true,
   "toc_window_display": true
  }
 },
 "nbformat": 4,
 "nbformat_minor": 2
}
